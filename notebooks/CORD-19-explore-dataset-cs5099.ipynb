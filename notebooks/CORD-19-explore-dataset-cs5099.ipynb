{
 "cells": [
  {
   "cell_type": "markdown",
   "metadata": {},
   "source": [
    "# CORD-19 Explore dataset\n",
    "In general, this jupyter notebook is designated to explore the CORD19 dataset: \n",
    "https://datadryad.org/stash/dataset/doi:10.5061/dryad.vmcvdncs0"
   ]
  },
  {
   "cell_type": "markdown",
   "metadata": {},
   "source": [
    "First, relevant packages must be imported to the Notebook."
   ]
  },
  {
   "cell_type": "code",
   "execution_count": 1,
   "metadata": {},
   "outputs": [],
   "source": [
    "import numpy as np\n",
    "import pandas as pd\n",
    "import csv\n",
    "import ast\n",
    "import collections\n",
    "import matplotlib.pyplot as plt\n",
    "import matplotlib.patches as mpatches\n",
    "import Levenshtein as lev\n",
    "from fuzzywuzzy import fuzz \n",
    "import datetime\n",
    "import matplotlib.pyplot as plt\n",
    "import re\n",
    "from urllib.parse import urlparse\n",
    "from collections import Counter"
   ]
  },
  {
   "cell_type": "code",
   "execution_count": 2,
   "metadata": {},
   "outputs": [],
   "source": [
    "CORD19_CSV = pd.read_csv('../data/cord-19/CORD19_software_mentions.csv')"
   ]
  },
  {
   "cell_type": "markdown",
   "metadata": {},
   "source": [
    "Show the head of the dataset to inspect all columns and obtain a broad overview. "
   ]
  },
  {
   "cell_type": "code",
   "execution_count": 3,
   "metadata": {
    "scrolled": true
   },
   "outputs": [
    {
     "data": {
      "text/html": [
       "<div>\n",
       "<style scoped>\n",
       "    .dataframe tbody tr th:only-of-type {\n",
       "        vertical-align: middle;\n",
       "    }\n",
       "\n",
       "    .dataframe tbody tr th {\n",
       "        vertical-align: top;\n",
       "    }\n",
       "\n",
       "    .dataframe thead th {\n",
       "        text-align: right;\n",
       "    }\n",
       "</style>\n",
       "<table border=\"1\" class=\"dataframe\">\n",
       "  <thead>\n",
       "    <tr style=\"text-align: right;\">\n",
       "      <th></th>\n",
       "      <th>paper_id</th>\n",
       "      <th>doi</th>\n",
       "      <th>title</th>\n",
       "      <th>source_x</th>\n",
       "      <th>license</th>\n",
       "      <th>publish_time</th>\n",
       "      <th>journal</th>\n",
       "      <th>url</th>\n",
       "      <th>software</th>\n",
       "    </tr>\n",
       "  </thead>\n",
       "  <tbody>\n",
       "    <tr>\n",
       "      <th>0</th>\n",
       "      <td>00006903b396d50cc0037fed39916d57d50ee801</td>\n",
       "      <td>NaN</td>\n",
       "      <td>Urban green space and happiness in developed c...</td>\n",
       "      <td>ArXiv</td>\n",
       "      <td>arxiv</td>\n",
       "      <td>2021-01-04</td>\n",
       "      <td>NaN</td>\n",
       "      <td>https://arxiv.org/pdf/2101.00807v1.pdf</td>\n",
       "      <td>['Google Street View']</td>\n",
       "    </tr>\n",
       "    <tr>\n",
       "      <th>1</th>\n",
       "      <td>0000fcce604204b1b9d876dc073eb529eb5ce305</td>\n",
       "      <td>10.1016/j.regg.2021.01.002</td>\n",
       "      <td>La Geriatría de Enlace con residencias en la é...</td>\n",
       "      <td>Elsevier; PMC</td>\n",
       "      <td>els-covid</td>\n",
       "      <td>2021-01-13</td>\n",
       "      <td>Rev Esp Geriatr Gerontol</td>\n",
       "      <td>https://api.elsevier.com/content/article/pii/S...</td>\n",
       "      <td>['SEGG']</td>\n",
       "    </tr>\n",
       "    <tr>\n",
       "      <th>2</th>\n",
       "      <td>000122a9a774ec76fa35ec0c0f6734e7e8d0c541</td>\n",
       "      <td>10.1016/j.rec.2020.08.002</td>\n",
       "      <td>Impact of COVID-19 on ST-segment elevation myo...</td>\n",
       "      <td>Elsevier; Medline; PMC</td>\n",
       "      <td>no-cc</td>\n",
       "      <td>2020-09-08</td>\n",
       "      <td>Rev Esp Cardiol (Engl Ed)</td>\n",
       "      <td>https://api.elsevier.com/content/article/pii/S...</td>\n",
       "      <td>['STATA', 'IAMCEST']</td>\n",
       "    </tr>\n",
       "    <tr>\n",
       "      <th>3</th>\n",
       "      <td>0001418189999fea7f7cbe3e82703d71c85a6fe5</td>\n",
       "      <td>10.1016/j.vetmic.2006.11.026</td>\n",
       "      <td>Absence of surface expression of feline infect...</td>\n",
       "      <td>Elsevier; Medline; PMC</td>\n",
       "      <td>no-cc</td>\n",
       "      <td>2007-03-31</td>\n",
       "      <td>Vet Microbiol</td>\n",
       "      <td>https://www.sciencedirect.com/science/article/...</td>\n",
       "      <td>['SPSS']</td>\n",
       "    </tr>\n",
       "    <tr>\n",
       "      <th>4</th>\n",
       "      <td>00033d5a12240a8684cfe943954132b43434cf48</td>\n",
       "      <td>10.3390/v12080849</td>\n",
       "      <td>Detection of Severe Acute Respiratory Syndrome...</td>\n",
       "      <td>Medline; PMC</td>\n",
       "      <td>cc-by</td>\n",
       "      <td>2020-08-04</td>\n",
       "      <td>Viruses</td>\n",
       "      <td>https://www.ncbi.nlm.nih.gov/pubmed/32759673/;...</td>\n",
       "      <td>['R', 'MassARRAY Typer Analyzer']</td>\n",
       "    </tr>\n",
       "    <tr>\n",
       "      <th>...</th>\n",
       "      <td>...</td>\n",
       "      <td>...</td>\n",
       "      <td>...</td>\n",
       "      <td>...</td>\n",
       "      <td>...</td>\n",
       "      <td>...</td>\n",
       "      <td>...</td>\n",
       "      <td>...</td>\n",
       "      <td>...</td>\n",
       "    </tr>\n",
       "    <tr>\n",
       "      <th>77443</th>\n",
       "      <td>fffa648d0ab0631b869e704d4139ab3fee653612</td>\n",
       "      <td>10.1007/s11229-020-02869-9</td>\n",
       "      <td>Medicine’s metaphysical morass: how confusion ...</td>\n",
       "      <td>Medline; PMC</td>\n",
       "      <td>no-cc</td>\n",
       "      <td>2020-09-24</td>\n",
       "      <td>Synthese</td>\n",
       "      <td>https://doi.org/10.1007/s11229-020-02869-9; ht...</td>\n",
       "      <td>['UpToDate']</td>\n",
       "    </tr>\n",
       "    <tr>\n",
       "      <th>77444</th>\n",
       "      <td>fffc88be66eb39823fc9b50f0683e06a3038c9fe</td>\n",
       "      <td>NaN</td>\n",
       "      <td>A fractional-order compartmental model for pre...</td>\n",
       "      <td>ArXiv</td>\n",
       "      <td>arxiv</td>\n",
       "      <td>2020-07-08</td>\n",
       "      <td>NaN</td>\n",
       "      <td>https://arxiv.org/pdf/2007.03913v1.pdf</td>\n",
       "      <td>['SALib', 'Panda']</td>\n",
       "    </tr>\n",
       "    <tr>\n",
       "      <th>77445</th>\n",
       "      <td>ffff2fb21d4880b63a7cf3849cecc45bc596f4f0</td>\n",
       "      <td>10.1101/2020.05.13.20100206</td>\n",
       "      <td>Comparison of SARS-CoV-2 detection in nasophar...</td>\n",
       "      <td>MedRxiv; WHO</td>\n",
       "      <td>medrxiv</td>\n",
       "      <td>2020-05-19</td>\n",
       "      <td>NaN</td>\n",
       "      <td>http://medrxiv.org/cgi/content/short/2020.05.1...</td>\n",
       "      <td>['Prism', 'GraphPad']</td>\n",
       "    </tr>\n",
       "    <tr>\n",
       "      <th>77446</th>\n",
       "      <td>ffff73d17bc392ee68f3f16ef37d25579cb99322</td>\n",
       "      <td>10.1007/s42991-020-00052-8</td>\n",
       "      <td>Patterns of activity rhythms of invasive coypu...</td>\n",
       "      <td>Medline; PMC</td>\n",
       "      <td>no-cc</td>\n",
       "      <td>2020-07-14</td>\n",
       "      <td>Mamm Biol</td>\n",
       "      <td>https://www.ncbi.nlm.nih.gov/pubmed/32837498/;...</td>\n",
       "      <td>['R package circular', 'R', 'R']</td>\n",
       "    </tr>\n",
       "    <tr>\n",
       "      <th>77447</th>\n",
       "      <td>ffff79e335491d459180a337e572a19ece47a885</td>\n",
       "      <td>10.1101/2020.09.14.20194670</td>\n",
       "      <td>Estimating Risk of Mechanical Ventilation and ...</td>\n",
       "      <td>MedRxiv; Medline; PMC; WHO</td>\n",
       "      <td>cc-by-nc-nd</td>\n",
       "      <td>2020-09-16</td>\n",
       "      <td>medRxiv</td>\n",
       "      <td>https://www.ncbi.nlm.nih.gov/pubmed/32995802/;...</td>\n",
       "      <td>['GRAM', 'R studio', 'Stata']</td>\n",
       "    </tr>\n",
       "  </tbody>\n",
       "</table>\n",
       "<p>77448 rows × 9 columns</p>\n",
       "</div>"
      ],
      "text/plain": [
       "                                       paper_id                           doi  \\\n",
       "0      00006903b396d50cc0037fed39916d57d50ee801                           NaN   \n",
       "1      0000fcce604204b1b9d876dc073eb529eb5ce305    10.1016/j.regg.2021.01.002   \n",
       "2      000122a9a774ec76fa35ec0c0f6734e7e8d0c541     10.1016/j.rec.2020.08.002   \n",
       "3      0001418189999fea7f7cbe3e82703d71c85a6fe5  10.1016/j.vetmic.2006.11.026   \n",
       "4      00033d5a12240a8684cfe943954132b43434cf48             10.3390/v12080849   \n",
       "...                                         ...                           ...   \n",
       "77443  fffa648d0ab0631b869e704d4139ab3fee653612    10.1007/s11229-020-02869-9   \n",
       "77444  fffc88be66eb39823fc9b50f0683e06a3038c9fe                           NaN   \n",
       "77445  ffff2fb21d4880b63a7cf3849cecc45bc596f4f0   10.1101/2020.05.13.20100206   \n",
       "77446  ffff73d17bc392ee68f3f16ef37d25579cb99322    10.1007/s42991-020-00052-8   \n",
       "77447  ffff79e335491d459180a337e572a19ece47a885   10.1101/2020.09.14.20194670   \n",
       "\n",
       "                                                   title  \\\n",
       "0      Urban green space and happiness in developed c...   \n",
       "1      La Geriatría de Enlace con residencias en la é...   \n",
       "2      Impact of COVID-19 on ST-segment elevation myo...   \n",
       "3      Absence of surface expression of feline infect...   \n",
       "4      Detection of Severe Acute Respiratory Syndrome...   \n",
       "...                                                  ...   \n",
       "77443  Medicine’s metaphysical morass: how confusion ...   \n",
       "77444  A fractional-order compartmental model for pre...   \n",
       "77445  Comparison of SARS-CoV-2 detection in nasophar...   \n",
       "77446  Patterns of activity rhythms of invasive coypu...   \n",
       "77447  Estimating Risk of Mechanical Ventilation and ...   \n",
       "\n",
       "                         source_x      license publish_time  \\\n",
       "0                           ArXiv        arxiv   2021-01-04   \n",
       "1                   Elsevier; PMC    els-covid   2021-01-13   \n",
       "2          Elsevier; Medline; PMC        no-cc   2020-09-08   \n",
       "3          Elsevier; Medline; PMC        no-cc   2007-03-31   \n",
       "4                    Medline; PMC        cc-by   2020-08-04   \n",
       "...                           ...          ...          ...   \n",
       "77443                Medline; PMC        no-cc   2020-09-24   \n",
       "77444                       ArXiv        arxiv   2020-07-08   \n",
       "77445                MedRxiv; WHO      medrxiv   2020-05-19   \n",
       "77446                Medline; PMC        no-cc   2020-07-14   \n",
       "77447  MedRxiv; Medline; PMC; WHO  cc-by-nc-nd   2020-09-16   \n",
       "\n",
       "                         journal  \\\n",
       "0                            NaN   \n",
       "1       Rev Esp Geriatr Gerontol   \n",
       "2      Rev Esp Cardiol (Engl Ed)   \n",
       "3                  Vet Microbiol   \n",
       "4                        Viruses   \n",
       "...                          ...   \n",
       "77443                   Synthese   \n",
       "77444                        NaN   \n",
       "77445                        NaN   \n",
       "77446                  Mamm Biol   \n",
       "77447                    medRxiv   \n",
       "\n",
       "                                                     url  \\\n",
       "0                 https://arxiv.org/pdf/2101.00807v1.pdf   \n",
       "1      https://api.elsevier.com/content/article/pii/S...   \n",
       "2      https://api.elsevier.com/content/article/pii/S...   \n",
       "3      https://www.sciencedirect.com/science/article/...   \n",
       "4      https://www.ncbi.nlm.nih.gov/pubmed/32759673/;...   \n",
       "...                                                  ...   \n",
       "77443  https://doi.org/10.1007/s11229-020-02869-9; ht...   \n",
       "77444             https://arxiv.org/pdf/2007.03913v1.pdf   \n",
       "77445  http://medrxiv.org/cgi/content/short/2020.05.1...   \n",
       "77446  https://www.ncbi.nlm.nih.gov/pubmed/32837498/;...   \n",
       "77447  https://www.ncbi.nlm.nih.gov/pubmed/32995802/;...   \n",
       "\n",
       "                                software  \n",
       "0                 ['Google Street View']  \n",
       "1                               ['SEGG']  \n",
       "2                   ['STATA', 'IAMCEST']  \n",
       "3                               ['SPSS']  \n",
       "4      ['R', 'MassARRAY Typer Analyzer']  \n",
       "...                                  ...  \n",
       "77443                       ['UpToDate']  \n",
       "77444                 ['SALib', 'Panda']  \n",
       "77445              ['Prism', 'GraphPad']  \n",
       "77446   ['R package circular', 'R', 'R']  \n",
       "77447      ['GRAM', 'R studio', 'Stata']  \n",
       "\n",
       "[77448 rows x 9 columns]"
      ]
     },
     "execution_count": 3,
     "metadata": {},
     "output_type": "execute_result"
    }
   ],
   "source": [
    "CORD19_CSV"
   ]
  },
  {
   "cell_type": "markdown",
   "metadata": {},
   "source": [
    "### General check of the dataframe"
   ]
  },
  {
   "cell_type": "markdown",
   "metadata": {},
   "source": [
    "First, of all it is interesting to investigate how many NaN are contained within the DataFrame. "
   ]
  },
  {
   "cell_type": "code",
   "execution_count": 4,
   "metadata": {},
   "outputs": [
    {
     "data": {
      "text/plain": [
       "12476"
      ]
     },
     "execution_count": 4,
     "metadata": {},
     "output_type": "execute_result"
    }
   ],
   "source": [
    "CORD19_CSV.isnull().sum().sum()"
   ]
  },
  {
   "cell_type": "markdown",
   "metadata": {},
   "source": [
    "How are the NaNs distributed between the columns of the DataFrame? "
   ]
  },
  {
   "cell_type": "code",
   "execution_count": 5,
   "metadata": {},
   "outputs": [],
   "source": [
    "def count_nan_per_column(df):\n",
    "    \"\"\" This function counts the NaNs per column of the received dataframe \n",
    "    and returns a dataframe containing a column listing the number of NaNs.\n",
    "    \"\"\"\n",
    "    col_num = []\n",
    "    col_name = []\n",
    "    for i in df: \n",
    "        col_num.append(df[i].isnull().sum())\n",
    "    col_names = df.columns\n",
    "    df_joined =  pd.DataFrame(col_num, col_names)\n",
    "    df_joined.columns = ['NaNs']\n",
    "    return df_joined"
   ]
  },
  {
   "cell_type": "code",
   "execution_count": 6,
   "metadata": {},
   "outputs": [
    {
     "data": {
      "text/html": [
       "<div>\n",
       "<style scoped>\n",
       "    .dataframe tbody tr th:only-of-type {\n",
       "        vertical-align: middle;\n",
       "    }\n",
       "\n",
       "    .dataframe tbody tr th {\n",
       "        vertical-align: top;\n",
       "    }\n",
       "\n",
       "    .dataframe thead th {\n",
       "        text-align: right;\n",
       "    }\n",
       "</style>\n",
       "<table border=\"1\" class=\"dataframe\">\n",
       "  <thead>\n",
       "    <tr style=\"text-align: right;\">\n",
       "      <th></th>\n",
       "      <th>NaNs</th>\n",
       "    </tr>\n",
       "  </thead>\n",
       "  <tbody>\n",
       "    <tr>\n",
       "      <th>paper_id</th>\n",
       "      <td>0</td>\n",
       "    </tr>\n",
       "    <tr>\n",
       "      <th>doi</th>\n",
       "      <td>3144</td>\n",
       "    </tr>\n",
       "    <tr>\n",
       "      <th>title</th>\n",
       "      <td>0</td>\n",
       "    </tr>\n",
       "    <tr>\n",
       "      <th>source_x</th>\n",
       "      <td>0</td>\n",
       "    </tr>\n",
       "    <tr>\n",
       "      <th>license</th>\n",
       "      <td>0</td>\n",
       "    </tr>\n",
       "    <tr>\n",
       "      <th>publish_time</th>\n",
       "      <td>0</td>\n",
       "    </tr>\n",
       "    <tr>\n",
       "      <th>journal</th>\n",
       "      <td>9332</td>\n",
       "    </tr>\n",
       "    <tr>\n",
       "      <th>url</th>\n",
       "      <td>0</td>\n",
       "    </tr>\n",
       "    <tr>\n",
       "      <th>software</th>\n",
       "      <td>0</td>\n",
       "    </tr>\n",
       "  </tbody>\n",
       "</table>\n",
       "</div>"
      ],
      "text/plain": [
       "              NaNs\n",
       "paper_id         0\n",
       "doi           3144\n",
       "title            0\n",
       "source_x         0\n",
       "license          0\n",
       "publish_time     0\n",
       "journal       9332\n",
       "url              0\n",
       "software         0"
      ]
     },
     "execution_count": 6,
     "metadata": {},
     "output_type": "execute_result"
    }
   ],
   "source": [
    "df_NaNs = count_nan_per_column(CORD19_CSV)\n",
    "df_NaNs"
   ]
  },
  {
   "cell_type": "markdown",
   "metadata": {},
   "source": [
    "For further analysis, it is important to obey that the columns \"doi\" and \"journal\" contain NaNs."
   ]
  },
  {
   "cell_type": "code",
   "execution_count": 7,
   "metadata": {},
   "outputs": [
    {
     "data": {
      "text/plain": [
       "url             106.520155\n",
       "title           102.960064\n",
       "software         83.598324\n",
       "paper_id         40.000000\n",
       "doi              24.133883\n",
       "journal          15.316212\n",
       "source_x         12.139758\n",
       "publish_time      9.930508\n",
       "license           5.899985\n",
       "dtype: float64"
      ]
     },
     "execution_count": 7,
     "metadata": {},
     "output_type": "execute_result"
    }
   ],
   "source": [
    "ser_col_length = CORD19_CSV.fillna('').astype(str).apply(lambda x:x.str.len()).mean()\n",
    "ser_col_length_sorted = ser_col_length.sort_values(ascending=False)\n",
    "ser_col_length_sorted"
   ]
  },
  {
   "cell_type": "code",
   "execution_count": 8,
   "metadata": {},
   "outputs": [
    {
     "data": {
      "image/png": "[encoded data removed]",
      "text/plain": [
       "<Figure size 432x288 with 1 Axes>"
      ]
     },
     "metadata": {
      "needs_background": "light"
     },
     "output_type": "display_data"
    }
   ],
   "source": [
    "x = ser_col_length_sorted.index\n",
    "y = ser_col_length_sorted.values\n",
    "\n",
    "plt.barh(x, y)\n",
    "plt.title(\"Mean column length\")\n",
    "plt.xlabel(\"Characters\")\n",
    "plt.ylabel(\"Column\")\n",
    "plt.show()"
   ]
  },
  {
   "cell_type": "markdown",
   "metadata": {},
   "source": [
    "For further analysis, the average length of the titles is long and can be seen as descriptive."
   ]
  },
  {
   "cell_type": "markdown",
   "metadata": {},
   "source": [
    "The column publish_time is converted to the datetime format. "
   ]
  },
  {
   "cell_type": "code",
   "execution_count": 9,
   "metadata": {},
   "outputs": [],
   "source": [
    "CORD19_CSV['publish_time']=pd.to_datetime(CORD19_CSV.publish_time)"
   ]
  },
  {
   "cell_type": "code",
   "execution_count": 10,
   "metadata": {},
   "outputs": [],
   "source": [
    "#Indicate corrupted csv\n",
    "#paper_id -> check integrity with base 16 check ? \n",
    "#doi -> Regex check ? \n",
    "#title -> check exshow existence of covid, corona in title\n",
    "#source_x -> show most used source_x\n",
    "#license -> show most used license\n",
    "#publish_time -> check how many rows are before 2020 and after\n",
    "#journal -> show must used journal "
   ]
  },
  {
   "cell_type": "markdown",
   "metadata": {},
   "source": [
    "### Dedicated analysis based on columns"
   ]
  },
  {
   "cell_type": "markdown",
   "metadata": {},
   "source": [
    "Create own series for each row."
   ]
  },
  {
   "cell_type": "code",
   "execution_count": 11,
   "metadata": {},
   "outputs": [],
   "source": [
    "paper_id = CORD19_CSV.paper_id\n",
    "doi = CORD19_CSV.doi\n",
    "title = CORD19_CSV.title\n",
    "source_x = CORD19_CSV.source_x\n",
    "license = CORD19_CSV.license\n",
    "publish_time= CORD19_CSV.publish_time\n",
    "journal = CORD19_CSV.journal\n",
    "url = CORD19_CSV.url"
   ]
  },
  {
   "cell_type": "markdown",
   "metadata": {},
   "source": [
    "### Checking the column \"paper_id\""
   ]
  },
  {
   "cell_type": "markdown",
   "metadata": {},
   "source": [
    "First, checking the integrity of the series paper_id. It should be be obvious that each row has an unique ID which is not shared with another row. "
   ]
  },
  {
   "cell_type": "code",
   "execution_count": 12,
   "metadata": {},
   "outputs": [
    {
     "data": {
      "text/plain": [
       "0ed3c6a5559cd73307184f51fc53ccc76da559bc    3\n",
       "36e2047d1674c3095617f3eb97f9f61e48989dfe    2\n",
       "46b053c7126c1603101f46e4bb6e411f790a45fc    2\n",
       "dd74a3a343529174fe7c6485723cf2d5911c18ed    2\n",
       "d1dde1df11f93e8eae0d0b467cd0455afdc5b98c    2\n",
       "                                           ..\n",
       "983e5d7b9edc62abaeee0d70127c3052abb9a2c2    1\n",
       "b2d2050a4b62e13a5c78e23190f61a7895ca33e2    1\n",
       "c3488a2180028698302ab604ff902d1dd78ce92a    1\n",
       "525cd718b748e189ff77aabcb8620cff6cbbc538    1\n",
       "bb31432f8ccfe28ddbef1237ddf44a5634c8421a    1\n",
       "Name: paper_id, Length: 77436, dtype: int64"
      ]
     },
     "execution_count": 12,
     "metadata": {},
     "output_type": "execute_result"
    }
   ],
   "source": [
    "paper_id_counted = paper_id.value_counts()\n",
    "paper_id_counted"
   ]
  },
  {
   "cell_type": "markdown",
   "metadata": {},
   "source": [
    "The first finding linked to the column paper_id is that this column does not soley contain unique ID's. There's definitely rows which share ID's. For this, the exact number of shared ID's need to be found. "
   ]
  },
  {
   "cell_type": "code",
   "execution_count": 13,
   "metadata": {},
   "outputs": [],
   "source": [
    "def find_shared_values(col):\n",
    "    \"\"\" This function checks columns for shared values and deducts NaNs\n",
    "    \"\"\"\n",
    "    col_shared = len(col) - len(col.value_counts())\n",
    "    col_shared = col_shared - col.isnull().sum()\n",
    "    return col_shared"
   ]
  },
  {
   "cell_type": "code",
   "execution_count": 14,
   "metadata": {},
   "outputs": [
    {
     "data": {
      "text/plain": [
       "12"
      ]
     },
     "execution_count": 14,
     "metadata": {},
     "output_type": "execute_result"
    }
   ],
   "source": [
    "paper_id_shared_ids_num = find_shared_values(paper_id)    \n",
    "paper_id_shared_ids_num"
   ]
  },
  {
   "cell_type": "markdown",
   "metadata": {},
   "source": [
    "The column contains 12 shared ID's with even one used three times. "
   ]
  },
  {
   "cell_type": "code",
   "execution_count": 15,
   "metadata": {},
   "outputs": [
    {
     "data": {
      "text/plain": [
       "0ed3c6a5559cd73307184f51fc53ccc76da559bc    3\n",
       "36e2047d1674c3095617f3eb97f9f61e48989dfe    2\n",
       "46b053c7126c1603101f46e4bb6e411f790a45fc    2\n",
       "dd74a3a343529174fe7c6485723cf2d5911c18ed    2\n",
       "d1dde1df11f93e8eae0d0b467cd0455afdc5b98c    2\n",
       "5d6678f81812464543b367e7de138e23b3483ed1    2\n",
       "c89f86cdd9d41eeec127cc0b03990c52888a9635    2\n",
       "ec7d3038b8912a9fc92f4d02a2c30d566d4d0a93    2\n",
       "0831fe32280e46ba8d5c1a9456111e1e009863ac    2\n",
       "5d0d0bd116976e1412c10a84902894999df4a342    2\n",
       "ff40e6b44e151e42a54227e255a88d0c0c104876    2\n",
       "5571abe1d0735ceae3edf074d056f62b84b31075    1\n",
       "Name: paper_id, dtype: int64"
      ]
     },
     "execution_count": 15,
     "metadata": {},
     "output_type": "execute_result"
    }
   ],
   "source": [
    "paper_id_counted.head(paper_id_shared_ids_num)"
   ]
  },
  {
   "cell_type": "markdown",
   "metadata": {},
   "source": [
    "Check if the dataset contains only duplicates for the column paper_id or for whole DataFrame rows. Therefore, the function collect_rows_of_df will support the process. "
   ]
  },
  {
   "cell_type": "code",
   "execution_count": 16,
   "metadata": {},
   "outputs": [],
   "source": [
    "#Method receiving string and dataframe which returns double or tripple dataframe to append \n",
    "def collect_rows_of_df(df,column,st):\n",
    "    \"\"\"This function receives a dataframe, a column contained within a dataframe \n",
    "    and a string which can be found within the column. \n",
    "    Then, the string is compared to the whole column and.\n",
    "    When a match is found, the corresponding rows are returned as a dataframe. \n",
    "    \"\"\"\n",
    "    subset = df[df[column] == st]\n",
    "    return subset"
   ]
  },
  {
   "cell_type": "markdown",
   "metadata": {},
   "source": [
    "Collecting rows which share their paper_id."
   ]
  },
  {
   "cell_type": "code",
   "execution_count": 17,
   "metadata": {
    "scrolled": true
   },
   "outputs": [
    {
     "data": {
      "text/html": [
       "<div>\n",
       "<style scoped>\n",
       "    .dataframe tbody tr th:only-of-type {\n",
       "        vertical-align: middle;\n",
       "    }\n",
       "\n",
       "    .dataframe tbody tr th {\n",
       "        vertical-align: top;\n",
       "    }\n",
       "\n",
       "    .dataframe thead th {\n",
       "        text-align: right;\n",
       "    }\n",
       "</style>\n",
       "<table border=\"1\" class=\"dataframe\">\n",
       "  <thead>\n",
       "    <tr style=\"text-align: right;\">\n",
       "      <th></th>\n",
       "      <th>paper_id</th>\n",
       "      <th>doi</th>\n",
       "      <th>title</th>\n",
       "      <th>source_x</th>\n",
       "      <th>license</th>\n",
       "      <th>publish_time</th>\n",
       "      <th>journal</th>\n",
       "      <th>url</th>\n",
       "      <th>software</th>\n",
       "    </tr>\n",
       "  </thead>\n",
       "  <tbody>\n",
       "    <tr>\n",
       "      <th>4466</th>\n",
       "      <td>0ed3c6a5559cd73307184f51fc53ccc76da559bc</td>\n",
       "      <td>10.1016/j.jinf.2020.02.019</td>\n",
       "      <td>Simulating and forecasting the cumulative conf...</td>\n",
       "      <td>Elsevier; Medline; PMC</td>\n",
       "      <td>no-cc</td>\n",
       "      <td>2020-02-26</td>\n",
       "      <td>J Infect</td>\n",
       "      <td>https://doi.org/10.1016/j.jinf.2020.02.019; ht...</td>\n",
       "      <td>['SAS', 'NLIA', 'NLIA', 'SAS', 'SAS', 'NLIA', ...</td>\n",
       "    </tr>\n",
       "    <tr>\n",
       "      <th>4467</th>\n",
       "      <td>0ed3c6a5559cd73307184f51fc53ccc76da559bc</td>\n",
       "      <td>10.1016/j.jinf.2020.02.020</td>\n",
       "      <td>Novel coronavirus disease (Covid-19): The firs...</td>\n",
       "      <td>Elsevier; Medline; PMC</td>\n",
       "      <td>els-covid</td>\n",
       "      <td>2020-05-31</td>\n",
       "      <td>Journal of Infection</td>\n",
       "      <td>https://www.sciencedirect.com/science/article/...</td>\n",
       "      <td>['SAS', 'NLIA', 'NLIA', 'SAS', 'SAS', 'NLIA', ...</td>\n",
       "    </tr>\n",
       "    <tr>\n",
       "      <th>4468</th>\n",
       "      <td>0ed3c6a5559cd73307184f51fc53ccc76da559bc</td>\n",
       "      <td>10.1016/j.jinf.2020.02.011</td>\n",
       "      <td>Chinese medical personnel against the 2019-nCoV</td>\n",
       "      <td>Elsevier; Medline; PMC</td>\n",
       "      <td>els-covid</td>\n",
       "      <td>2020-05-31</td>\n",
       "      <td>Journal of Infection</td>\n",
       "      <td>https://api.elsevier.com/content/article/pii/S...</td>\n",
       "      <td>['SAS', 'NLIA', 'NLIA', 'SAS', 'SAS', 'NLIA', ...</td>\n",
       "    </tr>\n",
       "    <tr>\n",
       "      <th>16564</th>\n",
       "      <td>36e2047d1674c3095617f3eb97f9f61e48989dfe</td>\n",
       "      <td>10.1016/j.dsx.2020.04.012</td>\n",
       "      <td>Artificial Intelligence (AI) applications for ...</td>\n",
       "      <td>PMC</td>\n",
       "      <td>no-cc</td>\n",
       "      <td>2020-04-14</td>\n",
       "      <td>Diabetes Metab Syndr</td>\n",
       "      <td>https://www.ncbi.nlm.nih.gov/pmc/articles/PMC7...</td>\n",
       "      <td>['Scopus', 'Google Scholar', 'Scopus', 'Google...</td>\n",
       "    </tr>\n",
       "    <tr>\n",
       "      <th>16565</th>\n",
       "      <td>36e2047d1674c3095617f3eb97f9f61e48989dfe</td>\n",
       "      <td>10.1016/j.dsx.2020.04.012</td>\n",
       "      <td>Artificial Intelligence (AI) applications for ...</td>\n",
       "      <td>Elsevier</td>\n",
       "      <td>els-covid</td>\n",
       "      <td>2020-08-31</td>\n",
       "      <td>Diabetes &amp; Metabolic Syndrome: Clinical Resear...</td>\n",
       "      <td>https://api.elsevier.com/content/article/pii/S...</td>\n",
       "      <td>['Scopus', 'Google Scholar', 'Scopus', 'Google...</td>\n",
       "    </tr>\n",
       "    <tr>\n",
       "      <th>21299</th>\n",
       "      <td>46b053c7126c1603101f46e4bb6e411f790a45fc</td>\n",
       "      <td>NaN</td>\n",
       "      <td>The Interplay of Demographic Variables and Soc...</td>\n",
       "      <td>ArXiv</td>\n",
       "      <td>arxiv</td>\n",
       "      <td>2021-01-06</td>\n",
       "      <td>NaN</td>\n",
       "      <td>https://arxiv.org/pdf/2101.02113v1.pdf</td>\n",
       "      <td>['Unacast', 'Unacast']</td>\n",
       "    </tr>\n",
       "    <tr>\n",
       "      <th>21300</th>\n",
       "      <td>46b053c7126c1603101f46e4bb6e411f790a45fc</td>\n",
       "      <td>NaN</td>\n",
       "      <td>The Interplay of Demographic Variables and Soc...</td>\n",
       "      <td>Medline; PMC</td>\n",
       "      <td>cc-by-nc-sa</td>\n",
       "      <td>2021-01-06</td>\n",
       "      <td>ArXiv</td>\n",
       "      <td>https://www.ncbi.nlm.nih.gov/pubmed/33442559/</td>\n",
       "      <td>['Unacast', 'Unacast']</td>\n",
       "    </tr>\n",
       "    <tr>\n",
       "      <th>67078</th>\n",
       "      <td>dd74a3a343529174fe7c6485723cf2d5911c18ed</td>\n",
       "      <td>NaN</td>\n",
       "      <td>Models for COVID-19 Pandemic: A Comparative An...</td>\n",
       "      <td>PMC</td>\n",
       "      <td>cc-by</td>\n",
       "      <td>2020-09-21</td>\n",
       "      <td>ArXiv</td>\n",
       "      <td>https://www.ncbi.nlm.nih.gov/pmc/articles/PMC7...</td>\n",
       "      <td>['PatchSim', 'Landscan', 'Landscan', 'PatchSim...</td>\n",
       "    </tr>\n",
       "    <tr>\n",
       "      <th>67079</th>\n",
       "      <td>dd74a3a343529174fe7c6485723cf2d5911c18ed</td>\n",
       "      <td>NaN</td>\n",
       "      <td>Models for COVID-19 Pandemic: A Comparative An...</td>\n",
       "      <td>ArXiv</td>\n",
       "      <td>arxiv</td>\n",
       "      <td>2020-09-21</td>\n",
       "      <td>NaN</td>\n",
       "      <td>https://arxiv.org/pdf/2009.10014v1.pdf</td>\n",
       "      <td>['PatchSim', 'Landscan', 'Landscan', 'PatchSim...</td>\n",
       "    </tr>\n",
       "    <tr>\n",
       "      <th>63590</th>\n",
       "      <td>d1dde1df11f93e8eae0d0b467cd0455afdc5b98c</td>\n",
       "      <td>NaN</td>\n",
       "      <td>Knowledge synthesis from 100 million biomedica...</td>\n",
       "      <td>ArXiv</td>\n",
       "      <td>arxiv</td>\n",
       "      <td>2020-03-28</td>\n",
       "      <td>NaN</td>\n",
       "      <td>https://arxiv.org/pdf/2003.12773v1.pdf</td>\n",
       "      <td>['nferX', 'nferX', 'Single Cell', 'Drop', 'Sin...</td>\n",
       "    </tr>\n",
       "    <tr>\n",
       "      <th>63591</th>\n",
       "      <td>d1dde1df11f93e8eae0d0b467cd0455afdc5b98c</td>\n",
       "      <td>10.1101/2020.03.24.005702</td>\n",
       "      <td>Knowledge synthesis from 100 million biomedica...</td>\n",
       "      <td>BioRxiv; WHO</td>\n",
       "      <td>biorxiv</td>\n",
       "      <td>2020-03-29</td>\n",
       "      <td>bioRxiv</td>\n",
       "      <td>https://doi.org/10.1101/2020.03.24.005702</td>\n",
       "      <td>['nferX', 'nferX', 'Single Cell', 'Drop', 'Sin...</td>\n",
       "    </tr>\n",
       "    <tr>\n",
       "      <th>28159</th>\n",
       "      <td>5d6678f81812464543b367e7de138e23b3483ed1</td>\n",
       "      <td>NaN</td>\n",
       "      <td>Data-driven modeling for different stages of p...</td>\n",
       "      <td>PMC</td>\n",
       "      <td>cc-by</td>\n",
       "      <td>2020-09-21</td>\n",
       "      <td>ArXiv</td>\n",
       "      <td>https://www.ncbi.nlm.nih.gov/pmc/articles/PMC7...</td>\n",
       "      <td>['Influenza Risk Assessment Tool (IRAT)', 'Pan...</td>\n",
       "    </tr>\n",
       "    <tr>\n",
       "      <th>28160</th>\n",
       "      <td>5d6678f81812464543b367e7de138e23b3483ed1</td>\n",
       "      <td>NaN</td>\n",
       "      <td>Data-driven modeling for different stages of p...</td>\n",
       "      <td>ArXiv</td>\n",
       "      <td>arxiv</td>\n",
       "      <td>2020-09-21</td>\n",
       "      <td>NaN</td>\n",
       "      <td>https://arxiv.org/pdf/2009.10018v1.pdf</td>\n",
       "      <td>['Influenza Risk Assessment Tool (IRAT)', 'Pan...</td>\n",
       "    </tr>\n",
       "    <tr>\n",
       "      <th>60796</th>\n",
       "      <td>c89f86cdd9d41eeec127cc0b03990c52888a9635</td>\n",
       "      <td>10.1101/2020.11.07.372938</td>\n",
       "      <td>A low power flexible dielectric barrier discha...</td>\n",
       "      <td>BioRxiv</td>\n",
       "      <td>biorxiv</td>\n",
       "      <td>2020-11-09</td>\n",
       "      <td>bioRxiv</td>\n",
       "      <td>https://doi.org/10.1101/2020.11.07.372938</td>\n",
       "      <td>['ImageJ', 'ImageJ', 'Sterlis®', 'Sterlis®']</td>\n",
       "    </tr>\n",
       "    <tr>\n",
       "      <th>60797</th>\n",
       "      <td>c89f86cdd9d41eeec127cc0b03990c52888a9635</td>\n",
       "      <td>NaN</td>\n",
       "      <td>A low power flexible dielectric barrier discha...</td>\n",
       "      <td>ArXiv</td>\n",
       "      <td>arxiv</td>\n",
       "      <td>2020-11-08</td>\n",
       "      <td>NaN</td>\n",
       "      <td>https://arxiv.org/pdf/2011.03898v1.pdf</td>\n",
       "      <td>['ImageJ', 'ImageJ', 'Sterlis®', 'Sterlis®']</td>\n",
       "    </tr>\n",
       "    <tr>\n",
       "      <th>71596</th>\n",
       "      <td>ec7d3038b8912a9fc92f4d02a2c30d566d4d0a93</td>\n",
       "      <td>10.1101/2020.04.12.038158</td>\n",
       "      <td>Modern Hopfield Networks and Attention for Imm...</td>\n",
       "      <td>BioRxiv</td>\n",
       "      <td>biorxiv</td>\n",
       "      <td>2020-08-17</td>\n",
       "      <td>bioRxiv</td>\n",
       "      <td>https://doi.org/10.1101/2020.04.12.038158</td>\n",
       "      <td>['DeepRC', 'DeepRC', 'DeepRC', 'DeepRC', 'Deep...</td>\n",
       "    </tr>\n",
       "    <tr>\n",
       "      <th>71597</th>\n",
       "      <td>ec7d3038b8912a9fc92f4d02a2c30d566d4d0a93</td>\n",
       "      <td>NaN</td>\n",
       "      <td>Modern Hopfield Networks and Attention for Imm...</td>\n",
       "      <td>ArXiv</td>\n",
       "      <td>arxiv</td>\n",
       "      <td>2020-07-16</td>\n",
       "      <td>NaN</td>\n",
       "      <td>https://arxiv.org/pdf/2007.13505v1.pdf</td>\n",
       "      <td>['DeepRC', 'DeepRC', 'DeepRC', 'DeepRC', 'Deep...</td>\n",
       "    </tr>\n",
       "    <tr>\n",
       "      <th>2447</th>\n",
       "      <td>0831fe32280e46ba8d5c1a9456111e1e009863ac</td>\n",
       "      <td>NaN</td>\n",
       "      <td>A trial emulation approach for policy evaluati...</td>\n",
       "      <td>ArXiv</td>\n",
       "      <td>arxiv</td>\n",
       "      <td>2020-11-11</td>\n",
       "      <td>NaN</td>\n",
       "      <td>https://arxiv.org/pdf/2011.05826v1.pdf</td>\n",
       "      <td>['NYT Tracker', 'NYT Tracker']</td>\n",
       "    </tr>\n",
       "    <tr>\n",
       "      <th>2448</th>\n",
       "      <td>0831fe32280e46ba8d5c1a9456111e1e009863ac</td>\n",
       "      <td>NaN</td>\n",
       "      <td>A trial emulation approach for policy evaluati...</td>\n",
       "      <td>Medline; PMC</td>\n",
       "      <td>cc-by</td>\n",
       "      <td>2020-11-11</td>\n",
       "      <td>ArXiv</td>\n",
       "      <td>https://www.ncbi.nlm.nih.gov/pubmed/33200083/</td>\n",
       "      <td>['NYT Tracker', 'NYT Tracker']</td>\n",
       "    </tr>\n",
       "    <tr>\n",
       "      <th>28044</th>\n",
       "      <td>5d0d0bd116976e1412c10a84902894999df4a342</td>\n",
       "      <td>10.1016/j.jinf.2020.02.013</td>\n",
       "      <td>Analysis of angiotensin-converting enzyme 2 (A...</td>\n",
       "      <td>Elsevier; Medline; PMC</td>\n",
       "      <td>no-cc</td>\n",
       "      <td>2020-02-21</td>\n",
       "      <td>J Infect</td>\n",
       "      <td>https://www.sciencedirect.com/science/article/...</td>\n",
       "      <td>['MAFFT', 'Epi2Me interface', 'MinION', 'MAFFT...</td>\n",
       "    </tr>\n",
       "    <tr>\n",
       "      <th>28045</th>\n",
       "      <td>5d0d0bd116976e1412c10a84902894999df4a342</td>\n",
       "      <td>10.1016/j.jinf.2020.02.014</td>\n",
       "      <td>Trend and forecasting of the COVID-19 outbreak...</td>\n",
       "      <td>ArXiv; Elsevier; Medline; PMC</td>\n",
       "      <td>els-covid</td>\n",
       "      <td>2020-04-30</td>\n",
       "      <td>Journal of Infection</td>\n",
       "      <td>https://api.elsevier.com/content/article/pii/S...</td>\n",
       "      <td>['MAFFT', 'Epi2Me interface', 'MinION', 'MAFFT...</td>\n",
       "    </tr>\n",
       "    <tr>\n",
       "      <th>77204</th>\n",
       "      <td>ff40e6b44e151e42a54227e255a88d0c0c104876</td>\n",
       "      <td>NaN</td>\n",
       "      <td>Interactive SARS-CoV-2 mutation timemaps</td>\n",
       "      <td>PMC</td>\n",
       "      <td>cc-by</td>\n",
       "      <td>2020-12-31</td>\n",
       "      <td>ArXiv</td>\n",
       "      <td>https://www.ncbi.nlm.nih.gov/pmc/articles/PMC7...</td>\n",
       "      <td>['ntEdit', 'ntEdit', 'ntEdit', 'ntHits', 'ntEd...</td>\n",
       "    </tr>\n",
       "    <tr>\n",
       "      <th>77205</th>\n",
       "      <td>ff40e6b44e151e42a54227e255a88d0c0c104876</td>\n",
       "      <td>NaN</td>\n",
       "      <td>Interactive SARS-CoV-2 mutation timemaps</td>\n",
       "      <td>ArXiv</td>\n",
       "      <td>arxiv</td>\n",
       "      <td>2020-12-31</td>\n",
       "      <td>NaN</td>\n",
       "      <td>https://arxiv.org/pdf/2012.15697v1.pdf</td>\n",
       "      <td>['ntEdit', 'ntEdit', 'ntEdit', 'ntHits', 'ntEd...</td>\n",
       "    </tr>\n",
       "    <tr>\n",
       "      <th>25768</th>\n",
       "      <td>5571abe1d0735ceae3edf074d056f62b84b31075</td>\n",
       "      <td>10.1016/j.antiviral.2020.104860</td>\n",
       "      <td>The influence of interferon-lambda on restrict...</td>\n",
       "      <td>Elsevier; Medline; PMC</td>\n",
       "      <td>no-cc</td>\n",
       "      <td>2020-06-19</td>\n",
       "      <td>Antiviral Res</td>\n",
       "      <td>https://doi.org/10.1016/j.antiviral.2020.10486...</td>\n",
       "      <td>['GraphPad Prism', 'GraphPad']</td>\n",
       "    </tr>\n",
       "  </tbody>\n",
       "</table>\n",
       "</div>"
      ],
      "text/plain": [
       "                                       paper_id  \\\n",
       "4466   0ed3c6a5559cd73307184f51fc53ccc76da559bc   \n",
       "4467   0ed3c6a5559cd73307184f51fc53ccc76da559bc   \n",
       "4468   0ed3c6a5559cd73307184f51fc53ccc76da559bc   \n",
       "16564  36e2047d1674c3095617f3eb97f9f61e48989dfe   \n",
       "16565  36e2047d1674c3095617f3eb97f9f61e48989dfe   \n",
       "21299  46b053c7126c1603101f46e4bb6e411f790a45fc   \n",
       "21300  46b053c7126c1603101f46e4bb6e411f790a45fc   \n",
       "67078  dd74a3a343529174fe7c6485723cf2d5911c18ed   \n",
       "67079  dd74a3a343529174fe7c6485723cf2d5911c18ed   \n",
       "63590  d1dde1df11f93e8eae0d0b467cd0455afdc5b98c   \n",
       "63591  d1dde1df11f93e8eae0d0b467cd0455afdc5b98c   \n",
       "28159  5d6678f81812464543b367e7de138e23b3483ed1   \n",
       "28160  5d6678f81812464543b367e7de138e23b3483ed1   \n",
       "60796  c89f86cdd9d41eeec127cc0b03990c52888a9635   \n",
       "60797  c89f86cdd9d41eeec127cc0b03990c52888a9635   \n",
       "71596  ec7d3038b8912a9fc92f4d02a2c30d566d4d0a93   \n",
       "71597  ec7d3038b8912a9fc92f4d02a2c30d566d4d0a93   \n",
       "2447   0831fe32280e46ba8d5c1a9456111e1e009863ac   \n",
       "2448   0831fe32280e46ba8d5c1a9456111e1e009863ac   \n",
       "28044  5d0d0bd116976e1412c10a84902894999df4a342   \n",
       "28045  5d0d0bd116976e1412c10a84902894999df4a342   \n",
       "77204  ff40e6b44e151e42a54227e255a88d0c0c104876   \n",
       "77205  ff40e6b44e151e42a54227e255a88d0c0c104876   \n",
       "25768  5571abe1d0735ceae3edf074d056f62b84b31075   \n",
       "\n",
       "                                   doi  \\\n",
       "4466        10.1016/j.jinf.2020.02.019   \n",
       "4467        10.1016/j.jinf.2020.02.020   \n",
       "4468        10.1016/j.jinf.2020.02.011   \n",
       "16564        10.1016/j.dsx.2020.04.012   \n",
       "16565        10.1016/j.dsx.2020.04.012   \n",
       "21299                              NaN   \n",
       "21300                              NaN   \n",
       "67078                              NaN   \n",
       "67079                              NaN   \n",
       "63590                              NaN   \n",
       "63591        10.1101/2020.03.24.005702   \n",
       "28159                              NaN   \n",
       "28160                              NaN   \n",
       "60796        10.1101/2020.11.07.372938   \n",
       "60797                              NaN   \n",
       "71596        10.1101/2020.04.12.038158   \n",
       "71597                              NaN   \n",
       "2447                               NaN   \n",
       "2448                               NaN   \n",
       "28044       10.1016/j.jinf.2020.02.013   \n",
       "28045       10.1016/j.jinf.2020.02.014   \n",
       "77204                              NaN   \n",
       "77205                              NaN   \n",
       "25768  10.1016/j.antiviral.2020.104860   \n",
       "\n",
       "                                                   title  \\\n",
       "4466   Simulating and forecasting the cumulative conf...   \n",
       "4467   Novel coronavirus disease (Covid-19): The firs...   \n",
       "4468     Chinese medical personnel against the 2019-nCoV   \n",
       "16564  Artificial Intelligence (AI) applications for ...   \n",
       "16565  Artificial Intelligence (AI) applications for ...   \n",
       "21299  The Interplay of Demographic Variables and Soc...   \n",
       "21300  The Interplay of Demographic Variables and Soc...   \n",
       "67078  Models for COVID-19 Pandemic: A Comparative An...   \n",
       "67079  Models for COVID-19 Pandemic: A Comparative An...   \n",
       "63590  Knowledge synthesis from 100 million biomedica...   \n",
       "63591  Knowledge synthesis from 100 million biomedica...   \n",
       "28159  Data-driven modeling for different stages of p...   \n",
       "28160  Data-driven modeling for different stages of p...   \n",
       "60796  A low power flexible dielectric barrier discha...   \n",
       "60797  A low power flexible dielectric barrier discha...   \n",
       "71596  Modern Hopfield Networks and Attention for Imm...   \n",
       "71597  Modern Hopfield Networks and Attention for Imm...   \n",
       "2447   A trial emulation approach for policy evaluati...   \n",
       "2448   A trial emulation approach for policy evaluati...   \n",
       "28044  Analysis of angiotensin-converting enzyme 2 (A...   \n",
       "28045  Trend and forecasting of the COVID-19 outbreak...   \n",
       "77204           Interactive SARS-CoV-2 mutation timemaps   \n",
       "77205           Interactive SARS-CoV-2 mutation timemaps   \n",
       "25768  The influence of interferon-lambda on restrict...   \n",
       "\n",
       "                            source_x      license publish_time  \\\n",
       "4466          Elsevier; Medline; PMC        no-cc   2020-02-26   \n",
       "4467          Elsevier; Medline; PMC    els-covid   2020-05-31   \n",
       "4468          Elsevier; Medline; PMC    els-covid   2020-05-31   \n",
       "16564                            PMC        no-cc   2020-04-14   \n",
       "16565                       Elsevier    els-covid   2020-08-31   \n",
       "21299                          ArXiv        arxiv   2021-01-06   \n",
       "21300                   Medline; PMC  cc-by-nc-sa   2021-01-06   \n",
       "67078                            PMC        cc-by   2020-09-21   \n",
       "67079                          ArXiv        arxiv   2020-09-21   \n",
       "63590                          ArXiv        arxiv   2020-03-28   \n",
       "63591                   BioRxiv; WHO      biorxiv   2020-03-29   \n",
       "28159                            PMC        cc-by   2020-09-21   \n",
       "28160                          ArXiv        arxiv   2020-09-21   \n",
       "60796                        BioRxiv      biorxiv   2020-11-09   \n",
       "60797                          ArXiv        arxiv   2020-11-08   \n",
       "71596                        BioRxiv      biorxiv   2020-08-17   \n",
       "71597                          ArXiv        arxiv   2020-07-16   \n",
       "2447                           ArXiv        arxiv   2020-11-11   \n",
       "2448                    Medline; PMC        cc-by   2020-11-11   \n",
       "28044         Elsevier; Medline; PMC        no-cc   2020-02-21   \n",
       "28045  ArXiv; Elsevier; Medline; PMC    els-covid   2020-04-30   \n",
       "77204                            PMC        cc-by   2020-12-31   \n",
       "77205                          ArXiv        arxiv   2020-12-31   \n",
       "25768         Elsevier; Medline; PMC        no-cc   2020-06-19   \n",
       "\n",
       "                                                 journal  \\\n",
       "4466                                            J Infect   \n",
       "4467                                Journal of Infection   \n",
       "4468                                Journal of Infection   \n",
       "16564                               Diabetes Metab Syndr   \n",
       "16565  Diabetes & Metabolic Syndrome: Clinical Resear...   \n",
       "21299                                                NaN   \n",
       "21300                                              ArXiv   \n",
       "67078                                              ArXiv   \n",
       "67079                                                NaN   \n",
       "63590                                                NaN   \n",
       "63591                                            bioRxiv   \n",
       "28159                                              ArXiv   \n",
       "28160                                                NaN   \n",
       "60796                                            bioRxiv   \n",
       "60797                                                NaN   \n",
       "71596                                            bioRxiv   \n",
       "71597                                                NaN   \n",
       "2447                                                 NaN   \n",
       "2448                                               ArXiv   \n",
       "28044                                           J Infect   \n",
       "28045                               Journal of Infection   \n",
       "77204                                              ArXiv   \n",
       "77205                                                NaN   \n",
       "25768                                      Antiviral Res   \n",
       "\n",
       "                                                     url  \\\n",
       "4466   https://doi.org/10.1016/j.jinf.2020.02.019; ht...   \n",
       "4467   https://www.sciencedirect.com/science/article/...   \n",
       "4468   https://api.elsevier.com/content/article/pii/S...   \n",
       "16564  https://www.ncbi.nlm.nih.gov/pmc/articles/PMC7...   \n",
       "16565  https://api.elsevier.com/content/article/pii/S...   \n",
       "21299             https://arxiv.org/pdf/2101.02113v1.pdf   \n",
       "21300      https://www.ncbi.nlm.nih.gov/pubmed/33442559/   \n",
       "67078  https://www.ncbi.nlm.nih.gov/pmc/articles/PMC7...   \n",
       "67079             https://arxiv.org/pdf/2009.10014v1.pdf   \n",
       "63590             https://arxiv.org/pdf/2003.12773v1.pdf   \n",
       "63591          https://doi.org/10.1101/2020.03.24.005702   \n",
       "28159  https://www.ncbi.nlm.nih.gov/pmc/articles/PMC7...   \n",
       "28160             https://arxiv.org/pdf/2009.10018v1.pdf   \n",
       "60796          https://doi.org/10.1101/2020.11.07.372938   \n",
       "60797             https://arxiv.org/pdf/2011.03898v1.pdf   \n",
       "71596          https://doi.org/10.1101/2020.04.12.038158   \n",
       "71597             https://arxiv.org/pdf/2007.13505v1.pdf   \n",
       "2447              https://arxiv.org/pdf/2011.05826v1.pdf   \n",
       "2448       https://www.ncbi.nlm.nih.gov/pubmed/33200083/   \n",
       "28044  https://www.sciencedirect.com/science/article/...   \n",
       "28045  https://api.elsevier.com/content/article/pii/S...   \n",
       "77204  https://www.ncbi.nlm.nih.gov/pmc/articles/PMC7...   \n",
       "77205             https://arxiv.org/pdf/2012.15697v1.pdf   \n",
       "25768  https://doi.org/10.1016/j.antiviral.2020.10486...   \n",
       "\n",
       "                                                software  \n",
       "4466   ['SAS', 'NLIA', 'NLIA', 'SAS', 'SAS', 'NLIA', ...  \n",
       "4467   ['SAS', 'NLIA', 'NLIA', 'SAS', 'SAS', 'NLIA', ...  \n",
       "4468   ['SAS', 'NLIA', 'NLIA', 'SAS', 'SAS', 'NLIA', ...  \n",
       "16564  ['Scopus', 'Google Scholar', 'Scopus', 'Google...  \n",
       "16565  ['Scopus', 'Google Scholar', 'Scopus', 'Google...  \n",
       "21299                             ['Unacast', 'Unacast']  \n",
       "21300                             ['Unacast', 'Unacast']  \n",
       "67078  ['PatchSim', 'Landscan', 'Landscan', 'PatchSim...  \n",
       "67079  ['PatchSim', 'Landscan', 'Landscan', 'PatchSim...  \n",
       "63590  ['nferX', 'nferX', 'Single Cell', 'Drop', 'Sin...  \n",
       "63591  ['nferX', 'nferX', 'Single Cell', 'Drop', 'Sin...  \n",
       "28159  ['Influenza Risk Assessment Tool (IRAT)', 'Pan...  \n",
       "28160  ['Influenza Risk Assessment Tool (IRAT)', 'Pan...  \n",
       "60796       ['ImageJ', 'ImageJ', 'Sterlis®', 'Sterlis®']  \n",
       "60797       ['ImageJ', 'ImageJ', 'Sterlis®', 'Sterlis®']  \n",
       "71596  ['DeepRC', 'DeepRC', 'DeepRC', 'DeepRC', 'Deep...  \n",
       "71597  ['DeepRC', 'DeepRC', 'DeepRC', 'DeepRC', 'Deep...  \n",
       "2447                      ['NYT Tracker', 'NYT Tracker']  \n",
       "2448                      ['NYT Tracker', 'NYT Tracker']  \n",
       "28044  ['MAFFT', 'Epi2Me interface', 'MinION', 'MAFFT...  \n",
       "28045  ['MAFFT', 'Epi2Me interface', 'MinION', 'MAFFT...  \n",
       "77204  ['ntEdit', 'ntEdit', 'ntEdit', 'ntHits', 'ntEd...  \n",
       "77205  ['ntEdit', 'ntEdit', 'ntEdit', 'ntHits', 'ntEd...  \n",
       "25768                     ['GraphPad Prism', 'GraphPad']  "
      ]
     },
     "execution_count": 17,
     "metadata": {},
     "output_type": "execute_result"
    }
   ],
   "source": [
    "x = 0 \n",
    "shared_paper_id_df = pd.DataFrame(columns=['paper_id','doi','title','source_x','license','publish_time','journal','url','software'])\n",
    "while x < paper_id_shared_ids_num:\n",
    "    shared_paper_id_df = shared_paper_id_df.append(collect_rows_of_df(CORD19_CSV, 'paper_id', paper_id_counted.index[x]))\n",
    "    x= x+1\n",
    "shared_paper_id_df"
   ]
  },
  {
   "cell_type": "markdown",
   "metadata": {},
   "source": [
    "Besides software, the paper_id duplicates have variations among all other columns which means that the same paper_id was used for different papers. "
   ]
  },
  {
   "cell_type": "markdown",
   "metadata": {},
   "source": [
    "### Checking the column \"doi\""
   ]
  },
  {
   "cell_type": "markdown",
   "metadata": {},
   "source": [
    "Each paper in this dataset should have an unique doi because duplicates are skewing the analysis and potential outcomes. "
   ]
  },
  {
   "cell_type": "code",
   "execution_count": 18,
   "metadata": {},
   "outputs": [
    {
     "data": {
      "text/plain": [
       "10.1016/j.dsx.2020.04.012          2\n",
       "10.31729/jnma.5498                 2\n",
       "10.1016/j.meegid.2018.05.024       1\n",
       "10.3390/s20113080                  1\n",
       "10.1007/s42532-020-00048-1         1\n",
       "                                  ..\n",
       "10.1016/j.curtheres.2020.100602    1\n",
       "10.31887/dcns.2020.22.2/mmorris    1\n",
       "10.1016/j.vaccine.2011.06.111      1\n",
       "10.3390/ijms12129236               1\n",
       "10.1016/j.jacr.2021.01.013         1\n",
       "Name: doi, Length: 74302, dtype: int64"
      ]
     },
     "execution_count": 18,
     "metadata": {},
     "output_type": "execute_result"
    }
   ],
   "source": [
    "doi_counted = doi.value_counts()\n",
    "doi_counted"
   ]
  },
  {
   "cell_type": "code",
   "execution_count": 19,
   "metadata": {},
   "outputs": [
    {
     "data": {
      "text/plain": [
       "2"
      ]
     },
     "execution_count": 19,
     "metadata": {},
     "output_type": "execute_result"
    }
   ],
   "source": [
    "doi_shared_dois_num = find_shared_values(doi)    \n",
    "doi_shared_dois_num"
   ]
  },
  {
   "cell_type": "markdown",
   "metadata": {},
   "source": [
    "The column \"doi\" contains two entries which share a doi. "
   ]
  },
  {
   "cell_type": "code",
   "execution_count": 20,
   "metadata": {},
   "outputs": [
    {
     "data": {
      "text/plain": [
       "10.1016/j.dsx.2020.04.012    2\n",
       "10.31729/jnma.5498           2\n",
       "Name: doi, dtype: int64"
      ]
     },
     "execution_count": 20,
     "metadata": {},
     "output_type": "execute_result"
    }
   ],
   "source": [
    "doi_counted.head(doi_shared_dois_num)"
   ]
  },
  {
   "cell_type": "markdown",
   "metadata": {},
   "source": [
    "For this, it needs to be explored how the shared dois are in relation to each other based on their row. "
   ]
  },
  {
   "cell_type": "code",
   "execution_count": 21,
   "metadata": {},
   "outputs": [
    {
     "data": {
      "text/html": [
       "<div>\n",
       "<style scoped>\n",
       "    .dataframe tbody tr th:only-of-type {\n",
       "        vertical-align: middle;\n",
       "    }\n",
       "\n",
       "    .dataframe tbody tr th {\n",
       "        vertical-align: top;\n",
       "    }\n",
       "\n",
       "    .dataframe thead th {\n",
       "        text-align: right;\n",
       "    }\n",
       "</style>\n",
       "<table border=\"1\" class=\"dataframe\">\n",
       "  <thead>\n",
       "    <tr style=\"text-align: right;\">\n",
       "      <th></th>\n",
       "      <th>paper_id</th>\n",
       "      <th>doi</th>\n",
       "      <th>title</th>\n",
       "      <th>source_x</th>\n",
       "      <th>license</th>\n",
       "      <th>publish_time</th>\n",
       "      <th>journal</th>\n",
       "      <th>url</th>\n",
       "      <th>software</th>\n",
       "    </tr>\n",
       "  </thead>\n",
       "  <tbody>\n",
       "    <tr>\n",
       "      <th>16564</th>\n",
       "      <td>36e2047d1674c3095617f3eb97f9f61e48989dfe</td>\n",
       "      <td>10.1016/j.dsx.2020.04.012</td>\n",
       "      <td>Artificial Intelligence (AI) applications for ...</td>\n",
       "      <td>PMC</td>\n",
       "      <td>no-cc</td>\n",
       "      <td>2020-04-14</td>\n",
       "      <td>Diabetes Metab Syndr</td>\n",
       "      <td>https://www.ncbi.nlm.nih.gov/pmc/articles/PMC7...</td>\n",
       "      <td>['Scopus', 'Google Scholar', 'Scopus', 'Google...</td>\n",
       "    </tr>\n",
       "    <tr>\n",
       "      <th>16565</th>\n",
       "      <td>36e2047d1674c3095617f3eb97f9f61e48989dfe</td>\n",
       "      <td>10.1016/j.dsx.2020.04.012</td>\n",
       "      <td>Artificial Intelligence (AI) applications for ...</td>\n",
       "      <td>Elsevier</td>\n",
       "      <td>els-covid</td>\n",
       "      <td>2020-08-31</td>\n",
       "      <td>Diabetes &amp; Metabolic Syndrome: Clinical Resear...</td>\n",
       "      <td>https://api.elsevier.com/content/article/pii/S...</td>\n",
       "      <td>['Scopus', 'Google Scholar', 'Scopus', 'Google...</td>\n",
       "    </tr>\n",
       "    <tr>\n",
       "      <th>38600</th>\n",
       "      <td>80273c63683cad57323802542cfdcfcd76c805bf</td>\n",
       "      <td>10.31729/jnma.5498</td>\n",
       "      <td>Mental Wellbeing during the Lockdown Period fo...</td>\n",
       "      <td>PMC</td>\n",
       "      <td>cc-by</td>\n",
       "      <td>2020-10-31</td>\n",
       "      <td>JNMA J Nepal Med Assoc</td>\n",
       "      <td>https://www.ncbi.nlm.nih.gov/pmc/articles/PMC7...</td>\n",
       "      <td>['SPSS']</td>\n",
       "    </tr>\n",
       "    <tr>\n",
       "      <th>42407</th>\n",
       "      <td>8cab7532249cedf3815d4dada6400390a1f8a28a</td>\n",
       "      <td>10.31729/jnma.5498</td>\n",
       "      <td>Interpersonal Violence during the COVID-19 Loc...</td>\n",
       "      <td>PMC</td>\n",
       "      <td>cc-by</td>\n",
       "      <td>2020-10-31</td>\n",
       "      <td>JNMA J Nepal Med Assoc</td>\n",
       "      <td>https://www.ncbi.nlm.nih.gov/pmc/articles/PMC7...</td>\n",
       "      <td>['SPSS', 'WHO']</td>\n",
       "    </tr>\n",
       "  </tbody>\n",
       "</table>\n",
       "</div>"
      ],
      "text/plain": [
       "                                       paper_id                        doi  \\\n",
       "16564  36e2047d1674c3095617f3eb97f9f61e48989dfe  10.1016/j.dsx.2020.04.012   \n",
       "16565  36e2047d1674c3095617f3eb97f9f61e48989dfe  10.1016/j.dsx.2020.04.012   \n",
       "38600  80273c63683cad57323802542cfdcfcd76c805bf         10.31729/jnma.5498   \n",
       "42407  8cab7532249cedf3815d4dada6400390a1f8a28a         10.31729/jnma.5498   \n",
       "\n",
       "                                                   title  source_x    license  \\\n",
       "16564  Artificial Intelligence (AI) applications for ...       PMC      no-cc   \n",
       "16565  Artificial Intelligence (AI) applications for ...  Elsevier  els-covid   \n",
       "38600  Mental Wellbeing during the Lockdown Period fo...       PMC      cc-by   \n",
       "42407  Interpersonal Violence during the COVID-19 Loc...       PMC      cc-by   \n",
       "\n",
       "      publish_time                                            journal  \\\n",
       "16564   2020-04-14                               Diabetes Metab Syndr   \n",
       "16565   2020-08-31  Diabetes & Metabolic Syndrome: Clinical Resear...   \n",
       "38600   2020-10-31                             JNMA J Nepal Med Assoc   \n",
       "42407   2020-10-31                             JNMA J Nepal Med Assoc   \n",
       "\n",
       "                                                     url  \\\n",
       "16564  https://www.ncbi.nlm.nih.gov/pmc/articles/PMC7...   \n",
       "16565  https://api.elsevier.com/content/article/pii/S...   \n",
       "38600  https://www.ncbi.nlm.nih.gov/pmc/articles/PMC7...   \n",
       "42407  https://www.ncbi.nlm.nih.gov/pmc/articles/PMC7...   \n",
       "\n",
       "                                                software  \n",
       "16564  ['Scopus', 'Google Scholar', 'Scopus', 'Google...  \n",
       "16565  ['Scopus', 'Google Scholar', 'Scopus', 'Google...  \n",
       "38600                                           ['SPSS']  \n",
       "42407                                    ['SPSS', 'WHO']  "
      ]
     },
     "execution_count": 21,
     "metadata": {},
     "output_type": "execute_result"
    }
   ],
   "source": [
    "x = 0 \n",
    "shared_doi_df = pd.DataFrame(columns=['paper_id','doi','title','source_x','license','publish_time','journal','url','software'])\n",
    "while x < doi_shared_dois_num:\n",
    "    shared_doi_df  = shared_doi_df.append(collect_rows_of_df(CORD19_CSV, 'doi', doi_counted.index[x]))\n",
    "    x= x+1\n",
    "shared_doi_df"
   ]
  },
  {
   "cell_type": "markdown",
   "metadata": {},
   "source": [
    "The first match of doi is already know for sharing paper_id's. \n",
    "For the shared doi, there is an interesting occurence because the algorihtm which created the dataset outputed two distinct outcomes for the column software. "
   ]
  },
  {
   "cell_type": "markdown",
   "metadata": {},
   "source": [
    "### Checking the column \"title\""
   ]
  },
  {
   "cell_type": "markdown",
   "metadata": {},
   "source": [
    "Next, the column title will be investigated to produce insights. "
   ]
  },
  {
   "cell_type": "code",
   "execution_count": 22,
   "metadata": {},
   "outputs": [
    {
     "data": {
      "text/plain": [
       "Full Issue PDF                                                                                                                                  15\n",
       "Poster Presentations                                                                                                                             8\n",
       "Posters                                                                                                                                          8\n",
       "Poster Sessions                                                                                                                                  7\n",
       "Poster Session Abstracts                                                                                                                         7\n",
       "                                                                                                                                                ..\n",
       "Staying home is NOT ‘staying safe’: A rapid 8‐day online survey on spousal violence against women during the COVID‐19 lockdown in India          1\n",
       "Insights on the trend of the Novel Coronavirus 2019 series in some Small Island Developing States: A Thinning-based Modelling Approach           1\n",
       "Not all cows are epidemiologically equal: quantifying the risks of bovine viral diarrhoea virus (BVDV) transmission through cattle movements     1\n",
       "Racial and Ethnic Disparities in COVID-19: Evidence from Six Large Cities                                                                        1\n",
       "Do EU Member States Care About their Diasporas’ Access to Social Protection? A Comparison of Consular and Diaspora Policies across EU27          1\n",
       "Name: title, Length: 76578, dtype: int64"
      ]
     },
     "execution_count": 22,
     "metadata": {},
     "output_type": "execute_result"
    }
   ],
   "source": [
    "title_counted = title.value_counts()\n",
    "title_counted"
   ]
  },
  {
   "cell_type": "code",
   "execution_count": 23,
   "metadata": {},
   "outputs": [
    {
     "data": {
      "text/plain": [
       "870"
      ]
     },
     "execution_count": 23,
     "metadata": {},
     "output_type": "execute_result"
    }
   ],
   "source": [
    "title_shared_titles_num = find_shared_values(title)    \n",
    "title_shared_titles_num"
   ]
  },
  {
   "cell_type": "markdown",
   "metadata": {},
   "source": [
    "Compared to the other duplicates, there are much more shared titles. "
   ]
  },
  {
   "cell_type": "code",
   "execution_count": 24,
   "metadata": {},
   "outputs": [
    {
     "data": {
      "text/plain": [
       "Full Issue PDF                                                                                  15\n",
       "Poster Presentations                                                                             8\n",
       "Posters                                                                                          8\n",
       "Poster Sessions                                                                                  7\n",
       "Poster Session Abstracts                                                                         7\n",
       "Scientific Abstracts                                                                             6\n",
       "Physicians Poster Sessions                                                                       6\n",
       "Infectieziekten                                                                                  5\n",
       "NEWS                                                                                             5\n",
       "Abstracts cont.                                                                                  5\n",
       "Mitteilungen der Deutschen Gesellschaft für Neurologie                                           5\n",
       "Abstract                                                                                         5\n",
       "Mitteilungen der ÖGKJ                                                                            4\n",
       "Tracing the Origins of Agricultural Products with Barcoded Microbial Spores                      4\n",
       "Virtual Meeting Announcment                                                                      4\n",
       "Computer Network Vulnerabilities                                                                 3\n",
       "Reply                                                                                            3\n",
       "Mitteilungen der DGN                                                                             3\n",
       "Symposium Summaries                                                                              3\n",
       "Oral Abstracts                                                                                   3\n",
       "New approximations, and policy implications, from a delayed dynamic model of a fast pandemic     3\n",
       "Mitteilungen der DGIM                                                                            3\n",
       "Poster                                                                                           3\n",
       "Oral presentations                                                                               3\n",
       "Mitteilungen des BDI                                                                             3\n",
       "Corona, Immissionen und der Verbrennungsmotor                                                    3\n",
       "Highlights From the Current Issue – Audiovisual Summary                                          3\n",
       "Forum                                                                                            3\n",
       "Poster presentations                                                                             3\n",
       "Introduction to Computer Network Vulnerabilities                                                 3\n",
       "Noisy Pooled PCR for Virus Testing                                                               3\n",
       "China                                                                                            3\n",
       "Bildgebende Verfahren: Röntgen, Ultraschall, CT, Nuklearmedizin                                  3\n",
       "Oral Presentations                                                                               3\n",
       "Prediction of repurposed drugs for treating lung injury in COVID-19                              3\n",
       "In Response                                                                                      3\n",
       "ISAR News                                                                                        3\n",
       "Infektionen                                                                                      3\n",
       "Report                                                                                           3\n",
       "Using Morpholinos to Control Gene Expression                                                     3\n",
       "Name: title, dtype: int64"
      ]
     },
     "execution_count": 24,
     "metadata": {},
     "output_type": "execute_result"
    }
   ],
   "source": [
    "if title_shared_titles_num > 20:\n",
    "    head_for_title = 40\n",
    "else:\n",
    "    head_for_title = title_shared_titles_num\n",
    "title_counted.head(head_for_title)"
   ]
  },
  {
   "cell_type": "markdown",
   "metadata": {},
   "source": [
    "The root for such a high amount of title duplicates might be founded by various reasons. At least for this selection, the paper has a poor naming which means that they might be published without a name and got assigned a placeholder. Furthermore, this selection has a weak linkage to COVID related research. Based on the titles, the shown selection contains more none COVID related publications than research in relation to COVID.  "
   ]
  },
  {
   "cell_type": "markdown",
   "metadata": {},
   "source": [
    "The column strings contains words which can be investigated by matching to certain substrings. Therefore, the following function will support the process. "
   ]
  },
  {
   "cell_type": "code",
   "execution_count": 25,
   "metadata": {},
   "outputs": [],
   "source": [
    "def check_column_for_string(df, col, st):\n",
    "    \"\"\"Function which checks matches of substrings in the whole column and returns a dataframe containing substring matches\n",
    "    \"\"\"\n",
    "    df_match = df.loc[df[col].str.contains(st, case=False)]\n",
    "    return df_match"
   ]
  },
  {
   "cell_type": "markdown",
   "metadata": {},
   "source": [
    "To inspect the density of COVID related publications, the column title will be checked for common words: "
   ]
  },
  {
   "cell_type": "markdown",
   "metadata": {},
   "source": [
    "<ul>\n",
    "  <li>Covid</li>\n",
    "  <li>Corona</li>\n",
    "  <li>Lockdown</li>\n",
    "  <li>SARS</li>\n",
    "</ul>"
   ]
  },
  {
   "cell_type": "code",
   "execution_count": 26,
   "metadata": {},
   "outputs": [],
   "source": [
    "matched_df_covid = check_column_for_string(CORD19_CSV, 'title', 'covid')\n",
    "matched_df_corona = check_column_for_string(CORD19_CSV, 'title', 'corona')\n",
    "matched_df_lockdown = check_column_for_string(CORD19_CSV, 'title', 'lockdown')\n",
    "matched_df_sars = check_column_for_string(CORD19_CSV, 'title', 'sars')"
   ]
  },
  {
   "cell_type": "code",
   "execution_count": 27,
   "metadata": {},
   "outputs": [
    {
     "data": {
      "text/plain": [
       "40233"
      ]
     },
     "execution_count": 27,
     "metadata": {},
     "output_type": "execute_result"
    }
   ],
   "source": [
    "sum_covid_related = len(matched_df_covid) + len(matched_df_corona) + len(matched_df_lockdown) + len(matched_df_sars)\n",
    "sum_covid_related"
   ]
  },
  {
   "cell_type": "markdown",
   "metadata": {},
   "source": [
    "The sum may contain an overlap of the checked substrings which needs to be deducted. "
   ]
  },
  {
   "cell_type": "code",
   "execution_count": 28,
   "metadata": {},
   "outputs": [
    {
     "data": {
      "text/plain": [
       "30982"
      ]
     },
     "execution_count": 28,
     "metadata": {},
     "output_type": "execute_result"
    }
   ],
   "source": [
    "matched_df_covid_medical = matched_df_covid.append(matched_df_corona)\n",
    "matched_df_covid_medical.append(matched_df_lockdown)\n",
    "matched_df_covid_medical.append(matched_df_sars)\n",
    "matched_df_covid_medical_len = len(matched_df_covid_medical)\n",
    "matched_df_covid_medical_len"
   ]
  },
  {
   "cell_type": "markdown",
   "metadata": {},
   "source": [
    "Furthermore, it is interesting to see the percentage of publications of the CORD19 dataset which match to the choosen terms. "
   ]
  },
  {
   "cell_type": "code",
   "execution_count": 29,
   "metadata": {},
   "outputs": [
    {
     "data": {
      "text/plain": [
       "0.4000361532899494"
      ]
     },
     "execution_count": 29,
     "metadata": {},
     "output_type": "execute_result"
    }
   ],
   "source": [
    "match_ratio = matched_df_covid_medical_len/len(CORD19_CSV)\n",
    "match_ratio"
   ]
  },
  {
   "cell_type": "markdown",
   "metadata": {},
   "source": [
    "To inspect potential effects of COVID to the society, the column title will be checked additional words:"
   ]
  },
  {
   "cell_type": "markdown",
   "metadata": {},
   "source": [
    "<ul>\n",
    "  <li>Economic</li>\n",
    "  <li>Social</li>\n",
    "</ul>"
   ]
  },
  {
   "cell_type": "code",
   "execution_count": 30,
   "metadata": {},
   "outputs": [],
   "source": [
    "matched_df_economic = check_column_for_string(CORD19_CSV, 'title', 'economic')\n",
    "matched_df_social = check_column_for_string(CORD19_CSV, 'title', 'social')"
   ]
  },
  {
   "cell_type": "code",
   "execution_count": 31,
   "metadata": {},
   "outputs": [
    {
     "data": {
      "text/plain": [
       "465"
      ]
     },
     "execution_count": 31,
     "metadata": {},
     "output_type": "execute_result"
    }
   ],
   "source": [
    "len(matched_df_economic)"
   ]
  },
  {
   "cell_type": "code",
   "execution_count": 32,
   "metadata": {},
   "outputs": [
    {
     "data": {
      "text/plain": [
       "1542"
      ]
     },
     "execution_count": 32,
     "metadata": {},
     "output_type": "execute_result"
    }
   ],
   "source": [
    "len(matched_df_social)"
   ]
  },
  {
   "cell_type": "code",
   "execution_count": 33,
   "metadata": {},
   "outputs": [
    {
     "data": {
      "text/plain": [
       "3.3161290322580643"
      ]
     },
     "execution_count": 33,
     "metadata": {},
     "output_type": "execute_result"
    }
   ],
   "source": [
    "len(matched_df_social)/len(matched_df_economic)"
   ]
  },
  {
   "cell_type": "markdown",
   "metadata": {},
   "source": [
    "There might be an overlap between the covid related dataframe and the dataframe addressing covid impacts on the society. "
   ]
  },
  {
   "cell_type": "code",
   "execution_count": 34,
   "metadata": {},
   "outputs": [
    {
     "data": {
      "text/plain": [
       "2007"
      ]
     },
     "execution_count": 34,
     "metadata": {},
     "output_type": "execute_result"
    }
   ],
   "source": [
    "matched_df_society = matched_df_economic.append(matched_df_social)\n",
    "matched_df_society_len = len(matched_df_society) \n",
    "matched_df_society_len"
   ]
  },
  {
   "cell_type": "markdown",
   "metadata": {},
   "source": [
    "Compared to the size of the dataset, potential covid impacts on the society are more researched and published. "
   ]
  },
  {
   "cell_type": "code",
   "execution_count": 35,
   "metadata": {},
   "outputs": [
    {
     "data": {
      "text/plain": [
       "0"
      ]
     },
     "execution_count": 35,
     "metadata": {},
     "output_type": "execute_result"
    }
   ],
   "source": [
    "combined_df_fields = matched_df_society.append(matched_df_covid_medical)\n",
    "dif_len_fields = len(matched_df_covid_medical) + len(matched_df_society) - len(combined_df_fields) \n",
    "dif_len_fields"
   ]
  },
  {
   "cell_type": "markdown",
   "metadata": {},
   "source": [
    "The both set up fields do not have any overlap. Consequently, it is possible that the society field is not linked to COVID related subjects and investigates distant fields. "
   ]
  },
  {
   "cell_type": "markdown",
   "metadata": {},
   "source": [
    "### Checking the column \"source_x\""
   ]
  },
  {
   "cell_type": "markdown",
   "metadata": {},
   "source": [
    "For publishing purposes, the source of the papers will be inspected."
   ]
  },
  {
   "cell_type": "code",
   "execution_count": 36,
   "metadata": {},
   "outputs": [
    {
     "data": {
      "text/plain": [
       "Medline; PMC                           32777\n",
       "Elsevier; Medline; PMC                 15500\n",
       "PMC                                    15103\n",
       "MedRxiv; WHO                            4760\n",
       "ArXiv                                   3115\n",
       "Elsevier; PMC                           1831\n",
       "BioRxiv; WHO                            1252\n",
       "BioRxiv                                  796\n",
       "MedRxiv                                  367\n",
       "MedRxiv; Medline; PMC; WHO               331\n",
       "Medline; PMC; WHO                        285\n",
       "BioRxiv; Medline; PMC; WHO               278\n",
       "MedRxiv; Medline; WHO                    152\n",
       "BioRxiv; MedRxiv                         149\n",
       "BioRxiv; Medline; WHO                    145\n",
       "Elsevier                                 135\n",
       "ArXiv; Medline; PMC                      123\n",
       "Elsevier; Medline; PMC; WHO              115\n",
       "ArXiv; Elsevier; Medline; PMC             62\n",
       "BioRxiv; MedRxiv; WHO                     51\n",
       "BioRxiv; Medline; PMC                     27\n",
       "ArXiv; Medline                            23\n",
       "BioRxiv; Medline                          13\n",
       "MedRxiv; Medline; PMC                     11\n",
       "ArXiv; PMC                                 8\n",
       "PMC; WHO                                   7\n",
       "Elsevier; Medline                          6\n",
       "BioRxiv; MedRxiv; Medline; WHO             6\n",
       "ArXiv; Elsevier; PMC                       5\n",
       "ArXiv; Elsevier                            3\n",
       "BioRxiv; MedRxiv; Medline; PMC             3\n",
       "BioRxiv; MedRxiv; Medline; PMC; WHO        3\n",
       "Elsevier; PMC; WHO                         2\n",
       "MedRxiv; Medline                           2\n",
       "BioRxiv; MedRxiv; Medline                  1\n",
       "ArXiv; Elsevier; Medline; PMC; WHO         1\n",
       "Name: source_x, dtype: int64"
      ]
     },
     "execution_count": 36,
     "metadata": {},
     "output_type": "execute_result"
    }
   ],
   "source": [
    "source_x_counted = source_x.value_counts()\n",
    "source_x_counted"
   ]
  },
  {
   "cell_type": "markdown",
   "metadata": {},
   "source": [
    "Most of the publications have various  and shared publishers."
   ]
  },
  {
   "cell_type": "code",
   "execution_count": 37,
   "metadata": {},
   "outputs": [],
   "source": [
    "len_source_x_counted = len(source_x_counted)"
   ]
  },
  {
   "cell_type": "markdown",
   "metadata": {},
   "source": [
    "Thusly, it needs to be considered which sources are responsible for the most publications. "
   ]
  },
  {
   "cell_type": "code",
   "execution_count": 38,
   "metadata": {},
   "outputs": [
    {
     "data": {
      "text/plain": [
       "Medline PMC                        32777\n",
       "Elsevier Medline PMC               15500\n",
       "PMC                                15103\n",
       "MedRxiv WHO                         4760\n",
       "ArXiv                               3115\n",
       "Elsevier PMC                        1831\n",
       "BioRxiv WHO                         1252\n",
       "BioRxiv                              796\n",
       "MedRxiv                              367\n",
       "MedRxiv Medline PMC WHO              331\n",
       "Medline PMC WHO                      285\n",
       "BioRxiv Medline PMC WHO              278\n",
       "MedRxiv Medline WHO                  152\n",
       "BioRxiv MedRxiv                      149\n",
       "BioRxiv Medline WHO                  145\n",
       "Elsevier                             135\n",
       "ArXiv Medline PMC                    123\n",
       "Elsevier Medline PMC WHO             115\n",
       "ArXiv Elsevier Medline PMC            62\n",
       "BioRxiv MedRxiv WHO                   51\n",
       "BioRxiv Medline PMC                   27\n",
       "ArXiv Medline                         23\n",
       "BioRxiv Medline                       13\n",
       "MedRxiv Medline PMC                   11\n",
       "ArXiv PMC                              8\n",
       "PMC WHO                                7\n",
       "Elsevier Medline                       6\n",
       "BioRxiv MedRxiv Medline WHO            6\n",
       "ArXiv Elsevier PMC                     5\n",
       "ArXiv Elsevier                         3\n",
       "BioRxiv MedRxiv Medline PMC            3\n",
       "BioRxiv MedRxiv Medline PMC WHO        3\n",
       "Elsevier PMC WHO                       2\n",
       "MedRxiv Medline                        2\n",
       "BioRxiv MedRxiv Medline                1\n",
       "ArXiv Elsevier Medline PMC WHO         1\n",
       "Name: source_x, dtype: int64"
      ]
     },
     "execution_count": 38,
     "metadata": {},
     "output_type": "execute_result"
    }
   ],
   "source": [
    "i = 0\n",
    "while i < len_source_x_counted:\n",
    "    source_x_counted.index.values[i] = source_x_counted.index.values[i].replace(';', '')\n",
    "    i= i+1\n",
    "source_x_counted"
   ]
  },
  {
   "cell_type": "code",
   "execution_count": 39,
   "metadata": {},
   "outputs": [
    {
     "data": {
      "text/html": [
       "<div>\n",
       "<style scoped>\n",
       "    .dataframe tbody tr th:only-of-type {\n",
       "        vertical-align: middle;\n",
       "    }\n",
       "\n",
       "    .dataframe tbody tr th {\n",
       "        vertical-align: top;\n",
       "    }\n",
       "\n",
       "    .dataframe thead th {\n",
       "        text-align: right;\n",
       "    }\n",
       "</style>\n",
       "<table border=\"1\" class=\"dataframe\">\n",
       "  <thead>\n",
       "    <tr style=\"text-align: right;\">\n",
       "      <th></th>\n",
       "      <th>source_x</th>\n",
       "      <th>counts</th>\n",
       "    </tr>\n",
       "  </thead>\n",
       "  <tbody>\n",
       "    <tr>\n",
       "      <th>0</th>\n",
       "      <td>Medline</td>\n",
       "      <td>32777</td>\n",
       "    </tr>\n",
       "    <tr>\n",
       "      <th>1</th>\n",
       "      <td>PMC</td>\n",
       "      <td>32777</td>\n",
       "    </tr>\n",
       "    <tr>\n",
       "      <th>2</th>\n",
       "      <td>Elsevier</td>\n",
       "      <td>15500</td>\n",
       "    </tr>\n",
       "    <tr>\n",
       "      <th>3</th>\n",
       "      <td>Medline</td>\n",
       "      <td>15500</td>\n",
       "    </tr>\n",
       "    <tr>\n",
       "      <th>4</th>\n",
       "      <td>PMC</td>\n",
       "      <td>15500</td>\n",
       "    </tr>\n",
       "    <tr>\n",
       "      <th>...</th>\n",
       "      <td>...</td>\n",
       "      <td>...</td>\n",
       "    </tr>\n",
       "    <tr>\n",
       "      <th>91</th>\n",
       "      <td>ArXiv</td>\n",
       "      <td>1</td>\n",
       "    </tr>\n",
       "    <tr>\n",
       "      <th>92</th>\n",
       "      <td>Elsevier</td>\n",
       "      <td>1</td>\n",
       "    </tr>\n",
       "    <tr>\n",
       "      <th>93</th>\n",
       "      <td>Medline</td>\n",
       "      <td>1</td>\n",
       "    </tr>\n",
       "    <tr>\n",
       "      <th>94</th>\n",
       "      <td>PMC</td>\n",
       "      <td>1</td>\n",
       "    </tr>\n",
       "    <tr>\n",
       "      <th>95</th>\n",
       "      <td>WHO</td>\n",
       "      <td>1</td>\n",
       "    </tr>\n",
       "  </tbody>\n",
       "</table>\n",
       "<p>96 rows × 2 columns</p>\n",
       "</div>"
      ],
      "text/plain": [
       "    source_x counts\n",
       "0    Medline  32777\n",
       "1        PMC  32777\n",
       "2   Elsevier  15500\n",
       "3    Medline  15500\n",
       "4        PMC  15500\n",
       "..       ...    ...\n",
       "91     ArXiv      1\n",
       "92  Elsevier      1\n",
       "93   Medline      1\n",
       "94       PMC      1\n",
       "95       WHO      1\n",
       "\n",
       "[96 rows x 2 columns]"
      ]
     },
     "execution_count": 39,
     "metadata": {},
     "output_type": "execute_result"
    }
   ],
   "source": [
    "i = 0\n",
    "df_source_holder = pd.DataFrame(columns=['source_x','counts'])\n",
    "while i < len_source_x_counted:\n",
    "    helper = source_x_counted.index[i].split()\n",
    "    for x in helper:\n",
    "        data = {'source_x': x, 'counts': source_x_counted[i]}\n",
    "        df_source_holder = df_source_holder.append(pd.DataFrame([data]))\n",
    "    i = i + 1\n",
    "\n",
    "df_source_holder = df_source_holder.reset_index()\n",
    "df_source_holder = df_source_holder.drop(labels=[\"index\"], axis=1)\n",
    "df_source_holder"
   ]
  },
  {
   "cell_type": "markdown",
   "metadata": {},
   "source": [
    "The dataframe above contains the counts per each source which must be summed up properly."
   ]
  },
  {
   "cell_type": "code",
   "execution_count": 40,
   "metadata": {},
   "outputs": [],
   "source": [
    "len_df_source_holder = len(df_source_holder)\n",
    "sources_series = df_source_holder['source_x'].value_counts()\n",
    "len_sources_series = len(sources_series.index)\n",
    "\n",
    "df_total_counts_source_x  = pd.DataFrame(columns=['total_counts'], index = sources_series.index )\n",
    "df_total_counts_source_x ['total_counts'] = 0\n",
    "\n",
    "i = 0\n",
    "while i < len_sources_series :\n",
    "    x = 0\n",
    "    while x < len_df_source_holder:\n",
    "        if df_source_holder['source_x'][x] == sources_series.index[i]:\n",
    "            df_total_counts_source_x ['total_counts'][sources_series.index[i]] = df_total_counts_source_x['total_counts'][sources_series.index[i]] + df_source_holder['counts'][x]\n",
    "        x = x + 1\n",
    "    i = i + 1\n",
    "\n",
    "df_total_counts_source_x_sorted = df_total_counts_source_x.sort_values(by=\"total_counts\", ascending=False)"
   ]
  },
  {
   "cell_type": "code",
   "execution_count": 41,
   "metadata": {},
   "outputs": [
    {
     "data": {
      "text/plain": [
       "77448"
      ]
     },
     "execution_count": 41,
     "metadata": {},
     "output_type": "execute_result"
    }
   ],
   "source": [
    "threshold_source_x = len(CORD19_CSV)\n",
    "threshold_source_x"
   ]
  },
  {
   "cell_type": "code",
   "execution_count": 42,
   "metadata": {},
   "outputs": [
    {
     "data": {
      "image/png": "[encoded data removed]",
      "text/plain": [
       "<Figure size 432x288 with 1 Axes>"
      ]
     },
     "metadata": {
      "needs_background": "light"
     },
     "output_type": "display_data"
    }
   ],
   "source": [
    "x = df_total_counts_source_x_sorted.index\n",
    "y = df_total_counts_source_x_sorted['total_counts'].values\n",
    "\n",
    "plt.bar(x,y)\n",
    "plt.axhline(y=len(CORD19_CSV), linewidth=2,linestyle='--', color='r')\n",
    "\n",
    "\n",
    "total_publications, = plt.plot(len(CORD19_CSV), label='Total publications', linestyle='--', color='red')\n",
    "plt.legend(bbox_to_anchor=(1.05, 1), loc=2, borderaxespad=0.)\n",
    "\n",
    "plt.title(\"Accumulated count of sources\")\n",
    "plt.xlabel(\"Name of sources\")\n",
    "plt.ylabel(\"Count\")\n",
    "plt.show()"
   ]
  },
  {
   "cell_type": "markdown",
   "metadata": {},
   "source": [
    "In overall, PMC and Medline participate mostly as a source within this dataset. It is important to obey that several sources can contribute to one publication. "
   ]
  },
  {
   "cell_type": "markdown",
   "metadata": {},
   "source": [
    "### Checking the column \"license\""
   ]
  },
  {
   "cell_type": "markdown",
   "metadata": {},
   "source": [
    "For the column license, it might be interesting to create an overview about all used licenses. "
   ]
  },
  {
   "cell_type": "code",
   "execution_count": 43,
   "metadata": {},
   "outputs": [
    {
     "data": {
      "text/plain": [
       "no-cc          29395\n",
       "cc-by          23384\n",
       "els-covid       7374\n",
       "medrxiv         5401\n",
       "arxiv           3141\n",
       "cc-by-nc        2947\n",
       "biorxiv         2325\n",
       "cc-by-nc-nd     1860\n",
       "green-oa         385\n",
       "bronze-oa        352\n",
       "cc-by-nc-sa      349\n",
       "cc0              312\n",
       "cc-by-nd         130\n",
       "hybrid-oa         71\n",
       "gold-oa           20\n",
       "cc-by-sa           2\n",
       "Name: license, dtype: int64"
      ]
     },
     "execution_count": 43,
     "metadata": {},
     "output_type": "execute_result"
    }
   ],
   "source": [
    "license_counted = license.value_counts()\n",
    "license_counted"
   ]
  },
  {
   "cell_type": "markdown",
   "metadata": {},
   "source": [
    "For the publications, there are several licenses used. "
   ]
  },
  {
   "cell_type": "markdown",
   "metadata": {},
   "source": [
    "### Checking the column \"publish_time\""
   ]
  },
  {
   "cell_type": "markdown",
   "metadata": {},
   "source": [
    "For the column publish_time, it might be interesting to see during which periods most of the research was published. "
   ]
  },
  {
   "cell_type": "code",
   "execution_count": 44,
   "metadata": {},
   "outputs": [
    {
     "data": {
      "text/plain": [
       "2020-12-31    362\n",
       "2020-09-30    346\n",
       "2021-01-06    329\n",
       "2020-09-18    327\n",
       "2020-05-26    310\n",
       "             ... \n",
       "2010-10-22      1\n",
       "2018-11-11      1\n",
       "2008-07-13      1\n",
       "2010-11-27      1\n",
       "2012-12-22      1\n",
       "Name: publish_time, Length: 5599, dtype: int64"
      ]
     },
     "execution_count": 44,
     "metadata": {},
     "output_type": "execute_result"
    }
   ],
   "source": [
    "publish_time_counted = publish_time.value_counts()\n",
    "publish_time_counted"
   ]
  },
  {
   "cell_type": "markdown",
   "metadata": {},
   "source": [
    "Due to the given dates, it can be obtained that there is research published prior to COVID-19. For plotting purposes, the data is transformed into a dataframe. "
   ]
  },
  {
   "cell_type": "code",
   "execution_count": 45,
   "metadata": {},
   "outputs": [
    {
     "data": {
      "text/html": [
       "<div>\n",
       "<style scoped>\n",
       "    .dataframe tbody tr th:only-of-type {\n",
       "        vertical-align: middle;\n",
       "    }\n",
       "\n",
       "    .dataframe tbody tr th {\n",
       "        vertical-align: top;\n",
       "    }\n",
       "\n",
       "    .dataframe thead th {\n",
       "        text-align: right;\n",
       "    }\n",
       "</style>\n",
       "<table border=\"1\" class=\"dataframe\">\n",
       "  <thead>\n",
       "    <tr style=\"text-align: right;\">\n",
       "      <th></th>\n",
       "      <th>publish_time</th>\n",
       "      <th>count</th>\n",
       "    </tr>\n",
       "  </thead>\n",
       "  <tbody>\n",
       "    <tr>\n",
       "      <th>4736</th>\n",
       "      <td>1962-09-01</td>\n",
       "      <td>1</td>\n",
       "    </tr>\n",
       "    <tr>\n",
       "      <th>4535</th>\n",
       "      <td>1964-01-01</td>\n",
       "      <td>1</td>\n",
       "    </tr>\n",
       "    <tr>\n",
       "      <th>4712</th>\n",
       "      <td>1964-02-01</td>\n",
       "      <td>1</td>\n",
       "    </tr>\n",
       "    <tr>\n",
       "      <th>5162</th>\n",
       "      <td>1968-07-01</td>\n",
       "      <td>1</td>\n",
       "    </tr>\n",
       "    <tr>\n",
       "      <th>4068</th>\n",
       "      <td>1970-01-01</td>\n",
       "      <td>2</td>\n",
       "    </tr>\n",
       "    <tr>\n",
       "      <th>...</th>\n",
       "      <td>...</td>\n",
       "      <td>...</td>\n",
       "    </tr>\n",
       "    <tr>\n",
       "      <th>4621</th>\n",
       "      <td>2021-06-15</td>\n",
       "      <td>1</td>\n",
       "    </tr>\n",
       "    <tr>\n",
       "      <th>2445</th>\n",
       "      <td>2021-06-30</td>\n",
       "      <td>4</td>\n",
       "    </tr>\n",
       "    <tr>\n",
       "      <th>4011</th>\n",
       "      <td>2021-07-13</td>\n",
       "      <td>2</td>\n",
       "    </tr>\n",
       "    <tr>\n",
       "      <th>2977</th>\n",
       "      <td>2021-11-30</td>\n",
       "      <td>3</td>\n",
       "    </tr>\n",
       "    <tr>\n",
       "      <th>2066</th>\n",
       "      <td>2021-12-31</td>\n",
       "      <td>5</td>\n",
       "    </tr>\n",
       "  </tbody>\n",
       "</table>\n",
       "<p>5599 rows × 2 columns</p>\n",
       "</div>"
      ],
      "text/plain": [
       "     publish_time  count\n",
       "4736   1962-09-01      1\n",
       "4535   1964-01-01      1\n",
       "4712   1964-02-01      1\n",
       "5162   1968-07-01      1\n",
       "4068   1970-01-01      2\n",
       "...           ...    ...\n",
       "4621   2021-06-15      1\n",
       "2445   2021-06-30      4\n",
       "4011   2021-07-13      2\n",
       "2977   2021-11-30      3\n",
       "2066   2021-12-31      5\n",
       "\n",
       "[5599 rows x 2 columns]"
      ]
     },
     "execution_count": 45,
     "metadata": {},
     "output_type": "execute_result"
    }
   ],
   "source": [
    "df_publish_time_counted = pd.DataFrame(columns=['publish_time', 'count'])\n",
    "df_publish_time_counted['publish_time']= publish_time_counted.index\n",
    "df_publish_time_counted['count']= publish_time_counted.values\n",
    "df_publish_time_counted.sort_values(by=['publish_time'])"
   ]
  },
  {
   "cell_type": "code",
   "execution_count": 46,
   "metadata": {},
   "outputs": [
    {
     "data": {
      "text/html": [
       "<div>\n",
       "<style scoped>\n",
       "    .dataframe tbody tr th:only-of-type {\n",
       "        vertical-align: middle;\n",
       "    }\n",
       "\n",
       "    .dataframe tbody tr th {\n",
       "        vertical-align: top;\n",
       "    }\n",
       "\n",
       "    .dataframe thead th {\n",
       "        text-align: right;\n",
       "    }\n",
       "</style>\n",
       "<table border=\"1\" class=\"dataframe\">\n",
       "  <thead>\n",
       "    <tr style=\"text-align: right;\">\n",
       "      <th></th>\n",
       "      <th>publish_time</th>\n",
       "      <th>count</th>\n",
       "    </tr>\n",
       "  </thead>\n",
       "  <tbody>\n",
       "    <tr>\n",
       "      <th>4736</th>\n",
       "      <td>1962-09-01</td>\n",
       "      <td>1</td>\n",
       "    </tr>\n",
       "    <tr>\n",
       "      <th>4535</th>\n",
       "      <td>1964-01-01</td>\n",
       "      <td>1</td>\n",
       "    </tr>\n",
       "    <tr>\n",
       "      <th>4712</th>\n",
       "      <td>1964-02-01</td>\n",
       "      <td>1</td>\n",
       "    </tr>\n",
       "    <tr>\n",
       "      <th>5162</th>\n",
       "      <td>1968-07-01</td>\n",
       "      <td>1</td>\n",
       "    </tr>\n",
       "    <tr>\n",
       "      <th>4068</th>\n",
       "      <td>1970-01-01</td>\n",
       "      <td>2</td>\n",
       "    </tr>\n",
       "    <tr>\n",
       "      <th>...</th>\n",
       "      <td>...</td>\n",
       "      <td>...</td>\n",
       "    </tr>\n",
       "    <tr>\n",
       "      <th>4621</th>\n",
       "      <td>2021-06-15</td>\n",
       "      <td>1</td>\n",
       "    </tr>\n",
       "    <tr>\n",
       "      <th>2445</th>\n",
       "      <td>2021-06-30</td>\n",
       "      <td>4</td>\n",
       "    </tr>\n",
       "    <tr>\n",
       "      <th>4011</th>\n",
       "      <td>2021-07-13</td>\n",
       "      <td>2</td>\n",
       "    </tr>\n",
       "    <tr>\n",
       "      <th>2977</th>\n",
       "      <td>2021-11-30</td>\n",
       "      <td>3</td>\n",
       "    </tr>\n",
       "    <tr>\n",
       "      <th>2066</th>\n",
       "      <td>2021-12-31</td>\n",
       "      <td>5</td>\n",
       "    </tr>\n",
       "  </tbody>\n",
       "</table>\n",
       "<p>5599 rows × 2 columns</p>\n",
       "</div>"
      ],
      "text/plain": [
       "     publish_time  count\n",
       "4736   1962-09-01      1\n",
       "4535   1964-01-01      1\n",
       "4712   1964-02-01      1\n",
       "5162   1968-07-01      1\n",
       "4068   1970-01-01      2\n",
       "...           ...    ...\n",
       "4621   2021-06-15      1\n",
       "2445   2021-06-30      4\n",
       "4011   2021-07-13      2\n",
       "2977   2021-11-30      3\n",
       "2066   2021-12-31      5\n",
       "\n",
       "[5599 rows x 2 columns]"
      ]
     },
     "execution_count": 46,
     "metadata": {},
     "output_type": "execute_result"
    }
   ],
   "source": [
    "test_def = df_publish_time_counted.sort_values(by=['publish_time'])\n",
    "test_def"
   ]
  },
  {
   "cell_type": "markdown",
   "metadata": {},
   "source": [
    "To distinguish research between COVID-related and non-COVID-related publications, two timestamps are set. For COVID-related research, publish dates after 2019/12/31 are taken into account. Whereas, publish dates for non-COVID-related research investigates publications before 2020/1/1. "
   ]
  },
  {
   "cell_type": "code",
   "execution_count": 47,
   "metadata": {},
   "outputs": [],
   "source": [
    "date_before_2020 = pd.Timestamp(2020, 1, 1)\n",
    "date_after_2020 = pd.Timestamp(2019, 12, 31)\n",
    "df_before_2020 = CORD19_CSV[CORD19_CSV['publish_time'] < date_before_2020]\n",
    "df_after_2020 = CORD19_CSV[CORD19_CSV['publish_time'] > date_after_2020]"
   ]
  },
  {
   "cell_type": "markdown",
   "metadata": {},
   "source": [
    "To see which periods have more publications, the length of the corresponding dataframe is shown. "
   ]
  },
  {
   "cell_type": "markdown",
   "metadata": {},
   "source": [
    "As a result, most of the publications are published after 2019/31/12 which means that the dataset contains mostly research linked to COVID-19. Nevertheless, there is an considerable amount of publications before COVID-19."
   ]
  },
  {
   "cell_type": "code",
   "execution_count": 48,
   "metadata": {},
   "outputs": [],
   "source": [
    "count_before_2020 = len(df_before_2020)"
   ]
  },
  {
   "cell_type": "code",
   "execution_count": 49,
   "metadata": {},
   "outputs": [],
   "source": [
    "count_after_2020 = len(df_after_2020)"
   ]
  },
  {
   "cell_type": "code",
   "execution_count": 50,
   "metadata": {},
   "outputs": [
    {
     "data": {
      "image/png": "[encoded data removed]",
      "text/plain": [
       "<Figure size 432x288 with 1 Axes>"
      ]
     },
     "metadata": {},
     "output_type": "display_data"
    }
   ],
   "source": [
    "y = np.array([count_before_2020, count_after_2020])\n",
    "\n",
    "plt.title(\"Dominance of COVID19 on the dataset\")\n",
    "pie_labels = [\"before 2020/01/01 - \" + str(count_before_2020) + \" entries \\n\" + str(round(count_before_2020/len(CORD19_CSV)*100, 2)) + \"%\",\n",
    "              \"after 2019/12/31 - \" + str(count_after_2020) + \" entries \\n\" + str(round(count_after_2020/len(CORD19_CSV)*100, 2)) + \"%\"]\n",
    "plt.pie(y, labels = pie_labels)\n",
    "plt.show() "
   ]
  },
  {
   "cell_type": "markdown",
   "metadata": {},
   "source": [
    "For this, all publication dates are shown within the next plot."
   ]
  },
  {
   "cell_type": "code",
   "execution_count": 51,
   "metadata": {},
   "outputs": [
    {
     "data": {
      "image/png": "[encoded data removed]",
      "text/plain": [
       "<Figure size 432x288 with 1 Axes>"
      ]
     },
     "metadata": {
      "needs_background": "light"
     },
     "output_type": "display_data"
    }
   ],
   "source": [
    "df_publish_time_counted.plot(x ='publish_time', y='count', kind = 'line')\n",
    "plt.title(\"Publish period of the CORD19 dataset\")\n",
    "plt.xlabel(\"Year\")\n",
    "plt.ylabel(\"Count\")\n",
    "plt.show()"
   ]
  },
  {
   "cell_type": "markdown",
   "metadata": {},
   "source": [
    "Due to this plot, several observations are created. "
   ]
  },
  {
   "cell_type": "markdown",
   "metadata": {},
   "source": [
    "<ul>\n",
    "  <li>The publications are starting from the 1960s which means that there were already other SARS-viruses under the investigation of researchers. </li>\n",
    "  <li>The plot shows four swings with an varying extent. \n",
    "      Therefore, the four major swings can be affiliated with corresponding SARS-pandemics. \n",
    "  <ol>\n",
    "      <li>~1995 </li>\n",
    "      <li>~2001</li>\n",
    "      <li>2005-2010</li>\n",
    "      <li>2020</li>\n",
    "  </ol>\n",
    "  </li>\n",
    "  <li>The extent of the swings seem to have a relationship accordingly to the impact of the occuring pandemic. More widespread and global SARS outbreaks seem to reflect with a high count of publications. Whereas, regional and smaller outbreaks are refelected with less publications. </li>\n",
    "</ul>"
   ]
  },
  {
   "cell_type": "markdown",
   "metadata": {},
   "source": [
    "For further investigation, the next plot will be target the last two decades. "
   ]
  },
  {
   "cell_type": "code",
   "execution_count": 52,
   "metadata": {},
   "outputs": [
    {
     "data": {
      "image/png": "[encoded data removed]",
      "text/plain": [
       "<Figure size 432x288 with 1 Axes>"
      ]
     },
     "metadata": {
      "needs_background": "light"
     },
     "output_type": "display_data"
    }
   ],
   "source": [
    "df_publish_time_counted.plot(x ='publish_time', y='count', kind = 'line', xlim=(pd.Timestamp(2000, 1, 1),pd.Timestamp(2022, 1, 1) ))\n",
    "plt.show()"
   ]
  },
  {
   "cell_type": "markdown",
   "metadata": {},
   "source": [
    "In the plot above, two different SARS-outbreak can be seen. In the first decade of this century, the SARS-outbreak seems to had less impact because less research was published. The latest SARS outbreak surpassed previous ones by impact and intensity which can be seen in the next plot. "
   ]
  },
  {
   "cell_type": "code",
   "execution_count": 53,
   "metadata": {},
   "outputs": [
    {
     "data": {
      "image/png": "[encoded data removed]",
      "text/plain": [
       "<Figure size 432x288 with 1 Axes>"
      ]
     },
     "metadata": {
      "needs_background": "light"
     },
     "output_type": "display_data"
    }
   ],
   "source": [
    "df_publish_time_counted.plot(x ='publish_time', y='count', kind = 'line', xlim=(pd.Timestamp(2018, 1, 1),pd.Timestamp(2022, 1, 1) ))\n",
    "plt.show()"
   ]
  },
  {
   "cell_type": "markdown",
   "metadata": {},
   "source": [
    "### Checking the column \"journal\""
   ]
  },
  {
   "cell_type": "markdown",
   "metadata": {},
   "source": [
    "For this inspection, the NaN values of the column journal has to be taken into account. "
   ]
  },
  {
   "cell_type": "code",
   "execution_count": 54,
   "metadata": {},
   "outputs": [
    {
     "data": {
      "text/plain": [
       "60166"
      ]
     },
     "execution_count": 54,
     "metadata": {},
     "output_type": "execute_result"
    }
   ],
   "source": [
    "find_shared_values(journal)"
   ]
  },
  {
   "cell_type": "markdown",
   "metadata": {},
   "source": [
    "Most of the values of the column are shared ones. It is important to know that each row of the dataframe is assigned to one journal or none. Thusly, the distributiont of journals will be investigated. "
   ]
  },
  {
   "cell_type": "code",
   "execution_count": 55,
   "metadata": {},
   "outputs": [
    {
     "data": {
      "text/plain": [
       "bioRxiv                              2726\n",
       "PLoS One                             2268\n",
       "Int J Environ Res Public Health      1154\n",
       "Sci Rep                               957\n",
       "Viruses                               613\n",
       "Virology                              424\n",
       "BMC Infect Dis                        421\n",
       "J Med Virol                           394\n",
       "Arch Virol                            386\n",
       "Emerg Infect Dis                      383\n",
       "PLoS Pathog                           356\n",
       "BMJ Open                              352\n",
       "medRxiv                               344\n",
       "Virol J                               333\n",
       "Front Psychol                         326\n",
       "Clin Infect Dis                       316\n",
       "Computational Science - ICCS 2020     296\n",
       "Int J Mol Sci                         289\n",
       "Front Immunol                         286\n",
       "BMC Public Health                     271\n",
       "Name: journal, dtype: int64"
      ]
     },
     "execution_count": 55,
     "metadata": {},
     "output_type": "execute_result"
    }
   ],
   "source": [
    "journal_counted = journal.value_counts()\n",
    "journal_counted.head(20)"
   ]
  },
  {
   "cell_type": "markdown",
   "metadata": {},
   "source": [
    "Compared to the other columns, the distribution of journals is to this point the most equally. "
   ]
  },
  {
   "cell_type": "markdown",
   "metadata": {},
   "source": [
    "### Checking the column \"url\""
   ]
  },
  {
   "cell_type": "markdown",
   "metadata": {},
   "source": [
    "The column \"url\" will be investigated to see which hostnames and its organisations contribute to which extent to this dataset. "
   ]
  },
  {
   "cell_type": "code",
   "execution_count": 56,
   "metadata": {},
   "outputs": [
    {
     "data": {
      "text/plain": [
       "https://doi.org/10.2527/jas.2008-1755; https://www.ncbi.nlm.nih.gov/pubmed/19966153/                             1\n",
       "https://doi.org/10.1101/2020.09.24.20197293; http://medrxiv.org/cgi/content/short/2020.09.24.20197293v1?rss=1    1\n",
       "http://medrxiv.org/cgi/content/short/2020.06.29.20142562v1?rss=1; https://doi.org/10.1101/2020.06.29.20142562    1\n",
       "https://doi.org/10.1101/2020.06.15.153239                                                                        1\n",
       "https://doi.org/10.1186/s40560-020-00475-y; https://www.ncbi.nlm.nih.gov/pubmed/32834898/                        1\n",
       "                                                                                                                ..\n",
       "https://www.ncbi.nlm.nih.gov/pubmed/33091020/; https://doi.org/10.1371/journal.pone.0240501                      1\n",
       "https://doi.org/10.1017/s095026881400377x; https://www.ncbi.nlm.nih.gov/pubmed/25591619/                         1\n",
       "https://doi.org/10.1017/s0950268818001541; https://www.ncbi.nlm.nih.gov/pubmed/29886854/                         1\n",
       "https://www.ncbi.nlm.nih.gov/pubmed/33006691/; https://doi.org/10.1007/s10096-020-04033-0                        1\n",
       "https://www.ncbi.nlm.nih.gov/pubmed/22280120/; https://doi.org/10.1186/1471-2334-12-26                           1\n",
       "Name: url, Length: 77448, dtype: int64"
      ]
     },
     "execution_count": 56,
     "metadata": {},
     "output_type": "execute_result"
    }
   ],
   "source": [
    "url_counted = url.value_counts()\n",
    "url_counted"
   ]
  },
  {
   "cell_type": "markdown",
   "metadata": {},
   "source": [
    "There are entries that contain more than one url pointing to the publication. \n",
    "Consequently, entries with more than one url are splitted to a series containing one url per tuple. "
   ]
  },
  {
   "cell_type": "code",
   "execution_count": 57,
   "metadata": {},
   "outputs": [
    {
     "name": "stdout",
     "output_type": "stream",
     "text": [
      "Wall time: 9.12 s\n"
     ]
    },
    {
     "data": {
      "text/plain": [
       "['arxiv.org',\n",
       " 'api.elsevier.com',\n",
       " 'www.sciencedirect.com',\n",
       " 'api.elsevier.com',\n",
       " 'doi.org',\n",
       " 'www.sciencedirect.com',\n",
       " 'www.ncbi.nlm.nih.gov',\n",
       " 'www.sciencedirect.com',\n",
       " 'www.ncbi.nlm.nih.gov',\n",
       " 'api.elsevier.com',\n",
       " 'www.ncbi.nlm.nih.gov',\n",
       " 'doi.org',\n",
       " 'doi.org',\n",
       " 'www.ncbi.nlm.nih.gov',\n",
       " 'onlinelibrary.wiley.com',\n",
       " 'www.ncbi.nlm.nih.gov',\n",
       " 'www.ncbi.nlm.nih.gov',\n",
       " 'doi.org',\n",
       " 'www.ncbi.nlm.nih.gov',\n",
       " 'www.ncbi.nlm.nih.gov',\n",
       " 'doi.org',\n",
       " 'www.ncbi.nlm.nih.gov',\n",
       " 'doi.org',\n",
       " 'www.ncbi.nlm.nih.gov',\n",
       " 'www.ncbi.nlm.nih.gov',\n",
       " 'www.ncbi.nlm.nih.gov',\n",
       " 'doi.org',\n",
       " 'www.ncbi.nlm.nih.gov',\n",
       " 'www.sciencedirect.com',\n",
       " 'api.elsevier.com',\n",
       " 'www.ncbi.nlm.nih.gov',\n",
       " 'doi.org',\n",
       " 'doi.org',\n",
       " 'www.ncbi.nlm.nih.gov',\n",
       " 'www.ncbi.nlm.nih.gov',\n",
       " 'arxiv.org',\n",
       " 'www.ncbi.nlm.nih.gov',\n",
       " 'www.ncbi.nlm.nih.gov',\n",
       " 'doi.org',\n",
       " 'www.ncbi.nlm.nih.gov',\n",
       " 'www.ncbi.nlm.nih.gov',\n",
       " 'doi.org',\n",
       " 'www.ncbi.nlm.nih.gov',\n",
       " 'doi.org',\n",
       " 'www.ncbi.nlm.nih.gov',\n",
       " 'arxiv.org',\n",
       " 'www.ncbi.nlm.nih.gov',\n",
       " 'www.ncbi.nlm.nih.gov',\n",
       " 'doi.org',\n",
       " 'www.ncbi.nlm.nih.gov',\n",
       " 'www.ncbi.nlm.nih.gov',\n",
       " 'doi.org',\n",
       " 'api.elsevier.com',\n",
       " 'www.sciencedirect.com',\n",
       " 'doi.org',\n",
       " 'doi.org',\n",
       " 'www.ncbi.nlm.nih.gov',\n",
       " 'api.elsevier.com',\n",
       " 'www.ncbi.nlm.nih.gov',\n",
       " 'doi.org',\n",
       " 'www.sciencedirect.com',\n",
       " 'www.ncbi.nlm.nih.gov',\n",
       " 'www.ncbi.nlm.nih.gov',\n",
       " 'doi.org',\n",
       " 'www.sciencedirect.com',\n",
       " 'api.elsevier.com',\n",
       " 'doi.org',\n",
       " 'www.ncbi.nlm.nih.gov',\n",
       " 'api.elsevier.com',\n",
       " 'www.ncbi.nlm.nih.gov',\n",
       " 'doi.org',\n",
       " 'www.sciencedirect.com',\n",
       " 'www.ncbi.nlm.nih.gov',\n",
       " 'api.elsevier.com',\n",
       " 'www.sciencedirect.com',\n",
       " 'doi.org',\n",
       " 'api.elsevier.com',\n",
       " 'www.ncbi.nlm.nih.gov',\n",
       " 'www.sciencedirect.com',\n",
       " 'www.ncbi.nlm.nih.gov',\n",
       " 'doi.org',\n",
       " 'www.ncbi.nlm.nih.gov',\n",
       " 'doi.org',\n",
       " 'www.ncbi.nlm.nih.gov',\n",
       " 'www.ncbi.nlm.nih.gov',\n",
       " 'www.ncbi.nlm.nih.gov',\n",
       " 'www.ncbi.nlm.nih.gov',\n",
       " 'www.sciencedirect.com',\n",
       " 'api.elsevier.com',\n",
       " 'doi.org',\n",
       " 'www.ncbi.nlm.nih.gov',\n",
       " 'www.ncbi.nlm.nih.gov',\n",
       " 'www.ncbi.nlm.nih.gov',\n",
       " 'www.ncbi.nlm.nih.gov',\n",
       " 'api.elsevier.com',\n",
       " 'www.sciencedirect.com',\n",
       " 'api.elsevier.com',\n",
       " 'www.ncbi.nlm.nih.gov',\n",
       " 'doi.org',\n",
       " 'www.sciencedirect.com',\n",
       " 'doi.org',\n",
       " 'medrxiv.org',\n",
       " 'api.elsevier.com',\n",
       " 'www.ncbi.nlm.nih.gov',\n",
       " 'www.sciencedirect.com',\n",
       " 'doi.org',\n",
       " 'medrxiv.org',\n",
       " 'www.ncbi.nlm.nih.gov',\n",
       " 'doi.org',\n",
       " 'medrxiv.org',\n",
       " 'doi.org',\n",
       " 'doi.org',\n",
       " 'medrxiv.org',\n",
       " 'www.ncbi.nlm.nih.gov',\n",
       " 'www.sciencedirect.com',\n",
       " 'api.elsevier.com',\n",
       " 'www.ncbi.nlm.nih.gov',\n",
       " 'www.ncbi.nlm.nih.gov',\n",
       " 'www.ncbi.nlm.nih.gov',\n",
       " 'doi.org',\n",
       " 'www.ncbi.nlm.nih.gov',\n",
       " 'www.sciencedirect.com',\n",
       " 'api.elsevier.com',\n",
       " 'api.elsevier.com',\n",
       " 'www.ncbi.nlm.nih.gov',\n",
       " 'www.sciencedirect.com',\n",
       " 'doi.org',\n",
       " 'doi.org',\n",
       " 'www.ncbi.nlm.nih.gov',\n",
       " 'api.elsevier.com',\n",
       " 'doi.org',\n",
       " 'www.ncbi.nlm.nih.gov',\n",
       " 'www.sciencedirect.com',\n",
       " 'www.ncbi.nlm.nih.gov',\n",
       " 'doi.org',\n",
       " 'www.ncbi.nlm.nih.gov',\n",
       " 'www.ncbi.nlm.nih.gov',\n",
       " 'doi.org',\n",
       " 'doi.org',\n",
       " 'www.ncbi.nlm.nih.gov',\n",
       " 'doi.org',\n",
       " 'api.elsevier.com',\n",
       " 'www.ncbi.nlm.nih.gov',\n",
       " 'www.sciencedirect.com',\n",
       " 'www.ncbi.nlm.nih.gov',\n",
       " 'doi.org',\n",
       " 'www.ncbi.nlm.nih.gov',\n",
       " 'www.ncbi.nlm.nih.gov',\n",
       " 'www.ncbi.nlm.nih.gov',\n",
       " 'www.ncbi.nlm.nih.gov',\n",
       " 'doi.org',\n",
       " 'www.ncbi.nlm.nih.gov',\n",
       " 'www.ncbi.nlm.nih.gov',\n",
       " 'doi.org',\n",
       " 'www.ncbi.nlm.nih.gov',\n",
       " 'www.ncbi.nlm.nih.gov',\n",
       " 'doi.org',\n",
       " 'arxiv.org',\n",
       " 'arxiv.org',\n",
       " 'doi.org',\n",
       " 'medrxiv.org',\n",
       " 'doi.org',\n",
       " 'medrxiv.org',\n",
       " 'api.elsevier.com',\n",
       " 'www.sciencedirect.com',\n",
       " 'www.ncbi.nlm.nih.gov',\n",
       " 'www.ncbi.nlm.nih.gov',\n",
       " 'www.ncbi.nlm.nih.gov',\n",
       " 'www.sciencedirect.com',\n",
       " 'api.elsevier.com',\n",
       " 'doi.org',\n",
       " 'doi.org',\n",
       " 'doi.org',\n",
       " 'www.ncbi.nlm.nih.gov',\n",
       " 'doi.org',\n",
       " 'www.ncbi.nlm.nih.gov',\n",
       " 'api.elsevier.com',\n",
       " 'www.sciencedirect.com',\n",
       " 'www.sciencedirect.com',\n",
       " 'api.elsevier.com',\n",
       " 'doi.org',\n",
       " 'www.ncbi.nlm.nih.gov',\n",
       " 'www.sciencedirect.com',\n",
       " 'doi.org',\n",
       " 'api.elsevier.com',\n",
       " 'www.ncbi.nlm.nih.gov',\n",
       " 'www.ncbi.nlm.nih.gov',\n",
       " 'www.ncbi.nlm.nih.gov',\n",
       " 'www.ncbi.nlm.nih.gov',\n",
       " 'www.sciencedirect.com',\n",
       " 'www.ncbi.nlm.nih.gov',\n",
       " 'doi.org',\n",
       " 'api.elsevier.com',\n",
       " 'doi.org',\n",
       " 'www.ncbi.nlm.nih.gov',\n",
       " 'www.ncbi.nlm.nih.gov',\n",
       " 'doi.org',\n",
       " 'api.elsevier.com',\n",
       " 'www.sciencedirect.com',\n",
       " 'www.ncbi.nlm.nih.gov',\n",
       " 'doi.org',\n",
       " 'academic.oup.com',\n",
       " 'doi.org',\n",
       " 'www.ncbi.nlm.nih.gov',\n",
       " 'www.ncbi.nlm.nih.gov',\n",
       " 'www.ncbi.nlm.nih.gov',\n",
       " 'www.sciencedirect.com',\n",
       " 'api.elsevier.com',\n",
       " 'www.ncbi.nlm.nih.gov',\n",
       " 'doi.org',\n",
       " 'www.ncbi.nlm.nih.gov',\n",
       " 'www.ncbi.nlm.nih.gov',\n",
       " 'api.elsevier.com',\n",
       " 'doi.org',\n",
       " 'www.sciencedirect.com',\n",
       " 'medrxiv.org',\n",
       " 'doi.org',\n",
       " 'www.ncbi.nlm.nih.gov',\n",
       " 'doi.org',\n",
       " 'doi.org',\n",
       " 'www.ncbi.nlm.nih.gov',\n",
       " 'www.ncbi.nlm.nih.gov',\n",
       " 'www.ncbi.nlm.nih.gov',\n",
       " 'doi.org',\n",
       " 'www.sciencedirect.com',\n",
       " 'doi.org',\n",
       " 'api.elsevier.com',\n",
       " 'www.ncbi.nlm.nih.gov',\n",
       " 'www.ncbi.nlm.nih.gov',\n",
       " 'doi.org',\n",
       " 'doi.org',\n",
       " 'www.ncbi.nlm.nih.gov',\n",
       " 'www.sciencedirect.com',\n",
       " 'api.elsevier.com',\n",
       " 'www.ncbi.nlm.nih.gov',\n",
       " 'www.sciencedirect.com',\n",
       " 'api.elsevier.com',\n",
       " 'doi.org',\n",
       " 'www.ncbi.nlm.nih.gov',\n",
       " 'doi.org',\n",
       " 'medrxiv.org',\n",
       " 'www.ncbi.nlm.nih.gov',\n",
       " 'www.ncbi.nlm.nih.gov',\n",
       " 'api.elsevier.com',\n",
       " 'www.ncbi.nlm.nih.gov',\n",
       " 'doi.org',\n",
       " 'www.sciencedirect.com',\n",
       " 'www.ncbi.nlm.nih.gov',\n",
       " 'doi.org',\n",
       " 'www.ncbi.nlm.nih.gov',\n",
       " 'doi.org',\n",
       " 'doi.org',\n",
       " 'www.ncbi.nlm.nih.gov',\n",
       " 'doi.org',\n",
       " 'doi.org',\n",
       " 'medrxiv.org',\n",
       " 'doi.org',\n",
       " 'www.ncbi.nlm.nih.gov',\n",
       " 'api.elsevier.com',\n",
       " 'www.sciencedirect.com',\n",
       " 'doi.org',\n",
       " 'www.ncbi.nlm.nih.gov',\n",
       " 'www.ncbi.nlm.nih.gov',\n",
       " 'doi.org',\n",
       " 'www.ncbi.nlm.nih.gov',\n",
       " 'www.ncbi.nlm.nih.gov',\n",
       " 'api.elsevier.com',\n",
       " 'doi.org',\n",
       " 'www.sciencedirect.com',\n",
       " 'www.ncbi.nlm.nih.gov',\n",
       " 'doi.org',\n",
       " 'api.elsevier.com',\n",
       " 'www.ncbi.nlm.nih.gov',\n",
       " 'doi.org',\n",
       " 'www.sciencedirect.com',\n",
       " 'doi.org',\n",
       " 'www.ncbi.nlm.nih.gov',\n",
       " 'doi.org',\n",
       " 'www.ncbi.nlm.nih.gov',\n",
       " 'doi.org',\n",
       " 'www.ncbi.nlm.nih.gov',\n",
       " 'www.ncbi.nlm.nih.gov',\n",
       " 'www.ncbi.nlm.nih.gov',\n",
       " 'doi.org',\n",
       " 'www.ncbi.nlm.nih.gov',\n",
       " 'www.ncbi.nlm.nih.gov',\n",
       " 'doi.org',\n",
       " 'arxiv.org',\n",
       " 'www.ncbi.nlm.nih.gov',\n",
       " 'doi.org',\n",
       " 'www.ncbi.nlm.nih.gov',\n",
       " 'www.ncbi.nlm.nih.gov',\n",
       " 'doi.org',\n",
       " 'www.ncbi.nlm.nih.gov',\n",
       " 'www.sciencedirect.com',\n",
       " 'www.ncbi.nlm.nih.gov',\n",
       " 'api.elsevier.com',\n",
       " 'doi.org',\n",
       " 'doi.org',\n",
       " 'www.ncbi.nlm.nih.gov',\n",
       " 'www.ncbi.nlm.nih.gov',\n",
       " 'doi.org',\n",
       " 'www.sciencedirect.com',\n",
       " 'api.elsevier.com',\n",
       " 'doi.org',\n",
       " 'www.ncbi.nlm.nih.gov',\n",
       " 'doi.org',\n",
       " 'www.ncbi.nlm.nih.gov',\n",
       " 'doi.org',\n",
       " 'www.ncbi.nlm.nih.gov',\n",
       " 'www.ncbi.nlm.nih.gov',\n",
       " 'www.ncbi.nlm.nih.gov',\n",
       " 'doi.org',\n",
       " 'www.ncbi.nlm.nih.gov',\n",
       " 'api.elsevier.com',\n",
       " 'www.sciencedirect.com',\n",
       " 'doi.org',\n",
       " 'doi.org',\n",
       " 'www.ncbi.nlm.nih.gov',\n",
       " 'www.ncbi.nlm.nih.gov',\n",
       " 'api.elsevier.com',\n",
       " 'www.sciencedirect.com',\n",
       " 'www.ncbi.nlm.nih.gov',\n",
       " 'www.sciencedirect.com',\n",
       " 'api.elsevier.com',\n",
       " 'www.ncbi.nlm.nih.gov',\n",
       " 'www.ncbi.nlm.nih.gov',\n",
       " 'doi.org',\n",
       " 'www.ncbi.nlm.nih.gov',\n",
       " 'doi.org',\n",
       " 'www.ncbi.nlm.nih.gov',\n",
       " 'www.ncbi.nlm.nih.gov',\n",
       " 'doi.org',\n",
       " 'www.ncbi.nlm.nih.gov',\n",
       " 'doi.org',\n",
       " 'www.ncbi.nlm.nih.gov',\n",
       " 'doi.org',\n",
       " 'www.ncbi.nlm.nih.gov',\n",
       " 'doi.org',\n",
       " 'www.ncbi.nlm.nih.gov',\n",
       " 'www.ncbi.nlm.nih.gov',\n",
       " 'doi.org',\n",
       " 'www.ncbi.nlm.nih.gov',\n",
       " 'www.ncbi.nlm.nih.gov',\n",
       " 'doi.org',\n",
       " 'www.ncbi.nlm.nih.gov',\n",
       " 'www.ncbi.nlm.nih.gov',\n",
       " 'doi.org',\n",
       " 'www.sciencedirect.com',\n",
       " 'doi.org',\n",
       " 'www.ncbi.nlm.nih.gov',\n",
       " 'api.elsevier.com',\n",
       " 'arxiv.org',\n",
       " 'www.ncbi.nlm.nih.gov',\n",
       " 'doi.org',\n",
       " 'www.ncbi.nlm.nih.gov',\n",
       " 'doi.org',\n",
       " 'medrxiv.org',\n",
       " 'doi.org',\n",
       " 'www.ncbi.nlm.nih.gov',\n",
       " 'doi.org',\n",
       " 'www.ncbi.nlm.nih.gov',\n",
       " 'doi.org',\n",
       " 'doi.org',\n",
       " 'www.ncbi.nlm.nih.gov',\n",
       " 'doi.org',\n",
       " 'www.ncbi.nlm.nih.gov',\n",
       " 'www.ncbi.nlm.nih.gov',\n",
       " 'www.ncbi.nlm.nih.gov',\n",
       " 'doi.org',\n",
       " 'www.ncbi.nlm.nih.gov',\n",
       " 'doi.org',\n",
       " 'www.ncbi.nlm.nih.gov',\n",
       " 'www.ncbi.nlm.nih.gov',\n",
       " 'doi.org',\n",
       " 'www.ncbi.nlm.nih.gov',\n",
       " 'doi.org',\n",
       " 'doi.org',\n",
       " 'www.ncbi.nlm.nih.gov',\n",
       " 'doi.org',\n",
       " 'doi.org',\n",
       " 'www.ncbi.nlm.nih.gov',\n",
       " 'doi.org',\n",
       " 'www.ncbi.nlm.nih.gov',\n",
       " 'www.ncbi.nlm.nih.gov',\n",
       " 'www.ncbi.nlm.nih.gov',\n",
       " 'doi.org',\n",
       " 'doi.org',\n",
       " 'doi.org',\n",
       " 'www.sciencedirect.com',\n",
       " 'www.ncbi.nlm.nih.gov',\n",
       " 'api.elsevier.com',\n",
       " 'www.ncbi.nlm.nih.gov',\n",
       " 'doi.org',\n",
       " 'www.ncbi.nlm.nih.gov',\n",
       " 'www.sciencedirect.com',\n",
       " 'api.elsevier.com',\n",
       " 'doi.org',\n",
       " 'www.ncbi.nlm.nih.gov',\n",
       " 'www.ncbi.nlm.nih.gov',\n",
       " 'www.sciencedirect.com',\n",
       " 'doi.org',\n",
       " 'api.elsevier.com',\n",
       " 'www.ncbi.nlm.nih.gov',\n",
       " 'doi.org',\n",
       " 'www.ncbi.nlm.nih.gov',\n",
       " 'doi.org',\n",
       " 'www.ncbi.nlm.nih.gov',\n",
       " 'www.ncbi.nlm.nih.gov',\n",
       " 'doi.org',\n",
       " 'doi.org',\n",
       " 'api.elsevier.com',\n",
       " 'www.sciencedirect.com',\n",
       " 'www.ncbi.nlm.nih.gov',\n",
       " 'www.ncbi.nlm.nih.gov',\n",
       " 'www.ncbi.nlm.nih.gov',\n",
       " 'www.ncbi.nlm.nih.gov',\n",
       " 'www.ncbi.nlm.nih.gov',\n",
       " 'www.ncbi.nlm.nih.gov',\n",
       " 'www.ncbi.nlm.nih.gov',\n",
       " 'doi.org',\n",
       " 'www.ncbi.nlm.nih.gov',\n",
       " 'api.elsevier.com',\n",
       " 'www.sciencedirect.com',\n",
       " 'doi.org',\n",
       " 'www.ncbi.nlm.nih.gov',\n",
       " 'www.ncbi.nlm.nih.gov',\n",
       " 'doi.org',\n",
       " 'arxiv.org',\n",
       " 'arxiv.org',\n",
       " 'www.ncbi.nlm.nih.gov',\n",
       " 'doi.org',\n",
       " 'api.elsevier.com',\n",
       " 'www.sciencedirect.com',\n",
       " 'www.ncbi.nlm.nih.gov',\n",
       " 'doi.org',\n",
       " 'api.elsevier.com',\n",
       " 'www.ncbi.nlm.nih.gov',\n",
       " 'www.sciencedirect.com',\n",
       " 'www.ncbi.nlm.nih.gov',\n",
       " 'doi.org',\n",
       " 'www.ncbi.nlm.nih.gov',\n",
       " 'www.sciencedirect.com',\n",
       " 'api.elsevier.com',\n",
       " 'www.ncbi.nlm.nih.gov',\n",
       " 'www.ncbi.nlm.nih.gov',\n",
       " 'doi.org',\n",
       " 'doi.org',\n",
       " 'medrxiv.org',\n",
       " 'www.ncbi.nlm.nih.gov',\n",
       " 'doi.org',\n",
       " 'www.ncbi.nlm.nih.gov',\n",
       " 'www.ncbi.nlm.nih.gov',\n",
       " 'www.ncbi.nlm.nih.gov',\n",
       " 'doi.org',\n",
       " 'api.elsevier.com',\n",
       " 'www.sciencedirect.com',\n",
       " 'www.ncbi.nlm.nih.gov',\n",
       " 'doi.org',\n",
       " 'www.ncbi.nlm.nih.gov',\n",
       " 'doi.org',\n",
       " 'www.ncbi.nlm.nih.gov',\n",
       " 'www.ncbi.nlm.nih.gov',\n",
       " 'doi.org',\n",
       " 'www.ncbi.nlm.nih.gov',\n",
       " 'doi.org',\n",
       " 'doi.org',\n",
       " 'www.ncbi.nlm.nih.gov',\n",
       " 'api.elsevier.com',\n",
       " 'doi.org',\n",
       " 'www.ncbi.nlm.nih.gov',\n",
       " 'www.sciencedirect.com',\n",
       " 'www.ncbi.nlm.nih.gov',\n",
       " 'www.ncbi.nlm.nih.gov',\n",
       " 'www.sciencedirect.com',\n",
       " 'api.elsevier.com',\n",
       " 'doi.org',\n",
       " 'www.ncbi.nlm.nih.gov',\n",
       " 'api.elsevier.com',\n",
       " 'www.ncbi.nlm.nih.gov',\n",
       " 'www.sciencedirect.com',\n",
       " 'doi.org',\n",
       " 'doi.org',\n",
       " 'www.ncbi.nlm.nih.gov',\n",
       " 'www.ncbi.nlm.nih.gov',\n",
       " 'doi.org',\n",
       " 'medrxiv.org',\n",
       " 'doi.org',\n",
       " 'www.ncbi.nlm.nih.gov',\n",
       " 'doi.org',\n",
       " 'api.elsevier.com',\n",
       " 'www.ncbi.nlm.nih.gov',\n",
       " 'www.sciencedirect.com',\n",
       " 'doi.org',\n",
       " 'www.ncbi.nlm.nih.gov',\n",
       " 'doi.org',\n",
       " 'www.ncbi.nlm.nih.gov',\n",
       " 'doi.org',\n",
       " 'medrxiv.org',\n",
       " 'www.ncbi.nlm.nih.gov',\n",
       " 'doi.org',\n",
       " 'www.ncbi.nlm.nih.gov',\n",
       " 'api.elsevier.com',\n",
       " 'doi.org',\n",
       " 'www.sciencedirect.com',\n",
       " 'doi.org',\n",
       " 'www.ncbi.nlm.nih.gov',\n",
       " 'doi.org',\n",
       " 'www.ncbi.nlm.nih.gov',\n",
       " 'www.ncbi.nlm.nih.gov',\n",
       " 'doi.org',\n",
       " 'www.ncbi.nlm.nih.gov',\n",
       " 'www.ncbi.nlm.nih.gov',\n",
       " 'arxiv.org',\n",
       " 'doi.org',\n",
       " 'www.ncbi.nlm.nih.gov',\n",
       " 'www.ncbi.nlm.nih.gov',\n",
       " 'doi.org',\n",
       " 'api.elsevier.com',\n",
       " 'www.ncbi.nlm.nih.gov',\n",
       " 'www.sciencedirect.com',\n",
       " 'arxiv.org',\n",
       " 'doi.org',\n",
       " 'www.ncbi.nlm.nih.gov',\n",
       " 'doi.org',\n",
       " 'www.ncbi.nlm.nih.gov',\n",
       " 'www.ncbi.nlm.nih.gov',\n",
       " 'doi.org',\n",
       " 'doi.org',\n",
       " 'www.ncbi.nlm.nih.gov',\n",
       " 'www.sciencedirect.com',\n",
       " 'doi.org',\n",
       " 'api.elsevier.com',\n",
       " 'www.ncbi.nlm.nih.gov',\n",
       " 'www.ncbi.nlm.nih.gov',\n",
       " 'doi.org',\n",
       " 'api.elsevier.com',\n",
       " 'www.sciencedirect.com',\n",
       " 'doi.org',\n",
       " 'www.ncbi.nlm.nih.gov',\n",
       " 'www.sciencedirect.com',\n",
       " 'api.elsevier.com',\n",
       " 'www.ncbi.nlm.nih.gov',\n",
       " 'doi.org',\n",
       " 'api.elsevier.com',\n",
       " 'www.sciencedirect.com',\n",
       " 'doi.org',\n",
       " 'www.ncbi.nlm.nih.gov',\n",
       " 'doi.org',\n",
       " 'www.ncbi.nlm.nih.gov',\n",
       " 'www.sciencedirect.com',\n",
       " 'api.elsevier.com',\n",
       " 'doi.org',\n",
       " 'www.ncbi.nlm.nih.gov',\n",
       " 'www.ncbi.nlm.nih.gov',\n",
       " 'doi.org',\n",
       " 'doi.org',\n",
       " 'www.ncbi.nlm.nih.gov',\n",
       " 'www.ncbi.nlm.nih.gov',\n",
       " 'doi.org',\n",
       " 'www.ncbi.nlm.nih.gov',\n",
       " 'arxiv.org',\n",
       " 'doi.org',\n",
       " 'arxiv.org',\n",
       " 'arxiv.org',\n",
       " 'api.elsevier.com',\n",
       " 'www.sciencedirect.com',\n",
       " 'www.ncbi.nlm.nih.gov',\n",
       " 'doi.org',\n",
       " 'doi.org',\n",
       " 'api.elsevier.com',\n",
       " 'www.ncbi.nlm.nih.gov',\n",
       " 'www.sciencedirect.com',\n",
       " 'www.ncbi.nlm.nih.gov',\n",
       " 'www.ncbi.nlm.nih.gov',\n",
       " 'doi.org',\n",
       " 'www.sciencedirect.com',\n",
       " 'api.elsevier.com',\n",
       " 'www.sciencedirect.com',\n",
       " 'www.ncbi.nlm.nih.gov',\n",
       " 'api.elsevier.com',\n",
       " 'doi.org',\n",
       " 'doi.org',\n",
       " 'www.ncbi.nlm.nih.gov',\n",
       " 'www.ncbi.nlm.nih.gov',\n",
       " 'doi.org',\n",
       " 'doi.org',\n",
       " 'www.ncbi.nlm.nih.gov',\n",
       " 'doi.org',\n",
       " 'www.sciencedirect.com',\n",
       " 'api.elsevier.com',\n",
       " 'www.ncbi.nlm.nih.gov',\n",
       " 'www.ncbi.nlm.nih.gov',\n",
       " 'doi.org',\n",
       " 'www.ncbi.nlm.nih.gov',\n",
       " 'doi.org',\n",
       " 'doi.org',\n",
       " 'www.ncbi.nlm.nih.gov',\n",
       " 'doi.org',\n",
       " 'www.ncbi.nlm.nih.gov',\n",
       " 'doi.org',\n",
       " 'www.ncbi.nlm.nih.gov',\n",
       " 'www.ncbi.nlm.nih.gov',\n",
       " 'doi.org',\n",
       " 'www.ncbi.nlm.nih.gov',\n",
       " 'doi.org',\n",
       " 'api.elsevier.com',\n",
       " 'www.ncbi.nlm.nih.gov',\n",
       " 'www.sciencedirect.com',\n",
       " 'www.sciencedirect.com',\n",
       " 'doi.org',\n",
       " 'www.ncbi.nlm.nih.gov',\n",
       " 'api.elsevier.com',\n",
       " 'www.ncbi.nlm.nih.gov',\n",
       " 'doi.org',\n",
       " 'www.ncbi.nlm.nih.gov',\n",
       " 'doi.org',\n",
       " 'doi.org',\n",
       " 'www.ncbi.nlm.nih.gov',\n",
       " 'doi.org',\n",
       " 'www.ncbi.nlm.nih.gov',\n",
       " 'doi.org',\n",
       " 'medrxiv.org',\n",
       " 'www.ncbi.nlm.nih.gov',\n",
       " 'doi.org',\n",
       " 'doi.org',\n",
       " 'www.ncbi.nlm.nih.gov',\n",
       " 'www.ncbi.nlm.nih.gov',\n",
       " 'www.ncbi.nlm.nih.gov',\n",
       " 'doi.org',\n",
       " 'www.ncbi.nlm.nih.gov',\n",
       " 'doi.org',\n",
       " 'api.elsevier.com',\n",
       " 'www.sciencedirect.com',\n",
       " 'www.ncbi.nlm.nih.gov',\n",
       " 'api.elsevier.com',\n",
       " 'doi.org',\n",
       " 'www.sciencedirect.com',\n",
       " 'api.elsevier.com',\n",
       " 'www.sciencedirect.com',\n",
       " 'doi.org',\n",
       " 'www.sciencedirect.com',\n",
       " 'api.elsevier.com',\n",
       " 'doi.org',\n",
       " 'www.ncbi.nlm.nih.gov',\n",
       " 'doi.org',\n",
       " 'www.ncbi.nlm.nih.gov',\n",
       " 'doi.org',\n",
       " 'api.elsevier.com',\n",
       " 'www.sciencedirect.com',\n",
       " 'www.ncbi.nlm.nih.gov',\n",
       " 'arxiv.org',\n",
       " 'www.ncbi.nlm.nih.gov',\n",
       " 'api.elsevier.com',\n",
       " 'doi.org',\n",
       " 'www.sciencedirect.com',\n",
       " 'www.ncbi.nlm.nih.gov',\n",
       " 'www.ncbi.nlm.nih.gov',\n",
       " 'www.sciencedirect.com',\n",
       " 'api.elsevier.com',\n",
       " 'www.ncbi.nlm.nih.gov',\n",
       " 'doi.org',\n",
       " 'doi.org',\n",
       " 'www.ncbi.nlm.nih.gov',\n",
       " 'doi.org',\n",
       " 'www.sciencedirect.com',\n",
       " 'www.ncbi.nlm.nih.gov',\n",
       " 'api.elsevier.com',\n",
       " 'doi.org',\n",
       " 'www.ncbi.nlm.nih.gov',\n",
       " 'www.ncbi.nlm.nih.gov',\n",
       " 'doi.org',\n",
       " 'www.ncbi.nlm.nih.gov',\n",
       " 'doi.org',\n",
       " 'doi.org',\n",
       " 'api.elsevier.com',\n",
       " 'www.sciencedirect.com',\n",
       " 'www.ncbi.nlm.nih.gov',\n",
       " 'doi.org',\n",
       " 'medrxiv.org',\n",
       " 'www.ncbi.nlm.nih.gov',\n",
       " 'doi.org',\n",
       " 'europepmc.org',\n",
       " 'doi.org',\n",
       " 'www.ncbi.nlm.nih.gov',\n",
       " 'www.ncbi.nlm.nih.gov',\n",
       " 'doi.org',\n",
       " 'doi.org',\n",
       " 'www.ncbi.nlm.nih.gov',\n",
       " 'www.ncbi.nlm.nih.gov',\n",
       " 'doi.org',\n",
       " 'www.sciencedirect.com',\n",
       " 'api.elsevier.com',\n",
       " 'www.ncbi.nlm.nih.gov',\n",
       " 'doi.org',\n",
       " 'www.ncbi.nlm.nih.gov',\n",
       " 'doi.org',\n",
       " 'www.ncbi.nlm.nih.gov',\n",
       " 'doi.org',\n",
       " 'www.ncbi.nlm.nih.gov',\n",
       " 'www.ncbi.nlm.nih.gov',\n",
       " 'doi.org',\n",
       " 'medrxiv.org',\n",
       " 'doi.org',\n",
       " 'doi.org',\n",
       " 'www.ncbi.nlm.nih.gov',\n",
       " 'pubs.acs.org',\n",
       " 'www.ncbi.nlm.nih.gov',\n",
       " 'www.ncbi.nlm.nih.gov',\n",
       " 'doi.org',\n",
       " 'www.ncbi.nlm.nih.gov',\n",
       " 'www.ncbi.nlm.nih.gov',\n",
       " 'doi.org',\n",
       " 'www.ncbi.nlm.nih.gov',\n",
       " 'doi.org',\n",
       " 'doi.org',\n",
       " 'www.ncbi.nlm.nih.gov',\n",
       " 'www.sciencedirect.com',\n",
       " 'api.elsevier.com',\n",
       " 'doi.org',\n",
       " 'www.ncbi.nlm.nih.gov',\n",
       " 'doi.org',\n",
       " 'www.sciencedirect.com',\n",
       " 'www.ncbi.nlm.nih.gov',\n",
       " 'api.elsevier.com',\n",
       " 'doi.org',\n",
       " 'www.ncbi.nlm.nih.gov',\n",
       " 'api.elsevier.com',\n",
       " 'www.ncbi.nlm.nih.gov',\n",
       " 'www.sciencedirect.com',\n",
       " 'doi.org',\n",
       " 'api.elsevier.com',\n",
       " 'www.sciencedirect.com',\n",
       " 'www.sciencedirect.com',\n",
       " 'api.elsevier.com',\n",
       " 'www.ncbi.nlm.nih.gov',\n",
       " 'doi.org',\n",
       " 'www.ncbi.nlm.nih.gov',\n",
       " 'doi.org',\n",
       " 'doi.org',\n",
       " 'www.ncbi.nlm.nih.gov',\n",
       " 'doi.org',\n",
       " 'doi.org',\n",
       " 'www.sciencedirect.com',\n",
       " 'api.elsevier.com',\n",
       " 'www.ncbi.nlm.nih.gov',\n",
       " 'www.ncbi.nlm.nih.gov',\n",
       " 'medrxiv.org',\n",
       " 'doi.org',\n",
       " 'arxiv.org',\n",
       " 'www.ncbi.nlm.nih.gov',\n",
       " 'www.ncbi.nlm.nih.gov',\n",
       " 'doi.org',\n",
       " 'api.elsevier.com',\n",
       " 'www.sciencedirect.com',\n",
       " 'www.ncbi.nlm.nih.gov',\n",
       " 'doi.org',\n",
       " 'medrxiv.org',\n",
       " 'doi.org',\n",
       " 'www.ncbi.nlm.nih.gov',\n",
       " 'doi.org',\n",
       " 'www.ncbi.nlm.nih.gov',\n",
       " 'doi.org',\n",
       " 'api.elsevier.com',\n",
       " 'www.ncbi.nlm.nih.gov',\n",
       " 'doi.org',\n",
       " 'www.sciencedirect.com',\n",
       " 'www.sciencedirect.com',\n",
       " 'doi.org',\n",
       " 'www.ncbi.nlm.nih.gov',\n",
       " 'api.elsevier.com',\n",
       " 'doi.org',\n",
       " 'doi.org',\n",
       " 'www.ncbi.nlm.nih.gov',\n",
       " 'arxiv.org',\n",
       " 'www.ncbi.nlm.nih.gov',\n",
       " 'www.ncbi.nlm.nih.gov',\n",
       " 'api.elsevier.com',\n",
       " 'www.sciencedirect.com',\n",
       " 'doi.org',\n",
       " 'arxiv.org',\n",
       " 'www.ncbi.nlm.nih.gov',\n",
       " 'doi.org',\n",
       " 'www.ncbi.nlm.nih.gov',\n",
       " 'www.ncbi.nlm.nih.gov',\n",
       " 'api.elsevier.com',\n",
       " 'doi.org',\n",
       " 'www.sciencedirect.com',\n",
       " 'www.ncbi.nlm.nih.gov',\n",
       " 'doi.org',\n",
       " 'www.ncbi.nlm.nih.gov',\n",
       " 'www.ncbi.nlm.nih.gov',\n",
       " 'doi.org',\n",
       " 'www.ncbi.nlm.nih.gov',\n",
       " 'arxiv.org',\n",
       " 'www.ncbi.nlm.nih.gov',\n",
       " 'doi.org',\n",
       " 'api.elsevier.com',\n",
       " 'www.sciencedirect.com',\n",
       " 'www.ncbi.nlm.nih.gov',\n",
       " 'www.sciencedirect.com',\n",
       " 'www.ncbi.nlm.nih.gov',\n",
       " 'doi.org',\n",
       " 'api.elsevier.com',\n",
       " 'www.sciencedirect.com',\n",
       " 'api.elsevier.com',\n",
       " 'www.ncbi.nlm.nih.gov',\n",
       " 'api.elsevier.com',\n",
       " 'www.ncbi.nlm.nih.gov',\n",
       " 'doi.org',\n",
       " 'www.sciencedirect.com',\n",
       " 'doi.org',\n",
       " 'www.ncbi.nlm.nih.gov',\n",
       " 'www.ncbi.nlm.nih.gov',\n",
       " 'api.elsevier.com',\n",
       " 'www.sciencedirect.com',\n",
       " 'www.ncbi.nlm.nih.gov',\n",
       " 'doi.org',\n",
       " 'www.ncbi.nlm.nih.gov',\n",
       " 'doi.org',\n",
       " 'www.sciencedirect.com',\n",
       " 'api.elsevier.com',\n",
       " 'doi.org',\n",
       " 'www.ncbi.nlm.nih.gov',\n",
       " 'www.ncbi.nlm.nih.gov',\n",
       " 'doi.org',\n",
       " 'medrxiv.org',\n",
       " 'doi.org',\n",
       " 'doi.org',\n",
       " 'www.sciencedirect.com',\n",
       " 'www.ncbi.nlm.nih.gov',\n",
       " 'api.elsevier.com',\n",
       " 'www.ncbi.nlm.nih.gov',\n",
       " 'doi.org',\n",
       " 'doi.org',\n",
       " 'www.ncbi.nlm.nih.gov',\n",
       " 'www.ncbi.nlm.nih.gov',\n",
       " 'arxiv.org',\n",
       " 'www.ncbi.nlm.nih.gov',\n",
       " 'doi.org',\n",
       " 'www.ncbi.nlm.nih.gov',\n",
       " 'doi.org',\n",
       " 'www.ncbi.nlm.nih.gov',\n",
       " 'arxiv.org',\n",
       " 'api.elsevier.com',\n",
       " 'doi.org',\n",
       " 'www.ncbi.nlm.nih.gov',\n",
       " 'www.sciencedirect.com',\n",
       " 'doi.org',\n",
       " 'europepmc.org',\n",
       " 'www.ncbi.nlm.nih.gov',\n",
       " 'doi.org',\n",
       " 'api.elsevier.com',\n",
       " 'www.ncbi.nlm.nih.gov',\n",
       " 'www.sciencedirect.com',\n",
       " 'doi.org',\n",
       " 'www.ncbi.nlm.nih.gov',\n",
       " 'www.ncbi.nlm.nih.gov',\n",
       " 'doi.org',\n",
       " 'www.ncbi.nlm.nih.gov',\n",
       " 'doi.org',\n",
       " 'www.ncbi.nlm.nih.gov',\n",
       " 'www.ncbi.nlm.nih.gov',\n",
       " 'doi.org',\n",
       " 'www.ncbi.nlm.nih.gov',\n",
       " 'www.ncbi.nlm.nih.gov',\n",
       " 'www.ncbi.nlm.nih.gov',\n",
       " 'doi.org',\n",
       " 'medrxiv.org',\n",
       " 'doi.org',\n",
       " 'www.sciencedirect.com',\n",
       " 'api.elsevier.com',\n",
       " 'www.ncbi.nlm.nih.gov',\n",
       " 'medrxiv.org',\n",
       " 'doi.org',\n",
       " 'www.ncbi.nlm.nih.gov',\n",
       " 'www.ncbi.nlm.nih.gov',\n",
       " 'doi.org',\n",
       " 'www.ncbi.nlm.nih.gov',\n",
       " 'arxiv.org',\n",
       " 'www.ncbi.nlm.nih.gov',\n",
       " 'doi.org',\n",
       " 'www.ncbi.nlm.nih.gov',\n",
       " 'api.elsevier.com',\n",
       " 'www.ncbi.nlm.nih.gov',\n",
       " 'doi.org',\n",
       " 'www.sciencedirect.com',\n",
       " 'www.ncbi.nlm.nih.gov',\n",
       " 'doi.org',\n",
       " 'doi.org',\n",
       " 'www.ncbi.nlm.nih.gov',\n",
       " 'www.sciencedirect.com',\n",
       " 'api.elsevier.com',\n",
       " 'www.ncbi.nlm.nih.gov',\n",
       " 'doi.org',\n",
       " 'www.ncbi.nlm.nih.gov',\n",
       " 'www.ncbi.nlm.nih.gov',\n",
       " 'doi.org',\n",
       " 'doi.org',\n",
       " 'www.ncbi.nlm.nih.gov',\n",
       " 'www.ncbi.nlm.nih.gov',\n",
       " 'doi.org',\n",
       " 'www.sciencedirect.com',\n",
       " 'api.elsevier.com',\n",
       " 'doi.org',\n",
       " 'www.ncbi.nlm.nih.gov',\n",
       " 'www.ncbi.nlm.nih.gov',\n",
       " 'doi.org',\n",
       " 'api.elsevier.com',\n",
       " 'www.sciencedirect.com',\n",
       " 'www.sciencedirect.com',\n",
       " 'www.ncbi.nlm.nih.gov',\n",
       " 'api.elsevier.com',\n",
       " 'doi.org',\n",
       " 'www.ncbi.nlm.nih.gov',\n",
       " 'doi.org',\n",
       " 'www.ncbi.nlm.nih.gov',\n",
       " 'doi.org',\n",
       " 'medrxiv.org',\n",
       " 'arxiv.org',\n",
       " 'medrxiv.org',\n",
       " 'doi.org',\n",
       " 'www.ncbi.nlm.nih.gov',\n",
       " 'doi.org',\n",
       " 'www.ncbi.nlm.nih.gov',\n",
       " 'doi.org',\n",
       " 'www.ncbi.nlm.nih.gov',\n",
       " 'www.ncbi.nlm.nih.gov',\n",
       " 'doi.org',\n",
       " 'www.ncbi.nlm.nih.gov',\n",
       " 'doi.org',\n",
       " 'www.ncbi.nlm.nih.gov',\n",
       " 'doi.org',\n",
       " 'www.sciencedirect.com',\n",
       " 'api.elsevier.com',\n",
       " 'www.ncbi.nlm.nih.gov',\n",
       " 'www.ncbi.nlm.nih.gov',\n",
       " 'doi.org',\n",
       " 'doi.org',\n",
       " 'www.ncbi.nlm.nih.gov',\n",
       " 'www.ncbi.nlm.nih.gov',\n",
       " 'www.sciencedirect.com',\n",
       " 'api.elsevier.com',\n",
       " 'www.ncbi.nlm.nih.gov',\n",
       " 'doi.org',\n",
       " 'doi.org',\n",
       " 'www.ncbi.nlm.nih.gov',\n",
       " 'www.ncbi.nlm.nih.gov',\n",
       " 'www.ncbi.nlm.nih.gov',\n",
       " 'doi.org',\n",
       " 'www.ncbi.nlm.nih.gov',\n",
       " 'doi.org',\n",
       " 'www.ncbi.nlm.nih.gov',\n",
       " 'www.ncbi.nlm.nih.gov',\n",
       " 'doi.org',\n",
       " 'www.ncbi.nlm.nih.gov',\n",
       " 'www.ncbi.nlm.nih.gov',\n",
       " 'doi.org',\n",
       " 'www.sciencedirect.com',\n",
       " 'www.ncbi.nlm.nih.gov',\n",
       " 'doi.org',\n",
       " 'api.elsevier.com',\n",
       " 'www.ncbi.nlm.nih.gov',\n",
       " 'doi.org',\n",
       " 'www.ncbi.nlm.nih.gov',\n",
       " 'www.sciencedirect.com',\n",
       " 'api.elsevier.com',\n",
       " 'www.ncbi.nlm.nih.gov',\n",
       " 'doi.org',\n",
       " 'doi.org',\n",
       " 'medrxiv.org',\n",
       " 'www.ncbi.nlm.nih.gov',\n",
       " 'doi.org',\n",
       " 'www.ncbi.nlm.nih.gov',\n",
       " 'www.ncbi.nlm.nih.gov',\n",
       " 'www.ncbi.nlm.nih.gov',\n",
       " 'api.elsevier.com',\n",
       " 'doi.org',\n",
       " 'www.sciencedirect.com',\n",
       " 'doi.org',\n",
       " 'www.ncbi.nlm.nih.gov',\n",
       " 'www.ncbi.nlm.nih.gov',\n",
       " 'doi.org',\n",
       " 'www.ncbi.nlm.nih.gov',\n",
       " 'www.ncbi.nlm.nih.gov',\n",
       " 'doi.org',\n",
       " 'www.sciencedirect.com',\n",
       " 'doi.org',\n",
       " 'www.ncbi.nlm.nih.gov',\n",
       " 'api.elsevier.com',\n",
       " 'www.ncbi.nlm.nih.gov',\n",
       " 'www.sciencedirect.com',\n",
       " 'api.elsevier.com',\n",
       " 'doi.org',\n",
       " 'www.sciencedirect.com',\n",
       " 'doi.org',\n",
       " 'api.elsevier.com',\n",
       " 'www.ncbi.nlm.nih.gov',\n",
       " 'www.ncbi.nlm.nih.gov',\n",
       " 'www.ncbi.nlm.nih.gov',\n",
       " ...]"
      ]
     },
     "execution_count": 57,
     "metadata": {},
     "output_type": "execute_result"
    }
   ],
   "source": [
    "%%time\n",
    "CORD19_CSV.url = CORD19_CSV.url.str.replace('[;]', '')\n",
    "url = CORD19_CSV.url\n",
    "url_list= []\n",
    "for row in url: \n",
    "    row_string = re.split('\\s+', row)\n",
    "    for i in row_string:\n",
    "        url_list.append(urlparse(i).netloc)\n",
    "url_list"
   ]
  },
  {
   "cell_type": "markdown",
   "metadata": {},
   "source": [
    "Next, all urls are counted to see which host publish the research and to which extent. For this, it is important to know that the same publication is accessible via different hosts. "
   ]
  },
  {
   "cell_type": "code",
   "execution_count": 58,
   "metadata": {},
   "outputs": [
    {
     "data": {
      "text/plain": [
       "www.ncbi.nlm.nih.gov       64918\n",
       "doi.org                    54410\n",
       "api.elsevier.com           17660\n",
       "www.sciencedirect.com      17660\n",
       "medrxiv.org                 4995\n",
       "arxiv.org                   3340\n",
       "europepmc.org                313\n",
       "academic.oup.com             118\n",
       "www.cell.com                  46\n",
       "link.springer.com             42\n",
       "onlinelibrary.wiley.com       36\n",
       "www.nature.com                23\n",
       "jvi.asm.org                   16\n",
       "www.jbc.org                   14\n",
       "journals.iucr.org             14\n",
       "www.thelancet.com              8\n",
       "pubs.acs.org                   7\n",
       "www.tandfonline.com            6\n",
       "www.biorxiv.org                4\n",
       "manuscript.elsevier.com        3\n",
       "dtype: int64"
      ]
     },
     "execution_count": 58,
     "metadata": {},
     "output_type": "execute_result"
    }
   ],
   "source": [
    "url_series = pd.Series(url_list) \n",
    "url_counted = url_series.value_counts()\n",
    "url_counted.head(20)"
   ]
  },
  {
   "cell_type": "markdown",
   "metadata": {},
   "source": [
    "As a result, the The National Center for Biotechnology Information (NCBI) is responsible for almost all publications. This means that the publications are hosted by different organisation holding and securing the research as possible backup. "
   ]
  },
  {
   "cell_type": "markdown",
   "metadata": {},
   "source": [
    "### Checking the column \"software\""
   ]
  },
  {
   "cell_type": "markdown",
   "metadata": {},
   "source": [
    "The analysis of the column software is conducted in the Jupyer Notebook named \"CORD-19-software-counting-cs5099\""
   ]
  }
 ],
 "metadata": {
  "kernelspec": {
   "display_name": "Python 3",
   "language": "python",
   "name": "python3"
  },
  "language_info": {
   "codemirror_mode": {
    "name": "ipython",
    "version": 3
   },
   "file_extension": ".py",
   "mimetype": "text/x-python",
   "name": "python",
   "nbconvert_exporter": "python",
   "pygments_lexer": "ipython3",
   "version": "3.8.5"
  }
 },
 "nbformat": 4,
 "nbformat_minor": 4
}
