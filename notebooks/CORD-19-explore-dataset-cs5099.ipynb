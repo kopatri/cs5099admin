{
 "cells": [
  {
   "cell_type": "markdown",
   "metadata": {},
   "source": [
    "# CORD-19 Explore dataset\n",
    "In general, this jupyter notebook is designated to explore the CORD19 dataset: \n",
    "https://datadryad.org/stash/dataset/doi:10.5061/dryad.vmcvdncs0"
   ]
  },
  {
   "cell_type": "markdown",
   "metadata": {},
   "source": [
    "First, relevant packages must be imported to the Notebook."
   ]
  },
  {
   "cell_type": "code",
   "execution_count": 1,
   "metadata": {},
   "outputs": [],
   "source": [
    "import numpy as np\n",
    "import pandas as pd\n",
    "import csv\n",
    "import ast\n",
    "import collections\n",
    "import matplotlib.pyplot as plt\n",
    "import Levenshtein as lev\n",
    "from fuzzywuzzy import fuzz \n",
    "import datetime\n",
    "import matplotlib.pyplot as plt"
   ]
  },
  {
   "cell_type": "code",
   "execution_count": 2,
   "metadata": {},
   "outputs": [],
   "source": [
    "CORD19_CSV = pd.read_csv('../data/cord-19/CORD19_software_mentions.csv')"
   ]
  },
  {
   "cell_type": "markdown",
   "metadata": {},
   "source": [
    "Show the head of the dataset to inspect all columns and obtain a broad overview. "
   ]
  },
  {
   "cell_type": "code",
   "execution_count": 3,
   "metadata": {
    "scrolled": true
   },
   "outputs": [
    {
     "data": {
      "text/html": [
       "<div>\n",
       "<style scoped>\n",
       "    .dataframe tbody tr th:only-of-type {\n",
       "        vertical-align: middle;\n",
       "    }\n",
       "\n",
       "    .dataframe tbody tr th {\n",
       "        vertical-align: top;\n",
       "    }\n",
       "\n",
       "    .dataframe thead th {\n",
       "        text-align: right;\n",
       "    }\n",
       "</style>\n",
       "<table border=\"1\" class=\"dataframe\">\n",
       "  <thead>\n",
       "    <tr style=\"text-align: right;\">\n",
       "      <th></th>\n",
       "      <th>paper_id</th>\n",
       "      <th>doi</th>\n",
       "      <th>title</th>\n",
       "      <th>source_x</th>\n",
       "      <th>license</th>\n",
       "      <th>publish_time</th>\n",
       "      <th>journal</th>\n",
       "      <th>url</th>\n",
       "      <th>software</th>\n",
       "    </tr>\n",
       "  </thead>\n",
       "  <tbody>\n",
       "    <tr>\n",
       "      <th>0</th>\n",
       "      <td>00006903b396d50cc0037fed39916d57d50ee801</td>\n",
       "      <td>NaN</td>\n",
       "      <td>Urban green space and happiness in developed c...</td>\n",
       "      <td>ArXiv</td>\n",
       "      <td>arxiv</td>\n",
       "      <td>2021-01-04</td>\n",
       "      <td>NaN</td>\n",
       "      <td>https://arxiv.org/pdf/2101.00807v1.pdf</td>\n",
       "      <td>['Google Street View']</td>\n",
       "    </tr>\n",
       "    <tr>\n",
       "      <th>1</th>\n",
       "      <td>0000fcce604204b1b9d876dc073eb529eb5ce305</td>\n",
       "      <td>10.1016/j.regg.2021.01.002</td>\n",
       "      <td>La Geriatría de Enlace con residencias en la é...</td>\n",
       "      <td>Elsevier; PMC</td>\n",
       "      <td>els-covid</td>\n",
       "      <td>2021-01-13</td>\n",
       "      <td>Rev Esp Geriatr Gerontol</td>\n",
       "      <td>https://api.elsevier.com/content/article/pii/S...</td>\n",
       "      <td>['SEGG']</td>\n",
       "    </tr>\n",
       "    <tr>\n",
       "      <th>2</th>\n",
       "      <td>000122a9a774ec76fa35ec0c0f6734e7e8d0c541</td>\n",
       "      <td>10.1016/j.rec.2020.08.002</td>\n",
       "      <td>Impact of COVID-19 on ST-segment elevation myo...</td>\n",
       "      <td>Elsevier; Medline; PMC</td>\n",
       "      <td>no-cc</td>\n",
       "      <td>2020-09-08</td>\n",
       "      <td>Rev Esp Cardiol (Engl Ed)</td>\n",
       "      <td>https://api.elsevier.com/content/article/pii/S...</td>\n",
       "      <td>['STATA', 'IAMCEST']</td>\n",
       "    </tr>\n",
       "    <tr>\n",
       "      <th>3</th>\n",
       "      <td>0001418189999fea7f7cbe3e82703d71c85a6fe5</td>\n",
       "      <td>10.1016/j.vetmic.2006.11.026</td>\n",
       "      <td>Absence of surface expression of feline infect...</td>\n",
       "      <td>Elsevier; Medline; PMC</td>\n",
       "      <td>no-cc</td>\n",
       "      <td>2007-03-31</td>\n",
       "      <td>Vet Microbiol</td>\n",
       "      <td>https://www.sciencedirect.com/science/article/...</td>\n",
       "      <td>['SPSS']</td>\n",
       "    </tr>\n",
       "    <tr>\n",
       "      <th>4</th>\n",
       "      <td>00033d5a12240a8684cfe943954132b43434cf48</td>\n",
       "      <td>10.3390/v12080849</td>\n",
       "      <td>Detection of Severe Acute Respiratory Syndrome...</td>\n",
       "      <td>Medline; PMC</td>\n",
       "      <td>cc-by</td>\n",
       "      <td>2020-08-04</td>\n",
       "      <td>Viruses</td>\n",
       "      <td>https://www.ncbi.nlm.nih.gov/pubmed/32759673/;...</td>\n",
       "      <td>['R', 'MassARRAY Typer Analyzer']</td>\n",
       "    </tr>\n",
       "    <tr>\n",
       "      <th>5</th>\n",
       "      <td>00035ac98d8bc38fbca02a1cc957f55141af67c0</td>\n",
       "      <td>10.3389/fpsyt.2020.559701</td>\n",
       "      <td>The Psychological Pressures of Breast Cancer P...</td>\n",
       "      <td>Medline; PMC</td>\n",
       "      <td>cc-by</td>\n",
       "      <td>2020-12-15</td>\n",
       "      <td>Front Psychiatry</td>\n",
       "      <td>https://doi.org/10.3389/fpsyt.2020.559701; htt...</td>\n",
       "      <td>['Wechat', 'SPSS Statistics']</td>\n",
       "    </tr>\n",
       "    <tr>\n",
       "      <th>6</th>\n",
       "      <td>00039b94e6cb7609ecbddee1755314bcfeb77faa</td>\n",
       "      <td>10.1111/j.1365-2249.2004.02415.x</td>\n",
       "      <td>Plasma inflammatory cytokines and chemokines i...</td>\n",
       "      <td>Medline; PMC</td>\n",
       "      <td>bronze-oa</td>\n",
       "      <td>2004-04-01</td>\n",
       "      <td>Clinical &amp; Experimental Immunology</td>\n",
       "      <td>https://onlinelibrary.wiley.com/doi/pdfdirect/...</td>\n",
       "      <td>['Statistical Package for Social Sciences (SPS...</td>\n",
       "    </tr>\n",
       "    <tr>\n",
       "      <th>7</th>\n",
       "      <td>0004456994f6c1d5db7327990386d33c01cff32a</td>\n",
       "      <td>10.1186/1471-2334-10-8</td>\n",
       "      <td>Seasonal influenza risk in hospital healthcare...</td>\n",
       "      <td>PMC</td>\n",
       "      <td>cc-by</td>\n",
       "      <td>2010-01-12</td>\n",
       "      <td>BMC Infect Dis</td>\n",
       "      <td>https://www.ncbi.nlm.nih.gov/pmc/articles/PMC2...</td>\n",
       "      <td>['STATA', 'STATA', 'Statacorp']</td>\n",
       "    </tr>\n",
       "    <tr>\n",
       "      <th>8</th>\n",
       "      <td>00073cb65dd2596249230fab8b15a71c4a135895</td>\n",
       "      <td>10.1086/605034</td>\n",
       "      <td>Risk Parameters of Fulminant Acute Respiratory...</td>\n",
       "      <td>Medline; PMC</td>\n",
       "      <td>no-cc</td>\n",
       "      <td>2009-08-01</td>\n",
       "      <td>J Infect Dis</td>\n",
       "      <td>https://doi.org/10.1086/605034; https://www.nc...</td>\n",
       "      <td>['SPSS', 'SPSS']</td>\n",
       "    </tr>\n",
       "    <tr>\n",
       "      <th>9</th>\n",
       "      <td>0007f972812bb45abbe5b0edf8db5359d49c23eb</td>\n",
       "      <td>10.1186/s42234-020-00057-1</td>\n",
       "      <td>The role of nicotinic receptors in SARS-CoV-2 ...</td>\n",
       "      <td>Medline; PMC</td>\n",
       "      <td>cc-by</td>\n",
       "      <td>2020-10-28</td>\n",
       "      <td>Bioelectron Med</td>\n",
       "      <td>https://www.ncbi.nlm.nih.gov/pubmed/33292872/;...</td>\n",
       "      <td>['geNorm', 'GraphPad Prism', 'GraphPad', 'Cell...</td>\n",
       "    </tr>\n",
       "    <tr>\n",
       "      <th>10</th>\n",
       "      <td>0008c57de475138d903f2cca7003cf1e1ad93cf4</td>\n",
       "      <td>10.1140/epje/i2018-11644-5</td>\n",
       "      <td>The effect of gramicidin inclusions on the loc...</td>\n",
       "      <td>Medline; PMC</td>\n",
       "      <td>no-cc</td>\n",
       "      <td>2018-03-28</td>\n",
       "      <td>Eur Phys J E Soft Matter</td>\n",
       "      <td>https://www.ncbi.nlm.nih.gov/pubmed/29582214/;...</td>\n",
       "      <td>['GramA']</td>\n",
       "    </tr>\n",
       "    <tr>\n",
       "      <th>11</th>\n",
       "      <td>000a0fc8bbef80410199e690191dc3076a290117</td>\n",
       "      <td>10.1186/s13071-020-3918-5</td>\n",
       "      <td>PfSWIB, a potential chromatin regulator for va...</td>\n",
       "      <td>PMC</td>\n",
       "      <td>cc-by</td>\n",
       "      <td>2020-02-04</td>\n",
       "      <td>Parasit Vectors</td>\n",
       "      <td>https://www.ncbi.nlm.nih.gov/pmc/articles/PMC7...</td>\n",
       "      <td>['R package edgeR', 'R package edgeR', 'R pack...</td>\n",
       "    </tr>\n",
       "    <tr>\n",
       "      <th>12</th>\n",
       "      <td>000d3b13a645c10826aaf2cf0bb0dc18b9580ac2</td>\n",
       "      <td>10.1007/s00548-020-00686-3</td>\n",
       "      <td>Standort-Info</td>\n",
       "      <td>PMC</td>\n",
       "      <td>no-cc</td>\n",
       "      <td>2020-11-20</td>\n",
       "      <td>Standort</td>\n",
       "      <td>https://www.ncbi.nlm.nih.gov/pmc/articles/PMC7...</td>\n",
       "      <td>['MORO Praxis', 'MORO']</td>\n",
       "    </tr>\n",
       "    <tr>\n",
       "      <th>13</th>\n",
       "      <td>000e43590fdd2e011cfadaa14e6c14f318d11bbb</td>\n",
       "      <td>10.1186/s12910-015-0002-3</td>\n",
       "      <td>Innovations in research ethics governance in h...</td>\n",
       "      <td>PMC</td>\n",
       "      <td>cc-by</td>\n",
       "      <td>2015-02-26</td>\n",
       "      <td>BMC Med Ethics</td>\n",
       "      <td>https://www.ncbi.nlm.nih.gov/pmc/articles/PMC4...</td>\n",
       "      <td>['R2HC']</td>\n",
       "    </tr>\n",
       "    <tr>\n",
       "      <th>14</th>\n",
       "      <td>000eec3f1e93c3792454ac59415c928ce3a6b4ad</td>\n",
       "      <td>10.1016/j.reaurg.2004.02.009</td>\n",
       "      <td>Pneumonie virale sévère de l'immunocompétent</td>\n",
       "      <td>Elsevier; Medline; PMC</td>\n",
       "      <td>els-covid</td>\n",
       "      <td>2004-05-31</td>\n",
       "      <td>Réanimation</td>\n",
       "      <td>https://doi.org/10.1016/j.reaurg.2004.02.009; ...</td>\n",
       "      <td>['Singapour']</td>\n",
       "    </tr>\n",
       "    <tr>\n",
       "      <th>15</th>\n",
       "      <td>000f207d1ee7f674091bf5867561c329928990e6</td>\n",
       "      <td>10.1177/2324709620957778</td>\n",
       "      <td>A Case of Extracorporeal Membrane Oxygenation ...</td>\n",
       "      <td>Medline; PMC</td>\n",
       "      <td>cc-by-nc</td>\n",
       "      <td>2020-09-10</td>\n",
       "      <td>J Investig Med High Impact Case Rep</td>\n",
       "      <td>https://www.ncbi.nlm.nih.gov/pubmed/32911986/;...</td>\n",
       "      <td>['PRESET']</td>\n",
       "    </tr>\n",
       "    <tr>\n",
       "      <th>16</th>\n",
       "      <td>00102e5960addaa80152672003969e2dffe0d22b</td>\n",
       "      <td>10.1111/jdv.16974</td>\n",
       "      <td>Why are chilblains underreported in Nordic cou...</td>\n",
       "      <td>Medline; PMC</td>\n",
       "      <td>no-cc</td>\n",
       "      <td>2020-10-22</td>\n",
       "      <td>J Eur Acad Dermatol Venereol</td>\n",
       "      <td>https://doi.org/10.1111/jdv.16974; https://www...</td>\n",
       "      <td>['Google Trends (GT', 'GT']</td>\n",
       "    </tr>\n",
       "    <tr>\n",
       "      <th>17</th>\n",
       "      <td>001085074ee7d900b7be7a43598018650a1c310f</td>\n",
       "      <td>10.1007/s13341-016-0615-2</td>\n",
       "      <td>Retour d’expérience des attentats du 13 novemb...</td>\n",
       "      <td>PMC</td>\n",
       "      <td>no-cc</td>\n",
       "      <td>2016-02-10</td>\n",
       "      <td>NaN</td>\n",
       "      <td>https://www.ncbi.nlm.nih.gov/pmc/articles/PMC7...</td>\n",
       "      <td>['SINUS', 'VICTIMES']</td>\n",
       "    </tr>\n",
       "    <tr>\n",
       "      <th>18</th>\n",
       "      <td>0010f32ac43ca5864983343672936b536431ae90</td>\n",
       "      <td>NaN</td>\n",
       "      <td>Respiratory Distress Detection from Telephone ...</td>\n",
       "      <td>ArXiv</td>\n",
       "      <td>arxiv</td>\n",
       "      <td>2020-11-15</td>\n",
       "      <td>NaN</td>\n",
       "      <td>https://arxiv.org/pdf/2011.09270v1.pdf</td>\n",
       "      <td>['Spirocall', 'LIBSVM', 'MATLAB voicebox', 'op...</td>\n",
       "    </tr>\n",
       "    <tr>\n",
       "      <th>19</th>\n",
       "      <td>001139d307c2329d2b34a25d5b35ba84c6deb382</td>\n",
       "      <td>10.1007/s11623-020-1314-0</td>\n",
       "      <td>Datensicherheit von Corona-Apps nach der DSGVO</td>\n",
       "      <td>PMC</td>\n",
       "      <td>no-cc</td>\n",
       "      <td>2020-07-27</td>\n",
       "      <td>Datenschutz Datensich</td>\n",
       "      <td>https://www.ncbi.nlm.nih.gov/pmc/articles/PMC7...</td>\n",
       "      <td>['DP', 'DP', 'DSGVO', 'iOS', 'DSGVO', 'PEPP', ...</td>\n",
       "    </tr>\n",
       "  </tbody>\n",
       "</table>\n",
       "</div>"
      ],
      "text/plain": [
       "                                    paper_id  \\\n",
       "0   00006903b396d50cc0037fed39916d57d50ee801   \n",
       "1   0000fcce604204b1b9d876dc073eb529eb5ce305   \n",
       "2   000122a9a774ec76fa35ec0c0f6734e7e8d0c541   \n",
       "3   0001418189999fea7f7cbe3e82703d71c85a6fe5   \n",
       "4   00033d5a12240a8684cfe943954132b43434cf48   \n",
       "5   00035ac98d8bc38fbca02a1cc957f55141af67c0   \n",
       "6   00039b94e6cb7609ecbddee1755314bcfeb77faa   \n",
       "7   0004456994f6c1d5db7327990386d33c01cff32a   \n",
       "8   00073cb65dd2596249230fab8b15a71c4a135895   \n",
       "9   0007f972812bb45abbe5b0edf8db5359d49c23eb   \n",
       "10  0008c57de475138d903f2cca7003cf1e1ad93cf4   \n",
       "11  000a0fc8bbef80410199e690191dc3076a290117   \n",
       "12  000d3b13a645c10826aaf2cf0bb0dc18b9580ac2   \n",
       "13  000e43590fdd2e011cfadaa14e6c14f318d11bbb   \n",
       "14  000eec3f1e93c3792454ac59415c928ce3a6b4ad   \n",
       "15  000f207d1ee7f674091bf5867561c329928990e6   \n",
       "16  00102e5960addaa80152672003969e2dffe0d22b   \n",
       "17  001085074ee7d900b7be7a43598018650a1c310f   \n",
       "18  0010f32ac43ca5864983343672936b536431ae90   \n",
       "19  001139d307c2329d2b34a25d5b35ba84c6deb382   \n",
       "\n",
       "                                 doi  \\\n",
       "0                                NaN   \n",
       "1         10.1016/j.regg.2021.01.002   \n",
       "2          10.1016/j.rec.2020.08.002   \n",
       "3       10.1016/j.vetmic.2006.11.026   \n",
       "4                  10.3390/v12080849   \n",
       "5          10.3389/fpsyt.2020.559701   \n",
       "6   10.1111/j.1365-2249.2004.02415.x   \n",
       "7             10.1186/1471-2334-10-8   \n",
       "8                     10.1086/605034   \n",
       "9         10.1186/s42234-020-00057-1   \n",
       "10        10.1140/epje/i2018-11644-5   \n",
       "11         10.1186/s13071-020-3918-5   \n",
       "12        10.1007/s00548-020-00686-3   \n",
       "13         10.1186/s12910-015-0002-3   \n",
       "14      10.1016/j.reaurg.2004.02.009   \n",
       "15          10.1177/2324709620957778   \n",
       "16                 10.1111/jdv.16974   \n",
       "17         10.1007/s13341-016-0615-2   \n",
       "18                               NaN   \n",
       "19         10.1007/s11623-020-1314-0   \n",
       "\n",
       "                                                title                source_x  \\\n",
       "0   Urban green space and happiness in developed c...                   ArXiv   \n",
       "1   La Geriatría de Enlace con residencias en la é...           Elsevier; PMC   \n",
       "2   Impact of COVID-19 on ST-segment elevation myo...  Elsevier; Medline; PMC   \n",
       "3   Absence of surface expression of feline infect...  Elsevier; Medline; PMC   \n",
       "4   Detection of Severe Acute Respiratory Syndrome...            Medline; PMC   \n",
       "5   The Psychological Pressures of Breast Cancer P...            Medline; PMC   \n",
       "6   Plasma inflammatory cytokines and chemokines i...            Medline; PMC   \n",
       "7   Seasonal influenza risk in hospital healthcare...                     PMC   \n",
       "8   Risk Parameters of Fulminant Acute Respiratory...            Medline; PMC   \n",
       "9   The role of nicotinic receptors in SARS-CoV-2 ...            Medline; PMC   \n",
       "10  The effect of gramicidin inclusions on the loc...            Medline; PMC   \n",
       "11  PfSWIB, a potential chromatin regulator for va...                     PMC   \n",
       "12                                      Standort-Info                     PMC   \n",
       "13  Innovations in research ethics governance in h...                     PMC   \n",
       "14       Pneumonie virale sévère de l'immunocompétent  Elsevier; Medline; PMC   \n",
       "15  A Case of Extracorporeal Membrane Oxygenation ...            Medline; PMC   \n",
       "16  Why are chilblains underreported in Nordic cou...            Medline; PMC   \n",
       "17  Retour d’expérience des attentats du 13 novemb...                     PMC   \n",
       "18  Respiratory Distress Detection from Telephone ...                   ArXiv   \n",
       "19     Datensicherheit von Corona-Apps nach der DSGVO                     PMC   \n",
       "\n",
       "      license publish_time                              journal  \\\n",
       "0       arxiv   2021-01-04                                  NaN   \n",
       "1   els-covid   2021-01-13             Rev Esp Geriatr Gerontol   \n",
       "2       no-cc   2020-09-08            Rev Esp Cardiol (Engl Ed)   \n",
       "3       no-cc   2007-03-31                        Vet Microbiol   \n",
       "4       cc-by   2020-08-04                              Viruses   \n",
       "5       cc-by   2020-12-15                     Front Psychiatry   \n",
       "6   bronze-oa   2004-04-01   Clinical & Experimental Immunology   \n",
       "7       cc-by   2010-01-12                       BMC Infect Dis   \n",
       "8       no-cc   2009-08-01                         J Infect Dis   \n",
       "9       cc-by   2020-10-28                      Bioelectron Med   \n",
       "10      no-cc   2018-03-28             Eur Phys J E Soft Matter   \n",
       "11      cc-by   2020-02-04                      Parasit Vectors   \n",
       "12      no-cc   2020-11-20                             Standort   \n",
       "13      cc-by   2015-02-26                       BMC Med Ethics   \n",
       "14  els-covid   2004-05-31                          Réanimation   \n",
       "15   cc-by-nc   2020-09-10  J Investig Med High Impact Case Rep   \n",
       "16      no-cc   2020-10-22         J Eur Acad Dermatol Venereol   \n",
       "17      no-cc   2016-02-10                                  NaN   \n",
       "18      arxiv   2020-11-15                                  NaN   \n",
       "19      no-cc   2020-07-27                Datenschutz Datensich   \n",
       "\n",
       "                                                  url  \\\n",
       "0              https://arxiv.org/pdf/2101.00807v1.pdf   \n",
       "1   https://api.elsevier.com/content/article/pii/S...   \n",
       "2   https://api.elsevier.com/content/article/pii/S...   \n",
       "3   https://www.sciencedirect.com/science/article/...   \n",
       "4   https://www.ncbi.nlm.nih.gov/pubmed/32759673/;...   \n",
       "5   https://doi.org/10.3389/fpsyt.2020.559701; htt...   \n",
       "6   https://onlinelibrary.wiley.com/doi/pdfdirect/...   \n",
       "7   https://www.ncbi.nlm.nih.gov/pmc/articles/PMC2...   \n",
       "8   https://doi.org/10.1086/605034; https://www.nc...   \n",
       "9   https://www.ncbi.nlm.nih.gov/pubmed/33292872/;...   \n",
       "10  https://www.ncbi.nlm.nih.gov/pubmed/29582214/;...   \n",
       "11  https://www.ncbi.nlm.nih.gov/pmc/articles/PMC7...   \n",
       "12  https://www.ncbi.nlm.nih.gov/pmc/articles/PMC7...   \n",
       "13  https://www.ncbi.nlm.nih.gov/pmc/articles/PMC4...   \n",
       "14  https://doi.org/10.1016/j.reaurg.2004.02.009; ...   \n",
       "15  https://www.ncbi.nlm.nih.gov/pubmed/32911986/;...   \n",
       "16  https://doi.org/10.1111/jdv.16974; https://www...   \n",
       "17  https://www.ncbi.nlm.nih.gov/pmc/articles/PMC7...   \n",
       "18             https://arxiv.org/pdf/2011.09270v1.pdf   \n",
       "19  https://www.ncbi.nlm.nih.gov/pmc/articles/PMC7...   \n",
       "\n",
       "                                             software  \n",
       "0                              ['Google Street View']  \n",
       "1                                            ['SEGG']  \n",
       "2                                ['STATA', 'IAMCEST']  \n",
       "3                                            ['SPSS']  \n",
       "4                   ['R', 'MassARRAY Typer Analyzer']  \n",
       "5                       ['Wechat', 'SPSS Statistics']  \n",
       "6   ['Statistical Package for Social Sciences (SPS...  \n",
       "7                     ['STATA', 'STATA', 'Statacorp']  \n",
       "8                                    ['SPSS', 'SPSS']  \n",
       "9   ['geNorm', 'GraphPad Prism', 'GraphPad', 'Cell...  \n",
       "10                                          ['GramA']  \n",
       "11  ['R package edgeR', 'R package edgeR', 'R pack...  \n",
       "12                            ['MORO Praxis', 'MORO']  \n",
       "13                                           ['R2HC']  \n",
       "14                                      ['Singapour']  \n",
       "15                                         ['PRESET']  \n",
       "16                        ['Google Trends (GT', 'GT']  \n",
       "17                              ['SINUS', 'VICTIMES']  \n",
       "18  ['Spirocall', 'LIBSVM', 'MATLAB voicebox', 'op...  \n",
       "19  ['DP', 'DP', 'DSGVO', 'iOS', 'DSGVO', 'PEPP', ...  "
      ]
     },
     "execution_count": 3,
     "metadata": {},
     "output_type": "execute_result"
    }
   ],
   "source": [
    "CORD19_CSV.head(20)"
   ]
  },
  {
   "cell_type": "markdown",
   "metadata": {},
   "source": [
    "### General check of the dataframe"
   ]
  },
  {
   "cell_type": "markdown",
   "metadata": {},
   "source": [
    "First, of all it is interesting to investigate how many NaN are contained within the DataFrame. "
   ]
  },
  {
   "cell_type": "code",
   "execution_count": 4,
   "metadata": {},
   "outputs": [
    {
     "data": {
      "text/plain": [
       "12476"
      ]
     },
     "execution_count": 4,
     "metadata": {},
     "output_type": "execute_result"
    }
   ],
   "source": [
    "CORD19_CSV.isnull().sum().sum()"
   ]
  },
  {
   "cell_type": "markdown",
   "metadata": {},
   "source": [
    "How are the NaNs distributed between the columns of the DataFrame? "
   ]
  },
  {
   "cell_type": "code",
   "execution_count": 5,
   "metadata": {},
   "outputs": [],
   "source": [
    "def count_nan_per_column(df):\n",
    "    \"\"\" This function counts the NaNs per column of the received dataframe \n",
    "    and returns a dataframe containing a column listing the number of NaNs.\n",
    "    \"\"\"\n",
    "    col_num = []\n",
    "    col_name = []\n",
    "    for i in df: \n",
    "        col_num.append(df[i].isnull().sum())\n",
    "    col_names = df.columns\n",
    "    df_joined =  pd.DataFrame(col_num, col_names)\n",
    "    df_joined.columns = ['NaNs']\n",
    "    return df_joined"
   ]
  },
  {
   "cell_type": "code",
   "execution_count": 6,
   "metadata": {},
   "outputs": [
    {
     "data": {
      "text/html": [
       "<div>\n",
       "<style scoped>\n",
       "    .dataframe tbody tr th:only-of-type {\n",
       "        vertical-align: middle;\n",
       "    }\n",
       "\n",
       "    .dataframe tbody tr th {\n",
       "        vertical-align: top;\n",
       "    }\n",
       "\n",
       "    .dataframe thead th {\n",
       "        text-align: right;\n",
       "    }\n",
       "</style>\n",
       "<table border=\"1\" class=\"dataframe\">\n",
       "  <thead>\n",
       "    <tr style=\"text-align: right;\">\n",
       "      <th></th>\n",
       "      <th>NaNs</th>\n",
       "    </tr>\n",
       "  </thead>\n",
       "  <tbody>\n",
       "    <tr>\n",
       "      <th>paper_id</th>\n",
       "      <td>0</td>\n",
       "    </tr>\n",
       "    <tr>\n",
       "      <th>doi</th>\n",
       "      <td>3144</td>\n",
       "    </tr>\n",
       "    <tr>\n",
       "      <th>title</th>\n",
       "      <td>0</td>\n",
       "    </tr>\n",
       "    <tr>\n",
       "      <th>source_x</th>\n",
       "      <td>0</td>\n",
       "    </tr>\n",
       "    <tr>\n",
       "      <th>license</th>\n",
       "      <td>0</td>\n",
       "    </tr>\n",
       "    <tr>\n",
       "      <th>publish_time</th>\n",
       "      <td>0</td>\n",
       "    </tr>\n",
       "    <tr>\n",
       "      <th>journal</th>\n",
       "      <td>9332</td>\n",
       "    </tr>\n",
       "    <tr>\n",
       "      <th>url</th>\n",
       "      <td>0</td>\n",
       "    </tr>\n",
       "    <tr>\n",
       "      <th>software</th>\n",
       "      <td>0</td>\n",
       "    </tr>\n",
       "  </tbody>\n",
       "</table>\n",
       "</div>"
      ],
      "text/plain": [
       "              NaNs\n",
       "paper_id         0\n",
       "doi           3144\n",
       "title            0\n",
       "source_x         0\n",
       "license          0\n",
       "publish_time     0\n",
       "journal       9332\n",
       "url              0\n",
       "software         0"
      ]
     },
     "execution_count": 6,
     "metadata": {},
     "output_type": "execute_result"
    }
   ],
   "source": [
    "df_NaNs = count_nan_per_column(CORD19_CSV)\n",
    "df_NaNs"
   ]
  },
  {
   "cell_type": "markdown",
   "metadata": {},
   "source": [
    "For further analysis, it is important to obey that the columns \"doi\" and \"journal\" contain NaNs."
   ]
  },
  {
   "cell_type": "code",
   "execution_count": 7,
   "metadata": {},
   "outputs": [
    {
     "data": {
      "text/plain": [
       "paper_id         40.000000\n",
       "doi              24.133883\n",
       "title           102.960064\n",
       "source_x         12.139758\n",
       "license           5.899985\n",
       "publish_time      9.930508\n",
       "journal          15.316212\n",
       "url             106.520155\n",
       "software         83.598324\n",
       "dtype: float64"
      ]
     },
     "execution_count": 7,
     "metadata": {},
     "output_type": "execute_result"
    }
   ],
   "source": [
    "CORD19_CSV.fillna('').astype(str).apply(lambda x:x.str.len()).mean()"
   ]
  },
  {
   "cell_type": "markdown",
   "metadata": {},
   "source": [
    "For further analysis, the average length of the titles is long and can be counted as descriptive."
   ]
  },
  {
   "cell_type": "markdown",
   "metadata": {},
   "source": [
    "The column publish_time is converted to the datetime format. "
   ]
  },
  {
   "cell_type": "code",
   "execution_count": 8,
   "metadata": {},
   "outputs": [],
   "source": [
    "CORD19_CSV['publish_time']=pd.to_datetime(CORD19_CSV.publish_time)"
   ]
  },
  {
   "cell_type": "code",
   "execution_count": 9,
   "metadata": {},
   "outputs": [],
   "source": [
    "#Indicate corrupted csv\n",
    "#paper_id -> check integrity with base 16 check\n",
    "#doi -> Regex check\n",
    "#title -> check exshow existence of covid, corona in title\n",
    "#source_x -> show most used source_x\n",
    "#license -> show most used license\n",
    "#publish_time -> check how many rows are before 2020 and after\n",
    "#journal -> show must used journal "
   ]
  },
  {
   "cell_type": "markdown",
   "metadata": {},
   "source": [
    "### Dedicated analysis based on columns"
   ]
  },
  {
   "cell_type": "markdown",
   "metadata": {},
   "source": [
    "Create own series for each row."
   ]
  },
  {
   "cell_type": "code",
   "execution_count": 10,
   "metadata": {},
   "outputs": [],
   "source": [
    "paper_id = CORD19_CSV.paper_id\n",
    "doi = CORD19_CSV.doi\n",
    "title = CORD19_CSV.title\n",
    "source_x = CORD19_CSV.source_x\n",
    "license = CORD19_CSV.license\n",
    "publish_time= CORD19_CSV.publish_time\n",
    "journal = CORD19_CSV.journal\n",
    "url = CORD19_CSV.url"
   ]
  },
  {
   "cell_type": "markdown",
   "metadata": {},
   "source": [
    "### Checking the column \"paper_id\""
   ]
  },
  {
   "cell_type": "markdown",
   "metadata": {},
   "source": [
    "First, checking the integrity of the series paper_id. It should be be obvious that each row has an unique ID which is not shared with another row. "
   ]
  },
  {
   "cell_type": "code",
   "execution_count": 11,
   "metadata": {},
   "outputs": [
    {
     "data": {
      "text/plain": [
       "0ed3c6a5559cd73307184f51fc53ccc76da559bc    3\n",
       "d1dde1df11f93e8eae0d0b467cd0455afdc5b98c    2\n",
       "36e2047d1674c3095617f3eb97f9f61e48989dfe    2\n",
       "c89f86cdd9d41eeec127cc0b03990c52888a9635    2\n",
       "dd74a3a343529174fe7c6485723cf2d5911c18ed    2\n",
       "                                           ..\n",
       "087bd257f348391a1bfb245c01a3628bea67d224    1\n",
       "5a8a8e3895fdb535d060a04e5e7dfb7a88aa3a8a    1\n",
       "6e480db817b37f365be468d1a78fcf7a6f32f8ff    1\n",
       "46ebfbb3db79bab7f78361721e37e8b35a34037e    1\n",
       "ca82689b38d436fa4b38d04a9c7c5b6fd0d7e2ce    1\n",
       "Name: paper_id, Length: 77436, dtype: int64"
      ]
     },
     "execution_count": 11,
     "metadata": {},
     "output_type": "execute_result"
    }
   ],
   "source": [
    "paper_id_counted = paper_id.value_counts()\n",
    "paper_id_counted"
   ]
  },
  {
   "cell_type": "markdown",
   "metadata": {},
   "source": [
    "The first finding linked to the column paper_id is that this column does not soley contain unique ID's. There's definitely rows which share ID's. For this, the exact number of shared ID's need to be found. "
   ]
  },
  {
   "cell_type": "code",
   "execution_count": 12,
   "metadata": {},
   "outputs": [],
   "source": [
    "def find_shared_values(col):\n",
    "    \"\"\" This function checks columns for shared values and deducts NaNs\n",
    "    \"\"\"\n",
    "    col_shared = len(col) - len(col.value_counts())\n",
    "    col_shared = col_shared - col.isnull().sum()\n",
    "    return col_shared"
   ]
  },
  {
   "cell_type": "code",
   "execution_count": 13,
   "metadata": {},
   "outputs": [
    {
     "data": {
      "text/plain": [
       "12"
      ]
     },
     "execution_count": 13,
     "metadata": {},
     "output_type": "execute_result"
    }
   ],
   "source": [
    "paper_id_shared_ids_num = find_shared_values(paper_id)    \n",
    "paper_id_shared_ids_num"
   ]
  },
  {
   "cell_type": "markdown",
   "metadata": {},
   "source": [
    "The column contains 12 shared ID's with even one used three times. "
   ]
  },
  {
   "cell_type": "code",
   "execution_count": 14,
   "metadata": {},
   "outputs": [
    {
     "data": {
      "text/plain": [
       "0ed3c6a5559cd73307184f51fc53ccc76da559bc    3\n",
       "d1dde1df11f93e8eae0d0b467cd0455afdc5b98c    2\n",
       "36e2047d1674c3095617f3eb97f9f61e48989dfe    2\n",
       "c89f86cdd9d41eeec127cc0b03990c52888a9635    2\n",
       "dd74a3a343529174fe7c6485723cf2d5911c18ed    2\n",
       "5d0d0bd116976e1412c10a84902894999df4a342    2\n",
       "46b053c7126c1603101f46e4bb6e411f790a45fc    2\n",
       "ff40e6b44e151e42a54227e255a88d0c0c104876    2\n",
       "ec7d3038b8912a9fc92f4d02a2c30d566d4d0a93    2\n",
       "0831fe32280e46ba8d5c1a9456111e1e009863ac    2\n",
       "5d6678f81812464543b367e7de138e23b3483ed1    2\n",
       "b8cd20475a12eda90f29fcf38b449c086e703144    1\n",
       "Name: paper_id, dtype: int64"
      ]
     },
     "execution_count": 14,
     "metadata": {},
     "output_type": "execute_result"
    }
   ],
   "source": [
    "paper_id_counted.head(paper_id_shared_ids_num)"
   ]
  },
  {
   "cell_type": "markdown",
   "metadata": {},
   "source": [
    "Check if the dataset contains only duplicates for the column paper_id or for whole DataFrame rows. Therefore, the function collect_rows_of_df will support the process. "
   ]
  },
  {
   "cell_type": "code",
   "execution_count": 15,
   "metadata": {},
   "outputs": [],
   "source": [
    "#Method receiving string and dataframe which returns double or tripple dataframe to append \n",
    "def collect_rows_of_df(df,column,st):\n",
    "    \"\"\"This function receives a dataframe, a column contained within a dataframe \n",
    "    and a string which can be found within the column. \n",
    "    Then, the string is compared to the whole column and.\n",
    "    When a match is found, the corresponding rows are returned as a dataframe. \n",
    "    \"\"\"\n",
    "    subset = df[df[column] == st]\n",
    "    return subset"
   ]
  },
  {
   "cell_type": "markdown",
   "metadata": {},
   "source": [
    "Collecting rows which share their paper_id."
   ]
  },
  {
   "cell_type": "code",
   "execution_count": 16,
   "metadata": {
    "scrolled": true
   },
   "outputs": [
    {
     "data": {
      "text/html": [
       "<div>\n",
       "<style scoped>\n",
       "    .dataframe tbody tr th:only-of-type {\n",
       "        vertical-align: middle;\n",
       "    }\n",
       "\n",
       "    .dataframe tbody tr th {\n",
       "        vertical-align: top;\n",
       "    }\n",
       "\n",
       "    .dataframe thead th {\n",
       "        text-align: right;\n",
       "    }\n",
       "</style>\n",
       "<table border=\"1\" class=\"dataframe\">\n",
       "  <thead>\n",
       "    <tr style=\"text-align: right;\">\n",
       "      <th></th>\n",
       "      <th>paper_id</th>\n",
       "      <th>doi</th>\n",
       "      <th>title</th>\n",
       "      <th>source_x</th>\n",
       "      <th>license</th>\n",
       "      <th>publish_time</th>\n",
       "      <th>journal</th>\n",
       "      <th>url</th>\n",
       "      <th>software</th>\n",
       "    </tr>\n",
       "  </thead>\n",
       "  <tbody>\n",
       "    <tr>\n",
       "      <th>4466</th>\n",
       "      <td>0ed3c6a5559cd73307184f51fc53ccc76da559bc</td>\n",
       "      <td>10.1016/j.jinf.2020.02.019</td>\n",
       "      <td>Simulating and forecasting the cumulative conf...</td>\n",
       "      <td>Elsevier; Medline; PMC</td>\n",
       "      <td>no-cc</td>\n",
       "      <td>2020-02-26</td>\n",
       "      <td>J Infect</td>\n",
       "      <td>https://doi.org/10.1016/j.jinf.2020.02.019; ht...</td>\n",
       "      <td>['SAS', 'NLIA', 'NLIA', 'SAS', 'SAS', 'NLIA', ...</td>\n",
       "    </tr>\n",
       "    <tr>\n",
       "      <th>4467</th>\n",
       "      <td>0ed3c6a5559cd73307184f51fc53ccc76da559bc</td>\n",
       "      <td>10.1016/j.jinf.2020.02.020</td>\n",
       "      <td>Novel coronavirus disease (Covid-19): The firs...</td>\n",
       "      <td>Elsevier; Medline; PMC</td>\n",
       "      <td>els-covid</td>\n",
       "      <td>2020-05-31</td>\n",
       "      <td>Journal of Infection</td>\n",
       "      <td>https://www.sciencedirect.com/science/article/...</td>\n",
       "      <td>['SAS', 'NLIA', 'NLIA', 'SAS', 'SAS', 'NLIA', ...</td>\n",
       "    </tr>\n",
       "    <tr>\n",
       "      <th>4468</th>\n",
       "      <td>0ed3c6a5559cd73307184f51fc53ccc76da559bc</td>\n",
       "      <td>10.1016/j.jinf.2020.02.011</td>\n",
       "      <td>Chinese medical personnel against the 2019-nCoV</td>\n",
       "      <td>Elsevier; Medline; PMC</td>\n",
       "      <td>els-covid</td>\n",
       "      <td>2020-05-31</td>\n",
       "      <td>Journal of Infection</td>\n",
       "      <td>https://api.elsevier.com/content/article/pii/S...</td>\n",
       "      <td>['SAS', 'NLIA', 'NLIA', 'SAS', 'SAS', 'NLIA', ...</td>\n",
       "    </tr>\n",
       "    <tr>\n",
       "      <th>63590</th>\n",
       "      <td>d1dde1df11f93e8eae0d0b467cd0455afdc5b98c</td>\n",
       "      <td>NaN</td>\n",
       "      <td>Knowledge synthesis from 100 million biomedica...</td>\n",
       "      <td>ArXiv</td>\n",
       "      <td>arxiv</td>\n",
       "      <td>2020-03-28</td>\n",
       "      <td>NaN</td>\n",
       "      <td>https://arxiv.org/pdf/2003.12773v1.pdf</td>\n",
       "      <td>['nferX', 'nferX', 'Single Cell', 'Drop', 'Sin...</td>\n",
       "    </tr>\n",
       "    <tr>\n",
       "      <th>63591</th>\n",
       "      <td>d1dde1df11f93e8eae0d0b467cd0455afdc5b98c</td>\n",
       "      <td>10.1101/2020.03.24.005702</td>\n",
       "      <td>Knowledge synthesis from 100 million biomedica...</td>\n",
       "      <td>BioRxiv; WHO</td>\n",
       "      <td>biorxiv</td>\n",
       "      <td>2020-03-29</td>\n",
       "      <td>bioRxiv</td>\n",
       "      <td>https://doi.org/10.1101/2020.03.24.005702</td>\n",
       "      <td>['nferX', 'nferX', 'Single Cell', 'Drop', 'Sin...</td>\n",
       "    </tr>\n",
       "    <tr>\n",
       "      <th>16564</th>\n",
       "      <td>36e2047d1674c3095617f3eb97f9f61e48989dfe</td>\n",
       "      <td>10.1016/j.dsx.2020.04.012</td>\n",
       "      <td>Artificial Intelligence (AI) applications for ...</td>\n",
       "      <td>PMC</td>\n",
       "      <td>no-cc</td>\n",
       "      <td>2020-04-14</td>\n",
       "      <td>Diabetes Metab Syndr</td>\n",
       "      <td>https://www.ncbi.nlm.nih.gov/pmc/articles/PMC7...</td>\n",
       "      <td>['Scopus', 'Google Scholar', 'Scopus', 'Google...</td>\n",
       "    </tr>\n",
       "    <tr>\n",
       "      <th>16565</th>\n",
       "      <td>36e2047d1674c3095617f3eb97f9f61e48989dfe</td>\n",
       "      <td>10.1016/j.dsx.2020.04.012</td>\n",
       "      <td>Artificial Intelligence (AI) applications for ...</td>\n",
       "      <td>Elsevier</td>\n",
       "      <td>els-covid</td>\n",
       "      <td>2020-08-31</td>\n",
       "      <td>Diabetes &amp; Metabolic Syndrome: Clinical Resear...</td>\n",
       "      <td>https://api.elsevier.com/content/article/pii/S...</td>\n",
       "      <td>['Scopus', 'Google Scholar', 'Scopus', 'Google...</td>\n",
       "    </tr>\n",
       "    <tr>\n",
       "      <th>60796</th>\n",
       "      <td>c89f86cdd9d41eeec127cc0b03990c52888a9635</td>\n",
       "      <td>10.1101/2020.11.07.372938</td>\n",
       "      <td>A low power flexible dielectric barrier discha...</td>\n",
       "      <td>BioRxiv</td>\n",
       "      <td>biorxiv</td>\n",
       "      <td>2020-11-09</td>\n",
       "      <td>bioRxiv</td>\n",
       "      <td>https://doi.org/10.1101/2020.11.07.372938</td>\n",
       "      <td>['ImageJ', 'ImageJ', 'Sterlis®', 'Sterlis®']</td>\n",
       "    </tr>\n",
       "    <tr>\n",
       "      <th>60797</th>\n",
       "      <td>c89f86cdd9d41eeec127cc0b03990c52888a9635</td>\n",
       "      <td>NaN</td>\n",
       "      <td>A low power flexible dielectric barrier discha...</td>\n",
       "      <td>ArXiv</td>\n",
       "      <td>arxiv</td>\n",
       "      <td>2020-11-08</td>\n",
       "      <td>NaN</td>\n",
       "      <td>https://arxiv.org/pdf/2011.03898v1.pdf</td>\n",
       "      <td>['ImageJ', 'ImageJ', 'Sterlis®', 'Sterlis®']</td>\n",
       "    </tr>\n",
       "    <tr>\n",
       "      <th>67078</th>\n",
       "      <td>dd74a3a343529174fe7c6485723cf2d5911c18ed</td>\n",
       "      <td>NaN</td>\n",
       "      <td>Models for COVID-19 Pandemic: A Comparative An...</td>\n",
       "      <td>PMC</td>\n",
       "      <td>cc-by</td>\n",
       "      <td>2020-09-21</td>\n",
       "      <td>ArXiv</td>\n",
       "      <td>https://www.ncbi.nlm.nih.gov/pmc/articles/PMC7...</td>\n",
       "      <td>['PatchSim', 'Landscan', 'Landscan', 'PatchSim...</td>\n",
       "    </tr>\n",
       "    <tr>\n",
       "      <th>67079</th>\n",
       "      <td>dd74a3a343529174fe7c6485723cf2d5911c18ed</td>\n",
       "      <td>NaN</td>\n",
       "      <td>Models for COVID-19 Pandemic: A Comparative An...</td>\n",
       "      <td>ArXiv</td>\n",
       "      <td>arxiv</td>\n",
       "      <td>2020-09-21</td>\n",
       "      <td>NaN</td>\n",
       "      <td>https://arxiv.org/pdf/2009.10014v1.pdf</td>\n",
       "      <td>['PatchSim', 'Landscan', 'Landscan', 'PatchSim...</td>\n",
       "    </tr>\n",
       "    <tr>\n",
       "      <th>28044</th>\n",
       "      <td>5d0d0bd116976e1412c10a84902894999df4a342</td>\n",
       "      <td>10.1016/j.jinf.2020.02.013</td>\n",
       "      <td>Analysis of angiotensin-converting enzyme 2 (A...</td>\n",
       "      <td>Elsevier; Medline; PMC</td>\n",
       "      <td>no-cc</td>\n",
       "      <td>2020-02-21</td>\n",
       "      <td>J Infect</td>\n",
       "      <td>https://www.sciencedirect.com/science/article/...</td>\n",
       "      <td>['MAFFT', 'Epi2Me interface', 'MinION', 'MAFFT...</td>\n",
       "    </tr>\n",
       "    <tr>\n",
       "      <th>28045</th>\n",
       "      <td>5d0d0bd116976e1412c10a84902894999df4a342</td>\n",
       "      <td>10.1016/j.jinf.2020.02.014</td>\n",
       "      <td>Trend and forecasting of the COVID-19 outbreak...</td>\n",
       "      <td>ArXiv; Elsevier; Medline; PMC</td>\n",
       "      <td>els-covid</td>\n",
       "      <td>2020-04-30</td>\n",
       "      <td>Journal of Infection</td>\n",
       "      <td>https://api.elsevier.com/content/article/pii/S...</td>\n",
       "      <td>['MAFFT', 'Epi2Me interface', 'MinION', 'MAFFT...</td>\n",
       "    </tr>\n",
       "    <tr>\n",
       "      <th>21299</th>\n",
       "      <td>46b053c7126c1603101f46e4bb6e411f790a45fc</td>\n",
       "      <td>NaN</td>\n",
       "      <td>The Interplay of Demographic Variables and Soc...</td>\n",
       "      <td>ArXiv</td>\n",
       "      <td>arxiv</td>\n",
       "      <td>2021-01-06</td>\n",
       "      <td>NaN</td>\n",
       "      <td>https://arxiv.org/pdf/2101.02113v1.pdf</td>\n",
       "      <td>['Unacast', 'Unacast']</td>\n",
       "    </tr>\n",
       "    <tr>\n",
       "      <th>21300</th>\n",
       "      <td>46b053c7126c1603101f46e4bb6e411f790a45fc</td>\n",
       "      <td>NaN</td>\n",
       "      <td>The Interplay of Demographic Variables and Soc...</td>\n",
       "      <td>Medline; PMC</td>\n",
       "      <td>cc-by-nc-sa</td>\n",
       "      <td>2021-01-06</td>\n",
       "      <td>ArXiv</td>\n",
       "      <td>https://www.ncbi.nlm.nih.gov/pubmed/33442559/</td>\n",
       "      <td>['Unacast', 'Unacast']</td>\n",
       "    </tr>\n",
       "    <tr>\n",
       "      <th>77204</th>\n",
       "      <td>ff40e6b44e151e42a54227e255a88d0c0c104876</td>\n",
       "      <td>NaN</td>\n",
       "      <td>Interactive SARS-CoV-2 mutation timemaps</td>\n",
       "      <td>PMC</td>\n",
       "      <td>cc-by</td>\n",
       "      <td>2020-12-31</td>\n",
       "      <td>ArXiv</td>\n",
       "      <td>https://www.ncbi.nlm.nih.gov/pmc/articles/PMC7...</td>\n",
       "      <td>['ntEdit', 'ntEdit', 'ntEdit', 'ntHits', 'ntEd...</td>\n",
       "    </tr>\n",
       "    <tr>\n",
       "      <th>77205</th>\n",
       "      <td>ff40e6b44e151e42a54227e255a88d0c0c104876</td>\n",
       "      <td>NaN</td>\n",
       "      <td>Interactive SARS-CoV-2 mutation timemaps</td>\n",
       "      <td>ArXiv</td>\n",
       "      <td>arxiv</td>\n",
       "      <td>2020-12-31</td>\n",
       "      <td>NaN</td>\n",
       "      <td>https://arxiv.org/pdf/2012.15697v1.pdf</td>\n",
       "      <td>['ntEdit', 'ntEdit', 'ntEdit', 'ntHits', 'ntEd...</td>\n",
       "    </tr>\n",
       "    <tr>\n",
       "      <th>71596</th>\n",
       "      <td>ec7d3038b8912a9fc92f4d02a2c30d566d4d0a93</td>\n",
       "      <td>10.1101/2020.04.12.038158</td>\n",
       "      <td>Modern Hopfield Networks and Attention for Imm...</td>\n",
       "      <td>BioRxiv</td>\n",
       "      <td>biorxiv</td>\n",
       "      <td>2020-08-17</td>\n",
       "      <td>bioRxiv</td>\n",
       "      <td>https://doi.org/10.1101/2020.04.12.038158</td>\n",
       "      <td>['DeepRC', 'DeepRC', 'DeepRC', 'DeepRC', 'Deep...</td>\n",
       "    </tr>\n",
       "    <tr>\n",
       "      <th>71597</th>\n",
       "      <td>ec7d3038b8912a9fc92f4d02a2c30d566d4d0a93</td>\n",
       "      <td>NaN</td>\n",
       "      <td>Modern Hopfield Networks and Attention for Imm...</td>\n",
       "      <td>ArXiv</td>\n",
       "      <td>arxiv</td>\n",
       "      <td>2020-07-16</td>\n",
       "      <td>NaN</td>\n",
       "      <td>https://arxiv.org/pdf/2007.13505v1.pdf</td>\n",
       "      <td>['DeepRC', 'DeepRC', 'DeepRC', 'DeepRC', 'Deep...</td>\n",
       "    </tr>\n",
       "    <tr>\n",
       "      <th>2447</th>\n",
       "      <td>0831fe32280e46ba8d5c1a9456111e1e009863ac</td>\n",
       "      <td>NaN</td>\n",
       "      <td>A trial emulation approach for policy evaluati...</td>\n",
       "      <td>ArXiv</td>\n",
       "      <td>arxiv</td>\n",
       "      <td>2020-11-11</td>\n",
       "      <td>NaN</td>\n",
       "      <td>https://arxiv.org/pdf/2011.05826v1.pdf</td>\n",
       "      <td>['NYT Tracker', 'NYT Tracker']</td>\n",
       "    </tr>\n",
       "    <tr>\n",
       "      <th>2448</th>\n",
       "      <td>0831fe32280e46ba8d5c1a9456111e1e009863ac</td>\n",
       "      <td>NaN</td>\n",
       "      <td>A trial emulation approach for policy evaluati...</td>\n",
       "      <td>Medline; PMC</td>\n",
       "      <td>cc-by</td>\n",
       "      <td>2020-11-11</td>\n",
       "      <td>ArXiv</td>\n",
       "      <td>https://www.ncbi.nlm.nih.gov/pubmed/33200083/</td>\n",
       "      <td>['NYT Tracker', 'NYT Tracker']</td>\n",
       "    </tr>\n",
       "    <tr>\n",
       "      <th>28159</th>\n",
       "      <td>5d6678f81812464543b367e7de138e23b3483ed1</td>\n",
       "      <td>NaN</td>\n",
       "      <td>Data-driven modeling for different stages of p...</td>\n",
       "      <td>PMC</td>\n",
       "      <td>cc-by</td>\n",
       "      <td>2020-09-21</td>\n",
       "      <td>ArXiv</td>\n",
       "      <td>https://www.ncbi.nlm.nih.gov/pmc/articles/PMC7...</td>\n",
       "      <td>['Influenza Risk Assessment Tool (IRAT)', 'Pan...</td>\n",
       "    </tr>\n",
       "    <tr>\n",
       "      <th>28160</th>\n",
       "      <td>5d6678f81812464543b367e7de138e23b3483ed1</td>\n",
       "      <td>NaN</td>\n",
       "      <td>Data-driven modeling for different stages of p...</td>\n",
       "      <td>ArXiv</td>\n",
       "      <td>arxiv</td>\n",
       "      <td>2020-09-21</td>\n",
       "      <td>NaN</td>\n",
       "      <td>https://arxiv.org/pdf/2009.10018v1.pdf</td>\n",
       "      <td>['Influenza Risk Assessment Tool (IRAT)', 'Pan...</td>\n",
       "    </tr>\n",
       "    <tr>\n",
       "      <th>55884</th>\n",
       "      <td>b8cd20475a12eda90f29fcf38b449c086e703144</td>\n",
       "      <td>10.3346/jkms.2016.31.s2.s178</td>\n",
       "      <td>Disability-Adjusted Life Years for Communicabl...</td>\n",
       "      <td>Medline; PMC</td>\n",
       "      <td>cc-by-nc</td>\n",
       "      <td>2016-07-18</td>\n",
       "      <td>J Korean Med Sci</td>\n",
       "      <td>https://doi.org/10.3346/jkms.2016.31.s2.s178; ...</td>\n",
       "      <td>['Dismod']</td>\n",
       "    </tr>\n",
       "  </tbody>\n",
       "</table>\n",
       "</div>"
      ],
      "text/plain": [
       "                                       paper_id                           doi  \\\n",
       "4466   0ed3c6a5559cd73307184f51fc53ccc76da559bc    10.1016/j.jinf.2020.02.019   \n",
       "4467   0ed3c6a5559cd73307184f51fc53ccc76da559bc    10.1016/j.jinf.2020.02.020   \n",
       "4468   0ed3c6a5559cd73307184f51fc53ccc76da559bc    10.1016/j.jinf.2020.02.011   \n",
       "63590  d1dde1df11f93e8eae0d0b467cd0455afdc5b98c                           NaN   \n",
       "63591  d1dde1df11f93e8eae0d0b467cd0455afdc5b98c     10.1101/2020.03.24.005702   \n",
       "16564  36e2047d1674c3095617f3eb97f9f61e48989dfe     10.1016/j.dsx.2020.04.012   \n",
       "16565  36e2047d1674c3095617f3eb97f9f61e48989dfe     10.1016/j.dsx.2020.04.012   \n",
       "60796  c89f86cdd9d41eeec127cc0b03990c52888a9635     10.1101/2020.11.07.372938   \n",
       "60797  c89f86cdd9d41eeec127cc0b03990c52888a9635                           NaN   \n",
       "67078  dd74a3a343529174fe7c6485723cf2d5911c18ed                           NaN   \n",
       "67079  dd74a3a343529174fe7c6485723cf2d5911c18ed                           NaN   \n",
       "28044  5d0d0bd116976e1412c10a84902894999df4a342    10.1016/j.jinf.2020.02.013   \n",
       "28045  5d0d0bd116976e1412c10a84902894999df4a342    10.1016/j.jinf.2020.02.014   \n",
       "21299  46b053c7126c1603101f46e4bb6e411f790a45fc                           NaN   \n",
       "21300  46b053c7126c1603101f46e4bb6e411f790a45fc                           NaN   \n",
       "77204  ff40e6b44e151e42a54227e255a88d0c0c104876                           NaN   \n",
       "77205  ff40e6b44e151e42a54227e255a88d0c0c104876                           NaN   \n",
       "71596  ec7d3038b8912a9fc92f4d02a2c30d566d4d0a93     10.1101/2020.04.12.038158   \n",
       "71597  ec7d3038b8912a9fc92f4d02a2c30d566d4d0a93                           NaN   \n",
       "2447   0831fe32280e46ba8d5c1a9456111e1e009863ac                           NaN   \n",
       "2448   0831fe32280e46ba8d5c1a9456111e1e009863ac                           NaN   \n",
       "28159  5d6678f81812464543b367e7de138e23b3483ed1                           NaN   \n",
       "28160  5d6678f81812464543b367e7de138e23b3483ed1                           NaN   \n",
       "55884  b8cd20475a12eda90f29fcf38b449c086e703144  10.3346/jkms.2016.31.s2.s178   \n",
       "\n",
       "                                                   title  \\\n",
       "4466   Simulating and forecasting the cumulative conf...   \n",
       "4467   Novel coronavirus disease (Covid-19): The firs...   \n",
       "4468     Chinese medical personnel against the 2019-nCoV   \n",
       "63590  Knowledge synthesis from 100 million biomedica...   \n",
       "63591  Knowledge synthesis from 100 million biomedica...   \n",
       "16564  Artificial Intelligence (AI) applications for ...   \n",
       "16565  Artificial Intelligence (AI) applications for ...   \n",
       "60796  A low power flexible dielectric barrier discha...   \n",
       "60797  A low power flexible dielectric barrier discha...   \n",
       "67078  Models for COVID-19 Pandemic: A Comparative An...   \n",
       "67079  Models for COVID-19 Pandemic: A Comparative An...   \n",
       "28044  Analysis of angiotensin-converting enzyme 2 (A...   \n",
       "28045  Trend and forecasting of the COVID-19 outbreak...   \n",
       "21299  The Interplay of Demographic Variables and Soc...   \n",
       "21300  The Interplay of Demographic Variables and Soc...   \n",
       "77204           Interactive SARS-CoV-2 mutation timemaps   \n",
       "77205           Interactive SARS-CoV-2 mutation timemaps   \n",
       "71596  Modern Hopfield Networks and Attention for Imm...   \n",
       "71597  Modern Hopfield Networks and Attention for Imm...   \n",
       "2447   A trial emulation approach for policy evaluati...   \n",
       "2448   A trial emulation approach for policy evaluati...   \n",
       "28159  Data-driven modeling for different stages of p...   \n",
       "28160  Data-driven modeling for different stages of p...   \n",
       "55884  Disability-Adjusted Life Years for Communicabl...   \n",
       "\n",
       "                            source_x      license publish_time  \\\n",
       "4466          Elsevier; Medline; PMC        no-cc   2020-02-26   \n",
       "4467          Elsevier; Medline; PMC    els-covid   2020-05-31   \n",
       "4468          Elsevier; Medline; PMC    els-covid   2020-05-31   \n",
       "63590                          ArXiv        arxiv   2020-03-28   \n",
       "63591                   BioRxiv; WHO      biorxiv   2020-03-29   \n",
       "16564                            PMC        no-cc   2020-04-14   \n",
       "16565                       Elsevier    els-covid   2020-08-31   \n",
       "60796                        BioRxiv      biorxiv   2020-11-09   \n",
       "60797                          ArXiv        arxiv   2020-11-08   \n",
       "67078                            PMC        cc-by   2020-09-21   \n",
       "67079                          ArXiv        arxiv   2020-09-21   \n",
       "28044         Elsevier; Medline; PMC        no-cc   2020-02-21   \n",
       "28045  ArXiv; Elsevier; Medline; PMC    els-covid   2020-04-30   \n",
       "21299                          ArXiv        arxiv   2021-01-06   \n",
       "21300                   Medline; PMC  cc-by-nc-sa   2021-01-06   \n",
       "77204                            PMC        cc-by   2020-12-31   \n",
       "77205                          ArXiv        arxiv   2020-12-31   \n",
       "71596                        BioRxiv      biorxiv   2020-08-17   \n",
       "71597                          ArXiv        arxiv   2020-07-16   \n",
       "2447                           ArXiv        arxiv   2020-11-11   \n",
       "2448                    Medline; PMC        cc-by   2020-11-11   \n",
       "28159                            PMC        cc-by   2020-09-21   \n",
       "28160                          ArXiv        arxiv   2020-09-21   \n",
       "55884                   Medline; PMC     cc-by-nc   2016-07-18   \n",
       "\n",
       "                                                 journal  \\\n",
       "4466                                            J Infect   \n",
       "4467                                Journal of Infection   \n",
       "4468                                Journal of Infection   \n",
       "63590                                                NaN   \n",
       "63591                                            bioRxiv   \n",
       "16564                               Diabetes Metab Syndr   \n",
       "16565  Diabetes & Metabolic Syndrome: Clinical Resear...   \n",
       "60796                                            bioRxiv   \n",
       "60797                                                NaN   \n",
       "67078                                              ArXiv   \n",
       "67079                                                NaN   \n",
       "28044                                           J Infect   \n",
       "28045                               Journal of Infection   \n",
       "21299                                                NaN   \n",
       "21300                                              ArXiv   \n",
       "77204                                              ArXiv   \n",
       "77205                                                NaN   \n",
       "71596                                            bioRxiv   \n",
       "71597                                                NaN   \n",
       "2447                                                 NaN   \n",
       "2448                                               ArXiv   \n",
       "28159                                              ArXiv   \n",
       "28160                                                NaN   \n",
       "55884                                   J Korean Med Sci   \n",
       "\n",
       "                                                     url  \\\n",
       "4466   https://doi.org/10.1016/j.jinf.2020.02.019; ht...   \n",
       "4467   https://www.sciencedirect.com/science/article/...   \n",
       "4468   https://api.elsevier.com/content/article/pii/S...   \n",
       "63590             https://arxiv.org/pdf/2003.12773v1.pdf   \n",
       "63591          https://doi.org/10.1101/2020.03.24.005702   \n",
       "16564  https://www.ncbi.nlm.nih.gov/pmc/articles/PMC7...   \n",
       "16565  https://api.elsevier.com/content/article/pii/S...   \n",
       "60796          https://doi.org/10.1101/2020.11.07.372938   \n",
       "60797             https://arxiv.org/pdf/2011.03898v1.pdf   \n",
       "67078  https://www.ncbi.nlm.nih.gov/pmc/articles/PMC7...   \n",
       "67079             https://arxiv.org/pdf/2009.10014v1.pdf   \n",
       "28044  https://www.sciencedirect.com/science/article/...   \n",
       "28045  https://api.elsevier.com/content/article/pii/S...   \n",
       "21299             https://arxiv.org/pdf/2101.02113v1.pdf   \n",
       "21300      https://www.ncbi.nlm.nih.gov/pubmed/33442559/   \n",
       "77204  https://www.ncbi.nlm.nih.gov/pmc/articles/PMC7...   \n",
       "77205             https://arxiv.org/pdf/2012.15697v1.pdf   \n",
       "71596          https://doi.org/10.1101/2020.04.12.038158   \n",
       "71597             https://arxiv.org/pdf/2007.13505v1.pdf   \n",
       "2447              https://arxiv.org/pdf/2011.05826v1.pdf   \n",
       "2448       https://www.ncbi.nlm.nih.gov/pubmed/33200083/   \n",
       "28159  https://www.ncbi.nlm.nih.gov/pmc/articles/PMC7...   \n",
       "28160             https://arxiv.org/pdf/2009.10018v1.pdf   \n",
       "55884  https://doi.org/10.3346/jkms.2016.31.s2.s178; ...   \n",
       "\n",
       "                                                software  \n",
       "4466   ['SAS', 'NLIA', 'NLIA', 'SAS', 'SAS', 'NLIA', ...  \n",
       "4467   ['SAS', 'NLIA', 'NLIA', 'SAS', 'SAS', 'NLIA', ...  \n",
       "4468   ['SAS', 'NLIA', 'NLIA', 'SAS', 'SAS', 'NLIA', ...  \n",
       "63590  ['nferX', 'nferX', 'Single Cell', 'Drop', 'Sin...  \n",
       "63591  ['nferX', 'nferX', 'Single Cell', 'Drop', 'Sin...  \n",
       "16564  ['Scopus', 'Google Scholar', 'Scopus', 'Google...  \n",
       "16565  ['Scopus', 'Google Scholar', 'Scopus', 'Google...  \n",
       "60796       ['ImageJ', 'ImageJ', 'Sterlis®', 'Sterlis®']  \n",
       "60797       ['ImageJ', 'ImageJ', 'Sterlis®', 'Sterlis®']  \n",
       "67078  ['PatchSim', 'Landscan', 'Landscan', 'PatchSim...  \n",
       "67079  ['PatchSim', 'Landscan', 'Landscan', 'PatchSim...  \n",
       "28044  ['MAFFT', 'Epi2Me interface', 'MinION', 'MAFFT...  \n",
       "28045  ['MAFFT', 'Epi2Me interface', 'MinION', 'MAFFT...  \n",
       "21299                             ['Unacast', 'Unacast']  \n",
       "21300                             ['Unacast', 'Unacast']  \n",
       "77204  ['ntEdit', 'ntEdit', 'ntEdit', 'ntHits', 'ntEd...  \n",
       "77205  ['ntEdit', 'ntEdit', 'ntEdit', 'ntHits', 'ntEd...  \n",
       "71596  ['DeepRC', 'DeepRC', 'DeepRC', 'DeepRC', 'Deep...  \n",
       "71597  ['DeepRC', 'DeepRC', 'DeepRC', 'DeepRC', 'Deep...  \n",
       "2447                      ['NYT Tracker', 'NYT Tracker']  \n",
       "2448                      ['NYT Tracker', 'NYT Tracker']  \n",
       "28159  ['Influenza Risk Assessment Tool (IRAT)', 'Pan...  \n",
       "28160  ['Influenza Risk Assessment Tool (IRAT)', 'Pan...  \n",
       "55884                                         ['Dismod']  "
      ]
     },
     "execution_count": 16,
     "metadata": {},
     "output_type": "execute_result"
    }
   ],
   "source": [
    "x = 0 \n",
    "shared_paper_id_df = pd.DataFrame(columns=['paper_id','doi','title','source_x','license','publish_time','journal','url','software'])\n",
    "while x < paper_id_shared_ids_num:\n",
    "    shared_paper_id_df = shared_paper_id_df.append(collect_rows_of_df(CORD19_CSV, 'paper_id', paper_id_counted.index[x]))\n",
    "    x= x+1\n",
    "shared_paper_id_df"
   ]
  },
  {
   "cell_type": "markdown",
   "metadata": {},
   "source": [
    "Besides software, the paper_id duplicates have variations among all other columns. "
   ]
  },
  {
   "cell_type": "code",
   "execution_count": 17,
   "metadata": {},
   "outputs": [],
   "source": [
    "#check paper_id base16 validity "
   ]
  },
  {
   "cell_type": "markdown",
   "metadata": {},
   "source": [
    "### Checking the column \"doi\""
   ]
  },
  {
   "cell_type": "markdown",
   "metadata": {},
   "source": [
    "Each paper in this dataset should have an unique doi because duplicates are skewing the analysis and potential outcomes. "
   ]
  },
  {
   "cell_type": "code",
   "execution_count": 18,
   "metadata": {},
   "outputs": [
    {
     "data": {
      "text/plain": [
       "10.31729/jnma.5498             2\n",
       "10.1016/j.dsx.2020.04.012      2\n",
       "10.1091/mbc.e20-06-0374        1\n",
       "10.1016/j.jim.2011.08.006      1\n",
       "10.1007/bf01310885             1\n",
       "                              ..\n",
       "10.1101/2020.05.06.20092981    1\n",
       "10.1101/2020.08.05.238386      1\n",
       "10.1093/jamiaopen/ooaa047      1\n",
       "10.1097/md.0000000000023365    1\n",
       "10.1117/12.2559324             1\n",
       "Name: doi, Length: 74302, dtype: int64"
      ]
     },
     "execution_count": 18,
     "metadata": {},
     "output_type": "execute_result"
    }
   ],
   "source": [
    "doi_counted = doi.value_counts()\n",
    "doi_counted"
   ]
  },
  {
   "cell_type": "code",
   "execution_count": 19,
   "metadata": {},
   "outputs": [
    {
     "data": {
      "text/plain": [
       "2"
      ]
     },
     "execution_count": 19,
     "metadata": {},
     "output_type": "execute_result"
    }
   ],
   "source": [
    "doi_shared_dois_num = find_shared_values(doi)    \n",
    "doi_shared_dois_num"
   ]
  },
  {
   "cell_type": "markdown",
   "metadata": {},
   "source": [
    "The column \"doi\" contains two entries which share a doi. "
   ]
  },
  {
   "cell_type": "code",
   "execution_count": 20,
   "metadata": {},
   "outputs": [
    {
     "data": {
      "text/plain": [
       "10.31729/jnma.5498           2\n",
       "10.1016/j.dsx.2020.04.012    2\n",
       "Name: doi, dtype: int64"
      ]
     },
     "execution_count": 20,
     "metadata": {},
     "output_type": "execute_result"
    }
   ],
   "source": [
    "doi_counted.head(doi_shared_dois_num)"
   ]
  },
  {
   "cell_type": "markdown",
   "metadata": {},
   "source": [
    "For this, it needs to be explored how the shared dois are in relation to each other based on their row. "
   ]
  },
  {
   "cell_type": "code",
   "execution_count": 21,
   "metadata": {},
   "outputs": [
    {
     "data": {
      "text/html": [
       "<div>\n",
       "<style scoped>\n",
       "    .dataframe tbody tr th:only-of-type {\n",
       "        vertical-align: middle;\n",
       "    }\n",
       "\n",
       "    .dataframe tbody tr th {\n",
       "        vertical-align: top;\n",
       "    }\n",
       "\n",
       "    .dataframe thead th {\n",
       "        text-align: right;\n",
       "    }\n",
       "</style>\n",
       "<table border=\"1\" class=\"dataframe\">\n",
       "  <thead>\n",
       "    <tr style=\"text-align: right;\">\n",
       "      <th></th>\n",
       "      <th>paper_id</th>\n",
       "      <th>doi</th>\n",
       "      <th>title</th>\n",
       "      <th>source_x</th>\n",
       "      <th>license</th>\n",
       "      <th>publish_time</th>\n",
       "      <th>journal</th>\n",
       "      <th>url</th>\n",
       "      <th>software</th>\n",
       "    </tr>\n",
       "  </thead>\n",
       "  <tbody>\n",
       "    <tr>\n",
       "      <th>38600</th>\n",
       "      <td>80273c63683cad57323802542cfdcfcd76c805bf</td>\n",
       "      <td>10.31729/jnma.5498</td>\n",
       "      <td>Mental Wellbeing during the Lockdown Period fo...</td>\n",
       "      <td>PMC</td>\n",
       "      <td>cc-by</td>\n",
       "      <td>2020-10-31</td>\n",
       "      <td>JNMA J Nepal Med Assoc</td>\n",
       "      <td>https://www.ncbi.nlm.nih.gov/pmc/articles/PMC7...</td>\n",
       "      <td>['SPSS']</td>\n",
       "    </tr>\n",
       "    <tr>\n",
       "      <th>42407</th>\n",
       "      <td>8cab7532249cedf3815d4dada6400390a1f8a28a</td>\n",
       "      <td>10.31729/jnma.5498</td>\n",
       "      <td>Interpersonal Violence during the COVID-19 Loc...</td>\n",
       "      <td>PMC</td>\n",
       "      <td>cc-by</td>\n",
       "      <td>2020-10-31</td>\n",
       "      <td>JNMA J Nepal Med Assoc</td>\n",
       "      <td>https://www.ncbi.nlm.nih.gov/pmc/articles/PMC7...</td>\n",
       "      <td>['SPSS', 'WHO']</td>\n",
       "    </tr>\n",
       "    <tr>\n",
       "      <th>16564</th>\n",
       "      <td>36e2047d1674c3095617f3eb97f9f61e48989dfe</td>\n",
       "      <td>10.1016/j.dsx.2020.04.012</td>\n",
       "      <td>Artificial Intelligence (AI) applications for ...</td>\n",
       "      <td>PMC</td>\n",
       "      <td>no-cc</td>\n",
       "      <td>2020-04-14</td>\n",
       "      <td>Diabetes Metab Syndr</td>\n",
       "      <td>https://www.ncbi.nlm.nih.gov/pmc/articles/PMC7...</td>\n",
       "      <td>['Scopus', 'Google Scholar', 'Scopus', 'Google...</td>\n",
       "    </tr>\n",
       "    <tr>\n",
       "      <th>16565</th>\n",
       "      <td>36e2047d1674c3095617f3eb97f9f61e48989dfe</td>\n",
       "      <td>10.1016/j.dsx.2020.04.012</td>\n",
       "      <td>Artificial Intelligence (AI) applications for ...</td>\n",
       "      <td>Elsevier</td>\n",
       "      <td>els-covid</td>\n",
       "      <td>2020-08-31</td>\n",
       "      <td>Diabetes &amp; Metabolic Syndrome: Clinical Resear...</td>\n",
       "      <td>https://api.elsevier.com/content/article/pii/S...</td>\n",
       "      <td>['Scopus', 'Google Scholar', 'Scopus', 'Google...</td>\n",
       "    </tr>\n",
       "  </tbody>\n",
       "</table>\n",
       "</div>"
      ],
      "text/plain": [
       "                                       paper_id                        doi  \\\n",
       "38600  80273c63683cad57323802542cfdcfcd76c805bf         10.31729/jnma.5498   \n",
       "42407  8cab7532249cedf3815d4dada6400390a1f8a28a         10.31729/jnma.5498   \n",
       "16564  36e2047d1674c3095617f3eb97f9f61e48989dfe  10.1016/j.dsx.2020.04.012   \n",
       "16565  36e2047d1674c3095617f3eb97f9f61e48989dfe  10.1016/j.dsx.2020.04.012   \n",
       "\n",
       "                                                   title  source_x    license  \\\n",
       "38600  Mental Wellbeing during the Lockdown Period fo...       PMC      cc-by   \n",
       "42407  Interpersonal Violence during the COVID-19 Loc...       PMC      cc-by   \n",
       "16564  Artificial Intelligence (AI) applications for ...       PMC      no-cc   \n",
       "16565  Artificial Intelligence (AI) applications for ...  Elsevier  els-covid   \n",
       "\n",
       "      publish_time                                            journal  \\\n",
       "38600   2020-10-31                             JNMA J Nepal Med Assoc   \n",
       "42407   2020-10-31                             JNMA J Nepal Med Assoc   \n",
       "16564   2020-04-14                               Diabetes Metab Syndr   \n",
       "16565   2020-08-31  Diabetes & Metabolic Syndrome: Clinical Resear...   \n",
       "\n",
       "                                                     url  \\\n",
       "38600  https://www.ncbi.nlm.nih.gov/pmc/articles/PMC7...   \n",
       "42407  https://www.ncbi.nlm.nih.gov/pmc/articles/PMC7...   \n",
       "16564  https://www.ncbi.nlm.nih.gov/pmc/articles/PMC7...   \n",
       "16565  https://api.elsevier.com/content/article/pii/S...   \n",
       "\n",
       "                                                software  \n",
       "38600                                           ['SPSS']  \n",
       "42407                                    ['SPSS', 'WHO']  \n",
       "16564  ['Scopus', 'Google Scholar', 'Scopus', 'Google...  \n",
       "16565  ['Scopus', 'Google Scholar', 'Scopus', 'Google...  "
      ]
     },
     "execution_count": 21,
     "metadata": {},
     "output_type": "execute_result"
    }
   ],
   "source": [
    "x = 0 \n",
    "shared_doi_df = pd.DataFrame(columns=['paper_id','doi','title','source_x','license','publish_time','journal','url','software'])\n",
    "while x < doi_shared_dois_num:\n",
    "    shared_doi_df  = shared_doi_df.append(collect_rows_of_df(CORD19_CSV, 'doi', doi_counted.index[x]))\n",
    "    x= x+1\n",
    "shared_doi_df"
   ]
  },
  {
   "cell_type": "markdown",
   "metadata": {},
   "source": [
    "The first match of doi is already know for sharing paper_id's. \n",
    "For the shared doi, there is an interesting occurence because the algorihtm which created the dataset outputed two distinct outcomes for the column software. "
   ]
  },
  {
   "cell_type": "markdown",
   "metadata": {},
   "source": [
    "### Checking the column \"title\""
   ]
  },
  {
   "cell_type": "markdown",
   "metadata": {},
   "source": [
    "Next, the column title will be investigated to produce insights. "
   ]
  },
  {
   "cell_type": "code",
   "execution_count": 22,
   "metadata": {},
   "outputs": [
    {
     "data": {
      "text/plain": [
       "Full Issue PDF                                                                                                                          15\n",
       "Poster Presentations                                                                                                                     8\n",
       "Posters                                                                                                                                  8\n",
       "Poster Sessions                                                                                                                          7\n",
       "Poster Session Abstracts                                                                                                                 7\n",
       "                                                                                                                                        ..\n",
       "Pediatric emergency department volumes and throughput during the COVID-19 pandemic                                                       1\n",
       "ATeam technology for detecting early signs of viral cytopathic effect                                                                    1\n",
       "Ecological processes underlying the emergence of novel enzootic cycles: Arboviruses in the neotropics as a case study                    1\n",
       "Comparison of ePlex Respiratory Pathogen Panel with Laboratory-Developed Real-Time PCR Assays for Detection of Respiratory Pathogens     1\n",
       "Epidemiological and clinical characteristics of COVID-19 in Brazil using digital technology                                              1\n",
       "Name: title, Length: 76578, dtype: int64"
      ]
     },
     "execution_count": 22,
     "metadata": {},
     "output_type": "execute_result"
    }
   ],
   "source": [
    "title_counted = title.value_counts()\n",
    "title_counted"
   ]
  },
  {
   "cell_type": "code",
   "execution_count": 23,
   "metadata": {},
   "outputs": [
    {
     "data": {
      "text/plain": [
       "870"
      ]
     },
     "execution_count": 23,
     "metadata": {},
     "output_type": "execute_result"
    }
   ],
   "source": [
    "title_shared_titles_num = find_shared_values(title)    \n",
    "title_shared_titles_num"
   ]
  },
  {
   "cell_type": "markdown",
   "metadata": {},
   "source": [
    "Compared to the other duplicates, there are much more shared titles. "
   ]
  },
  {
   "cell_type": "code",
   "execution_count": 24,
   "metadata": {},
   "outputs": [
    {
     "data": {
      "text/plain": [
       "Full Issue PDF                                                                                  15\n",
       "Poster Presentations                                                                             8\n",
       "Posters                                                                                          8\n",
       "Poster Sessions                                                                                  7\n",
       "Poster Session Abstracts                                                                         7\n",
       "Physicians Poster Sessions                                                                       6\n",
       "Scientific Abstracts                                                                             6\n",
       "Mitteilungen der Deutschen Gesellschaft für Neurologie                                           5\n",
       "Abstracts cont.                                                                                  5\n",
       "NEWS                                                                                             5\n",
       "Abstract                                                                                         5\n",
       "Infectieziekten                                                                                  5\n",
       "Mitteilungen der ÖGKJ                                                                            4\n",
       "Tracing the Origins of Agricultural Products with Barcoded Microbial Spores                      4\n",
       "Virtual Meeting Announcment                                                                      4\n",
       "Mitteilungen der DGIM                                                                            3\n",
       "Poster presentations                                                                             3\n",
       "Bildgebende Verfahren: Röntgen, Ultraschall, CT, Nuklearmedizin                                  3\n",
       "Noisy Pooled PCR for Virus Testing                                                               3\n",
       "Highlights From the Current Issue – Audiovisual Summary                                          3\n",
       "New approximations, and policy implications, from a delayed dynamic model of a fast pandemic     3\n",
       "Reply                                                                                            3\n",
       "Corona, Immissionen und der Verbrennungsmotor                                                    3\n",
       "The EU versus the Automotive Industry                                                            3\n",
       "Introduction to Computer Network Vulnerabilities                                                 3\n",
       "Poster                                                                                           3\n",
       "China                                                                                            3\n",
       "Oral Presentations                                                                               3\n",
       "Symposium Summaries                                                                              3\n",
       "Oral presentations                                                                               3\n",
       "Infektionen                                                                                      3\n",
       "Computer Network Vulnerabilities                                                                 3\n",
       "In Response                                                                                      3\n",
       "ISAR News                                                                                        3\n",
       "Oral Abstracts                                                                                   3\n",
       "Report                                                                                           3\n",
       "Forum                                                                                            3\n",
       "Die Virologie von SARS-CoV-2                                                                     3\n",
       "Prediction of repurposed drugs for treating lung injury in COVID-19                              3\n",
       "Mitteilungen des BDI                                                                             3\n",
       "Name: title, dtype: int64"
      ]
     },
     "execution_count": 24,
     "metadata": {},
     "output_type": "execute_result"
    }
   ],
   "source": [
    "if title_shared_titles_num > 20:\n",
    "    head_for_title = 40\n",
    "else:\n",
    "    head_for_title = title_shared_titles_num\n",
    "title_counted.head(head_for_title)"
   ]
  },
  {
   "cell_type": "markdown",
   "metadata": {},
   "source": [
    "The root for such a high amount of title duplicates might be founded by various reasons. At least for this selection, the paper has a poor naming which means that they might be published without a name and got assigned a placeholder. Furthermore, this selection has a weak linkage to COVID related research. Based on the titles, the shown selection contains more none COVID related publications than research in relation to COVID.  "
   ]
  },
  {
   "cell_type": "markdown",
   "metadata": {},
   "source": [
    "The column strings contains words which can be investigated by matching to certain word. Therefore, the following function will support the process. "
   ]
  },
  {
   "cell_type": "code",
   "execution_count": 25,
   "metadata": {},
   "outputs": [],
   "source": [
    "def check_column_for_string(df, col, st):\n",
    "    \"\"\"Function which checks matches of substrings in the whole column and returns a dataframe containing substring mathes\n",
    "    \"\"\"\n",
    "    df_match = df.loc[df[col].str.contains(st, case=False)]\n",
    "    return df_match"
   ]
  },
  {
   "cell_type": "markdown",
   "metadata": {},
   "source": [
    "To inspect the density of COVID related publications, the column title will be checked for common words: "
   ]
  },
  {
   "cell_type": "markdown",
   "metadata": {},
   "source": [
    "<ul>\n",
    "  <li>Covid</li>\n",
    "  <li>Corona</li>\n",
    "  <li>Lockdown</li>\n",
    "  <li>SARS</li>\n",
    "</ul>"
   ]
  },
  {
   "cell_type": "code",
   "execution_count": 26,
   "metadata": {},
   "outputs": [],
   "source": [
    "matched_df_covid = check_column_for_string(CORD19_CSV, 'title', 'covid')\n",
    "matched_df_corona = check_column_for_string(CORD19_CSV, 'title', 'corona')\n",
    "matched_df_lockdown = check_column_for_string(CORD19_CSV, 'title', 'lockdown')\n",
    "matched_df_sars = check_column_for_string(CORD19_CSV, 'title', 'sars')"
   ]
  },
  {
   "cell_type": "code",
   "execution_count": 27,
   "metadata": {},
   "outputs": [
    {
     "data": {
      "text/plain": [
       "40233"
      ]
     },
     "execution_count": 27,
     "metadata": {},
     "output_type": "execute_result"
    }
   ],
   "source": [
    "sum_covid_related = len(matched_df_covid) + len(matched_df_corona) + len(matched_df_lockdown) + len(matched_df_sars)\n",
    "sum_covid_related"
   ]
  },
  {
   "cell_type": "code",
   "execution_count": 28,
   "metadata": {},
   "outputs": [
    {
     "data": {
      "text/plain": [
       "30982"
      ]
     },
     "execution_count": 28,
     "metadata": {},
     "output_type": "execute_result"
    }
   ],
   "source": [
    "matched_df_covid_medical = matched_df_covid.append(matched_df_corona)\n",
    "matched_df_covid_medical.append(matched_df_lockdown)\n",
    "matched_df_covid_medical.append(matched_df_sars)\n",
    "matched_df_covid_medical_len = len(matched_df_covid_medical)\n",
    "matched_df_covid_medical_len"
   ]
  },
  {
   "cell_type": "markdown",
   "metadata": {},
   "source": [
    "Overlap between the the termns related to the three terms. "
   ]
  },
  {
   "cell_type": "markdown",
   "metadata": {},
   "source": [
    "To inspect potential effects of COVID to the society, the column title will be checked additional words:"
   ]
  },
  {
   "cell_type": "markdown",
   "metadata": {},
   "source": [
    "<ul>\n",
    "  <li>Econmic</li>\n",
    "  <li>Social</li>\n",
    "</ul>"
   ]
  },
  {
   "cell_type": "code",
   "execution_count": 29,
   "metadata": {},
   "outputs": [],
   "source": [
    "matched_df_economic = check_column_for_string(CORD19_CSV, 'title', 'economic')\n",
    "matched_df_social = check_column_for_string(CORD19_CSV, 'title', 'social')"
   ]
  },
  {
   "cell_type": "code",
   "execution_count": 30,
   "metadata": {},
   "outputs": [
    {
     "data": {
      "text/plain": [
       "465"
      ]
     },
     "execution_count": 30,
     "metadata": {},
     "output_type": "execute_result"
    }
   ],
   "source": [
    "len(matched_df_economic)"
   ]
  },
  {
   "cell_type": "code",
   "execution_count": 31,
   "metadata": {},
   "outputs": [
    {
     "data": {
      "text/plain": [
       "1542"
      ]
     },
     "execution_count": 31,
     "metadata": {},
     "output_type": "execute_result"
    }
   ],
   "source": [
    "len(matched_df_social)"
   ]
  },
  {
   "cell_type": "markdown",
   "metadata": {},
   "source": [
    "Compared to the size of the dataset, the potential covid impacts on the society have less importance. "
   ]
  },
  {
   "cell_type": "code",
   "execution_count": 32,
   "metadata": {},
   "outputs": [
    {
     "data": {
      "text/plain": [
       "2007"
      ]
     },
     "execution_count": 32,
     "metadata": {},
     "output_type": "execute_result"
    }
   ],
   "source": [
    "matched_df_society = matched_df_economic.append(matched_df_social)\n",
    "matched_df_society_len = len(matched_df_society) \n",
    "matched_df_society_len"
   ]
  },
  {
   "cell_type": "markdown",
   "metadata": {},
   "source": [
    "There might be an overlap between the covid related dataframe and the dataframe addressing covid impacts on the society. "
   ]
  },
  {
   "cell_type": "code",
   "execution_count": 33,
   "metadata": {},
   "outputs": [
    {
     "data": {
      "text/plain": [
       "0"
      ]
     },
     "execution_count": 33,
     "metadata": {},
     "output_type": "execute_result"
    }
   ],
   "source": [
    "combined_df_fields = matched_df_society.append(matched_df_covid_medical)\n",
    "dif_len_fields = len(matched_df_covid_medical) + len(matched_df_society) - len(combined_df_fields) \n",
    "dif_len_fields"
   ]
  },
  {
   "cell_type": "markdown",
   "metadata": {},
   "source": [
    "The both set up fields do not have any overlap. Consequently, it is possible that the society field is not linked to COVID related subjects and investigates distant fields. "
   ]
  },
  {
   "cell_type": "markdown",
   "metadata": {},
   "source": [
    "### Checking the column \"source_x\""
   ]
  },
  {
   "cell_type": "markdown",
   "metadata": {},
   "source": [
    "For publishing purposes, the source of the papers will be inspected."
   ]
  },
  {
   "cell_type": "code",
   "execution_count": 34,
   "metadata": {},
   "outputs": [
    {
     "data": {
      "text/plain": [
       "Medline; PMC                           32777\n",
       "Elsevier; Medline; PMC                 15500\n",
       "PMC                                    15103\n",
       "MedRxiv; WHO                            4760\n",
       "ArXiv                                   3115\n",
       "Elsevier; PMC                           1831\n",
       "BioRxiv; WHO                            1252\n",
       "BioRxiv                                  796\n",
       "MedRxiv                                  367\n",
       "MedRxiv; Medline; PMC; WHO               331\n",
       "Medline; PMC; WHO                        285\n",
       "BioRxiv; Medline; PMC; WHO               278\n",
       "MedRxiv; Medline; WHO                    152\n",
       "BioRxiv; MedRxiv                         149\n",
       "BioRxiv; Medline; WHO                    145\n",
       "Elsevier                                 135\n",
       "ArXiv; Medline; PMC                      123\n",
       "Elsevier; Medline; PMC; WHO              115\n",
       "ArXiv; Elsevier; Medline; PMC             62\n",
       "BioRxiv; MedRxiv; WHO                     51\n",
       "BioRxiv; Medline; PMC                     27\n",
       "ArXiv; Medline                            23\n",
       "BioRxiv; Medline                          13\n",
       "MedRxiv; Medline; PMC                     11\n",
       "ArXiv; PMC                                 8\n",
       "PMC; WHO                                   7\n",
       "BioRxiv; MedRxiv; Medline; WHO             6\n",
       "Elsevier; Medline                          6\n",
       "ArXiv; Elsevier; PMC                       5\n",
       "ArXiv; Elsevier                            3\n",
       "BioRxiv; MedRxiv; Medline; PMC             3\n",
       "BioRxiv; MedRxiv; Medline; PMC; WHO        3\n",
       "Elsevier; PMC; WHO                         2\n",
       "MedRxiv; Medline                           2\n",
       "BioRxiv; MedRxiv; Medline                  1\n",
       "ArXiv; Elsevier; Medline; PMC; WHO         1\n",
       "Name: source_x, dtype: int64"
      ]
     },
     "execution_count": 34,
     "metadata": {},
     "output_type": "execute_result"
    }
   ],
   "source": [
    "source_x_counted = source_x.value_counts()\n",
    "source_x_counted"
   ]
  },
  {
   "cell_type": "markdown",
   "metadata": {},
   "source": [
    "Most of the publications have various  and shared publishers."
   ]
  },
  {
   "cell_type": "code",
   "execution_count": 35,
   "metadata": {},
   "outputs": [],
   "source": [
    "len_source_x_counted = len(source_x_counted)"
   ]
  },
  {
   "cell_type": "code",
   "execution_count": 36,
   "metadata": {},
   "outputs": [
    {
     "data": {
      "text/plain": [
       "Medline PMC                        32777\n",
       "Elsevier Medline PMC               15500\n",
       "PMC                                15103\n",
       "MedRxiv WHO                         4760\n",
       "ArXiv                               3115\n",
       "Elsevier PMC                        1831\n",
       "BioRxiv WHO                         1252\n",
       "BioRxiv                              796\n",
       "MedRxiv                              367\n",
       "MedRxiv Medline PMC WHO              331\n",
       "Medline PMC WHO                      285\n",
       "BioRxiv Medline PMC WHO              278\n",
       "MedRxiv Medline WHO                  152\n",
       "BioRxiv MedRxiv                      149\n",
       "BioRxiv Medline WHO                  145\n",
       "Elsevier                             135\n",
       "ArXiv Medline PMC                    123\n",
       "Elsevier Medline PMC WHO             115\n",
       "ArXiv Elsevier Medline PMC            62\n",
       "BioRxiv MedRxiv WHO                   51\n",
       "BioRxiv Medline PMC                   27\n",
       "ArXiv Medline                         23\n",
       "BioRxiv Medline                       13\n",
       "MedRxiv Medline PMC                   11\n",
       "ArXiv PMC                              8\n",
       "PMC WHO                                7\n",
       "BioRxiv MedRxiv Medline WHO            6\n",
       "Elsevier Medline                       6\n",
       "ArXiv Elsevier PMC                     5\n",
       "ArXiv Elsevier                         3\n",
       "BioRxiv MedRxiv Medline PMC            3\n",
       "BioRxiv MedRxiv Medline PMC WHO        3\n",
       "Elsevier PMC WHO                       2\n",
       "MedRxiv Medline                        2\n",
       "BioRxiv MedRxiv Medline                1\n",
       "ArXiv Elsevier Medline PMC WHO         1\n",
       "Name: source_x, dtype: int64"
      ]
     },
     "execution_count": 36,
     "metadata": {},
     "output_type": "execute_result"
    }
   ],
   "source": [
    "i = 0\n",
    "while i < len_source_x_counted:\n",
    "    source_x_counted.index.values[i] = source_x_counted.index.values[i].replace(';', '')\n",
    "    i= i+1\n",
    "source_x_counted"
   ]
  },
  {
   "cell_type": "code",
   "execution_count": 37,
   "metadata": {},
   "outputs": [
    {
     "data": {
      "text/html": [
       "<div>\n",
       "<style scoped>\n",
       "    .dataframe tbody tr th:only-of-type {\n",
       "        vertical-align: middle;\n",
       "    }\n",
       "\n",
       "    .dataframe tbody tr th {\n",
       "        vertical-align: top;\n",
       "    }\n",
       "\n",
       "    .dataframe thead th {\n",
       "        text-align: right;\n",
       "    }\n",
       "</style>\n",
       "<table border=\"1\" class=\"dataframe\">\n",
       "  <thead>\n",
       "    <tr style=\"text-align: right;\">\n",
       "      <th></th>\n",
       "      <th>source_x</th>\n",
       "      <th>counts</th>\n",
       "    </tr>\n",
       "  </thead>\n",
       "  <tbody>\n",
       "    <tr>\n",
       "      <th>0</th>\n",
       "      <td>Medline</td>\n",
       "      <td>32777</td>\n",
       "    </tr>\n",
       "    <tr>\n",
       "      <th>1</th>\n",
       "      <td>PMC</td>\n",
       "      <td>32777</td>\n",
       "    </tr>\n",
       "    <tr>\n",
       "      <th>2</th>\n",
       "      <td>Elsevier</td>\n",
       "      <td>15500</td>\n",
       "    </tr>\n",
       "    <tr>\n",
       "      <th>3</th>\n",
       "      <td>Medline</td>\n",
       "      <td>15500</td>\n",
       "    </tr>\n",
       "    <tr>\n",
       "      <th>4</th>\n",
       "      <td>PMC</td>\n",
       "      <td>15500</td>\n",
       "    </tr>\n",
       "    <tr>\n",
       "      <th>...</th>\n",
       "      <td>...</td>\n",
       "      <td>...</td>\n",
       "    </tr>\n",
       "    <tr>\n",
       "      <th>91</th>\n",
       "      <td>ArXiv</td>\n",
       "      <td>1</td>\n",
       "    </tr>\n",
       "    <tr>\n",
       "      <th>92</th>\n",
       "      <td>Elsevier</td>\n",
       "      <td>1</td>\n",
       "    </tr>\n",
       "    <tr>\n",
       "      <th>93</th>\n",
       "      <td>Medline</td>\n",
       "      <td>1</td>\n",
       "    </tr>\n",
       "    <tr>\n",
       "      <th>94</th>\n",
       "      <td>PMC</td>\n",
       "      <td>1</td>\n",
       "    </tr>\n",
       "    <tr>\n",
       "      <th>95</th>\n",
       "      <td>WHO</td>\n",
       "      <td>1</td>\n",
       "    </tr>\n",
       "  </tbody>\n",
       "</table>\n",
       "<p>96 rows × 2 columns</p>\n",
       "</div>"
      ],
      "text/plain": [
       "    source_x counts\n",
       "0    Medline  32777\n",
       "1        PMC  32777\n",
       "2   Elsevier  15500\n",
       "3    Medline  15500\n",
       "4        PMC  15500\n",
       "..       ...    ...\n",
       "91     ArXiv      1\n",
       "92  Elsevier      1\n",
       "93   Medline      1\n",
       "94       PMC      1\n",
       "95       WHO      1\n",
       "\n",
       "[96 rows x 2 columns]"
      ]
     },
     "execution_count": 37,
     "metadata": {},
     "output_type": "execute_result"
    }
   ],
   "source": [
    "i = 0\n",
    "df_holder = pd.DataFrame(columns=['source_x','counts'])\n",
    "while i < len_source_x_counted:\n",
    "    helper = source_x_counted.index[i].split()\n",
    "    for x in helper:\n",
    "        data = {'source_x': x, 'counts': source_x_counted[i]}\n",
    "        df_holder = df_holder.append(pd.DataFrame([data]))\n",
    "    i = i + 1\n",
    "\n",
    "df_holder = df_holder.reset_index()\n",
    "df_holder = df_holder.drop(labels=[\"index\"], axis=1)\n",
    "df_holder"
   ]
  },
  {
   "cell_type": "code",
   "execution_count": 38,
   "metadata": {},
   "outputs": [
    {
     "data": {
      "text/plain": [
       "Medline     21\n",
       "PMC         19\n",
       "WHO         14\n",
       "MedRxiv     12\n",
       "BioRxiv     12\n",
       "Elsevier    10\n",
       "ArXiv        8\n",
       "Name: source_x, dtype: int64"
      ]
     },
     "execution_count": 38,
     "metadata": {},
     "output_type": "execute_result"
    }
   ],
   "source": [
    "df_holder['source_x'].value_counts()"
   ]
  },
  {
   "cell_type": "code",
   "execution_count": 39,
   "metadata": {},
   "outputs": [],
   "source": [
    "sources_series = df_holder['source_x'].value_counts()\n",
    "len_sources_series = len(sources_series.index)"
   ]
  },
  {
   "cell_type": "code",
   "execution_count": 40,
   "metadata": {},
   "outputs": [],
   "source": [
    "# df_total_counts = pd.DataFrame(columns=['total_counts'], index = sources_series.index )\n",
    "# df_total_counts['total_counts'] = 0\n",
    "# df_total_counts['total_counts']['Medline'] = 10\n",
    "# df_total_counts"
   ]
  },
  {
   "cell_type": "code",
   "execution_count": 41,
   "metadata": {},
   "outputs": [
    {
     "data": {
      "text/html": [
       "<div>\n",
       "<style scoped>\n",
       "    .dataframe tbody tr th:only-of-type {\n",
       "        vertical-align: middle;\n",
       "    }\n",
       "\n",
       "    .dataframe tbody tr th {\n",
       "        vertical-align: top;\n",
       "    }\n",
       "\n",
       "    .dataframe thead th {\n",
       "        text-align: right;\n",
       "    }\n",
       "</style>\n",
       "<table border=\"1\" class=\"dataframe\">\n",
       "  <thead>\n",
       "    <tr style=\"text-align: right;\">\n",
       "      <th></th>\n",
       "      <th>total_counts</th>\n",
       "    </tr>\n",
       "  </thead>\n",
       "  <tbody>\n",
       "    <tr>\n",
       "      <th>PMC</th>\n",
       "      <td>66472</td>\n",
       "    </tr>\n",
       "    <tr>\n",
       "      <th>Medline</th>\n",
       "      <td>49864</td>\n",
       "    </tr>\n",
       "    <tr>\n",
       "      <th>Elsevier</th>\n",
       "      <td>17660</td>\n",
       "    </tr>\n",
       "    <tr>\n",
       "      <th>WHO</th>\n",
       "      <td>7388</td>\n",
       "    </tr>\n",
       "    <tr>\n",
       "      <th>MedRxiv</th>\n",
       "      <td>5836</td>\n",
       "    </tr>\n",
       "    <tr>\n",
       "      <th>ArXiv</th>\n",
       "      <td>3340</td>\n",
       "    </tr>\n",
       "    <tr>\n",
       "      <th>BioRxiv</th>\n",
       "      <td>2724</td>\n",
       "    </tr>\n",
       "  </tbody>\n",
       "</table>\n",
       "</div>"
      ],
      "text/plain": [
       "          total_counts\n",
       "PMC              66472\n",
       "Medline          49864\n",
       "Elsevier         17660\n",
       "WHO               7388\n",
       "MedRxiv           5836\n",
       "ArXiv             3340\n",
       "BioRxiv           2724"
      ]
     },
     "execution_count": 41,
     "metadata": {},
     "output_type": "execute_result"
    }
   ],
   "source": [
    "len_df_holder = len(df_holder)\n",
    "\n",
    "\n",
    "df_total_counts = pd.DataFrame(columns=['total_counts'], index = sources_series.index )\n",
    "df_total_counts['total_counts'] = 0\n",
    "\n",
    "i = 0\n",
    "while i < len_sources_series :\n",
    "    x = 0\n",
    "    while x < len_df_holder:\n",
    "        if df_holder['source_x'][x] == sources_series.index[i]:\n",
    "            df_total_counts['total_counts'][sources_series.index[i]] = df_total_counts['total_counts'][sources_series.index[i]] + df_holder['counts'][x]\n",
    "        x = x + 1\n",
    "    i = i + 1\n",
    "\n",
    "df_total_counts.sort_values(by=\"total_counts\", ascending=False)"
   ]
  },
  {
   "cell_type": "markdown",
   "metadata": {},
   "source": [
    "### Checking the column \"license\""
   ]
  },
  {
   "cell_type": "code",
   "execution_count": 42,
   "metadata": {},
   "outputs": [
    {
     "data": {
      "text/plain": [
       "no-cc          29395\n",
       "cc-by          23384\n",
       "els-covid       7374\n",
       "medrxiv         5401\n",
       "arxiv           3141\n",
       "cc-by-nc        2947\n",
       "biorxiv         2325\n",
       "cc-by-nc-nd     1860\n",
       "green-oa         385\n",
       "bronze-oa        352\n",
       "cc-by-nc-sa      349\n",
       "cc0              312\n",
       "cc-by-nd         130\n",
       "hybrid-oa         71\n",
       "gold-oa           20\n",
       "cc-by-sa           2\n",
       "Name: license, dtype: int64"
      ]
     },
     "execution_count": 42,
     "metadata": {},
     "output_type": "execute_result"
    }
   ],
   "source": [
    "license_counted = license.value_counts()\n",
    "license_counted"
   ]
  },
  {
   "cell_type": "markdown",
   "metadata": {},
   "source": [
    "### Checking the column \"publish_time\""
   ]
  },
  {
   "cell_type": "code",
   "execution_count": 43,
   "metadata": {},
   "outputs": [
    {
     "data": {
      "text/plain": [
       "2020-12-31    362\n",
       "2020-09-30    346\n",
       "2021-01-06    329\n",
       "2020-09-18    327\n",
       "2020-05-26    310\n",
       "             ... \n",
       "2010-10-22      1\n",
       "2018-11-11      1\n",
       "2008-07-13      1\n",
       "2010-11-27      1\n",
       "2012-12-22      1\n",
       "Name: publish_time, Length: 5599, dtype: int64"
      ]
     },
     "execution_count": 43,
     "metadata": {},
     "output_type": "execute_result"
    }
   ],
   "source": [
    "publish_time_counted = publish_time.value_counts()\n",
    "publish_time_counted"
   ]
  },
  {
   "cell_type": "code",
   "execution_count": 44,
   "metadata": {},
   "outputs": [
    {
     "data": {
      "text/html": [
       "<div>\n",
       "<style scoped>\n",
       "    .dataframe tbody tr th:only-of-type {\n",
       "        vertical-align: middle;\n",
       "    }\n",
       "\n",
       "    .dataframe tbody tr th {\n",
       "        vertical-align: top;\n",
       "    }\n",
       "\n",
       "    .dataframe thead th {\n",
       "        text-align: right;\n",
       "    }\n",
       "</style>\n",
       "<table border=\"1\" class=\"dataframe\">\n",
       "  <thead>\n",
       "    <tr style=\"text-align: right;\">\n",
       "      <th></th>\n",
       "      <th>publish_time</th>\n",
       "      <th>count</th>\n",
       "    </tr>\n",
       "  </thead>\n",
       "  <tbody>\n",
       "    <tr>\n",
       "      <th>0</th>\n",
       "      <td>2020-12-31</td>\n",
       "      <td>362</td>\n",
       "    </tr>\n",
       "    <tr>\n",
       "      <th>1</th>\n",
       "      <td>2020-09-30</td>\n",
       "      <td>346</td>\n",
       "    </tr>\n",
       "    <tr>\n",
       "      <th>2</th>\n",
       "      <td>2021-01-06</td>\n",
       "      <td>329</td>\n",
       "    </tr>\n",
       "    <tr>\n",
       "      <th>3</th>\n",
       "      <td>2020-09-18</td>\n",
       "      <td>327</td>\n",
       "    </tr>\n",
       "    <tr>\n",
       "      <th>4</th>\n",
       "      <td>2020-05-26</td>\n",
       "      <td>310</td>\n",
       "    </tr>\n",
       "    <tr>\n",
       "      <th>...</th>\n",
       "      <td>...</td>\n",
       "      <td>...</td>\n",
       "    </tr>\n",
       "    <tr>\n",
       "      <th>5594</th>\n",
       "      <td>2010-10-22</td>\n",
       "      <td>1</td>\n",
       "    </tr>\n",
       "    <tr>\n",
       "      <th>5595</th>\n",
       "      <td>2018-11-11</td>\n",
       "      <td>1</td>\n",
       "    </tr>\n",
       "    <tr>\n",
       "      <th>5596</th>\n",
       "      <td>2008-07-13</td>\n",
       "      <td>1</td>\n",
       "    </tr>\n",
       "    <tr>\n",
       "      <th>5597</th>\n",
       "      <td>2010-11-27</td>\n",
       "      <td>1</td>\n",
       "    </tr>\n",
       "    <tr>\n",
       "      <th>5598</th>\n",
       "      <td>2012-12-22</td>\n",
       "      <td>1</td>\n",
       "    </tr>\n",
       "  </tbody>\n",
       "</table>\n",
       "<p>5599 rows × 2 columns</p>\n",
       "</div>"
      ],
      "text/plain": [
       "     publish_time  count\n",
       "0      2020-12-31    362\n",
       "1      2020-09-30    346\n",
       "2      2021-01-06    329\n",
       "3      2020-09-18    327\n",
       "4      2020-05-26    310\n",
       "...           ...    ...\n",
       "5594   2010-10-22      1\n",
       "5595   2018-11-11      1\n",
       "5596   2008-07-13      1\n",
       "5597   2010-11-27      1\n",
       "5598   2012-12-22      1\n",
       "\n",
       "[5599 rows x 2 columns]"
      ]
     },
     "execution_count": 44,
     "metadata": {},
     "output_type": "execute_result"
    }
   ],
   "source": [
    "df_publish_time_counted = pd.DataFrame(columns=['publish_time', 'count'])\n",
    "df_publish_time_counted['publish_time']= publish_time_counted.index\n",
    "df_publish_time_counted['count']= publish_time_counted.values\n",
    "df_publish_time_counted"
   ]
  },
  {
   "cell_type": "code",
   "execution_count": 45,
   "metadata": {},
   "outputs": [],
   "source": [
    "date_before_2020 = pd.Timestamp(2020, 1, 1)\n",
    "date_after_2020 = pd.Timestamp(2019, 12, 31)\n",
    "df_before_2020 = CORD19_CSV[CORD19_CSV['publish_time'] < date_before_2020]\n",
    "df_after_2020 = CORD19_CSV[CORD19_CSV['publish_time'] > date_after_2020]"
   ]
  },
  {
   "cell_type": "code",
   "execution_count": 46,
   "metadata": {},
   "outputs": [
    {
     "data": {
      "text/plain": [
       "22423"
      ]
     },
     "execution_count": 46,
     "metadata": {},
     "output_type": "execute_result"
    }
   ],
   "source": [
    "len(df_before_2020)"
   ]
  },
  {
   "cell_type": "code",
   "execution_count": 47,
   "metadata": {},
   "outputs": [
    {
     "data": {
      "text/plain": [
       "55025"
      ]
     },
     "execution_count": 47,
     "metadata": {},
     "output_type": "execute_result"
    }
   ],
   "source": [
    "len(df_after_2020)"
   ]
  },
  {
   "cell_type": "code",
   "execution_count": 48,
   "metadata": {},
   "outputs": [
    {
     "data": {
      "image/png": "[encoded data removed]",
      "text/plain": [
       "<Figure size 432x288 with 1 Axes>"
      ]
     },
     "metadata": {
      "needs_background": "light"
     },
     "output_type": "display_data"
    }
   ],
   "source": [
    "df_publish_time_counted.plot(x ='publish_time', y='count', kind = 'line')\n",
    "plt.show()"
   ]
  },
  {
   "cell_type": "code",
   "execution_count": 51,
   "metadata": {},
   "outputs": [
    {
     "data": {
      "image/png": "[encoded data removed]",
      "text/plain": [
       "<Figure size 432x288 with 1 Axes>"
      ]
     },
     "metadata": {
      "needs_background": "light"
     },
     "output_type": "display_data"
    }
   ],
   "source": [
    "df_publish_time_counted.plot(x ='publish_time', y='count', kind = 'line', xlim=(pd.Timestamp(2000, 1, 1),pd.Timestamp(2022, 1, 1) ))\n",
    "plt.show()"
   ]
  },
  {
   "cell_type": "code",
   "execution_count": 52,
   "metadata": {},
   "outputs": [
    {
     "data": {
      "image/png": "[encoded data removed]",
      "text/plain": [
       "<Figure size 432x288 with 1 Axes>"
      ]
     },
     "metadata": {
      "needs_background": "light"
     },
     "output_type": "display_data"
    }
   ],
   "source": [
    "df_publish_time_counted.plot(x ='publish_time', y='count', kind = 'line', xlim=(pd.Timestamp(2018, 1, 1),pd.Timestamp(2022, 1, 1) ))\n",
    "plt.show()"
   ]
  },
  {
   "cell_type": "code",
   "execution_count": 53,
   "metadata": {},
   "outputs": [
    {
     "data": {
      "image/png": "[encoded data removed]",
      "text/plain": [
       "<Figure size 432x288 with 1 Axes>"
      ]
     },
     "metadata": {
      "needs_background": "light"
     },
     "output_type": "display_data"
    }
   ],
   "source": [
    "df_publish_time_counted.plot(x ='publish_time', y='count', kind = 'line', xlim=(pd.Timestamp(2020, 1, 1),pd.Timestamp(2022, 1, 1) ))\n",
    "plt.show()"
   ]
  },
  {
   "cell_type": "markdown",
   "metadata": {},
   "source": [
    "### Checking the column \"url\""
   ]
  },
  {
   "cell_type": "markdown",
   "metadata": {},
   "source": [
    "strip url to first 10 letters for comparison purposes"
   ]
  },
  {
   "cell_type": "markdown",
   "metadata": {},
   "source": [
    "### Checking the column \"software\""
   ]
  },
  {
   "cell_type": "markdown",
   "metadata": {},
   "source": [
    "The analysis of the column software is conducted in the Jupyer Notebook named \"CORD-19-software-counting-cs5099\""
   ]
  }
 ],
 "metadata": {
  "kernelspec": {
   "display_name": "Python 3",
   "language": "python",
   "name": "python3"
  },
  "language_info": {
   "codemirror_mode": {
    "name": "ipython",
    "version": 3
   },
   "file_extension": ".py",
   "mimetype": "text/x-python",
   "name": "python",
   "nbconvert_exporter": "python",
   "pygments_lexer": "ipython3",
   "version": "3.8.5"
  }
 },
 "nbformat": 4,
 "nbformat_minor": 4
}
