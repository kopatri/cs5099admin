{
 "cells": [
  {
   "cell_type": "markdown",
   "metadata": {},
   "source": [
    "# CORD-19 Software classification"
   ]
  },
  {
   "cell_type": "markdown",
   "metadata": {},
   "source": [
    "[...] CORD-19-software-counting-cs5099.ipynb"
   ]
  },
  {
   "cell_type": "markdown",
   "metadata": {},
   "source": [
    "### Connecting to Jupyter Notebook outputting software mentions "
   ]
  },
  {
   "cell_type": "markdown",
   "metadata": {},
   "source": [
    "[...]"
   ]
  },
  {
   "cell_type": "code",
   "execution_count": 1,
   "metadata": {},
   "outputs": [
    {
     "name": "stdout",
     "output_type": "stream",
     "text": [
      "'GRAPHPAD PRISM' 4461 matched 'GRAPH PAD PRISM' 156\n",
      "'BLAST' 3943 matched 'BLASTN' 1075\n",
      "'BLAST' 5018 matched 'BLASTP' 665\n",
      "'BLAST' 5683 matched 'BLASTX' 617\n"
     ]
    },
    {
     "name": "stderr",
     "output_type": "stream",
     "text": [
      "<ipython-input-1-d8561234f01a>:13: SettingWithCopyWarning: \n",
      "A value is trying to be set on a copy of a slice from a DataFrame\n",
      "\n",
      "See the caveats in the documentation: https://pandas.pydata.org/pandas-docs/stable/user_guide/indexing.html#returning-a-view-versus-a-copy\n",
      "  dfa['Matches'][i] = int(dfa['Matches'][i]+ dfb['Matches'][j])\n"
     ]
    },
    {
     "name": "stdout",
     "output_type": "stream",
     "text": [
      "'BLAST' 6300 matched 'BLAT' 76\n",
      "'STATA' 3688 matched 'STAT' 210\n",
      "'MEGA' 2118 matched 'MEGA7' 205\n",
      "'MEGA' 2323 matched 'MEGA6' 205\n",
      "'MEGA' 2528 matched 'MEGAN' 152\n",
      "'MEGA' 2680 matched 'MEGA5' 137\n",
      "'MEGA' 2817 matched 'MEGA4' 96\n",
      "'MEGA' 2913 matched 'OMEGA' 73\n",
      "'NET' 2041 matched 'UNET' 164\n",
      "'IMAGEJ' 1949 matched 'IMAGE J' 509\n",
      "'IMAGEJ' 2458 matched 'IMAGE' 236\n",
      "'PRISM' 1440 matched 'PRISMA' 566\n",
      "'CLUSTALW' 1104 matched 'CLUSTAL W' 385\n",
      "'CLUSTALW' 1489 matched 'CLUSTAL' 231\n",
      "'CLUSTALW' 1720 matched 'CLUSTALW2' 78\n",
      "'BLASTN' 1075 matched 'TBLASTN' 141\n",
      "'BEAST' 940 matched 'BEST' 117\n",
      "'AUTODOCK' 920 matched 'AUTODOCK4' 86\n",
      "'ENSEMBL' 800 matched 'ENSEMBLE' 167\n",
      "'BERT' 717 matched 'MBERT' 104\n",
      "'BLASTX' 617 matched 'TBLASTX' 173\n",
      "'CHIMERA' 501 matched 'CHIMAERA' 128\n",
      "'DESEQ2' 492 matched 'DESEQ' 82\n",
      "'BOWTIE2' 489 matched 'BOWTIE' 229\n",
      "'GOOGLE FORMS' 472 matched 'GOOGLE FORM' 88\n",
      "'MOE' 429 matched 'MOEA' 124\n",
      "'RSTUDIO' 419 matched 'R STUDIO' 148\n",
      "'RSTUDIO' 567 matched 'STUDIO' 106\n",
      "'ONE' 416 matched 'CONE' 103\n",
      "'MFOLD' 386 matched 'FOLD' 113\n",
      "'CLUSTAL W' 385 matched 'CLUSTAL X' 162\n",
      "'DOCK' 338 matched 'ZDOCK' 129\n",
      "'SURVEYMONKEY' 327 matched 'SURVEY MONKEY' 129\n",
      "'INCEPTION' 321 matched 'INCEPTIONV3' 120\n",
      "'OVID' 317 matched 'COVID' 228\n",
      "'EPIC' 305 matched 'EPI' 227\n",
      "'NETMHCPAN' 288 matched 'NETMHCIIPAN' 108\n",
      "'STATISTICA' 280 matched 'STATISTA' 108\n",
      "'UMAP' 280 matched 'MAP' 90\n",
      "'FASTQC' 279 matched 'FASTQ' 142\n",
      "'ELMO' 262 matched 'ELM' 96\n",
      "'GRAD' 253 matched 'GRADE' 165\n",
      "'COVID' 228 matched 'COVIDX' 185\n",
      "'RDP' 225 matched 'RDP4' 145\n",
      "'PRO' 220 matched 'PROB' 109\n",
      "'PRO' 329 matched 'PROC' 93\n",
      "'GOOGLE SEARCH' 214 matched 'GOOGLE SEARCHES' 70\n",
      "'ARIMA' 211 matched 'SARIMA' 137\n",
      "'DETECTR' 210 matched 'DETECT' 75\n",
      "'STAT' 210 matched 'STATS' 156\n",
      "'STAT' 366 matched 'ISTAT' 101\n",
      "'MEME' 208 matched 'MEM' 168\n",
      "'STATISTICAL PACKAGE FOR THE SOCIAL SCIENCES SPSS' 207 matched 'STATISTICAL PACKAGE FOR SOCIAL SCIENCES SPSS' 170\n",
      "'STATISTICAL PACKAGE FOR THE SOCIAL SCIENCES SPSS' 377 matched 'STATISTICAL PACKAGE FOR THE SOCIAL SCIENCES' 150\n",
      "'STATISTICAL PACKAGE FOR THE SOCIAL SCIENCES SPSS' 527 matched 'STATISTICAL PACKAGE FOR THE SOCIAL SCIENCES SPSS' 91\n",
      "'MPLUS' 203 matched 'PLUS' 101\n",
      "'MOBILENET' 201 matched 'MOBILENETV2' 172\n",
      "'PRIMER' 200 matched 'PRIMER3' 162\n",
      "'PRIMER' 362 matched 'PRIME' 114\n",
      "'GRAPH' 199 matched 'IGRAPH' 125\n",
      "'DOCKER' 189 matched 'CDOCKER' 103\n",
      "'GAN' 183 matched 'GAEN' 173\n",
      "'FASTA' 183 matched 'FAST' 161\n",
      "'PHASER' 183 matched 'PHASE' 73\n",
      "'LAMP' 182 matched 'LAMPA' 86\n",
      "'SEQ' 182 matched '3SEQ' 145\n",
      "'OPLS' 175 matched 'PLS' 149\n",
      "'GAEN' 173 matched 'GEN' 157\n",
      "'COMP' 172 matched 'COM' 125\n",
      "'STATISTICAL PACKAGE FOR SOCIAL SCIENCES SPSS' 170 matched 'STATISTICAL PACKAGE FOR SOCIAL SCIENCES' 109\n",
      "'GIS' 163 matched 'QGIS' 134\n",
      "'SOME' 162 matched 'SOM' 96\n",
      "'FAST' 161 matched 'FASTV' 84\n",
      "'MAST' 160 matched 'MAS' 113\n",
      "'GEN' 157 matched 'GENE' 99\n",
      "'GEN' 256 matched 'GENV' 70\n",
      "'JMODELTEST' 153 matched 'MODELTEST' 120\n",
      "'VADR' 146 matched 'VADER' 98\n",
      "'SISCAN' 142 matched 'ISCAN' 73\n",
      "'PRED' 125 matched 'RED' 103\n",
      "'SIR' 125 matched 'SEIR' 107\n",
      "'FLEXX' 120 matched 'FLEX' 79\n",
      "'MAS' 113 matched 'MASS' 103\n",
      "'MAS' 216 matched 'MASK' 93\n",
      "'COVIDSIMVL' 110 matched 'COVIDSIM' 80\n",
      "'CARE' 106 matched 'CAR' 91\n",
      "'MARPLE' 104 matched 'MAPLE' 70\n",
      "'REFMAC' 103 matched 'REFMAC5' 90\n",
      "'CLAN' 103 matched 'CAN' 80\n",
      "'ROS' 101 matched 'RODS' 83\n",
      "'CELLRANGER' 100 matched 'CELL RANGER' 88\n",
      "'AUTODOCK TOOLS' 100 matched 'AUTODOCKTOOLS' 99\n",
      "'INFO' 92 matched 'INF' 73\n",
      "'GENCODE' 91 matched 'ENCODE' 88\n",
      "'CAR' 91 matched 'CART' 70\n",
      "'INGENUITY PATHWAY ANALYSIS' 90 matched 'INGENUITY PATHWAY ANALYSIS IPA' 89\n",
      "'OPEN BABEL' 88 matched 'OPENBABEL' 81\n",
      "'IMD' 88 matched 'IMOD' 88\n",
      "'PRIMER EXPLORER' 82 matched 'PRIMEREXPLORER' 78\n",
      "Wall time: 48.2 s\n",
      "Wall time: 1min 4s\n"
     ]
    }
   ],
   "source": [
    "%%time\n",
    "%run ./CORD-19-software-counting-cs5099.ipynb"
   ]
  },
  {
   "cell_type": "code",
   "execution_count": null,
   "metadata": {},
   "outputs": [],
   "source": []
  }
 ],
 "metadata": {
  "kernelspec": {
   "display_name": "Python 3",
   "language": "python",
   "name": "python3"
  },
  "language_info": {
   "codemirror_mode": {
    "name": "ipython",
    "version": 3
   },
   "file_extension": ".py",
   "mimetype": "text/x-python",
   "name": "python",
   "nbconvert_exporter": "python",
   "pygments_lexer": "ipython3",
   "version": "3.8.5"
  }
 },
 "nbformat": 4,
 "nbformat_minor": 4
}
