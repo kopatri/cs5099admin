{
 "cells": [
  {
   "cell_type": "markdown",
   "metadata": {},
   "source": [
    "# CORD-19 Analyse fetched coredata"
   ]
  },
  {
   "cell_type": "markdown",
   "metadata": {},
   "source": [
    "In general, this jupyter notebook is designated to analyse fetched coredata. Thusly, an API-call is described: \n",
    "https://api.elsevier.com/content/search/scopus?query=DOI(10.1109/MCOM.2016.7509373)&apiKey=6d485ef1fe1408712f37e8a783a285a4"
   ]
  },
  {
   "cell_type": "markdown",
   "metadata": {},
   "source": [
    "First, relevant packages must be imported to the Notebook."
   ]
  },
  {
   "cell_type": "code",
   "execution_count": 2,
   "metadata": {},
   "outputs": [],
   "source": [
    "import numpy as np\n",
    "import pandas as pd\n",
    "import csv\n",
    "import ast\n",
    "import collections\n",
    "import matplotlib.pyplot as plt\n",
    "import datetime\n",
    "import re\n",
    "import time \n",
    "from urllib.parse import urlparse\n",
    "from collections import Counter\n",
    "from elsapy.elsclient import ElsClient\n",
    "from elsapy.elsdoc import FullDoc, AbsDoc\n",
    "from elsapy.elssearch import ElsSearch\n",
    "from pybtex.database import parse_file, BibliographyData, Entry"
   ]
  },
  {
   "cell_type": "markdown",
   "metadata": {},
   "source": [
    "Thusly, the fetched coredata and affiliation are read from the pkl-files and combined to a DataFrame for further processing. "
   ]
  },
  {
   "cell_type": "code",
   "execution_count": 3,
   "metadata": {},
   "outputs": [
    {
     "data": {
      "text/html": [
       "<div>\n",
       "<style scoped>\n",
       "    .dataframe tbody tr th:only-of-type {\n",
       "        vertical-align: middle;\n",
       "    }\n",
       "\n",
       "    .dataframe tbody tr th {\n",
       "        vertical-align: top;\n",
       "    }\n",
       "\n",
       "    .dataframe thead th {\n",
       "        text-align: right;\n",
       "    }\n",
       "</style>\n",
       "<table border=\"1\" class=\"dataframe\">\n",
       "  <thead>\n",
       "    <tr style=\"text-align: right;\">\n",
       "      <th></th>\n",
       "      <th>coredata</th>\n",
       "    </tr>\n",
       "  </thead>\n",
       "  <tbody>\n",
       "    <tr>\n",
       "      <th>0</th>\n",
       "      <td>{'srctype': 'j', 'eid': '2-s2.0-85083266658', ...</td>\n",
       "    </tr>\n",
       "    <tr>\n",
       "      <th>1</th>\n",
       "      <td>{'srctype': 'j', 'prism:issueIdentifier': '7',...</td>\n",
       "    </tr>\n",
       "    <tr>\n",
       "      <th>2</th>\n",
       "      <td>{'srctype': 'j', 'prism:issueIdentifier': '8',...</td>\n",
       "    </tr>\n",
       "    <tr>\n",
       "      <th>3</th>\n",
       "      <td>{'srctype': 'j', 'prism:issueIdentifier': '9',...</td>\n",
       "    </tr>\n",
       "    <tr>\n",
       "      <th>4</th>\n",
       "      <td>{'srctype': 'j', 'prism:issueIdentifier': '11'...</td>\n",
       "    </tr>\n",
       "    <tr>\n",
       "      <th>...</th>\n",
       "      <td>...</td>\n",
       "    </tr>\n",
       "    <tr>\n",
       "      <th>74297</th>\n",
       "      <td>{'srctype': 'j', 'eid': '2-s2.0-85092678139', ...</td>\n",
       "    </tr>\n",
       "    <tr>\n",
       "      <th>74298</th>\n",
       "      <td>{'srctype': 'j', 'eid': '2-s2.0-85087468210', ...</td>\n",
       "    </tr>\n",
       "    <tr>\n",
       "      <th>74299</th>\n",
       "      <td>{'srctype': 'j', 'eid': '2-s2.0-85092677974', ...</td>\n",
       "    </tr>\n",
       "    <tr>\n",
       "      <th>74300</th>\n",
       "      <td>{'srctype': 'j', 'prism:issueIdentifier': '4',...</td>\n",
       "    </tr>\n",
       "    <tr>\n",
       "      <th>74301</th>\n",
       "      <td>None</td>\n",
       "    </tr>\n",
       "  </tbody>\n",
       "</table>\n",
       "<p>74302 rows × 1 columns</p>\n",
       "</div>"
      ],
      "text/plain": [
       "                                                coredata\n",
       "0      {'srctype': 'j', 'eid': '2-s2.0-85083266658', ...\n",
       "1      {'srctype': 'j', 'prism:issueIdentifier': '7',...\n",
       "2      {'srctype': 'j', 'prism:issueIdentifier': '8',...\n",
       "3      {'srctype': 'j', 'prism:issueIdentifier': '9',...\n",
       "4      {'srctype': 'j', 'prism:issueIdentifier': '11'...\n",
       "...                                                  ...\n",
       "74297  {'srctype': 'j', 'eid': '2-s2.0-85092678139', ...\n",
       "74298  {'srctype': 'j', 'eid': '2-s2.0-85087468210', ...\n",
       "74299  {'srctype': 'j', 'eid': '2-s2.0-85092677974', ...\n",
       "74300  {'srctype': 'j', 'prism:issueIdentifier': '4',...\n",
       "74301                                               None\n",
       "\n",
       "[74302 rows x 1 columns]"
      ]
     },
     "execution_count": 3,
     "metadata": {},
     "output_type": "execute_result"
    }
   ],
   "source": [
    "read_coredata = pd.read_pickle('extra_info_CS5099.pkl')\n",
    "df_current_extra_info = pd.DataFrame()\n",
    "df_current_extra_info['coredata'] = read_coredata['coredata']\n",
    "df_current_extra_info"
   ]
  },
  {
   "cell_type": "code",
   "execution_count": 4,
   "metadata": {},
   "outputs": [
    {
     "data": {
      "text/plain": [
       "coredata    14098\n",
       "dtype: int64"
      ]
     },
     "execution_count": 4,
     "metadata": {},
     "output_type": "execute_result"
    }
   ],
   "source": [
    "df_current_extra_info.isnull().sum()"
   ]
  },
  {
   "cell_type": "code",
   "execution_count": 5,
   "metadata": {},
   "outputs": [
    {
     "data": {
      "text/plain": [
       "coredata    0.189739\n",
       "dtype: float64"
      ]
     },
     "execution_count": 5,
     "metadata": {},
     "output_type": "execute_result"
    }
   ],
   "source": [
    "df_current_extra_info.isnull().sum() / len(df_current_extra_info)"
   ]
  },
  {
   "cell_type": "markdown",
   "metadata": {},
   "source": [
    "Compared to the length of the dataset, a fifth of fetched scopus data has no return value."
   ]
  },
  {
   "cell_type": "markdown",
   "metadata": {},
   "source": [
    "Thusly, all rows which contain \"None\" values are dropped and the DataFrame is reindexed. "
   ]
  },
  {
   "cell_type": "code",
   "execution_count": 6,
   "metadata": {},
   "outputs": [
    {
     "data": {
      "text/html": [
       "<div>\n",
       "<style scoped>\n",
       "    .dataframe tbody tr th:only-of-type {\n",
       "        vertical-align: middle;\n",
       "    }\n",
       "\n",
       "    .dataframe tbody tr th {\n",
       "        vertical-align: top;\n",
       "    }\n",
       "\n",
       "    .dataframe thead th {\n",
       "        text-align: right;\n",
       "    }\n",
       "</style>\n",
       "<table border=\"1\" class=\"dataframe\">\n",
       "  <thead>\n",
       "    <tr style=\"text-align: right;\">\n",
       "      <th></th>\n",
       "      <th>coredata</th>\n",
       "    </tr>\n",
       "  </thead>\n",
       "  <tbody>\n",
       "    <tr>\n",
       "      <th>0</th>\n",
       "      <td>{'srctype': 'j', 'eid': '2-s2.0-85083266658', ...</td>\n",
       "    </tr>\n",
       "    <tr>\n",
       "      <th>1</th>\n",
       "      <td>{'srctype': 'j', 'prism:issueIdentifier': '7',...</td>\n",
       "    </tr>\n",
       "    <tr>\n",
       "      <th>2</th>\n",
       "      <td>{'srctype': 'j', 'prism:issueIdentifier': '8',...</td>\n",
       "    </tr>\n",
       "    <tr>\n",
       "      <th>3</th>\n",
       "      <td>{'srctype': 'j', 'prism:issueIdentifier': '9',...</td>\n",
       "    </tr>\n",
       "    <tr>\n",
       "      <th>4</th>\n",
       "      <td>{'srctype': 'j', 'prism:issueIdentifier': '11'...</td>\n",
       "    </tr>\n",
       "    <tr>\n",
       "      <th>...</th>\n",
       "      <td>...</td>\n",
       "    </tr>\n",
       "    <tr>\n",
       "      <th>60199</th>\n",
       "      <td>{'srctype': 'j', 'eid': '2-s2.0-85092679086', ...</td>\n",
       "    </tr>\n",
       "    <tr>\n",
       "      <th>60200</th>\n",
       "      <td>{'srctype': 'j', 'eid': '2-s2.0-85092678139', ...</td>\n",
       "    </tr>\n",
       "    <tr>\n",
       "      <th>60201</th>\n",
       "      <td>{'srctype': 'j', 'eid': '2-s2.0-85087468210', ...</td>\n",
       "    </tr>\n",
       "    <tr>\n",
       "      <th>60202</th>\n",
       "      <td>{'srctype': 'j', 'eid': '2-s2.0-85092677974', ...</td>\n",
       "    </tr>\n",
       "    <tr>\n",
       "      <th>60203</th>\n",
       "      <td>{'srctype': 'j', 'prism:issueIdentifier': '4',...</td>\n",
       "    </tr>\n",
       "  </tbody>\n",
       "</table>\n",
       "<p>60204 rows × 1 columns</p>\n",
       "</div>"
      ],
      "text/plain": [
       "                                                coredata\n",
       "0      {'srctype': 'j', 'eid': '2-s2.0-85083266658', ...\n",
       "1      {'srctype': 'j', 'prism:issueIdentifier': '7',...\n",
       "2      {'srctype': 'j', 'prism:issueIdentifier': '8',...\n",
       "3      {'srctype': 'j', 'prism:issueIdentifier': '9',...\n",
       "4      {'srctype': 'j', 'prism:issueIdentifier': '11'...\n",
       "...                                                  ...\n",
       "60199  {'srctype': 'j', 'eid': '2-s2.0-85092679086', ...\n",
       "60200  {'srctype': 'j', 'eid': '2-s2.0-85092678139', ...\n",
       "60201  {'srctype': 'j', 'eid': '2-s2.0-85087468210', ...\n",
       "60202  {'srctype': 'j', 'eid': '2-s2.0-85092677974', ...\n",
       "60203  {'srctype': 'j', 'prism:issueIdentifier': '4',...\n",
       "\n",
       "[60204 rows x 1 columns]"
      ]
     },
     "execution_count": 6,
     "metadata": {},
     "output_type": "execute_result"
    }
   ],
   "source": [
    "df_combined = df_current_extra_info.dropna()\n",
    "df_combined = df_combined.reset_index(drop=True)\n",
    "df_combined"
   ]
  },
  {
   "cell_type": "markdown",
   "metadata": {},
   "source": [
    "The following functions support the creation of DataFrames based on the columns affiliation and coredata. "
   ]
  },
  {
   "cell_type": "code",
   "execution_count": null,
   "metadata": {},
   "outputs": [],
   "source": [
    "def get_one_entry(dic):\n",
    "    df_affiliation_holder = pd.DataFrame(dic.items()).T\n",
    "    df_affiliation_holder.columns = df_affiliation_holder.iloc[0]\n",
    "    df_affiliation_holder = df_affiliation_holder.drop(df_affiliation_holder.index[0])\n",
    "    return df_affiliation_holder"
   ]
  },
  {
   "cell_type": "code",
   "execution_count": null,
   "metadata": {},
   "outputs": [],
   "source": [
    "def get_various_entries(dic):\n",
    "    df_affiliation_holder = pd.DataFrame.from_dict(dic, orient='columns')\n",
    "    return df_affiliation_holder"
   ]
  },
  {
   "cell_type": "markdown",
   "metadata": {},
   "source": [
    "The next cell creates the DataFrame which focus on coredata. "
   ]
  },
  {
   "cell_type": "code",
   "execution_count": null,
   "metadata": {},
   "outputs": [],
   "source": [
    "%%time\n",
    "df_coredata = pd.DataFrame()\n",
    "df_coredata_holder = pd.DataFrame()\n",
    "\n",
    "\n",
    "for i in df_combined['coredata']:\n",
    "    string_holder = str(i)\n",
    "    if string_holder[0] == \"[\":\n",
    "        df_coredata_holder = get_various_entries(i)\n",
    "    else: \n",
    "        df_coredata_holder = get_one_entry(i)\n",
    "    df_coredata = pd.concat([df_coredata_holder, df_coredata],ignore_index=True)\n",
    "    print(len(df_coredata))\n",
    "df_coredata"
   ]
  },
  {
   "cell_type": "code",
   "execution_count": null,
   "metadata": {},
   "outputs": [],
   "source": [
    "ser_type = df_coredata['prism:aggregationType']\n",
    "ser_type_counted = ser_type.value_counts()\n",
    "ser_type_counted"
   ]
  },
  {
   "cell_type": "code",
   "execution_count": null,
   "metadata": {},
   "outputs": [],
   "source": [
    "ser_type_dict = {}\n",
    "len_ser_type_counted  = len(ser_type_counted)\n",
    "i = 0\n",
    "while i < len_ser_type_counted:\n",
    "    ser_type_dict[i] = ser_type_counted.index[i] + \" (\" + str(ser_type_counted.values[i]) + \")\"\n",
    "    i = i + 1 \n",
    "\n",
    "y = ser_type_counted.values\n",
    "labelling = ser_type_dict.values()\n",
    "shift = [-0.1, 0.2, 0.4, 0.6, 0.8]\n",
    "\n",
    "plt.pie(y, labels = labelling, startangle = 70, explode = shift)\n",
    "plt.title(\"Literature types\", loc=\"left\")\n",
    "plt.show() "
   ]
  },
  {
   "cell_type": "code",
   "execution_count": null,
   "metadata": {},
   "outputs": [],
   "source": [
    "ser_citedcount = df_coredata['citedby-count']\n",
    "ser_citedcount_counted = ser_citedcount.value_counts()\n",
    "ypoints = ser_citedcount_counted.values\n",
    "\n",
    "plt.plot(ypoints, linestyle = 'dotted')\n",
    "plt.xlabel(\"Number of citations\")\n",
    "plt.ylabel(\"Number of publications\")\n",
    "plt.title(\"Citation data of academic literature\")\n",
    "plt.show()"
   ]
  },
  {
   "cell_type": "code",
   "execution_count": null,
   "metadata": {},
   "outputs": [],
   "source": [
    "ser_citedcount_counted "
   ]
  }
 ],
 "metadata": {
  "kernelspec": {
   "display_name": "Python 3",
   "language": "python",
   "name": "python3"
  },
  "language_info": {
   "codemirror_mode": {
    "name": "ipython",
    "version": 3
   },
   "file_extension": ".py",
   "mimetype": "text/x-python",
   "name": "python",
   "nbconvert_exporter": "python",
   "pygments_lexer": "ipython3",
   "version": "3.8.5"
  }
 },
 "nbformat": 4,
 "nbformat_minor": 4
}
