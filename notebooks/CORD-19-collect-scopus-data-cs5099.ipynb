{
 "cells": [
  {
   "cell_type": "markdown",
   "metadata": {},
   "source": [
    "# CORD-19-collect-scopus-data"
   ]
  },
  {
   "cell_type": "markdown",
   "metadata": {},
   "source": [
    "In general, this jupyter notebook is designated to collect additional data via scopus to enbroaden the CORD19 dataset: \n",
    "https://datadryad.org/stash/dataset/doi:10.5061/dryad.vmcvdncs0"
   ]
  },
  {
   "cell_type": "markdown",
   "metadata": {},
   "source": [
    "First, relevant packages must be imported to the Notebook."
   ]
  },
  {
   "cell_type": "code",
   "execution_count": 27,
   "metadata": {},
   "outputs": [],
   "source": [
    "import numpy as np\n",
    "import pandas as pd\n",
    "import csv\n",
    "import ast\n",
    "import collections\n",
    "import matplotlib.pyplot as plt\n",
    "import Levenshtein as lev\n",
    "from fuzzywuzzy import fuzz \n",
    "import datetime\n",
    "import matplotlib.pyplot as plt\n",
    "import re\n",
    "from urllib.parse import urlparse\n",
    "from collections import Counter\n",
    "\n",
    "from elsapy.elsclient import ElsClient\n",
    "from elsapy.elsdoc import FullDoc, AbsDoc\n",
    "from elsapy.elssearch import ElsSearch\n",
    "\n",
    "import time # for sleep\n",
    "from pybtex.database import parse_file, BibliographyData, Entry\n",
    "import json\n",
    "from elsapy.elsclient import ElsClient\n",
    "from elsapy.elsdoc import AbsDoc\n",
    "from elsapy.elssearch import ElsSearch"
   ]
  },
  {
   "cell_type": "markdown",
   "metadata": {},
   "source": [
    "Get the data and save it to a variable."
   ]
  },
  {
   "cell_type": "code",
   "execution_count": 28,
   "metadata": {},
   "outputs": [],
   "source": [
    "CORD19_CSV = pd.read_csv('../data/cord-19/CORD19_software_mentions.csv')"
   ]
  },
  {
   "cell_type": "markdown",
   "metadata": {},
   "source": [
    "Check the length of the column containing doi's."
   ]
  },
  {
   "cell_type": "code",
   "execution_count": 29,
   "metadata": {},
   "outputs": [
    {
     "data": {
      "text/plain": [
       "77448"
      ]
     },
     "execution_count": 29,
     "metadata": {},
     "output_type": "execute_result"
    }
   ],
   "source": [
    "len(CORD19_CSV['doi'])"
   ]
  },
  {
   "cell_type": "markdown",
   "metadata": {},
   "source": [
    "Display the column doi to see if there are inconsistencies such as NaN's"
   ]
  },
  {
   "cell_type": "code",
   "execution_count": 30,
   "metadata": {},
   "outputs": [
    {
     "data": {
      "text/plain": [
       "0                                 NaN\n",
       "1          10.1016/j.regg.2021.01.002\n",
       "2           10.1016/j.rec.2020.08.002\n",
       "3        10.1016/j.vetmic.2006.11.026\n",
       "4                   10.3390/v12080849\n",
       "                     ...             \n",
       "77443      10.1007/s11229-020-02869-9\n",
       "77444                             NaN\n",
       "77445     10.1101/2020.05.13.20100206\n",
       "77446      10.1007/s42991-020-00052-8\n",
       "77447     10.1101/2020.09.14.20194670\n",
       "Name: doi, Length: 77448, dtype: object"
      ]
     },
     "execution_count": 30,
     "metadata": {},
     "output_type": "execute_result"
    }
   ],
   "source": [
    "doi = CORD19_CSV['doi']\n",
    "doi"
   ]
  },
  {
   "cell_type": "markdown",
   "metadata": {},
   "source": [
    "Create a series with solely unique values and neglect NaN's."
   ]
  },
  {
   "cell_type": "code",
   "execution_count": 31,
   "metadata": {},
   "outputs": [
    {
     "data": {
      "text/plain": [
       "10.1016/j.dsx.2020.04.012       2\n",
       "10.31729/jnma.5498              2\n",
       "10.1093/nar/gki110              1\n",
       "10.1101/2020.02.16.20023671     1\n",
       "10.3390/cancers12123490         1\n",
       "                               ..\n",
       "10.4061/2009/239204             1\n",
       "10.1007/s00262-010-0903-4       1\n",
       "10.1007/978-3-030-50423-6_15    1\n",
       "10.1016/j.eclinm.2020.100512    1\n",
       "10.7759/cureus.10923            1\n",
       "Name: doi, Length: 74302, dtype: int64"
      ]
     },
     "execution_count": 31,
     "metadata": {},
     "output_type": "execute_result"
    }
   ],
   "source": [
    "doi_counted = doi.value_counts()\n",
    "doi_counted"
   ]
  },
  {
   "cell_type": "markdown",
   "metadata": {},
   "source": [
    "The following function determines the requested information from the Scopus API. (https://api.elsevier.com/content/search/scopus?query=DOI(10.1109/MCOM.2016.7509373)&apiKey=6d485ef1fe1408712f37e8a783a285a4)"
   ]
  },
  {
   "cell_type": "code",
   "execution_count": 32,
   "metadata": {},
   "outputs": [],
   "source": [
    "def AffiliationsFromScopusByDOI(client, doi):\n",
    "    \"\"\"obtain addiotional paper information from scopus by doi\n",
    "    \"\"\"\n",
    "    doc_srch = ElsSearch(\"DOI(\"+doi+\")\",'scopus')\n",
    "    doc_srch.execute(client, get_all = True)\n",
    "    #print (\"doc_srch has\", len(doc_srch.results), \"results.\")\n",
    "    #print(doc_srch.results)\n",
    "    try:\n",
    "        scopus_id=doc_srch.results[0][\"dc:identifier\"].split(\":\")[1]\n",
    "        scp_doc = AbsDoc(scp_id = scopus_id)\n",
    "        if scp_doc.read(client):\n",
    "            # print (\"scp_doc.title: \", scp_doc.title)\n",
    "            scp_doc.write()   \n",
    "        else:\n",
    "            print (\"Read document failed.\")\n",
    "        # print(scp_doc.data[\"affiliation\"])\n",
    "        return scp_doc.data\n",
    "    except:\n",
    "        return None"
   ]
  },
  {
   "cell_type": "markdown",
   "metadata": {},
   "source": [
    "Thusly, the configuration file is set up and contains an APIkey. Further information: https://github.com/ElsevierDev/elsapy/blob/master/CONFIG.md"
   ]
  },
  {
   "cell_type": "code",
   "execution_count": 33,
   "metadata": {},
   "outputs": [],
   "source": [
    "con_file = open(\"config.json\")\n",
    "config = json.load(con_file)\n",
    "con_file.close()"
   ]
  },
  {
   "cell_type": "markdown",
   "metadata": {},
   "source": [
    "Moreover, the client is initialized with the API-Key."
   ]
  },
  {
   "cell_type": "code",
   "execution_count": 34,
   "metadata": {},
   "outputs": [],
   "source": [
    "client = ElsClient(config['apikey'])"
   ]
  },
  {
   "cell_type": "markdown",
   "metadata": {},
   "source": [
    "For demonstation purposes, the following cells shows which data is returned by the Scopus API. "
   ]
  },
  {
   "cell_type": "code",
   "execution_count": 35,
   "metadata": {},
   "outputs": [
    {
     "name": "stdout",
     "output_type": "stream",
     "text": [
      "{\n",
      "  \"affiliation\": [\n",
      "    {\n",
      "      \"affiliation-city\": \"New Delhi\",\n",
      "      \"affilname\": \"Jamia Hamdard\",\n",
      "      \"affiliation-country\": \"India\"\n",
      "    },\n",
      "    {\n",
      "      \"affiliation-city\": \"New Delhi\",\n",
      "      \"affilname\": \"Jamia Millia Islamia\",\n",
      "      \"affiliation-country\": \"India\"\n",
      "    },\n",
      "    {\n",
      "      \"affiliation-city\": \"New Delhi\",\n",
      "      \"affilname\": \"Indraprastha Apollo Hospitals\",\n",
      "      \"affiliation-country\": \"India\"\n",
      "    }\n",
      "  ],\n",
      "  \"coredata\": {\n",
      "    \"srctype\": \"j\",\n",
      "    \"eid\": \"2-s2.0-85083171050\",\n",
      "    \"pubmed-id\": \"32305024\",\n",
      "    \"prism:coverDate\": \"2020-07-01\",\n",
      "    \"prism:aggregationType\": \"Journal\",\n",
      "    \"prism:url\": \"https://api.elsevier.com/content/abstract/scopus_id/85083171050\",\n",
      "    \"dc:creator\": {\n",
      "      \"author\": [\n",
      "        {\n",
      "          \"ce:given-name\": \"Raju\",\n",
      "          \"preferred-name\": {\n",
      "            \"ce:given-name\": \"Raju\",\n",
      "            \"ce:initials\": \"R.\",\n",
      "            \"ce:surname\": \"Vaishya\",\n",
      "            \"ce:indexed-name\": \"Vaishya R.\"\n",
      "          },\n",
      "          \"@seq\": \"1\",\n",
      "          \"ce:initials\": \"R.\",\n",
      "          \"@_fa\": \"true\",\n",
      "          \"affiliation\": {\n",
      "            \"@id\": \"60019286\",\n",
      "            \"@href\": \"https://api.elsevier.com/content/affiliation/affiliation_id/60019286\"\n",
      "          },\n",
      "          \"ce:surname\": \"Vaishya\",\n",
      "          \"@auid\": \"6602902951\",\n",
      "          \"author-url\": \"https://api.elsevier.com/content/author/author_id/6602902951\",\n",
      "          \"ce:indexed-name\": \"Vaishya R.\"\n",
      "        }\n",
      "      ]\n",
      "    },\n",
      "    \"link\": [\n",
      "      {\n",
      "        \"@_fa\": \"true\",\n",
      "        \"@rel\": \"self\",\n",
      "        \"@href\": \"https://api.elsevier.com/content/abstract/scopus_id/85083171050\"\n",
      "      },\n",
      "      {\n",
      "        \"@_fa\": \"true\",\n",
      "        \"@rel\": \"scopus\",\n",
      "        \"@href\": \"https://www.scopus.com/inward/record.uri?partnerID=HzOxMe3b&scp=85083171050&origin=inward\"\n",
      "      },\n",
      "      {\n",
      "        \"@_fa\": \"true\",\n",
      "        \"@rel\": \"scopus-citedby\",\n",
      "        \"@href\": \"https://www.scopus.com/inward/citedby.uri?partnerID=HzOxMe3b&scp=85083171050&origin=inward\"\n",
      "      }\n",
      "    ],\n",
      "    \"source-id\": \"5700165201\",\n",
      "    \"pii\": \"S1871402120300771\",\n",
      "    \"citedby-count\": \"200\",\n",
      "    \"prism:volume\": \"14\",\n",
      "    \"subtype\": \"ar\",\n",
      "    \"dc:title\": \"Artificial Intelligence (AI) applications for COVID-19 pandemic\",\n",
      "    \"openaccess\": \"1\",\n",
      "    \"prism:issn\": \"18780334 18714021\",\n",
      "    \"prism:issueIdentifier\": \"4\",\n",
      "    \"subtypeDescription\": \"Article\",\n",
      "    \"prism:publicationName\": \"Diabetes and Metabolic Syndrome: Clinical Research and Reviews\",\n",
      "    \"prism:pageRange\": \"337-339\",\n",
      "    \"prism:endingPage\": \"339\",\n",
      "    \"openaccessFlag\": \"true\",\n",
      "    \"prism:doi\": \"10.1016/j.dsx.2020.04.012\",\n",
      "    \"prism:startingPage\": \"337\",\n",
      "    \"dc:identifier\": \"SCOPUS_ID:85083171050\",\n",
      "    \"dc:publisher\": \"Elsevier Ltd\"\n",
      "  }\n",
      "}\n"
     ]
    }
   ],
   "source": [
    "return_example = AffiliationsFromScopusByDOI(client, '10.1016/j.dsx.2020.04.012')\n",
    "print(json.dumps(return_example, indent=2))"
   ]
  },
  {
   "cell_type": "markdown",
   "metadata": {},
   "source": [
    "Based on the returned data, further analysis is conductable. Therefore, two notebooks are created to analyse data linked to: \n",
    "<ul>\n",
    "  <li>affiliation</li>\n",
    "  <li>coredata</li>\n",
    "</ul>    "
   ]
  },
  {
   "cell_type": "markdown",
   "metadata": {},
   "source": [
    "Thusly, the already fetched coredata and affiliation are read and combined to a DataFrame for further processing."
   ]
  },
  {
   "cell_type": "code",
   "execution_count": 36,
   "metadata": {},
   "outputs": [
    {
     "name": "stdout",
     "output_type": "stream",
     "text": [
      "The DataFrame is empty\n"
     ]
    }
   ],
   "source": [
    "df_current_extra_info = pd.DataFrame()\n",
    "try:\n",
    "    read_affiliation = pd.read_pickle('extra_info_affiliation_CS.pkl')\n",
    "    read_coredata = pd.read_pickle('extra_info_coredata_CS.pkl')\n",
    "    df_current_extra_info['affiliation'] = read_affiliation\n",
    "    df_current_extra_info['coredata'] = read_coredata\n",
    "    df_current_extra_info\n",
    "except:\n",
    "    print(\"The DataFrame is empty\")"
   ]
  },
  {
   "cell_type": "markdown",
   "metadata": {},
   "source": [
    "The length of the DataFrame containing the current information is assigned to a variable to be used for further processing. \n",
    "Therefore, the length will be used within a while loop as a starting index. "
   ]
  },
  {
   "cell_type": "code",
   "execution_count": 37,
   "metadata": {},
   "outputs": [
    {
     "data": {
      "text/plain": [
       "0"
      ]
     },
     "execution_count": 37,
     "metadata": {},
     "output_type": "execute_result"
    }
   ],
   "source": [
    "len_df_current_extra_info = len(df_current_extra_info)\n",
    "len_df_current_extra_info"
   ]
  },
  {
   "cell_type": "markdown",
   "metadata": {},
   "source": [
    "Subsequently, the fetched scopus data is stored within a dictionary. Besides, the print function is used to show the state of the process by displaying the latest fetched information. "
   ]
  },
  {
   "cell_type": "code",
   "execution_count": 38,
   "metadata": {},
   "outputs": [
    {
     "name": "stdout",
     "output_type": "stream",
     "text": [
      "Position: 0 -> 10.1016/j.dsx.2020.04.012\n",
      "Position: 1 -> 10.31729/jnma.5498\n",
      "Position: 2 -> 10.1093/nar/gki110\n",
      "Position: 3 -> 10.1101/2020.02.16.20023671\n",
      "Position: 4 -> 10.3390/cancers12123490\n",
      "Wall time: 15.5 s\n"
     ]
    }
   ],
   "source": [
    "%%time\n",
    "i = len_df_current_extra_info\n",
    "dict_new_extra_info = dict()\n",
    "len_dois = len(doi_counted)\n",
    "while i < 5:\n",
    "    print(\"Position: \" + str(i) + \" -> \" +  doi_counted.index[i])\n",
    "    dict_new_extra_info[i] = AffiliationsFromScopusByDOI(client, doi_counted.index[i])\n",
    "    i = i + 1 "
   ]
  },
  {
   "cell_type": "markdown",
   "metadata": {},
   "source": [
    "The following cell is useful when the process above is interrupted. Therefore, the dictionary containing fetched information can be narrowed down to useful entries. "
   ]
  },
  {
   "cell_type": "code",
   "execution_count": 39,
   "metadata": {},
   "outputs": [],
   "source": [
    "def save_new_extra_info(len_df_current_extra_info, upto):\n",
    "    \"\"\"\n",
    "    This function is used to separate successfull API calls from API calls which were prevented due to an invalid API-Key.\n",
    "    As a result, this function returns a range of valid entries up to the given parameter. \n",
    "    \"\"\"\n",
    "    dict_new_extra_info_saver = dict()\n",
    "    i = len_df_current_extra_info\n",
    "    while i < upto:\n",
    "        #print(\"Position: \" + str(i) + \" -> \" +  doi_counted.index[i])\n",
    "        dict_new_extra_info_saver[i] = dict_new_extra_info[i]\n",
    "        i = i + 1 \n",
    "    return dict_new_extra_info_saver"
   ]
  },
  {
   "cell_type": "code",
   "execution_count": 40,
   "metadata": {},
   "outputs": [],
   "source": [
    "def append_fetched_data_to_df(df_current_extra_info, dic):\n",
    "    \"\"\"\n",
    "    This function appends or inserts newly fetched data to the DataFrame containing scopus data.\n",
    "    \"\"\"\n",
    "    #df_current_extra_info -> holding the latest data, new data needs to be appended to it, \n",
    "    #df_newly_fetched_transposed -> holdy newly fetched data, needs to be inserted or fetched\n",
    "    \n",
    "    #Prior appending, the dictionary is transformed to a DataFrame\n",
    "    df_newly_fetched = pd.DataFrame(dic)\n",
    "    \n",
    "    #For readability, the DataFrame is transposed\n",
    "    df_newly_fetched_transposed = df_newly_fetched.T\n",
    "    \n",
    "    #Insert newly fetched rows which were previously not successful appended\n",
    "    for index, row in df_newly_fetched_transposed.iterrows():\n",
    "        #insert to current extra info DataFrame because the row is existent\n",
    "        if index in df_current_extra_info.index and row.affiliation is not None:\n",
    "            df_current_extra_info.loc[index] = row\n",
    "        #append to current extra info DataFrame because the row is new     \n",
    "        if index not in df_current_extra_info.index:\n",
    "            df_current_extra_info = df_current_extra_info.append(row, ignore_index=True)\n",
    "            \n",
    "    #returning DataFrame with inserted and replaced rows. \n",
    "    return df_current_extra_info"
   ]
  },
  {
   "cell_type": "markdown",
   "metadata": {},
   "source": [
    "The existing and newly fetched information are combined into one DataFrame. "
   ]
  },
  {
   "cell_type": "code",
   "execution_count": 41,
   "metadata": {},
   "outputs": [
    {
     "data": {
      "text/html": [
       "<div>\n",
       "<style scoped>\n",
       "    .dataframe tbody tr th:only-of-type {\n",
       "        vertical-align: middle;\n",
       "    }\n",
       "\n",
       "    .dataframe tbody tr th {\n",
       "        vertical-align: top;\n",
       "    }\n",
       "\n",
       "    .dataframe thead th {\n",
       "        text-align: right;\n",
       "    }\n",
       "</style>\n",
       "<table border=\"1\" class=\"dataframe\">\n",
       "  <thead>\n",
       "    <tr style=\"text-align: right;\">\n",
       "      <th></th>\n",
       "      <th>affiliation</th>\n",
       "      <th>coredata</th>\n",
       "    </tr>\n",
       "  </thead>\n",
       "  <tbody>\n",
       "    <tr>\n",
       "      <th>0</th>\n",
       "      <td>[{'affiliation-city': 'New Delhi', 'affilname'...</td>\n",
       "      <td>{'srctype': 'j', 'eid': '2-s2.0-85083171050', ...</td>\n",
       "    </tr>\n",
       "    <tr>\n",
       "      <th>1</th>\n",
       "      <td>[{'affiliation-city': None, 'affilname': 'Pata...</td>\n",
       "      <td>{'srctype': 'j', 'prism:issueIdentifier': '230...</td>\n",
       "    </tr>\n",
       "    <tr>\n",
       "      <th>2</th>\n",
       "      <td>[{'affiliation-city': 'St. Louis', 'affilname'...</td>\n",
       "      <td>{'srctype': 'j', 'prism:issueIdentifier': 'DAT...</td>\n",
       "    </tr>\n",
       "    <tr>\n",
       "      <th>3</th>\n",
       "      <td>None</td>\n",
       "      <td>None</td>\n",
       "    </tr>\n",
       "    <tr>\n",
       "      <th>4</th>\n",
       "      <td>{'affiliation-city': 'Campinas', 'affilname': ...</td>\n",
       "      <td>{'srctype': 'j', 'eid': '2-s2.0-85096696345', ...</td>\n",
       "    </tr>\n",
       "  </tbody>\n",
       "</table>\n",
       "</div>"
      ],
      "text/plain": [
       "                                         affiliation  \\\n",
       "0  [{'affiliation-city': 'New Delhi', 'affilname'...   \n",
       "1  [{'affiliation-city': None, 'affilname': 'Pata...   \n",
       "2  [{'affiliation-city': 'St. Louis', 'affilname'...   \n",
       "3                                               None   \n",
       "4  {'affiliation-city': 'Campinas', 'affilname': ...   \n",
       "\n",
       "                                            coredata  \n",
       "0  {'srctype': 'j', 'eid': '2-s2.0-85083171050', ...  \n",
       "1  {'srctype': 'j', 'prism:issueIdentifier': '230...  \n",
       "2  {'srctype': 'j', 'prism:issueIdentifier': 'DAT...  \n",
       "3                                               None  \n",
       "4  {'srctype': 'j', 'eid': '2-s2.0-85096696345', ...  "
      ]
     },
     "execution_count": 41,
     "metadata": {},
     "output_type": "execute_result"
    }
   ],
   "source": [
    "df_combined_extra_info = append_fetched_data_to_df(df_current_extra_info, dict_new_extra_info)\n",
    "df_combined_extra_info"
   ]
  },
  {
   "cell_type": "code",
   "execution_count": 42,
   "metadata": {},
   "outputs": [],
   "source": [
    "#to big for GitHub\n",
    "#df_combined_extra_info.to_csv('extra_info_CS5099.csv', sep='\\t')"
   ]
  },
  {
   "cell_type": "markdown",
   "metadata": {},
   "source": [
    "Both Dataframes columns are stored each to an object."
   ]
  },
  {
   "cell_type": "code",
   "execution_count": 50,
   "metadata": {},
   "outputs": [],
   "source": [
    "def store_df_columns(df):\n",
    "    ser_affiliation = df['affiliation']\n",
    "    ser_coredata = df['coredata']\n",
    "    return ser_affiliation, ser_coredata"
   ]
  },
  {
   "cell_type": "code",
   "execution_count": 51,
   "metadata": {},
   "outputs": [
    {
     "data": {
      "text/plain": [
       "0    [{'affiliation-city': 'New Delhi', 'affilname'...\n",
       "1    [{'affiliation-city': None, 'affilname': 'Pata...\n",
       "2    [{'affiliation-city': 'St. Louis', 'affilname'...\n",
       "3                                                 None\n",
       "4    {'affiliation-city': 'Campinas', 'affilname': ...\n",
       "Name: affiliation, dtype: object"
      ]
     },
     "execution_count": 51,
     "metadata": {},
     "output_type": "execute_result"
    }
   ],
   "source": [
    "stored_series = store_df_columns(df_combined_extra_info)\n",
    "stored_series[0]"
   ]
  },
  {
   "cell_type": "code",
   "execution_count": 52,
   "metadata": {},
   "outputs": [
    {
     "data": {
      "text/plain": [
       "0    {'srctype': 'j', 'eid': '2-s2.0-85083171050', ...\n",
       "1    {'srctype': 'j', 'prism:issueIdentifier': '230...\n",
       "2    {'srctype': 'j', 'prism:issueIdentifier': 'DAT...\n",
       "3                                                 None\n",
       "4    {'srctype': 'j', 'eid': '2-s2.0-85096696345', ...\n",
       "Name: coredata, dtype: object"
      ]
     },
     "execution_count": 52,
     "metadata": {},
     "output_type": "execute_result"
    }
   ],
   "source": [
    "stored_series[1]"
   ]
  },
  {
   "cell_type": "markdown",
   "metadata": {},
   "source": [
    "The series objects are stored to each to a pkl-file which is not exceeding the size of 100MB allowing GitHub uploads. "
   ]
  },
  {
   "cell_type": "code",
   "execution_count": null,
   "metadata": {},
   "outputs": [],
   "source": [
    "ser_affiliation.to_pickle('extra_info_affiliation_CS5099.pkl')\n",
    "ser_coredata.to_pickle('extra_info_coredata_CS5099.pkl')"
   ]
  },
  {
   "cell_type": "markdown",
   "metadata": {},
   "source": [
    "Verifying that the returned None values are due to non existent data and not to an invalid API-Key"
   ]
  },
  {
   "cell_type": "code",
   "execution_count": null,
   "metadata": {},
   "outputs": [],
   "source": [
    "df_current_extra_info_checker = df_current_extra_info\n",
    "df_current_extra_info_checker['doi'] = doi_counted.index\n",
    "df_current_extra_info_checker.head(50)"
   ]
  },
  {
   "cell_type": "code",
   "execution_count": null,
   "metadata": {},
   "outputs": [],
   "source": [
    "len_df_current_extra_info_checker = len(df_current_extra_info_checker)\n",
    "dict_new_extra_info_checker = dict()\n",
    "i = 0 \n",
    "while i < 50:\n",
    "    if df_current_extra_info_checker['affiliation'][i] == None:\n",
    "        dict_new_extra_info_checker[i] = AffiliationsFromScopusByDOI(client, df_current_extra_info_checker['doi'][i])\n",
    "        #print(\"Position: \" + str(i) + \" -> \" +  df_current_extra_info_checker['doi'][i])\n",
    "        print(json.dumps(dict_new_extra_info_checker[i], indent=2))\n",
    "    i = i + 1    "
   ]
  },
  {
   "cell_type": "code",
   "execution_count": null,
   "metadata": {},
   "outputs": [],
   "source": [
    "dict_new_extra_info_checker"
   ]
  },
  {
   "cell_type": "code",
   "execution_count": null,
   "metadata": {},
   "outputs": [],
   "source": [
    "df_new_extra_info_new_found = pd.DataFrame(dict_new_extra_info_checker)\n",
    "df_new_extra_info_new_found_transposed = df_new_extra_info_new_found.T\n",
    "df_new_extra_info_new_found_transposed"
   ]
  },
  {
   "cell_type": "code",
   "execution_count": null,
   "metadata": {},
   "outputs": [],
   "source": [
    "test_dataframe = append_fetched_data_to_df(df_current_extra_info, dict_new_extra_info_checker)\n",
    "test_dataframe.head(50)"
   ]
  },
  {
   "cell_type": "code",
   "execution_count": null,
   "metadata": {},
   "outputs": [],
   "source": []
  }
 ],
 "metadata": {
  "kernelspec": {
   "display_name": "Python 3",
   "language": "python",
   "name": "python3"
  },
  "language_info": {
   "codemirror_mode": {
    "name": "ipython",
    "version": 3
   },
   "file_extension": ".py",
   "mimetype": "text/x-python",
   "name": "python",
   "nbconvert_exporter": "python",
   "pygments_lexer": "ipython3",
   "version": "3.8.5"
  }
 },
 "nbformat": 4,
 "nbformat_minor": 4
}
