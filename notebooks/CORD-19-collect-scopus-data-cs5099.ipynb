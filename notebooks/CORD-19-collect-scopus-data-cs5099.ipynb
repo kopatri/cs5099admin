{
 "cells": [
  {
   "cell_type": "markdown",
   "metadata": {},
   "source": [
    "# CORD-19 Collect SCOPUS data"
   ]
  },
  {
   "cell_type": "markdown",
   "metadata": {},
   "source": [
    "In general, this jupyter notebook is designated to collect additional data via scopus to enbroaden the CORD19 dataset: \n",
    "https://datadryad.org/stash/dataset/doi:10.5061/dryad.vmcvdncs0"
   ]
  },
  {
   "cell_type": "markdown",
   "metadata": {},
   "source": [
    "First, relevant packages must be imported to the Notebook."
   ]
  },
  {
   "cell_type": "code",
   "execution_count": 1,
   "metadata": {},
   "outputs": [],
   "source": [
    "import numpy as np\n",
    "import pandas as pd\n",
    "import csv\n",
    "import ast\n",
    "import collections\n",
    "import matplotlib.pyplot as plt\n",
    "import Levenshtein as lev\n",
    "from fuzzywuzzy import fuzz \n",
    "import datetime\n",
    "import matplotlib.pyplot as plt\n",
    "import re\n",
    "from urllib.parse import urlparse\n",
    "from collections import Counter\n",
    "\n",
    "from elsapy.elsclient import ElsClient\n",
    "from elsapy.elsdoc import FullDoc, AbsDoc\n",
    "from elsapy.elssearch import ElsSearch\n",
    "\n",
    "import time # for sleep\n",
    "from pybtex.database import parse_file, BibliographyData, Entry\n",
    "import json\n",
    "from elsapy.elsclient import ElsClient\n",
    "from elsapy.elsdoc import AbsDoc\n",
    "from elsapy.elssearch import ElsSearch"
   ]
  },
  {
   "cell_type": "markdown",
   "metadata": {},
   "source": [
    "Get the data and save it to a variable."
   ]
  },
  {
   "cell_type": "code",
   "execution_count": 2,
   "metadata": {},
   "outputs": [],
   "source": [
    "CORD19_CSV = pd.read_csv('../data/cord-19/CORD19_software_mentions.csv')"
   ]
  },
  {
   "cell_type": "markdown",
   "metadata": {},
   "source": [
    "Check the length of the column containing doi's."
   ]
  },
  {
   "cell_type": "code",
   "execution_count": 3,
   "metadata": {
    "scrolled": true
   },
   "outputs": [
    {
     "data": {
      "text/plain": [
       "77448"
      ]
     },
     "execution_count": 3,
     "metadata": {},
     "output_type": "execute_result"
    }
   ],
   "source": [
    "len(CORD19_CSV['doi'])"
   ]
  },
  {
   "cell_type": "markdown",
   "metadata": {},
   "source": [
    "Display the column doi to see if there are inconsistencies such as NaN's"
   ]
  },
  {
   "cell_type": "code",
   "execution_count": 4,
   "metadata": {},
   "outputs": [
    {
     "data": {
      "text/plain": [
       "0                                 NaN\n",
       "1          10.1016/j.regg.2021.01.002\n",
       "2           10.1016/j.rec.2020.08.002\n",
       "3        10.1016/j.vetmic.2006.11.026\n",
       "4                   10.3390/v12080849\n",
       "                     ...             \n",
       "77443      10.1007/s11229-020-02869-9\n",
       "77444                             NaN\n",
       "77445     10.1101/2020.05.13.20100206\n",
       "77446      10.1007/s42991-020-00052-8\n",
       "77447     10.1101/2020.09.14.20194670\n",
       "Name: doi, Length: 77448, dtype: object"
      ]
     },
     "execution_count": 4,
     "metadata": {},
     "output_type": "execute_result"
    }
   ],
   "source": [
    "doi = CORD19_CSV['doi']\n",
    "doi"
   ]
  },
  {
   "cell_type": "markdown",
   "metadata": {},
   "source": [
    "Create a series with solely unique values and neglect NaN's. It is important to sort the unique values. Otherwise, the method is creating different results after each restart of the notebook. "
   ]
  },
  {
   "cell_type": "code",
   "execution_count": 5,
   "metadata": {},
   "outputs": [
    {
     "data": {
      "text/plain": [
       "10.1001/jamainternmed.2020.1369       1\n",
       "10.1001/jamanetworkopen.2020.16382    1\n",
       "10.1001/jamanetworkopen.2020.17521    1\n",
       "10.1001/jamanetworkopen.2020.20485    1\n",
       "10.1001/jamanetworkopen.2020.24984    1\n",
       "                                     ..\n",
       "10.9745/ghsp-d-20-00115               1\n",
       "10.9745/ghsp-d-20-00171               1\n",
       "10.9745/ghsp-d-20-00218               1\n",
       "10.9758/cpn.2020.18.4.607             1\n",
       "10.9781/ijimai.2020.02.002            1\n",
       "Name: doi, Length: 74302, dtype: int64"
      ]
     },
     "execution_count": 5,
     "metadata": {},
     "output_type": "execute_result"
    }
   ],
   "source": [
    "doi_counted = doi.value_counts().sort_index(ascending=True)\n",
    "doi_counted"
   ]
  },
  {
   "cell_type": "markdown",
   "metadata": {},
   "source": [
    "The following function determines the requested information from the Scopus API."
   ]
  },
  {
   "cell_type": "code",
   "execution_count": 6,
   "metadata": {},
   "outputs": [],
   "source": [
    "#Adapted from https://github.com/ElsevierDev/elsapy/blob/master/exampleProg.py\n",
    "def fetch_scopus_api(client, doi):\n",
    "    \"\"\"obtain additional paper information from scopus by doi\n",
    "    \"\"\"\n",
    "    doc_srch = ElsSearch(\"DOI(\"+doi+\")\",'scopus')\n",
    "    doc_srch.execute(client, get_all = True)\n",
    "    #print (\"doc_srch has\", len(doc_srch.results), \"results.\")\n",
    "    #print(doc_srch.results)\n",
    "    try:\n",
    "        scopus_id=doc_srch.results[0][\"dc:identifier\"].split(\":\")[1]\n",
    "        scp_doc = AbsDoc(scp_id = scopus_id)\n",
    "        if scp_doc.read(client):\n",
    "            # print (\"scp_doc.title: \", scp_doc.title)\n",
    "            scp_doc.write()   \n",
    "        else:\n",
    "            print (\"Read document failed.\")\n",
    "        # print(scp_doc.data[\"affiliation\"])\n",
    "        return scp_doc.data\n",
    "    except:\n",
    "        return None"
   ]
  },
  {
   "cell_type": "markdown",
   "metadata": {},
   "source": [
    "Thusly, the configuration file is set up and contains an APIkey. Further information: https://github.com/ElsevierDev/elsapy/blob/master/CONFIG.md"
   ]
  },
  {
   "cell_type": "code",
   "execution_count": 7,
   "metadata": {},
   "outputs": [],
   "source": [
    "con_file = open(\"config.json\")\n",
    "config = json.load(con_file)\n",
    "con_file.close()"
   ]
  },
  {
   "cell_type": "markdown",
   "metadata": {},
   "source": [
    "Moreover, the client is initialized with the API-Key."
   ]
  },
  {
   "cell_type": "code",
   "execution_count": 8,
   "metadata": {},
   "outputs": [],
   "source": [
    "client = ElsClient(config['apikey'])"
   ]
  },
  {
   "cell_type": "markdown",
   "metadata": {},
   "source": [
    "For demonstation purposes, the following cells shows which data is returned by the Scopus API. "
   ]
  },
  {
   "cell_type": "code",
   "execution_count": 9,
   "metadata": {},
   "outputs": [
    {
     "name": "stdout",
     "output_type": "stream",
     "text": [
      "{\n",
      "  \"affiliation\": [\n",
      "    {\n",
      "      \"affiliation-city\": \"New Delhi\",\n",
      "      \"affilname\": \"Jamia Hamdard\",\n",
      "      \"affiliation-country\": \"India\"\n",
      "    },\n",
      "    {\n",
      "      \"affiliation-city\": \"New Delhi\",\n",
      "      \"affilname\": \"Jamia Millia Islamia\",\n",
      "      \"affiliation-country\": \"India\"\n",
      "    },\n",
      "    {\n",
      "      \"affiliation-city\": \"New Delhi\",\n",
      "      \"affilname\": \"Indraprastha Apollo Hospitals\",\n",
      "      \"affiliation-country\": \"India\"\n",
      "    }\n",
      "  ],\n",
      "  \"coredata\": {\n",
      "    \"srctype\": \"j\",\n",
      "    \"eid\": \"2-s2.0-85083171050\",\n",
      "    \"pubmed-id\": \"32305024\",\n",
      "    \"prism:coverDate\": \"2020-07-01\",\n",
      "    \"prism:aggregationType\": \"Journal\",\n",
      "    \"prism:url\": \"https://api.elsevier.com/content/abstract/scopus_id/85083171050\",\n",
      "    \"dc:creator\": {\n",
      "      \"author\": [\n",
      "        {\n",
      "          \"ce:given-name\": \"Raju\",\n",
      "          \"preferred-name\": {\n",
      "            \"ce:given-name\": \"Raju\",\n",
      "            \"ce:initials\": \"R.\",\n",
      "            \"ce:surname\": \"Vaishya\",\n",
      "            \"ce:indexed-name\": \"Vaishya R.\"\n",
      "          },\n",
      "          \"@seq\": \"1\",\n",
      "          \"ce:initials\": \"R.\",\n",
      "          \"@_fa\": \"true\",\n",
      "          \"affiliation\": {\n",
      "            \"@id\": \"60019286\",\n",
      "            \"@href\": \"https://api.elsevier.com/content/affiliation/affiliation_id/60019286\"\n",
      "          },\n",
      "          \"ce:surname\": \"Vaishya\",\n",
      "          \"@auid\": \"6602902951\",\n",
      "          \"author-url\": \"https://api.elsevier.com/content/author/author_id/6602902951\",\n",
      "          \"ce:indexed-name\": \"Vaishya R.\"\n",
      "        }\n",
      "      ]\n",
      "    },\n",
      "    \"link\": [\n",
      "      {\n",
      "        \"@_fa\": \"true\",\n",
      "        \"@rel\": \"self\",\n",
      "        \"@href\": \"https://api.elsevier.com/content/abstract/scopus_id/85083171050\"\n",
      "      },\n",
      "      {\n",
      "        \"@_fa\": \"true\",\n",
      "        \"@rel\": \"scopus\",\n",
      "        \"@href\": \"https://www.scopus.com/inward/record.uri?partnerID=HzOxMe3b&scp=85083171050&origin=inward\"\n",
      "      },\n",
      "      {\n",
      "        \"@_fa\": \"true\",\n",
      "        \"@rel\": \"scopus-citedby\",\n",
      "        \"@href\": \"https://www.scopus.com/inward/citedby.uri?partnerID=HzOxMe3b&scp=85083171050&origin=inward\"\n",
      "      }\n",
      "    ],\n",
      "    \"source-id\": \"5700165201\",\n",
      "    \"pii\": \"S1871402120300771\",\n",
      "    \"citedby-count\": \"203\",\n",
      "    \"prism:volume\": \"14\",\n",
      "    \"subtype\": \"ar\",\n",
      "    \"dc:title\": \"Artificial Intelligence (AI) applications for COVID-19 pandemic\",\n",
      "    \"openaccess\": \"1\",\n",
      "    \"prism:issn\": \"18780334 18714021\",\n",
      "    \"prism:issueIdentifier\": \"4\",\n",
      "    \"subtypeDescription\": \"Article\",\n",
      "    \"prism:publicationName\": \"Diabetes and Metabolic Syndrome: Clinical Research and Reviews\",\n",
      "    \"prism:pageRange\": \"337-339\",\n",
      "    \"prism:endingPage\": \"339\",\n",
      "    \"openaccessFlag\": \"true\",\n",
      "    \"prism:doi\": \"10.1016/j.dsx.2020.04.012\",\n",
      "    \"prism:startingPage\": \"337\",\n",
      "    \"dc:identifier\": \"SCOPUS_ID:85083171050\",\n",
      "    \"dc:publisher\": \"Elsevier Ltd\"\n",
      "  }\n",
      "}\n"
     ]
    }
   ],
   "source": [
    "return_example = fetch_scopus_api(client, '10.1016/j.dsx.2020.04.012')\n",
    "print(json.dumps(return_example, indent=2))"
   ]
  },
  {
   "cell_type": "markdown",
   "metadata": {},
   "source": [
    "Based on the returned data, further analysis is conductable. Therefore, two notebooks are created to analyse data linked to: \n",
    "<ul>\n",
    "  <li>affiliation</li>\n",
    "  <li>coredata</li>\n",
    "</ul>    "
   ]
  },
  {
   "cell_type": "markdown",
   "metadata": {},
   "source": [
    "Transform the dataset to an ethically correct form."
   ]
  },
  {
   "cell_type": "code",
   "execution_count": 10,
   "metadata": {},
   "outputs": [],
   "source": [
    "def remove_unethical_entries(json_holder):\n",
    "    #Checking if JSON is None\n",
    "    if json_holder is None:\n",
    "        return json_holder\n",
    "    \n",
    "     #Checking if JSON is NaN\n",
    "    if json_holder == \"NaN\":\n",
    "        return None\n",
    "\n",
    "    #JSON starts with { else [\n",
    "    string_helper = str(json_holder)\n",
    "    #print(string_helper[0])\n",
    "    if string_helper[0] == \"{\":\n",
    "            if 'affiliation-city' in json_holder:\n",
    "                del json_holder['affiliation-city']\n",
    "            if 'affilname' in json_holder:\n",
    "                 del json_holder['affilname']\n",
    "            if 'dc:creator' in json_holder:\n",
    "                 del json_holder['dc:creator']\n",
    "            return json_holder\n",
    "    elif string_helper[0] == \"[\":\n",
    "        #print(json_holder)\n",
    "        for element in json_holder: \n",
    "            if 'affiliation-city' in element.keys():\n",
    "                del element['affiliation-city']\n",
    "            if 'affilname' in element.keys():\n",
    "                 del element['affilname']\n",
    "            if 'dc:creator' in element.keys():\n",
    "                 del element['dc:creator']\n",
    "        return json_holder"
   ]
  },
  {
   "cell_type": "code",
   "execution_count": 11,
   "metadata": {},
   "outputs": [],
   "source": [
    "def transform_to_ethical_correct_data(df):\n",
    "    len_df = len(df)\n",
    "    i = 0\n",
    "\n",
    "    while i < len_df:\n",
    "        print(str(i) +\"/\"+str(len_df) + \" (Data cleaning aligned to ethical guidelines)\")\n",
    "        df['affiliation'][i] = remove_unethical_entries(df['affiliation'][i])\n",
    "        df['coredata'][i] = remove_unethical_entries(df['coredata'][i])\n",
    "        i = i + 1\n",
    "    return df"
   ]
  },
  {
   "cell_type": "markdown",
   "metadata": {},
   "source": [
    "Thusly, the already fetched coredata and affiliation are read and combined to a DataFrame for further processing."
   ]
  },
  {
   "cell_type": "code",
   "execution_count": 12,
   "metadata": {},
   "outputs": [],
   "source": [
    "df_current_extra_info = pd.DataFrame()\n",
    "bool_show_df = False\n",
    "try:\n",
    "    read_affiliation = pd.read_pickle('extra_info_affiliation_CS.pkl')\n",
    "    read_coredata = pd.read_pickle('extra_info_coredata_CS.pkl')\n",
    "    df_current_extra_info['affiliation'] = read_affiliation\n",
    "    df_current_extra_info['coredata'] = read_coredata\n",
    "    bool_show_df = True\n",
    "except:\n",
    "    print(\"The DataFrame is empty\")\n",
    "    bool_show_df = True"
   ]
  },
  {
   "cell_type": "markdown",
   "metadata": {},
   "source": [
    "Show already fetched information if it is existent."
   ]
  },
  {
   "cell_type": "code",
   "execution_count": 13,
   "metadata": {},
   "outputs": [
    {
     "name": "stdout",
     "output_type": "stream",
     "text": [
      "                                             affiliation  \\\n",
      "0      [{'affiliation-country': 'United States'}, {'a...   \n",
      "1      [{'affiliation-country': 'United States'}, {'a...   \n",
      "2      [{'affiliation-country': 'United States'}, {'a...   \n",
      "3      [{'affiliation-country': 'United States'}, {'a...   \n",
      "4      [{'affiliation-country': 'United States'}, {'a...   \n",
      "...                                                  ...   \n",
      "74297           {'affiliation-country': 'United States'}   \n",
      "74298  [{'affiliation-country': 'United States'}, {'a...   \n",
      "74299           {'affiliation-country': 'United States'}   \n",
      "74300  [{'affiliation-country': 'Turkey'}, {'affiliat...   \n",
      "74301                                               None   \n",
      "\n",
      "                                                coredata  \n",
      "0      {'srctype': 'j', 'eid': '2-s2.0-85083266658', ...  \n",
      "1      {'srctype': 'j', 'prism:issueIdentifier': '7',...  \n",
      "2      {'srctype': 'j', 'prism:issueIdentifier': '8',...  \n",
      "3      {'srctype': 'j', 'prism:issueIdentifier': '9',...  \n",
      "4      {'srctype': 'j', 'prism:issueIdentifier': '11'...  \n",
      "...                                                  ...  \n",
      "74297  {'srctype': 'j', 'eid': '2-s2.0-85092678139', ...  \n",
      "74298  {'srctype': 'j', 'eid': '2-s2.0-85087468210', ...  \n",
      "74299  {'srctype': 'j', 'eid': '2-s2.0-85092677974', ...  \n",
      "74300  {'srctype': 'j', 'prism:issueIdentifier': '4',...  \n",
      "74301                                               None  \n",
      "\n",
      "[74302 rows x 2 columns]\n"
     ]
    }
   ],
   "source": [
    "if bool_show_df == True: \n",
    "    print(df_current_extra_info)\n",
    "else:\n",
    "    print(\"There is no fetched information available.\")"
   ]
  },
  {
   "cell_type": "markdown",
   "metadata": {},
   "source": [
    "The length of the DataFrame containing the current information is assigned to a variable to be used for further processing. \n",
    "Therefore, the length will be used within a while loop as a starting index. "
   ]
  },
  {
   "cell_type": "code",
   "execution_count": 14,
   "metadata": {},
   "outputs": [
    {
     "data": {
      "text/plain": [
       "74302"
      ]
     },
     "execution_count": 14,
     "metadata": {},
     "output_type": "execute_result"
    }
   ],
   "source": [
    "len_df_current_extra_info = len(df_current_extra_info)\n",
    "len_df_current_extra_info"
   ]
  },
  {
   "cell_type": "code",
   "execution_count": 15,
   "metadata": {},
   "outputs": [],
   "source": [
    "def contains_only_None(dic):\n",
    "    \"\"\"\n",
    "    This functions inspects an dictionary and returns True if it solely contains None values\n",
    "    \"\"\"\n",
    "    return len(dic) == sum(value == None for value in dic.values())    "
   ]
  },
  {
   "cell_type": "code",
   "execution_count": 16,
   "metadata": {},
   "outputs": [],
   "source": [
    "def append_fetched_data_to_df(df_current_extra_info, dic):\n",
    "    \"\"\"\n",
    "    This function appends or inserts newly fetched data to the DataFrame containing scopus data.\n",
    "    \"\"\"\n",
    "    #df_current_extra_info -> holding the latest data, new data needs to be appended to it, \n",
    "    #df_newly_fetched_transposed -> holdy newly fetched data, needs to be inserted or fetched\n",
    "    \n",
    "    if contains_only_None(dic):\n",
    "        placeholder_entries = pd.DataFrame(np.empty((len(dict_new_extra_info),2),dtype=object),columns=['affiliation','coredata'], index=dict_new_extra_info.keys())\n",
    "        df_newly_fetched_transposed = placeholder_entries\n",
    "        print(placeholder_entries)\n",
    "    else:\n",
    "        #Prior appending, the dictionary is transformed to a DataFrame\n",
    "        df_newly_fetched = pd.DataFrame(dic)\n",
    "        #For readability, the DataFrame is transposed\n",
    "        df_newly_fetched_transposed = df_newly_fetched.T\n",
    "        print(df_newly_fetched_transposed)\n",
    "    \n",
    "    #Insert newly fetched rows which were previously not successful appended\n",
    "    for index, row in df_newly_fetched_transposed.iterrows():\n",
    "        #insert to current extra info DataFrame because the row is existent\n",
    "        if index in df_current_extra_info.index and row is not None:\n",
    "            df_current_extra_info.loc[index] = row\n",
    "        #append to current extra info DataFrame because the row is new     \n",
    "        if index not in df_current_extra_info.index:\n",
    "            df_current_extra_info = df_current_extra_info.append(row, ignore_index=True)\n",
    "            \n",
    "    #returning DataFrame with inserted and replaced rows. \n",
    "    return df_current_extra_info"
   ]
  },
  {
   "cell_type": "markdown",
   "metadata": {},
   "source": [
    "Both Dataframes columns are stored each to an object. The series objects are stored to each to a pkl-file which is not exceeding the size of 100MB allowing GitHub uploads."
   ]
  },
  {
   "cell_type": "code",
   "execution_count": 17,
   "metadata": {},
   "outputs": [],
   "source": [
    "def store_df_columns(df):\n",
    "    df = transform_to_ethical_correct_data(df)\n",
    "    ser_affiliation = df['affiliation']\n",
    "    ser_coredata = df['coredata']\n",
    "    ser_affiliation.to_pickle('extra_info_affiliation_CS.pkl')\n",
    "    ser_coredata.to_pickle('extra_info_coredata_CS.pkl')\n",
    "    return ser_affiliation, ser_coredata"
   ]
  },
  {
   "cell_type": "markdown",
   "metadata": {},
   "source": [
    "Subsequently, the fetched scopus data is stored within a dictionary. Besides, the print function is used to show the state of the process by displaying the latest fetched information. "
   ]
  },
  {
   "cell_type": "code",
   "execution_count": 18,
   "metadata": {
    "scrolled": true
   },
   "outputs": [
    {
     "name": "stdout",
     "output_type": "stream",
     "text": [
      "Wall time: 999 µs\n"
     ]
    }
   ],
   "source": [
    "%%time\n",
    "dict_new_extra_info = dict()\n",
    "len_dois = len(doi_counted)\n",
    "def trigger_fetching():\n",
    "    threshold = 0 \n",
    "    i = len_df_current_extra_info\n",
    "    while i < len_dois: # i < len_dois\n",
    "        dict_new_extra_info[i] = fetch_scopus_api(client, doi_counted.index[i])\n",
    "        print(\"Position fetched: \" + str(i) + \" -> \" +  doi_counted.index[i])\n",
    "        i = i + 1 \n",
    "        threshold = threshold + 1\n",
    "        if threshold > 99:\n",
    "            df_combined_extra_info = append_fetched_data_to_df(df_current_extra_info, dict_new_extra_info)\n",
    "            store_df_columns(df_combined_extra_info)\n",
    "            threshold = 0\n",
    "            print(\"batch saved\")\n",
    "trigger_fetching()"
   ]
  },
  {
   "cell_type": "markdown",
   "metadata": {},
   "source": [
    "The following cell is useful when the process above is interrupted. Therefore, the dictionary containing fetched information can be narrowed down to useful entries. "
   ]
  },
  {
   "cell_type": "code",
   "execution_count": 19,
   "metadata": {},
   "outputs": [],
   "source": [
    "# def save_new_extra_info(len_df_current_extra_info, upto):\n",
    "#     \"\"\"\n",
    "#     This function is used to separate successfull API calls from API calls which were prevented due to an invalid API-Key.\n",
    "#     As a result, this function returns a range of valid entries up to the given parameter. \n",
    "#     \"\"\"\n",
    "#     dict_new_extra_info_saver = dict()\n",
    "#     i = len_df_current_extra_info\n",
    "#     while i < upto:\n",
    "#         #print(\"Position: \" + str(i) + \" -> \" +  doi_counted.index[i])\n",
    "#         dict_new_extra_info_saver[i] = dict_new_extra_info[i]\n",
    "#         i = i + 1 \n",
    "#     return dict_new_extra_info_saver"
   ]
  },
  {
   "cell_type": "markdown",
   "metadata": {},
   "source": [
    "The existing and newly fetched information are combined into one DataFrame. "
   ]
  },
  {
   "cell_type": "code",
   "execution_count": 20,
   "metadata": {},
   "outputs": [
    {
     "name": "stdout",
     "output_type": "stream",
     "text": [
      "Empty DataFrame\n",
      "Columns: [affiliation, coredata]\n",
      "Index: []\n"
     ]
    },
    {
     "data": {
      "text/html": [
       "<div>\n",
       "<style scoped>\n",
       "    .dataframe tbody tr th:only-of-type {\n",
       "        vertical-align: middle;\n",
       "    }\n",
       "\n",
       "    .dataframe tbody tr th {\n",
       "        vertical-align: top;\n",
       "    }\n",
       "\n",
       "    .dataframe thead th {\n",
       "        text-align: right;\n",
       "    }\n",
       "</style>\n",
       "<table border=\"1\" class=\"dataframe\">\n",
       "  <thead>\n",
       "    <tr style=\"text-align: right;\">\n",
       "      <th></th>\n",
       "      <th>affiliation</th>\n",
       "      <th>coredata</th>\n",
       "    </tr>\n",
       "  </thead>\n",
       "  <tbody>\n",
       "    <tr>\n",
       "      <th>0</th>\n",
       "      <td>[{'affiliation-country': 'United States'}, {'a...</td>\n",
       "      <td>{'srctype': 'j', 'eid': '2-s2.0-85083266658', ...</td>\n",
       "    </tr>\n",
       "    <tr>\n",
       "      <th>1</th>\n",
       "      <td>[{'affiliation-country': 'United States'}, {'a...</td>\n",
       "      <td>{'srctype': 'j', 'prism:issueIdentifier': '7',...</td>\n",
       "    </tr>\n",
       "    <tr>\n",
       "      <th>2</th>\n",
       "      <td>[{'affiliation-country': 'United States'}, {'a...</td>\n",
       "      <td>{'srctype': 'j', 'prism:issueIdentifier': '8',...</td>\n",
       "    </tr>\n",
       "    <tr>\n",
       "      <th>3</th>\n",
       "      <td>[{'affiliation-country': 'United States'}, {'a...</td>\n",
       "      <td>{'srctype': 'j', 'prism:issueIdentifier': '9',...</td>\n",
       "    </tr>\n",
       "    <tr>\n",
       "      <th>4</th>\n",
       "      <td>[{'affiliation-country': 'United States'}, {'a...</td>\n",
       "      <td>{'srctype': 'j', 'prism:issueIdentifier': '11'...</td>\n",
       "    </tr>\n",
       "    <tr>\n",
       "      <th>...</th>\n",
       "      <td>...</td>\n",
       "      <td>...</td>\n",
       "    </tr>\n",
       "    <tr>\n",
       "      <th>74297</th>\n",
       "      <td>{'affiliation-country': 'United States'}</td>\n",
       "      <td>{'srctype': 'j', 'eid': '2-s2.0-85092678139', ...</td>\n",
       "    </tr>\n",
       "    <tr>\n",
       "      <th>74298</th>\n",
       "      <td>[{'affiliation-country': 'United States'}, {'a...</td>\n",
       "      <td>{'srctype': 'j', 'eid': '2-s2.0-85087468210', ...</td>\n",
       "    </tr>\n",
       "    <tr>\n",
       "      <th>74299</th>\n",
       "      <td>{'affiliation-country': 'United States'}</td>\n",
       "      <td>{'srctype': 'j', 'eid': '2-s2.0-85092677974', ...</td>\n",
       "    </tr>\n",
       "    <tr>\n",
       "      <th>74300</th>\n",
       "      <td>[{'affiliation-country': 'Turkey'}, {'affiliat...</td>\n",
       "      <td>{'srctype': 'j', 'prism:issueIdentifier': '4',...</td>\n",
       "    </tr>\n",
       "    <tr>\n",
       "      <th>74301</th>\n",
       "      <td>None</td>\n",
       "      <td>None</td>\n",
       "    </tr>\n",
       "  </tbody>\n",
       "</table>\n",
       "<p>74302 rows × 2 columns</p>\n",
       "</div>"
      ],
      "text/plain": [
       "                                             affiliation  \\\n",
       "0      [{'affiliation-country': 'United States'}, {'a...   \n",
       "1      [{'affiliation-country': 'United States'}, {'a...   \n",
       "2      [{'affiliation-country': 'United States'}, {'a...   \n",
       "3      [{'affiliation-country': 'United States'}, {'a...   \n",
       "4      [{'affiliation-country': 'United States'}, {'a...   \n",
       "...                                                  ...   \n",
       "74297           {'affiliation-country': 'United States'}   \n",
       "74298  [{'affiliation-country': 'United States'}, {'a...   \n",
       "74299           {'affiliation-country': 'United States'}   \n",
       "74300  [{'affiliation-country': 'Turkey'}, {'affiliat...   \n",
       "74301                                               None   \n",
       "\n",
       "                                                coredata  \n",
       "0      {'srctype': 'j', 'eid': '2-s2.0-85083266658', ...  \n",
       "1      {'srctype': 'j', 'prism:issueIdentifier': '7',...  \n",
       "2      {'srctype': 'j', 'prism:issueIdentifier': '8',...  \n",
       "3      {'srctype': 'j', 'prism:issueIdentifier': '9',...  \n",
       "4      {'srctype': 'j', 'prism:issueIdentifier': '11'...  \n",
       "...                                                  ...  \n",
       "74297  {'srctype': 'j', 'eid': '2-s2.0-85092678139', ...  \n",
       "74298  {'srctype': 'j', 'eid': '2-s2.0-85087468210', ...  \n",
       "74299  {'srctype': 'j', 'eid': '2-s2.0-85092677974', ...  \n",
       "74300  {'srctype': 'j', 'prism:issueIdentifier': '4',...  \n",
       "74301                                               None  \n",
       "\n",
       "[74302 rows x 2 columns]"
      ]
     },
     "execution_count": 20,
     "metadata": {},
     "output_type": "execute_result"
    }
   ],
   "source": [
    "df_combined_extra_info = append_fetched_data_to_df(df_current_extra_info, dict_new_extra_info)\n",
    "df_combined_extra_info"
   ]
  },
  {
   "cell_type": "code",
   "execution_count": 21,
   "metadata": {},
   "outputs": [],
   "source": [
    "#to big for GitHub\n",
    "#df_combined_extra_info.to_csv('extra_info_CS5099.csv', sep='\\t')"
   ]
  },
  {
   "cell_type": "markdown",
   "metadata": {},
   "source": [
    "Both Dataframes columns are stored each to an object. The series objects are stored to each to a pkl-file which is not exceeding the size of 100MB allowing GitHub uploads."
   ]
  },
  {
   "cell_type": "markdown",
   "metadata": {},
   "source": [
    "Verifying that the returned None values are due to non existent data and not to an invalid API-Key"
   ]
  },
  {
   "cell_type": "code",
   "execution_count": 24,
   "metadata": {},
   "outputs": [],
   "source": [
    "def enrich_data():\n",
    "    \"\"\"\n",
    "    This function fetches again the scopus API and solely asks for information which previously returned None. \n",
    "    \"\"\"\n",
    "    #Add a new column to the DataFrame containg the DOI's which are used to fetch the API\n",
    "    ser_doi = pd.Series(doi_counted.index[:len_data])\n",
    "    df_current_extra_info_checker = df_combined_extra_info\n",
    "    df_current_extra_info_checker['doi'] = ser_doi\n",
    "    \n",
    "    #fetching solely none entries \n",
    "    len_df_current_extra_info_checker = len(df_current_extra_info_checker)\n",
    "    dict_new_extra_info_checker = dict()\n",
    "    len_df_current_extra_info_checker = 40000\n",
    "    i = 30000\n",
    "    while i < len_df_current_extra_info_checker: \n",
    "        if df_current_extra_info_checker['affiliation'][i] == None or df_current_extra_info_checker['coredata'][i] == None:\n",
    "            dict_new_extra_info_checker[i] = fetch_scopus_api(client, ser_doi[i])\n",
    "            print(\"Position fetched again: \" + str(i) + \" -> \" +  ser_doi[i])\n",
    "        i = i + 1\n",
    "    #check if at least one of the fetched values is not None, otherwise the process is finished\n",
    "    if contains_only_None(dict_new_extra_info_checker):\n",
    "        print(\"The scopus API did not returned new information for existing None values.\")\n",
    "    else:\n",
    "        #There is new information to insert to the existing DataFrame\n",
    "        df_combined_extra_info_fetched_again  = append_fetched_data_to_df(df_current_extra_info, dict_new_extra_info_checker)\n",
    "        store_df_columns(df_combined_extra_info_fetched_again)"
   ]
  },
  {
   "cell_type": "code",
   "execution_count": 25,
   "metadata": {},
   "outputs": [
    {
     "data": {
      "text/plain": [
       "74302"
      ]
     },
     "execution_count": 25,
     "metadata": {},
     "output_type": "execute_result"
    }
   ],
   "source": [
    "len_dois = len(doi_counted)\n",
    "len_dois"
   ]
  },
  {
   "cell_type": "code",
   "execution_count": 26,
   "metadata": {},
   "outputs": [
    {
     "data": {
      "text/plain": [
       "74302"
      ]
     },
     "execution_count": 26,
     "metadata": {},
     "output_type": "execute_result"
    }
   ],
   "source": [
    "len_data = len(df_combined_extra_info)\n",
    "len_data "
   ]
  },
  {
   "cell_type": "code",
   "execution_count": null,
   "metadata": {},
   "outputs": [
    {
     "name": "stdout",
     "output_type": "stream",
     "text": [
      "Position fetched again: 30887 -> 10.1016/j.vph.2020.106805\n",
      "Position fetched again: 30896 -> 10.1016/j.vrih.2020.06.001\n",
      "Position fetched again: 30897 -> 10.1016/j.vrih.2020.06.002\n",
      "Position fetched again: 30898 -> 10.1016/j.vrih.2020.07.001\n",
      "Position fetched again: 30899 -> 10.1016/j.vrih.2020.07.008\n",
      "Position fetched again: 30900 -> 10.1016/j.vrih.2020.07.009\n",
      "Position fetched again: 30936 -> 10.1016/j.wjam.2020.03.005\n",
      "Position fetched again: 30937 -> 10.1016/j.wjorl.2020.04.007\n",
      "Position fetched again: 30938 -> 10.1016/j.wjorl.2020.04.008\n",
      "Position fetched again: 30939 -> 10.1016/j.wjorl.2020.05.003\n",
      "Position fetched again: 30940 -> 10.1016/j.wjorl.2020.05.004\n",
      "Position fetched again: 30941 -> 10.1016/j.wjorl.2021.01.001\n",
      "Position fetched again: 31027 -> 10.1016/j.wpi.2020.101972\n",
      "Position fetched again: 31029 -> 10.1016/j.wroa.2020.100063\n",
      "Position fetched again: 31057 -> 10.1016/j.xfnr.2021.01.002\n",
      "Position fetched again: 31058 -> 10.1016/j.xfre.2020.07.005\n",
      "Position fetched again: 31060 -> 10.1016/j.xinn.2020.04.012\n",
      "Position fetched again: 31061 -> 10.1016/j.xinn.2020.100022\n",
      "Position fetched again: 31062 -> 10.1016/j.xinn.2020.100027\n",
      "Position fetched again: 31069 -> 10.1016/j.xjon.2020.07.007\n",
      "Position fetched again: 31070 -> 10.1016/j.xjon.2020.10.008\n",
      "Position fetched again: 31071 -> 10.1016/j.xjon.2020.12.016\n",
      "Position fetched again: 31072 -> 10.1016/j.xjon.2020.12.020\n",
      "Position fetched again: 31073 -> 10.1016/j.xjtc.2020.05.017\n",
      "Position fetched again: 31099 -> 10.1016/j.yamp.2018.07.007\n",
      "Position fetched again: 31100 -> 10.1016/j.yamp.2020.07.001\n",
      "Position fetched again: 31101 -> 10.1016/j.yamp.2020.07.002\n",
      "Position fetched again: 31104 -> 10.1016/j.yclnex.2020.07.003\n",
      "Position fetched again: 31114 -> 10.1016/j.yebeh.2020.107276\n",
      "Position fetched again: 31144 -> 10.1016/j.ygeno.2019.09.001\n",
      "Position fetched again: 31179 -> 10.1016/j.yhbeh.2020.104814\n",
      "Position fetched again: 31194 -> 10.1016/j.ymeth.2017.09.011\n",
      "Position fetched again: 31238 -> 10.1016/s0001-2092(15)00709-7\n",
      "Position fetched again: 31248 -> 10.1016/s0012-3692(15)31462-8\n",
      "Position fetched again: 31252 -> 10.1016/s0016-5085(04)80014-3\n",
      "Position fetched again: 31253 -> 10.1016/s0016-5085(72)80074-x\n",
      "Position fetched again: 31266 -> 10.1016/s0025-7753(03)73999-2\n",
      "Position fetched again: 31267 -> 10.1016/s0025-7753(04)74261-x\n",
      "Position fetched again: 31272 -> 10.1016/s0034-7450(14)60156-6\n",
      "Position fetched again: 31286 -> 10.1016/s0045-9380(75)80017-x\n",
      "Position fetched again: 31309 -> 10.1016/s0076-6879(99)07035-4\n",
      "Position fetched again: 31313 -> 10.1016/s0099-1767(17)30070-3\n",
      "Position fetched again: 31314 -> 10.1016/s0123-9392(09)70152-3\n",
      "Position fetched again: 31358 -> 10.1016/s0140-6736(18)30433-1\n",
      "Position fetched again: 31363 -> 10.1016/s0140-6736(19)30721-4\n",
      "Position fetched again: 31375 -> 10.1016/s0140-6736(20)30600-0\n",
      "Position fetched again: 31381 -> 10.1016/s0140-6736(20)30692-9\n",
      "Position fetched again: 31386 -> 10.1016/s0140-6736(20)30798-4\n",
      "Position fetched again: 31391 -> 10.1016/s0140-6736(20)31022-9\n",
      "Position fetched again: 31402 -> 10.1016/s0140-6736(20)31210-1\n",
      "Position fetched again: 31411 -> 10.1016/s0140-6736(20)31444-6\n",
      "Position fetched again: 31420 -> 10.1016/s0140-6736(20)31646-9\n",
      "Position fetched again: 31428 -> 10.1016/s0140-6736(20)31927-9\n",
      "Position fetched again: 31492 -> 10.1016/s0166-3542(15)00286-7\n",
      "Position fetched again: 31493 -> 10.1016/s0166-3542(16)30236-4\n",
      "Position fetched again: 31494 -> 10.1016/s0166-3542(18)30746-0\n",
      "Position fetched again: 31496 -> 10.1016/s0166-526x(06)49026-7\n",
      "Position fetched again: 31497 -> 10.1016/s0166-526x(06)49029-2\n",
      "Position fetched again: 31498 -> 10.1016/s0166-526x(06)49079-6\n",
      "Position fetched again: 31535 -> 10.1016/s0196-0644(03)00821-7\n",
      "Position fetched again: 31536 -> 10.1016/s0196-0644(13)01534-5\n",
      "Position fetched again: 31542 -> 10.1016/s0213-005x(04)73043-8\n",
      "Position fetched again: 31543 -> 10.1016/s0213-005x(05)75156-9\n",
      "Position fetched again: 31551 -> 10.1016/s0254-6272(17)30003-1\n",
      "Position fetched again: 31552 -> 10.1016/s0254-6272(17)30006-7\n",
      "Position fetched again: 31553 -> 10.1016/s0254-6272(17)30043-2\n",
      "Position fetched again: 31556 -> 10.1016/s0300-2896(04)75488-5\n",
      "Position fetched again: 31557 -> 10.1016/s0300-2896(04)75546-5\n",
      "Position fetched again: 31562 -> 10.1016/s0301-4770(04)80011-3\n",
      "Position fetched again: 31572 -> 10.1016/s0306-4530(20)30148-7\n",
      "Position fetched again: 31573 -> 10.1016/s0306-4530(20)30242-0\n",
      "Position fetched again: 31600 -> 10.1016/s0735-6757(20)30419-8\n",
      "Position fetched again: 31609 -> 10.1016/s0873-2159(15)30275-0\n",
      "Position fetched again: 31614 -> 10.1016/s0924-8579(02)00033-x\n",
      "Position fetched again: 31615 -> 10.1016/s0924-8579(17)30342-4\n",
      "Position fetched again: 31616 -> 10.1016/s0924-8579(17)30422-3\n",
      "Position fetched again: 31618 -> 10.1016/s0928-0987(16)30254-8\n",
      "Position fetched again: 31636 -> 10.1016/s0934-8840(11)80039-3\n",
      "Position fetched again: 31641 -> 10.1016/s0969-4765(20)30097-7\n",
      "Position fetched again: 31642 -> 10.1016/s0969-4765(20)30110-7\n",
      "Position fetched again: 31643 -> 10.1016/s0969-4765(20)30122-3\n",
      "Position fetched again: 31644 -> 10.1016/s1007-4376(07)60071-9\n",
      "Position fetched again: 31653 -> 10.1016/s1075-8593(06)05001-5\n",
      "Position fetched again: 31655 -> 10.1016/s1081-1206(10)61294-x\n",
      "Position fetched again: 31666 -> 10.1016/s1245-1789(01)72028-8\n",
      "Position fetched again: 31667 -> 10.1016/s1245-1789(07)70240-8\n",
      "Position fetched again: 31668 -> 10.1016/s1245-1789(09)70189-1\n",
      "Position fetched again: 31669 -> 10.1016/s1245-1789(10)70178-5\n",
      "Position fetched again: 31670 -> 10.1016/s1245-1789(16)77913-3\n",
      "Position fetched again: 31671 -> 10.1016/s1245-1789(16)81806-5\n",
      "Position fetched again: 31672 -> 10.1016/s1245-1789(19)42593-6\n",
      "Position fetched again: 31673 -> 10.1016/s1245-1789(20)43427-4\n",
      "Position fetched again: 31675 -> 10.1016/s1280-4703(03)71843-x\n",
      "Position fetched again: 31676 -> 10.1016/s1280-4703(06)45316-0\n",
      "Position fetched again: 31677 -> 10.1016/s1280-4703(12)63970-x\n",
      "Position fetched again: 31678 -> 10.1016/s1283-0771(08)70292-5\n",
      "Position fetched again: 31679 -> 10.1016/s1283-0771(09)70288-9\n",
      "Position fetched again: 31680 -> 10.1016/s1283-0771(12)63945-0\n",
      "Position fetched again: 31681 -> 10.1016/s1283-0771(13)64502-8\n",
      "Position fetched again: 31682 -> 10.1016/s1286-9341(11)70664-0\n",
      "Position fetched again: 31683 -> 10.1016/s1288-3336(16)79382-4\n",
      "Position fetched again: 31685 -> 10.1016/s1353-4858(20)30042-8\n",
      "Position fetched again: 31686 -> 10.1016/s1353-4858(20)30079-9\n",
      "Position fetched again: 31687 -> 10.1016/s1353-4858(20)30093-3\n",
      "Position fetched again: 31688 -> 10.1016/s1353-4858(20)30094-5\n",
      "Position fetched again: 31689 -> 10.1016/s1353-4858(20)30106-9\n",
      "Position fetched again: 31690 -> 10.1016/s1353-4858(20)30118-5\n",
      "Position fetched again: 31695 -> 10.1016/s1361-3723(20)30074-9\n",
      "Position fetched again: 31697 -> 10.1016/s1361-3723(20)30085-3\n",
      "Position fetched again: 31699 -> 10.1016/s1361-3723(20)30107-x\n",
      "Position fetched again: 31700 -> 10.1016/s1361-3723(20)30108-1\n",
      "Position fetched again: 31714 -> 10.1016/s1449-4035(04)70031-4\n",
      "Position fetched again: 31716 -> 10.1016/s1470-2045(20)30230-8\n",
      "Position fetched again: 31760 -> 10.1016/s1473-3099(19)30410-4\n",
      "Position fetched again: 31780 -> 10.1016/s1473-3099(20)30440-0\n",
      "Position fetched again: 31782 -> 10.1016/s1473-3099(20)30483-7\n",
      "Position fetched again: 31795 -> 10.1016/s1473-3099(20)30634-4\n",
      "Position fetched again: 31832 -> 10.1016/s1579-2129(06)60582-x\n",
      "Position fetched again: 31833 -> 10.1016/s1579-2129(06)70078-7\n",
      "Position fetched again: 31834 -> 10.1016/s1579-2129(07)60030-5\n",
      "Position fetched again: 31835 -> 10.1016/s1579-2129(07)60031-7\n",
      "Position fetched again: 31836 -> 10.1016/s1636-5410(16)79472-4\n",
      "Position fetched again: 31837 -> 10.1016/s1636-5577(17)82113-1\n",
      "Position fetched again: 31838 -> 10.1016/s1639-870x(15)70594-5\n",
      "Position fetched again: 31850 -> 10.1016/s1695-4033(01)78666-3\n",
      "Position fetched again: 31851 -> 10.1016/s1695-4033(03)78145-4\n",
      "Position fetched again: 31852 -> 10.1016/s1695-4033(04)78799-8\n",
      "Position fetched again: 31853 -> 10.1016/s1695-4033(07)70609-4\n",
      "Position fetched again: 31854 -> 10.1016/s1696-2818(09)72582-x\n",
      "Position fetched again: 31861 -> 10.1016/s1745-3542(06)03006-2\n",
      "Position fetched again: 31862 -> 10.1016/s1761-2896(06)46452-9\n",
      "Position fetched again: 31863 -> 10.1016/s1762-827x(20)44252-x\n"
     ]
    },
    {
     "name": "stdout",
     "output_type": "stream",
     "text": [
      "Position fetched again: 31868 -> 10.1016/s1773-035x(19)30258-8\n",
      "Position fetched again: 31869 -> 10.1016/s1773-035x(20)30313-0\n",
      "Position fetched again: 31870 -> 10.1016/s1773-035x(20)30314-2\n",
      "Position fetched again: 31871 -> 10.1016/s1773-035x(20)30315-4\n",
      "Position fetched again: 31891 -> 10.1016/s1936-878x(20)30146-7\n",
      "Position fetched again: 31892 -> 10.1016/s1936-878x(20)30301-6\n",
      "Position fetched again: 31893 -> 10.1016/s1936-878x(20)30467-8\n",
      "Position fetched again: 31894 -> 10.1016/s1936-878x(20)30581-7\n",
      "Position fetched again: 31895 -> 10.1016/s1936-878x(20)30777-4\n",
      "Position fetched again: 31908 -> 10.1016/s2155-8256(21)00002-8\n",
      "Position fetched again: 31909 -> 10.1016/s2173-5085(09)70079-6\n",
      "Position fetched again: 31910 -> 10.1016/s2173-5115(08)70297-5\n",
      "Position fetched again: 31954 -> 10.1016/s2213-2600(20)30556-7\n",
      "Position fetched again: 32039 -> 10.1016/s2414-6447(19)30062-4\n",
      "Position fetched again: 32040 -> 10.1016/s2414-6447(19)30138-1\n",
      "Position fetched again: 32041 -> 10.1016/s2452-302x(20)30151-0\n",
      "Position fetched again: 32042 -> 10.1016/s2452-302x(20)30205-9\n",
      "Position fetched again: 32043 -> 10.1016/s2452-302x(20)30243-6\n",
      "Position fetched again: 32044 -> 10.1016/s2452-302x(20)30296-5\n",
      "Position fetched again: 32045 -> 10.1016/s2452-302x(20)30333-8\n",
      "Position fetched again: 32046 -> 10.1016/s2452-302x(20)30389-2\n",
      "Position fetched again: 32081 -> 10.1016/s2542-5196(20)30298-9\n",
      "Position fetched again: 32138 -> 10.1016/s2666-0849(20)30838-x\n",
      "Position fetched again: 32139 -> 10.1016/s2666-0849(20)30980-3\n",
      "Position fetched again: 32140 -> 10.1016/s2666-0849(20)31008-1\n",
      "Position fetched again: 32141 -> 10.1016/s2666-0849(20)31119-0\n",
      "Position fetched again: 32142 -> 10.1016/s2666-0873(20)30180-0\n",
      "Position fetched again: 32143 -> 10.1016/s2666-5247(20)30004-5\n",
      "Position fetched again: 32144 -> 10.1016/s2666-5247(20)30054-9\n",
      "Position fetched again: 32155 -> 10.1016/s2666-6367(21)00031-2\n",
      "Position fetched again: 32161 -> 10.1017/bpp.2020.15\n",
      "Position fetched again: 32162 -> 10.1017/bpp.2020.48\n",
      "Position fetched again: 32179 -> 10.1017/cts.2020.39\n",
      "Position fetched again: 32180 -> 10.1017/cts.2020.40\n",
      "Position fetched again: 32181 -> 10.1017/cts.2020.47\n",
      "Position fetched again: 32182 -> 10.1017/cts.2020.489\n",
      "Position fetched again: 32183 -> 10.1017/cts.2020.504\n",
      "Position fetched again: 32184 -> 10.1017/cts.2020.509\n",
      "Position fetched again: 32185 -> 10.1017/cts.2020.541\n",
      "Position fetched again: 32261 -> 10.1017/dmp.2020.361\n",
      "Position fetched again: 32276 -> 10.1017/ehs.2020.20\n",
      "Position fetched again: 32283 -> 10.1017/exp.2020.45\n",
      "Position fetched again: 32285 -> 10.1017/gmh.2020.17\n",
      "Position fetched again: 32286 -> 10.1017/gmh.2020.26\n",
      "Position fetched again: 32287 -> 10.1017/gmh.2020.27\n",
      "Position fetched again: 32306 -> 10.1017/ice.2020.1303\n",
      "Position fetched again: 32381 -> 10.1017/ipm.2020.74\n",
      "Position fetched again: 32389 -> 10.1017/nps.2020.40\n",
      "Position fetched again: 32390 -> 10.1017/nps.2020.93\n",
      "Position fetched again: 32391 -> 10.1017/qrd.2020.16\n",
      "Position fetched again: 32392 -> 10.1017/qrd.2020.4\n",
      "Position fetched again: 32536 -> 10.1017/s0950268820002599\n",
      "Position fetched again: 32558 -> 10.1017/s0963180120000432\n",
      "Position fetched again: 32611 -> 10.1017/s1743923x20000409\n",
      "Position fetched again: 32632 -> 10.1017/xps.2020.15\n",
      "Position fetched again: 32633 -> 10.1017/xps.2020.30\n",
      "Position fetched again: 32642 -> 10.1021/acs.analchem.0c02981\n",
      "Position fetched again: 32662 -> 10.1021/acs.chas.0c00069\n",
      "Position fetched again: 32665 -> 10.1021/acs.chemmater.0c01624\n",
      "Position fetched again: 32691 -> 10.1021/acs.jcim.0c00319\n",
      "Position fetched again: 32981 -> 10.1021/jacsau.0c00053\n",
      "Position fetched again: 33004 -> 10.1023/a:1016836728226\n",
      "Position fetched again: 33005 -> 10.1023/a:1016896903015\n",
      "Position fetched again: 33021 -> 10.1023/b:pham.0000008097.92834.f4\n",
      "Position fetched again: 33024 -> 10.1023/b:verc.0000044434.75094.b5\n",
      "Position fetched again: 33057 -> 10.1038/aps.2010.154\n",
      "Position fetched again: 33063 -> 10.1038/bmt.2008.30\n",
      "Position fetched again: 33064 -> 10.1038/bmt.2008.31\n",
      "Position fetched again: 33065 -> 10.1038/bmt.2009.46\n",
      "Position fetched again: 33066 -> 10.1038/bmt.2009.50\n",
      "Position fetched again: 33068 -> 10.1038/bmt.2010.40\n",
      "Position fetched again: 33069 -> 10.1038/bmt.2010.41\n",
      "Position fetched again: 33070 -> 10.1038/bmt.2010.45\n",
      "Position fetched again: 33071 -> 10.1038/bmt.2011.48\n",
      "Position fetched again: 33074 -> 10.1038/bmt.2012.36\n",
      "Position fetched again: 33075 -> 10.1038/bmt.2012.37\n",
      "Position fetched again: 33076 -> 10.1038/bmt.2013.23\n",
      "Position fetched again: 33078 -> 10.1038/bmt.2014.43\n",
      "Position fetched again: 33079 -> 10.1038/bmt.2014.45\n",
      "Position fetched again: 33081 -> 10.1038/bmt.2015.27\n",
      "Position fetched again: 33082 -> 10.1038/bmt.2015.30\n",
      "Position fetched again: 33085 -> 10.1038/bmt.2016.46\n",
      "Position fetched again: 33086 -> 10.1038/bmt.2016.48\n",
      "Position fetched again: 33087 -> 10.1038/bmt.2016.49\n",
      "Position fetched again: 33088 -> 10.1038/bmt.2016.56\n",
      "Position fetched again: 33089 -> 10.1038/bmt.2017.132\n",
      "Position fetched again: 33090 -> 10.1038/bmt.2017.134\n",
      "Position fetched again: 33138 -> 10.1038/emi.2016.1\n",
      "Position fetched again: 33186 -> 10.1038/ijo.2008.47\n",
      "Position fetched again: 33207 -> 10.1038/labinvest.2014.14\n",
      "Position fetched again: 33225 -> 10.1038/modpathol.2014.5\n",
      "Position fetched again: 33254 -> 10.1038/nature10996\n",
      "Position fetched again: 33276 -> 10.1038/nbt.4268\n",
      "Position fetched again: 33278 -> 10.1038/nbt0404-387\n",
      "Position fetched again: 33284 -> 10.1038/nbt1105-1359\n",
      "Position fetched again: 33324 -> 10.1038/ncomms9709\n",
      "Position fetched again: 33332 -> 10.1038/nj0260\n",
      "Position fetched again: 33333 -> 10.1038/nj0404\n",
      "Position fetched again: 33334 -> 10.1038/nj0447\n",
      "Position fetched again: 33343 -> 10.1038/nm0517-528\n",
      "Position fetched again: 33344 -> 10.1038/nm0714-691\n",
      "Position fetched again: 33346 -> 10.1038/nm1117-1248\n",
      "Position fetched again: 33403 -> 10.1038/nrmicro1131\n",
      "Position fetched again: 33426 -> 10.1038/nrmicro892\n",
      "Position fetched again: 33466 -> 10.1038/s41371-020-00410-6\n",
      "Position fetched again: 33528 -> 10.1038/s41374-020-0400-0\n",
      "Position fetched again: 33558 -> 10.1038/s41379-020-0485-4\n",
      "Position fetched again: 33566 -> 10.1038/s41380-020-00963-5\n",
      "Position fetched again: 33621 -> 10.1038/s41390-020-01171-1\n",
      "Position fetched again: 33622 -> 10.1038/s41390-020-01183-x\n",
      "Position fetched again: 33871 -> 10.1038/s41404-020-0395-7\n",
      "Position fetched again: 33872 -> 10.1038/s41404-020-0426-4\n",
      "Position fetched again: 33873 -> 10.1038/s41404-020-0449-x\n",
      "Position fetched again: 33874 -> 10.1038/s41404-020-0453-1\n",
      "Position fetched again: 33875 -> 10.1038/s41404-020-0457-x\n",
      "Position fetched again: 33876 -> 10.1038/s41404-020-0506-5\n",
      "Position fetched again: 33877 -> 10.1038/s41404-020-0527-0\n",
      "Position fetched again: 33878 -> 10.1038/s41404-020-0536-z\n",
      "Position fetched again: 33879 -> 10.1038/s41404-020-0582-6\n",
      "Position fetched again: 33880 -> 10.1038/s41404-020-0623-1\n",
      "Position fetched again: 33885 -> 10.1038/s41407-020-0298-9\n",
      "Position fetched again: 33886 -> 10.1038/s41407-020-0316-y\n",
      "Position fetched again: 33887 -> 10.1038/s41407-020-0404-z\n",
      "Position fetched again: 33888 -> 10.1038/s41407-020-0473-z\n",
      "Position fetched again: 33889 -> 10.1038/s41407-020-0474-y\n",
      "Position fetched again: 33890 -> 10.1038/s41407-020-0494-7\n",
      "Position fetched again: 33896 -> 10.1038/s41409-018-0318-y\n",
      "Position fetched again: 33898 -> 10.1038/s41409-019-0559-4\n",
      "Position fetched again: 33899 -> 10.1038/s41409-019-0562-9\n",
      "Position fetched again: 33907 -> 10.1038/s41409-020-01119-3\n",
      "Position fetched again: 33922 -> 10.1038/s41415-020-1661-0\n",
      "Position fetched again: 33926 -> 10.1038/s41415-020-1768-3\n",
      "Position fetched again: 33949 -> 10.1038/s41415-020-2309-9\n",
      "Position fetched again: 33950 -> 10.1038/s41415-020-2310-3\n",
      "Position fetched again: 33951 -> 10.1038/s41415-020-2394-9\n",
      "Position fetched again: 33952 -> 10.1038/s41415-020-2395-8\n",
      "Position fetched again: 33954 -> 10.1038/s41415-020-2429-2\n",
      "Position fetched again: 33962 -> 10.1038/s41415-020-2526-2\n",
      "Position fetched again: 33963 -> 10.1038/s41415-020-2527-1\n",
      "Position fetched again: 33967 -> 10.1038/s41415-021-2647-2\n",
      "Position fetched again: 34118 -> 10.1038/s41431-020-00740-6\n",
      "Position fetched again: 34119 -> 10.1038/s41431-020-00741-5\n",
      "Position fetched again: 34134 -> 10.1038/s41431-020-0637-5\n"
     ]
    },
    {
     "name": "stdout",
     "output_type": "stream",
     "text": [
      "Position fetched again: 34335 -> 10.1038/s41467-020-18056-w\n"
     ]
    }
   ],
   "source": [
    "if len_dois == len_data:\n",
    "    enrich_data()\n",
    "else:\n",
    "    print(\"There are entries which are not yet fetched from the scopus API.\")"
   ]
  },
  {
   "cell_type": "code",
   "execution_count": null,
   "metadata": {},
   "outputs": [],
   "source": []
  }
 ],
 "metadata": {
  "kernelspec": {
   "display_name": "Python 3",
   "language": "python",
   "name": "python3"
  },
  "language_info": {
   "codemirror_mode": {
    "name": "ipython",
    "version": 3
   },
   "file_extension": ".py",
   "mimetype": "text/x-python",
   "name": "python",
   "nbconvert_exporter": "python",
   "pygments_lexer": "ipython3",
   "version": "3.8.5"
  }
 },
 "nbformat": 4,
 "nbformat_minor": 4
}
