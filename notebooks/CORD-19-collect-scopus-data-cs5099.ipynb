{
 "cells": [
  {
   "cell_type": "markdown",
   "metadata": {},
   "source": [
    "# CORD-19-collect-scopus-data"
   ]
  },
  {
   "cell_type": "markdown",
   "metadata": {},
   "source": [
    "In general, this jupyter notebook is designated to collect additional data via scopus to enbroaden the CORD19 dataset: \n",
    "https://datadryad.org/stash/dataset/doi:10.5061/dryad.vmcvdncs0"
   ]
  },
  {
   "cell_type": "markdown",
   "metadata": {},
   "source": [
    "First, relevant packages must be imported to the Notebook."
   ]
  },
  {
   "cell_type": "code",
   "execution_count": 1,
   "metadata": {},
   "outputs": [],
   "source": [
    "import numpy as np\n",
    "import pandas as pd\n",
    "import csv\n",
    "import ast\n",
    "import collections\n",
    "import matplotlib.pyplot as plt\n",
    "import Levenshtein as lev\n",
    "from fuzzywuzzy import fuzz \n",
    "import datetime\n",
    "import matplotlib.pyplot as plt\n",
    "import re\n",
    "from urllib.parse import urlparse\n",
    "from collections import Counter\n",
    "\n",
    "from elsapy.elsclient import ElsClient\n",
    "from elsapy.elsdoc import FullDoc, AbsDoc\n",
    "from elsapy.elssearch import ElsSearch\n",
    "\n",
    "import time # for sleep\n",
    "from pybtex.database import parse_file, BibliographyData, Entry\n",
    "import json\n",
    "from elsapy.elsclient import ElsClient\n",
    "from elsapy.elsdoc import AbsDoc\n",
    "from elsapy.elssearch import ElsSearch"
   ]
  },
  {
   "cell_type": "code",
   "execution_count": 2,
   "metadata": {},
   "outputs": [],
   "source": [
    "CORD19_CSV = pd.read_csv('../data/cord-19/CORD19_software_mentions.csv')"
   ]
  },
  {
   "cell_type": "code",
   "execution_count": 3,
   "metadata": {},
   "outputs": [
    {
     "data": {
      "text/plain": [
       "77448"
      ]
     },
     "execution_count": 3,
     "metadata": {},
     "output_type": "execute_result"
    }
   ],
   "source": [
    "len(CORD19_CSV['doi'])"
   ]
  },
  {
   "cell_type": "code",
   "execution_count": 4,
   "metadata": {},
   "outputs": [
    {
     "data": {
      "text/plain": [
       "0                                 NaN\n",
       "1          10.1016/j.regg.2021.01.002\n",
       "2           10.1016/j.rec.2020.08.002\n",
       "3        10.1016/j.vetmic.2006.11.026\n",
       "4                   10.3390/v12080849\n",
       "                     ...             \n",
       "77443      10.1007/s11229-020-02869-9\n",
       "77444                             NaN\n",
       "77445     10.1101/2020.05.13.20100206\n",
       "77446      10.1007/s42991-020-00052-8\n",
       "77447     10.1101/2020.09.14.20194670\n",
       "Name: doi, Length: 77448, dtype: object"
      ]
     },
     "execution_count": 4,
     "metadata": {},
     "output_type": "execute_result"
    }
   ],
   "source": [
    "doi = CORD19_CSV['doi']\n",
    "doi"
   ]
  },
  {
   "cell_type": "code",
   "execution_count": 5,
   "metadata": {},
   "outputs": [
    {
     "data": {
      "text/plain": [
       "10.1016/j.dsx.2020.04.012       2\n",
       "10.31729/jnma.5498              2\n",
       "10.1055/s-0040-1702014          1\n",
       "10.1016/j.bbrc.2008.09.125      1\n",
       "10.1002/jmv.25743               1\n",
       "                               ..\n",
       "10.1101/2020.06.22.20137257     1\n",
       "10.1136/bmj.b4571               1\n",
       "10.1371/journal.pbio.2006926    1\n",
       "10.1155/2020/8821077            1\n",
       "10.1186/s13071-018-2740-9       1\n",
       "Name: doi, Length: 74302, dtype: int64"
      ]
     },
     "execution_count": 5,
     "metadata": {},
     "output_type": "execute_result"
    }
   ],
   "source": [
    "#delete Nans\n",
    "doi_counted = doi.value_counts()\n",
    "doi_counted"
   ]
  },
  {
   "cell_type": "code",
   "execution_count": 6,
   "metadata": {},
   "outputs": [],
   "source": [
    "def AffiliationsFromScopusByDOI(client, doi):\n",
    "    \"\"\"obtain addiotional paper information from scopus by doi\n",
    "    \"\"\"\n",
    "    doc_srch = ElsSearch(\"DOI(\"+doi+\")\",'scopus')\n",
    "    doc_srch.execute(client, get_all = True)\n",
    "    #print (\"doc_srch has\", len(doc_srch.results), \"results.\")\n",
    "    #print(doc_srch.results)\n",
    "    try:\n",
    "        scopus_id=doc_srch.results[0][\"dc:identifier\"].split(\":\")[1]\n",
    "        scp_doc = AbsDoc(scp_id = scopus_id)\n",
    "        if scp_doc.read(client):\n",
    "            # print (\"scp_doc.title: \", scp_doc.title)\n",
    "            scp_doc.write()   \n",
    "        else:\n",
    "            print (\"Read document failed.\")\n",
    "        # print(scp_doc.data[\"affiliation\"])\n",
    "        return scp_doc.data\n",
    "    except:\n",
    "        return None"
   ]
  },
  {
   "cell_type": "code",
   "execution_count": 7,
   "metadata": {},
   "outputs": [],
   "source": [
    "## Load configuration\n",
    "con_file = open(\"config.json\")\n",
    "config = json.load(con_file)\n",
    "con_file.close()\n",
    "## Initialize client\n",
    "client = ElsClient(config['apikey'])\n",
    "# https://api.elsevier.com/content/search/scopus?query=DOI(10.1109/MCOM.2016.7509373)&apiKey=6d485ef1fe1408712f37e8a783a285a4"
   ]
  },
  {
   "cell_type": "code",
   "execution_count": 8,
   "metadata": {},
   "outputs": [
    {
     "data": {
      "text/html": [
       "<div>\n",
       "<style scoped>\n",
       "    .dataframe tbody tr th:only-of-type {\n",
       "        vertical-align: middle;\n",
       "    }\n",
       "\n",
       "    .dataframe tbody tr th {\n",
       "        vertical-align: top;\n",
       "    }\n",
       "\n",
       "    .dataframe thead th {\n",
       "        text-align: right;\n",
       "    }\n",
       "</style>\n",
       "<table border=\"1\" class=\"dataframe\">\n",
       "  <thead>\n",
       "    <tr style=\"text-align: right;\">\n",
       "      <th></th>\n",
       "      <th>affiliation</th>\n",
       "      <th>coredata</th>\n",
       "    </tr>\n",
       "  </thead>\n",
       "  <tbody>\n",
       "    <tr>\n",
       "      <th>0</th>\n",
       "      <td>[{'affiliation-city': None, 'affilname': 'Pata...</td>\n",
       "      <td>{'srctype': 'j', 'prism:issueIdentifier': '230...</td>\n",
       "    </tr>\n",
       "    <tr>\n",
       "      <th>1</th>\n",
       "      <td>[{'affiliation-city': 'New Delhi', 'affilname'...</td>\n",
       "      <td>{'srctype': 'j', 'eid': '2-s2.0-85083171050', ...</td>\n",
       "    </tr>\n",
       "    <tr>\n",
       "      <th>2</th>\n",
       "      <td>None</td>\n",
       "      <td>None</td>\n",
       "    </tr>\n",
       "    <tr>\n",
       "      <th>3</th>\n",
       "      <td>[{'affiliation-city': 'London', 'affilname': '...</td>\n",
       "      <td>{'srctype': 'j', 'eid': '2-s2.0-79953057246', ...</td>\n",
       "    </tr>\n",
       "    <tr>\n",
       "      <th>4</th>\n",
       "      <td>[{'affiliation-city': 'Baoding', 'affilname': ...</td>\n",
       "      <td>{'srctype': 'j', 'prism:issueIdentifier': '7',...</td>\n",
       "    </tr>\n",
       "    <tr>\n",
       "      <th>...</th>\n",
       "      <td>...</td>\n",
       "      <td>...</td>\n",
       "    </tr>\n",
       "    <tr>\n",
       "      <th>74297</th>\n",
       "      <td>[{'affiliation-city': 'Wageningen', 'affilname...</td>\n",
       "      <td>{'srctype': 'j', 'prism:issueIdentifier': '4',...</td>\n",
       "    </tr>\n",
       "    <tr>\n",
       "      <th>74298</th>\n",
       "      <td>[{'affiliation-city': 'London', 'affilname': '...</td>\n",
       "      <td>{'srctype': 'j', 'prism:issueIdentifier': '12 ...</td>\n",
       "    </tr>\n",
       "    <tr>\n",
       "      <th>74299</th>\n",
       "      <td>{'affiliation-city': 'Adelaide', 'affilname': ...</td>\n",
       "      <td>{'srctype': 'j', 'eid': '2-s2.0-85091772561', ...</td>\n",
       "    </tr>\n",
       "    <tr>\n",
       "      <th>74300</th>\n",
       "      <td>[{'affiliation-city': 'San Diego', 'affilname'...</td>\n",
       "      <td>{'srctype': 'j', 'prism:issueIdentifier': '6',...</td>\n",
       "    </tr>\n",
       "    <tr>\n",
       "      <th>74301</th>\n",
       "      <td>[{'affiliation-city': 'Taipei', 'affilname': '...</td>\n",
       "      <td>{'srctype': 'j', 'prism:issueIdentifier': '5',...</td>\n",
       "    </tr>\n",
       "  </tbody>\n",
       "</table>\n",
       "<p>74302 rows × 2 columns</p>\n",
       "</div>"
      ],
      "text/plain": [
       "                                             affiliation  \\\n",
       "0      [{'affiliation-city': None, 'affilname': 'Pata...   \n",
       "1      [{'affiliation-city': 'New Delhi', 'affilname'...   \n",
       "2                                                   None   \n",
       "3      [{'affiliation-city': 'London', 'affilname': '...   \n",
       "4      [{'affiliation-city': 'Baoding', 'affilname': ...   \n",
       "...                                                  ...   \n",
       "74297  [{'affiliation-city': 'Wageningen', 'affilname...   \n",
       "74298  [{'affiliation-city': 'London', 'affilname': '...   \n",
       "74299  {'affiliation-city': 'Adelaide', 'affilname': ...   \n",
       "74300  [{'affiliation-city': 'San Diego', 'affilname'...   \n",
       "74301  [{'affiliation-city': 'Taipei', 'affilname': '...   \n",
       "\n",
       "                                                coredata  \n",
       "0      {'srctype': 'j', 'prism:issueIdentifier': '230...  \n",
       "1      {'srctype': 'j', 'eid': '2-s2.0-85083171050', ...  \n",
       "2                                                   None  \n",
       "3      {'srctype': 'j', 'eid': '2-s2.0-79953057246', ...  \n",
       "4      {'srctype': 'j', 'prism:issueIdentifier': '7',...  \n",
       "...                                                  ...  \n",
       "74297  {'srctype': 'j', 'prism:issueIdentifier': '4',...  \n",
       "74298  {'srctype': 'j', 'prism:issueIdentifier': '12 ...  \n",
       "74299  {'srctype': 'j', 'eid': '2-s2.0-85091772561', ...  \n",
       "74300  {'srctype': 'j', 'prism:issueIdentifier': '6',...  \n",
       "74301  {'srctype': 'j', 'prism:issueIdentifier': '5',...  \n",
       "\n",
       "[74302 rows x 2 columns]"
      ]
     },
     "execution_count": 8,
     "metadata": {},
     "output_type": "execute_result"
    }
   ],
   "source": [
    "read_affiliation = pd.read_pickle('extra_info_affiliation_CS5099.pkl')\n",
    "read_coredata = pd.read_pickle('extra_info_coredata_CS5099.pkl')\n",
    "df_current_extra_info = pd.DataFrame()\n",
    "# df_current_extra_info = df_current_extra_info.iloc[0:0]\n",
    "df_current_extra_info['affiliation'] = read_affiliation\n",
    "df_current_extra_info['coredata'] = read_coredata\n",
    "df_current_extra_info"
   ]
  },
  {
   "cell_type": "code",
   "execution_count": 9,
   "metadata": {},
   "outputs": [],
   "source": [
    "# df_current_extra_info = pd.read_pickle('extra_info_CS5099.pkl')\n",
    "# df_current_extra_info"
   ]
  },
  {
   "cell_type": "code",
   "execution_count": 10,
   "metadata": {},
   "outputs": [
    {
     "data": {
      "text/plain": [
       "74302"
      ]
     },
     "execution_count": 10,
     "metadata": {},
     "output_type": "execute_result"
    }
   ],
   "source": [
    "len_df_current_extra_info = len(df_current_extra_info)\n",
    "len_df_current_extra_info"
   ]
  },
  {
   "cell_type": "code",
   "execution_count": 11,
   "metadata": {},
   "outputs": [
    {
     "name": "stdout",
     "output_type": "stream",
     "text": [
      "Wall time: 0 ns\n"
     ]
    }
   ],
   "source": [
    "%%time\n",
    "i = len_df_current_extra_info\n",
    "dict_new_extra_info = dict()\n",
    "len_dois = len(doi_counted)\n",
    "while i < len_dois:\n",
    "    print(\"Position: \" + str(i) + \" -> \" +  doi_counted.index[i])\n",
    "    dict_new_extra_info[i] = AffiliationsFromScopusByDOI(client, doi_counted.index[i])\n",
    "    i = i + 1 "
   ]
  },
  {
   "cell_type": "code",
   "execution_count": 12,
   "metadata": {},
   "outputs": [],
   "source": [
    "# dict_new_extra_info_saver = dict()\n",
    "# i = len_df_current_extra_info\n",
    "# while i < 47683:\n",
    "#     #print(\"Position: \" + str(i) + \" -> \" +  doi_counted.index[i])\n",
    "#     dict_new_extra_info_saver[i] = dict_new_extra_info[i]\n",
    "#     i = i + 1 \n",
    "\n",
    "# dict_new_extra_info = dict_new_extra_info_saver"
   ]
  },
  {
   "cell_type": "code",
   "execution_count": 13,
   "metadata": {},
   "outputs": [
    {
     "data": {
      "text/plain": [
       "{}"
      ]
     },
     "execution_count": 13,
     "metadata": {},
     "output_type": "execute_result"
    }
   ],
   "source": [
    "dict_new_extra_info"
   ]
  },
  {
   "cell_type": "code",
   "execution_count": 14,
   "metadata": {},
   "outputs": [
    {
     "data": {
      "text/html": [
       "<div>\n",
       "<style scoped>\n",
       "    .dataframe tbody tr th:only-of-type {\n",
       "        vertical-align: middle;\n",
       "    }\n",
       "\n",
       "    .dataframe tbody tr th {\n",
       "        vertical-align: top;\n",
       "    }\n",
       "\n",
       "    .dataframe thead th {\n",
       "        text-align: right;\n",
       "    }\n",
       "</style>\n",
       "<table border=\"1\" class=\"dataframe\">\n",
       "  <thead>\n",
       "    <tr style=\"text-align: right;\">\n",
       "      <th></th>\n",
       "    </tr>\n",
       "  </thead>\n",
       "  <tbody>\n",
       "  </tbody>\n",
       "</table>\n",
       "</div>"
      ],
      "text/plain": [
       "Empty DataFrame\n",
       "Columns: []\n",
       "Index: []"
      ]
     },
     "execution_count": 14,
     "metadata": {},
     "output_type": "execute_result"
    }
   ],
   "source": [
    "df_new_extra_info = pd.DataFrame(dict_new_extra_info)\n",
    "df_new_extra_info"
   ]
  },
  {
   "cell_type": "code",
   "execution_count": 15,
   "metadata": {},
   "outputs": [
    {
     "data": {
      "text/html": [
       "<div>\n",
       "<style scoped>\n",
       "    .dataframe tbody tr th:only-of-type {\n",
       "        vertical-align: middle;\n",
       "    }\n",
       "\n",
       "    .dataframe tbody tr th {\n",
       "        vertical-align: top;\n",
       "    }\n",
       "\n",
       "    .dataframe thead th {\n",
       "        text-align: right;\n",
       "    }\n",
       "</style>\n",
       "<table border=\"1\" class=\"dataframe\">\n",
       "  <thead>\n",
       "    <tr style=\"text-align: right;\">\n",
       "      <th></th>\n",
       "    </tr>\n",
       "  </thead>\n",
       "  <tbody>\n",
       "  </tbody>\n",
       "</table>\n",
       "</div>"
      ],
      "text/plain": [
       "Empty DataFrame\n",
       "Columns: []\n",
       "Index: []"
      ]
     },
     "execution_count": 15,
     "metadata": {},
     "output_type": "execute_result"
    }
   ],
   "source": [
    "df_new_extra_transposed = df_new_extra_info.T\n",
    "df_new_extra_transposed"
   ]
  },
  {
   "cell_type": "code",
   "execution_count": 16,
   "metadata": {},
   "outputs": [],
   "source": [
    "df_combined_extra_info = pd.concat([df_current_extra_info, df_new_extra_transposed],ignore_index=True)"
   ]
  },
  {
   "cell_type": "code",
   "execution_count": 17,
   "metadata": {},
   "outputs": [],
   "source": [
    "# df_combined_extra_info.to_pickle('extra_info_CS5099.pkl')\n",
    "# df_combined_extra_info"
   ]
  },
  {
   "cell_type": "code",
   "execution_count": 18,
   "metadata": {},
   "outputs": [
    {
     "data": {
      "text/plain": [
       "0        [{'affiliation-city': None, 'affilname': 'Pata...\n",
       "1        [{'affiliation-city': 'New Delhi', 'affilname'...\n",
       "2                                                     None\n",
       "3        [{'affiliation-city': 'London', 'affilname': '...\n",
       "4        [{'affiliation-city': 'Baoding', 'affilname': ...\n",
       "                               ...                        \n",
       "74297    [{'affiliation-city': 'Wageningen', 'affilname...\n",
       "74298    [{'affiliation-city': 'London', 'affilname': '...\n",
       "74299    {'affiliation-city': 'Adelaide', 'affilname': ...\n",
       "74300    [{'affiliation-city': 'San Diego', 'affilname'...\n",
       "74301    [{'affiliation-city': 'Taipei', 'affilname': '...\n",
       "Name: affiliation, Length: 74302, dtype: object"
      ]
     },
     "execution_count": 18,
     "metadata": {},
     "output_type": "execute_result"
    }
   ],
   "source": [
    "ser_affiliation = df_combined_extra_info['affiliation']\n",
    "ser_affiliation"
   ]
  },
  {
   "cell_type": "code",
   "execution_count": 19,
   "metadata": {},
   "outputs": [
    {
     "data": {
      "text/plain": [
       "0        {'srctype': 'j', 'prism:issueIdentifier': '230...\n",
       "1        {'srctype': 'j', 'eid': '2-s2.0-85083171050', ...\n",
       "2                                                     None\n",
       "3        {'srctype': 'j', 'eid': '2-s2.0-79953057246', ...\n",
       "4        {'srctype': 'j', 'prism:issueIdentifier': '7',...\n",
       "                               ...                        \n",
       "74297    {'srctype': 'j', 'prism:issueIdentifier': '4',...\n",
       "74298    {'srctype': 'j', 'prism:issueIdentifier': '12 ...\n",
       "74299    {'srctype': 'j', 'eid': '2-s2.0-85091772561', ...\n",
       "74300    {'srctype': 'j', 'prism:issueIdentifier': '6',...\n",
       "74301    {'srctype': 'j', 'prism:issueIdentifier': '5',...\n",
       "Name: coredata, Length: 74302, dtype: object"
      ]
     },
     "execution_count": 19,
     "metadata": {},
     "output_type": "execute_result"
    }
   ],
   "source": [
    "ser_coredata = df_combined_extra_info['coredata']\n",
    "ser_coredata"
   ]
  },
  {
   "cell_type": "code",
   "execution_count": 20,
   "metadata": {},
   "outputs": [],
   "source": [
    "ser_affiliation.to_pickle('extra_info_affiliation_CS5099.pkl')\n",
    "ser_coredata.to_pickle('extra_info_coredata_CS5099.pkl')"
   ]
  }
 ],
 "metadata": {
  "kernelspec": {
   "display_name": "Python 3",
   "language": "python",
   "name": "python3"
  },
  "language_info": {
   "codemirror_mode": {
    "name": "ipython",
    "version": 3
   },
   "file_extension": ".py",
   "mimetype": "text/x-python",
   "name": "python",
   "nbconvert_exporter": "python",
   "pygments_lexer": "ipython3",
   "version": "3.8.5"
  }
 },
 "nbformat": 4,
 "nbformat_minor": 4
}
