{
 "cells": [
  {
   "cell_type": "markdown",
   "metadata": {},
   "source": [
    "# CORD-19-collect-scopus-data"
   ]
  },
  {
   "cell_type": "markdown",
   "metadata": {},
   "source": [
    "In general, this jupyter notebook is designated to collect additional data via scopus to enbroaden the CORD19 dataset: \n",
    "https://datadryad.org/stash/dataset/doi:10.5061/dryad.vmcvdncs0"
   ]
  },
  {
   "cell_type": "markdown",
   "metadata": {},
   "source": [
    "First, relevant packages must be imported to the Notebook."
   ]
  },
  {
   "cell_type": "code",
   "execution_count": 1,
   "metadata": {},
   "outputs": [],
   "source": [
    "import numpy as np\n",
    "import pandas as pd\n",
    "import csv\n",
    "import ast\n",
    "import collections\n",
    "import matplotlib.pyplot as plt\n",
    "import Levenshtein as lev\n",
    "from fuzzywuzzy import fuzz \n",
    "import datetime\n",
    "import matplotlib.pyplot as plt\n",
    "import re\n",
    "from urllib.parse import urlparse\n",
    "from collections import Counter\n",
    "\n",
    "from elsapy.elsclient import ElsClient\n",
    "from elsapy.elsdoc import FullDoc, AbsDoc\n",
    "from elsapy.elssearch import ElsSearch\n",
    "\n",
    "import time # for sleep\n",
    "from pybtex.database import parse_file, BibliographyData, Entry\n",
    "import json\n",
    "from elsapy.elsclient import ElsClient\n",
    "from elsapy.elsdoc import AbsDoc\n",
    "from elsapy.elssearch import ElsSearch"
   ]
  },
  {
   "cell_type": "markdown",
   "metadata": {},
   "source": [
    "Get the data and save it to a variable."
   ]
  },
  {
   "cell_type": "code",
   "execution_count": 2,
   "metadata": {},
   "outputs": [],
   "source": [
    "CORD19_CSV = pd.read_csv('../data/cord-19/CORD19_software_mentions.csv')"
   ]
  },
  {
   "cell_type": "markdown",
   "metadata": {},
   "source": [
    "Check the length of the column containing doi's."
   ]
  },
  {
   "cell_type": "code",
   "execution_count": 3,
   "metadata": {
    "scrolled": true
   },
   "outputs": [
    {
     "data": {
      "text/plain": [
       "77448"
      ]
     },
     "execution_count": 3,
     "metadata": {},
     "output_type": "execute_result"
    }
   ],
   "source": [
    "len(CORD19_CSV['doi'])"
   ]
  },
  {
   "cell_type": "markdown",
   "metadata": {},
   "source": [
    "Display the column doi to see if there are inconsistencies such as NaN's"
   ]
  },
  {
   "cell_type": "code",
   "execution_count": 4,
   "metadata": {},
   "outputs": [
    {
     "data": {
      "text/plain": [
       "0                                 NaN\n",
       "1          10.1016/j.regg.2021.01.002\n",
       "2           10.1016/j.rec.2020.08.002\n",
       "3        10.1016/j.vetmic.2006.11.026\n",
       "4                   10.3390/v12080849\n",
       "                     ...             \n",
       "77443      10.1007/s11229-020-02869-9\n",
       "77444                             NaN\n",
       "77445     10.1101/2020.05.13.20100206\n",
       "77446      10.1007/s42991-020-00052-8\n",
       "77447     10.1101/2020.09.14.20194670\n",
       "Name: doi, Length: 77448, dtype: object"
      ]
     },
     "execution_count": 4,
     "metadata": {},
     "output_type": "execute_result"
    }
   ],
   "source": [
    "doi = CORD19_CSV['doi']\n",
    "doi"
   ]
  },
  {
   "cell_type": "markdown",
   "metadata": {},
   "source": [
    "Create a series with solely unique values and neglect NaN's. It is important to sort the unique values. Otherwise, the method is creating different results after each restart of the notebook. "
   ]
  },
  {
   "cell_type": "code",
   "execution_count": 5,
   "metadata": {},
   "outputs": [
    {
     "data": {
      "text/plain": [
       "10.1001/jamainternmed.2020.1369       1\n",
       "10.1001/jamanetworkopen.2020.16382    1\n",
       "10.1001/jamanetworkopen.2020.17521    1\n",
       "10.1001/jamanetworkopen.2020.20485    1\n",
       "10.1001/jamanetworkopen.2020.24984    1\n",
       "                                     ..\n",
       "10.9745/ghsp-d-20-00115               1\n",
       "10.9745/ghsp-d-20-00171               1\n",
       "10.9745/ghsp-d-20-00218               1\n",
       "10.9758/cpn.2020.18.4.607             1\n",
       "10.9781/ijimai.2020.02.002            1\n",
       "Name: doi, Length: 74302, dtype: int64"
      ]
     },
     "execution_count": 5,
     "metadata": {},
     "output_type": "execute_result"
    }
   ],
   "source": [
    "doi_counted = doi.value_counts().sort_index(ascending=True)\n",
    "doi_counted"
   ]
  },
  {
   "cell_type": "markdown",
   "metadata": {},
   "source": [
    "The following function determines the requested information from the Scopus API. (https://api.elsevier.com/content/search/scopus?query=DOI(10.1109/MCOM.2016.7509373)&apiKey=6d485ef1fe1408712f37e8a783a285a4)"
   ]
  },
  {
   "cell_type": "code",
   "execution_count": 6,
   "metadata": {},
   "outputs": [],
   "source": [
    "#Adapted from https://github.com/ElsevierDev/elsapy/blob/master/exampleProg.py\n",
    "def fetch_scopus_api(client, doi):\n",
    "    \"\"\"obtain additional paper information from scopus by doi\n",
    "    \"\"\"\n",
    "    doc_srch = ElsSearch(\"DOI(\"+doi+\")\",'scopus')\n",
    "    doc_srch.execute(client, get_all = True)\n",
    "    #print (\"doc_srch has\", len(doc_srch.results), \"results.\")\n",
    "    #print(doc_srch.results)\n",
    "    try:\n",
    "        scopus_id=doc_srch.results[0][\"dc:identifier\"].split(\":\")[1]\n",
    "        scp_doc = AbsDoc(scp_id = scopus_id)\n",
    "        if scp_doc.read(client):\n",
    "            # print (\"scp_doc.title: \", scp_doc.title)\n",
    "            scp_doc.write()   \n",
    "        else:\n",
    "            print (\"Read document failed.\")\n",
    "        # print(scp_doc.data[\"affiliation\"])\n",
    "        return scp_doc.data\n",
    "    except:\n",
    "        return None"
   ]
  },
  {
   "cell_type": "markdown",
   "metadata": {},
   "source": [
    "Thusly, the configuration file is set up and contains an APIkey. Further information: https://github.com/ElsevierDev/elsapy/blob/master/CONFIG.md"
   ]
  },
  {
   "cell_type": "code",
   "execution_count": 7,
   "metadata": {},
   "outputs": [],
   "source": [
    "con_file = open(\"config.json\")\n",
    "config = json.load(con_file)\n",
    "con_file.close()"
   ]
  },
  {
   "cell_type": "markdown",
   "metadata": {},
   "source": [
    "Moreover, the client is initialized with the API-Key."
   ]
  },
  {
   "cell_type": "code",
   "execution_count": 8,
   "metadata": {},
   "outputs": [],
   "source": [
    "client = ElsClient(config['apikey'])"
   ]
  },
  {
   "cell_type": "markdown",
   "metadata": {},
   "source": [
    "For demonstation purposes, the following cells shows which data is returned by the Scopus API. "
   ]
  },
  {
   "cell_type": "code",
   "execution_count": 9,
   "metadata": {},
   "outputs": [
    {
     "name": "stdout",
     "output_type": "stream",
     "text": [
      "{\n",
      "  \"affiliation\": [\n",
      "    {\n",
      "      \"affiliation-city\": \"New Delhi\",\n",
      "      \"affilname\": \"Jamia Hamdard\",\n",
      "      \"affiliation-country\": \"India\"\n",
      "    },\n",
      "    {\n",
      "      \"affiliation-city\": \"New Delhi\",\n",
      "      \"affilname\": \"Jamia Millia Islamia\",\n",
      "      \"affiliation-country\": \"India\"\n",
      "    },\n",
      "    {\n",
      "      \"affiliation-city\": \"New Delhi\",\n",
      "      \"affilname\": \"Indraprastha Apollo Hospitals\",\n",
      "      \"affiliation-country\": \"India\"\n",
      "    }\n",
      "  ],\n",
      "  \"coredata\": {\n",
      "    \"srctype\": \"j\",\n",
      "    \"eid\": \"2-s2.0-85083171050\",\n",
      "    \"pubmed-id\": \"32305024\",\n",
      "    \"prism:coverDate\": \"2020-07-01\",\n",
      "    \"prism:aggregationType\": \"Journal\",\n",
      "    \"prism:url\": \"https://api.elsevier.com/content/abstract/scopus_id/85083171050\",\n",
      "    \"dc:creator\": {\n",
      "      \"author\": [\n",
      "        {\n",
      "          \"ce:given-name\": \"Raju\",\n",
      "          \"preferred-name\": {\n",
      "            \"ce:given-name\": \"Raju\",\n",
      "            \"ce:initials\": \"R.\",\n",
      "            \"ce:surname\": \"Vaishya\",\n",
      "            \"ce:indexed-name\": \"Vaishya R.\"\n",
      "          },\n",
      "          \"@seq\": \"1\",\n",
      "          \"ce:initials\": \"R.\",\n",
      "          \"@_fa\": \"true\",\n",
      "          \"affiliation\": {\n",
      "            \"@id\": \"60019286\",\n",
      "            \"@href\": \"https://api.elsevier.com/content/affiliation/affiliation_id/60019286\"\n",
      "          },\n",
      "          \"ce:surname\": \"Vaishya\",\n",
      "          \"@auid\": \"6602902951\",\n",
      "          \"author-url\": \"https://api.elsevier.com/content/author/author_id/6602902951\",\n",
      "          \"ce:indexed-name\": \"Vaishya R.\"\n",
      "        }\n",
      "      ]\n",
      "    },\n",
      "    \"link\": [\n",
      "      {\n",
      "        \"@_fa\": \"true\",\n",
      "        \"@rel\": \"self\",\n",
      "        \"@href\": \"https://api.elsevier.com/content/abstract/scopus_id/85083171050\"\n",
      "      },\n",
      "      {\n",
      "        \"@_fa\": \"true\",\n",
      "        \"@rel\": \"scopus\",\n",
      "        \"@href\": \"https://www.scopus.com/inward/record.uri?partnerID=HzOxMe3b&scp=85083171050&origin=inward\"\n",
      "      },\n",
      "      {\n",
      "        \"@_fa\": \"true\",\n",
      "        \"@rel\": \"scopus-citedby\",\n",
      "        \"@href\": \"https://www.scopus.com/inward/citedby.uri?partnerID=HzOxMe3b&scp=85083171050&origin=inward\"\n",
      "      }\n",
      "    ],\n",
      "    \"source-id\": \"5700165201\",\n",
      "    \"pii\": \"S1871402120300771\",\n",
      "    \"citedby-count\": \"203\",\n",
      "    \"prism:volume\": \"14\",\n",
      "    \"subtype\": \"ar\",\n",
      "    \"dc:title\": \"Artificial Intelligence (AI) applications for COVID-19 pandemic\",\n",
      "    \"openaccess\": \"1\",\n",
      "    \"prism:issn\": \"18780334 18714021\",\n",
      "    \"prism:issueIdentifier\": \"4\",\n",
      "    \"subtypeDescription\": \"Article\",\n",
      "    \"prism:publicationName\": \"Diabetes and Metabolic Syndrome: Clinical Research and Reviews\",\n",
      "    \"prism:pageRange\": \"337-339\",\n",
      "    \"prism:endingPage\": \"339\",\n",
      "    \"openaccessFlag\": \"true\",\n",
      "    \"prism:doi\": \"10.1016/j.dsx.2020.04.012\",\n",
      "    \"prism:startingPage\": \"337\",\n",
      "    \"dc:identifier\": \"SCOPUS_ID:85083171050\",\n",
      "    \"dc:publisher\": \"Elsevier Ltd\"\n",
      "  }\n",
      "}\n"
     ]
    }
   ],
   "source": [
    "return_example = fetch_scopus_api(client, '10.1016/j.dsx.2020.04.012')\n",
    "print(json.dumps(return_example, indent=2))"
   ]
  },
  {
   "cell_type": "markdown",
   "metadata": {},
   "source": [
    "Based on the returned data, further analysis is conductable. Therefore, two notebooks are created to analyse data linked to: \n",
    "<ul>\n",
    "  <li>affiliation</li>\n",
    "  <li>coredata</li>\n",
    "</ul>    "
   ]
  },
  {
   "cell_type": "markdown",
   "metadata": {},
   "source": [
    "Thusly, the already fetched coredata and affiliation are read and combined to a DataFrame for further processing."
   ]
  },
  {
   "cell_type": "code",
   "execution_count": 10,
   "metadata": {},
   "outputs": [],
   "source": [
    "df_current_extra_info = pd.DataFrame()\n",
    "try:\n",
    "    read_affiliation = pd.read_pickle('extra_info_affiliation_CS.pkl')\n",
    "    read_coredata = pd.read_pickle('extra_info_coredata_CS.pkl')\n",
    "    df_current_extra_info['affiliation'] = read_affiliation\n",
    "    df_current_extra_info['coredata'] = read_coredata\n",
    "    df_current_extra_info\n",
    "except:\n",
    "    print(\"The DataFrame is empty\")\n",
    "    #if the dataframe is not empty set the variable to show the dataframe"
   ]
  },
  {
   "cell_type": "markdown",
   "metadata": {},
   "source": [
    "The length of the DataFrame containing the current information is assigned to a variable to be used for further processing. \n",
    "Therefore, the length will be used within a while loop as a starting index. "
   ]
  },
  {
   "cell_type": "code",
   "execution_count": 11,
   "metadata": {},
   "outputs": [
    {
     "data": {
      "text/plain": [
       "74302"
      ]
     },
     "execution_count": 11,
     "metadata": {},
     "output_type": "execute_result"
    }
   ],
   "source": [
    "len_df_current_extra_info = len(df_current_extra_info)\n",
    "len_df_current_extra_info"
   ]
  },
  {
   "cell_type": "code",
   "execution_count": 12,
   "metadata": {},
   "outputs": [
    {
     "data": {
      "text/html": [
       "<div>\n",
       "<style scoped>\n",
       "    .dataframe tbody tr th:only-of-type {\n",
       "        vertical-align: middle;\n",
       "    }\n",
       "\n",
       "    .dataframe tbody tr th {\n",
       "        vertical-align: top;\n",
       "    }\n",
       "\n",
       "    .dataframe thead th {\n",
       "        text-align: right;\n",
       "    }\n",
       "</style>\n",
       "<table border=\"1\" class=\"dataframe\">\n",
       "  <thead>\n",
       "    <tr style=\"text-align: right;\">\n",
       "      <th></th>\n",
       "      <th>affiliation</th>\n",
       "      <th>coredata</th>\n",
       "    </tr>\n",
       "  </thead>\n",
       "  <tbody>\n",
       "    <tr>\n",
       "      <th>0</th>\n",
       "      <td>[{'affiliation-city': 'Palo Alto', 'affilname'...</td>\n",
       "      <td>{'srctype': 'j', 'eid': '2-s2.0-85083266658', ...</td>\n",
       "    </tr>\n",
       "    <tr>\n",
       "      <th>1</th>\n",
       "      <td>[{'affiliation-city': 'Seattle', 'affilname': ...</td>\n",
       "      <td>{'srctype': 'j', 'prism:issueIdentifier': '7',...</td>\n",
       "    </tr>\n",
       "    <tr>\n",
       "      <th>2</th>\n",
       "      <td>[{'affiliation-city': 'Cambridge', 'affilname'...</td>\n",
       "      <td>{'srctype': 'j', 'prism:issueIdentifier': '8',...</td>\n",
       "    </tr>\n",
       "    <tr>\n",
       "      <th>3</th>\n",
       "      <td>[{'affiliation-city': 'Madison', 'affilname': ...</td>\n",
       "      <td>{'srctype': 'j', 'prism:issueIdentifier': '9',...</td>\n",
       "    </tr>\n",
       "    <tr>\n",
       "      <th>4</th>\n",
       "      <td>[{'affiliation-city': 'Los Angeles', 'affilnam...</td>\n",
       "      <td>{'srctype': 'j', 'prism:issueIdentifier': '11'...</td>\n",
       "    </tr>\n",
       "    <tr>\n",
       "      <th>...</th>\n",
       "      <td>...</td>\n",
       "      <td>...</td>\n",
       "    </tr>\n",
       "    <tr>\n",
       "      <th>74297</th>\n",
       "      <td>{'affiliation-city': 'Rockville', 'affilname':...</td>\n",
       "      <td>{'srctype': 'j', 'eid': '2-s2.0-85092678139', ...</td>\n",
       "    </tr>\n",
       "    <tr>\n",
       "      <th>74298</th>\n",
       "      <td>[{'affiliation-city': 'Glastonbury', 'affilnam...</td>\n",
       "      <td>{'srctype': 'j', 'eid': '2-s2.0-85087468210', ...</td>\n",
       "    </tr>\n",
       "    <tr>\n",
       "      <th>74299</th>\n",
       "      <td>{'affiliation-city': 'Newark', 'affilname': 'U...</td>\n",
       "      <td>{'srctype': 'j', 'eid': '2-s2.0-85092677974', ...</td>\n",
       "    </tr>\n",
       "    <tr>\n",
       "      <th>74300</th>\n",
       "      <td>[{'affiliation-city': 'Istanbul', 'affilname':...</td>\n",
       "      <td>{'srctype': 'j', 'prism:issueIdentifier': '4',...</td>\n",
       "    </tr>\n",
       "    <tr>\n",
       "      <th>74301</th>\n",
       "      <td>None</td>\n",
       "      <td>None</td>\n",
       "    </tr>\n",
       "  </tbody>\n",
       "</table>\n",
       "<p>74302 rows × 2 columns</p>\n",
       "</div>"
      ],
      "text/plain": [
       "                                             affiliation  \\\n",
       "0      [{'affiliation-city': 'Palo Alto', 'affilname'...   \n",
       "1      [{'affiliation-city': 'Seattle', 'affilname': ...   \n",
       "2      [{'affiliation-city': 'Cambridge', 'affilname'...   \n",
       "3      [{'affiliation-city': 'Madison', 'affilname': ...   \n",
       "4      [{'affiliation-city': 'Los Angeles', 'affilnam...   \n",
       "...                                                  ...   \n",
       "74297  {'affiliation-city': 'Rockville', 'affilname':...   \n",
       "74298  [{'affiliation-city': 'Glastonbury', 'affilnam...   \n",
       "74299  {'affiliation-city': 'Newark', 'affilname': 'U...   \n",
       "74300  [{'affiliation-city': 'Istanbul', 'affilname':...   \n",
       "74301                                               None   \n",
       "\n",
       "                                                coredata  \n",
       "0      {'srctype': 'j', 'eid': '2-s2.0-85083266658', ...  \n",
       "1      {'srctype': 'j', 'prism:issueIdentifier': '7',...  \n",
       "2      {'srctype': 'j', 'prism:issueIdentifier': '8',...  \n",
       "3      {'srctype': 'j', 'prism:issueIdentifier': '9',...  \n",
       "4      {'srctype': 'j', 'prism:issueIdentifier': '11'...  \n",
       "...                                                  ...  \n",
       "74297  {'srctype': 'j', 'eid': '2-s2.0-85092678139', ...  \n",
       "74298  {'srctype': 'j', 'eid': '2-s2.0-85087468210', ...  \n",
       "74299  {'srctype': 'j', 'eid': '2-s2.0-85092677974', ...  \n",
       "74300  {'srctype': 'j', 'prism:issueIdentifier': '4',...  \n",
       "74301                                               None  \n",
       "\n",
       "[74302 rows x 2 columns]"
      ]
     },
     "execution_count": 12,
     "metadata": {},
     "output_type": "execute_result"
    }
   ],
   "source": [
    "df_current_extra_info"
   ]
  },
  {
   "cell_type": "code",
   "execution_count": 13,
   "metadata": {},
   "outputs": [],
   "source": [
    "def contains_only_None(dic):\n",
    "    \"\"\"\n",
    "    This functions inspects an dictionary and returns True if it solely contains None values\n",
    "    \"\"\"\n",
    "    return len(dic) == sum(value == None for value in dic.values())    "
   ]
  },
  {
   "cell_type": "code",
   "execution_count": 14,
   "metadata": {},
   "outputs": [],
   "source": [
    "def append_fetched_data_to_df(df_current_extra_info, dic):\n",
    "    \"\"\"\n",
    "    This function appends or inserts newly fetched data to the DataFrame containing scopus data.\n",
    "    \"\"\"\n",
    "    #df_current_extra_info -> holding the latest data, new data needs to be appended to it, \n",
    "    #df_newly_fetched_transposed -> holdy newly fetched data, needs to be inserted or fetched\n",
    "    \n",
    "    if contains_only_None(dic):\n",
    "        placeholder_entries = pd.DataFrame(np.empty((len(dict_new_extra_info),2),dtype=object),columns=['affiliation','coredata'], index=dict_new_extra_info.keys())\n",
    "        df_newly_fetched_transposed = placeholder_entries\n",
    "        print(placeholder_entries)\n",
    "    else:\n",
    "        #Prior appending, the dictionary is transformed to a DataFrame\n",
    "        df_newly_fetched = pd.DataFrame(dic)\n",
    "        #For readability, the DataFrame is transposed\n",
    "        df_newly_fetched_transposed = df_newly_fetched.T\n",
    "        print(df_newly_fetched_transposed)\n",
    "    \n",
    "    #Insert newly fetched rows which were previously not successful appended\n",
    "    for index, row in df_newly_fetched_transposed.iterrows():\n",
    "        #insert to current extra info DataFrame because the row is existent\n",
    "        if index in df_current_extra_info.index and row.affiliation is not None:\n",
    "            df_current_extra_info.loc[index] = row\n",
    "        #append to current extra info DataFrame because the row is new     \n",
    "        if index not in df_current_extra_info.index:\n",
    "            df_current_extra_info = df_current_extra_info.append(row, ignore_index=True)\n",
    "            \n",
    "    #returning DataFrame with inserted and replaced rows. \n",
    "    return df_current_extra_info"
   ]
  },
  {
   "cell_type": "markdown",
   "metadata": {},
   "source": [
    "Both Dataframes columns are stored each to an object. The series objects are stored to each to a pkl-file which is not exceeding the size of 100MB allowing GitHub uploads."
   ]
  },
  {
   "cell_type": "code",
   "execution_count": 15,
   "metadata": {},
   "outputs": [],
   "source": [
    "def store_df_columns(df):\n",
    "    ser_affiliation = df['affiliation']\n",
    "    ser_coredata = df['coredata']\n",
    "    ser_affiliation.to_pickle('extra_info_affiliation_CS.pkl')\n",
    "    ser_coredata.to_pickle('extra_info_coredata_CS.pkl')\n",
    "    return ser_affiliation, ser_coredata"
   ]
  },
  {
   "cell_type": "code",
   "execution_count": 16,
   "metadata": {},
   "outputs": [],
   "source": [
    "# placeholder_entries = pd.DataFrame(np.empty((4,2),dtype=object),columns=['affiliation','coredata'])"
   ]
  },
  {
   "cell_type": "code",
   "execution_count": 17,
   "metadata": {},
   "outputs": [],
   "source": [
    "# placeholder_entries"
   ]
  },
  {
   "cell_type": "markdown",
   "metadata": {},
   "source": [
    "Subsequently, the fetched scopus data is stored within a dictionary. Besides, the print function is used to show the state of the process by displaying the latest fetched information. "
   ]
  },
  {
   "cell_type": "code",
   "execution_count": 18,
   "metadata": {
    "scrolled": true
   },
   "outputs": [
    {
     "name": "stdout",
     "output_type": "stream",
     "text": [
      "Wall time: 0 ns\n"
     ]
    }
   ],
   "source": [
    "%%time\n",
    "dict_new_extra_info = dict()\n",
    "len_dois = len(doi_counted)\n",
    "def trigger_fetching():\n",
    "    threshold = 0 \n",
    "    i = len_df_current_extra_info\n",
    "    while i < len_dois: #-> upto modified, normally len_dois\n",
    "        dict_new_extra_info[i] = fetch_scopus_api(client, doi_counted.index[i])\n",
    "        print(\"Position fetched: \" + str(i) + \" -> \" +  doi_counted.index[i])\n",
    "        i = i + 1 \n",
    "#         threshold = threshold + 1\n",
    "#         if threshold > 99:\n",
    "#             df_combined_extra_info = append_fetched_data_to_df(df_current_extra_info, dict_new_extra_info)\n",
    "#             stored_series = store_df_columns(df_combined_extra_info)\n",
    "#             threshold = 0\n",
    "#             print(\"batch saved\")\n",
    "trigger_fetching()"
   ]
  },
  {
   "cell_type": "markdown",
   "metadata": {},
   "source": [
    "The following cell is useful when the process above is interrupted. Therefore, the dictionary containing fetched information can be narrowed down to useful entries. "
   ]
  },
  {
   "cell_type": "code",
   "execution_count": 19,
   "metadata": {},
   "outputs": [],
   "source": [
    "# def save_new_extra_info(len_df_current_extra_info, upto):\n",
    "#     \"\"\"\n",
    "#     This function is used to separate successfull API calls from API calls which were prevented due to an invalid API-Key.\n",
    "#     As a result, this function returns a range of valid entries up to the given parameter. \n",
    "#     \"\"\"\n",
    "#     dict_new_extra_info_saver = dict()\n",
    "#     i = len_df_current_extra_info\n",
    "#     while i < upto:\n",
    "#         #print(\"Position: \" + str(i) + \" -> \" +  doi_counted.index[i])\n",
    "#         dict_new_extra_info_saver[i] = dict_new_extra_info[i]\n",
    "#         i = i + 1 \n",
    "#     return dict_new_extra_info_saver"
   ]
  },
  {
   "cell_type": "markdown",
   "metadata": {},
   "source": [
    "The existing and newly fetched information are combined into one DataFrame. "
   ]
  },
  {
   "cell_type": "code",
   "execution_count": 20,
   "metadata": {},
   "outputs": [
    {
     "name": "stdout",
     "output_type": "stream",
     "text": [
      "Empty DataFrame\n",
      "Columns: [affiliation, coredata]\n",
      "Index: []\n"
     ]
    },
    {
     "data": {
      "text/html": [
       "<div>\n",
       "<style scoped>\n",
       "    .dataframe tbody tr th:only-of-type {\n",
       "        vertical-align: middle;\n",
       "    }\n",
       "\n",
       "    .dataframe tbody tr th {\n",
       "        vertical-align: top;\n",
       "    }\n",
       "\n",
       "    .dataframe thead th {\n",
       "        text-align: right;\n",
       "    }\n",
       "</style>\n",
       "<table border=\"1\" class=\"dataframe\">\n",
       "  <thead>\n",
       "    <tr style=\"text-align: right;\">\n",
       "      <th></th>\n",
       "      <th>affiliation</th>\n",
       "      <th>coredata</th>\n",
       "    </tr>\n",
       "  </thead>\n",
       "  <tbody>\n",
       "    <tr>\n",
       "      <th>0</th>\n",
       "      <td>[{'affiliation-city': 'Palo Alto', 'affilname'...</td>\n",
       "      <td>{'srctype': 'j', 'eid': '2-s2.0-85083266658', ...</td>\n",
       "    </tr>\n",
       "    <tr>\n",
       "      <th>1</th>\n",
       "      <td>[{'affiliation-city': 'Seattle', 'affilname': ...</td>\n",
       "      <td>{'srctype': 'j', 'prism:issueIdentifier': '7',...</td>\n",
       "    </tr>\n",
       "    <tr>\n",
       "      <th>2</th>\n",
       "      <td>[{'affiliation-city': 'Cambridge', 'affilname'...</td>\n",
       "      <td>{'srctype': 'j', 'prism:issueIdentifier': '8',...</td>\n",
       "    </tr>\n",
       "    <tr>\n",
       "      <th>3</th>\n",
       "      <td>[{'affiliation-city': 'Madison', 'affilname': ...</td>\n",
       "      <td>{'srctype': 'j', 'prism:issueIdentifier': '9',...</td>\n",
       "    </tr>\n",
       "    <tr>\n",
       "      <th>4</th>\n",
       "      <td>[{'affiliation-city': 'Los Angeles', 'affilnam...</td>\n",
       "      <td>{'srctype': 'j', 'prism:issueIdentifier': '11'...</td>\n",
       "    </tr>\n",
       "    <tr>\n",
       "      <th>...</th>\n",
       "      <td>...</td>\n",
       "      <td>...</td>\n",
       "    </tr>\n",
       "    <tr>\n",
       "      <th>74297</th>\n",
       "      <td>{'affiliation-city': 'Rockville', 'affilname':...</td>\n",
       "      <td>{'srctype': 'j', 'eid': '2-s2.0-85092678139', ...</td>\n",
       "    </tr>\n",
       "    <tr>\n",
       "      <th>74298</th>\n",
       "      <td>[{'affiliation-city': 'Glastonbury', 'affilnam...</td>\n",
       "      <td>{'srctype': 'j', 'eid': '2-s2.0-85087468210', ...</td>\n",
       "    </tr>\n",
       "    <tr>\n",
       "      <th>74299</th>\n",
       "      <td>{'affiliation-city': 'Newark', 'affilname': 'U...</td>\n",
       "      <td>{'srctype': 'j', 'eid': '2-s2.0-85092677974', ...</td>\n",
       "    </tr>\n",
       "    <tr>\n",
       "      <th>74300</th>\n",
       "      <td>[{'affiliation-city': 'Istanbul', 'affilname':...</td>\n",
       "      <td>{'srctype': 'j', 'prism:issueIdentifier': '4',...</td>\n",
       "    </tr>\n",
       "    <tr>\n",
       "      <th>74301</th>\n",
       "      <td>None</td>\n",
       "      <td>None</td>\n",
       "    </tr>\n",
       "  </tbody>\n",
       "</table>\n",
       "<p>74302 rows × 2 columns</p>\n",
       "</div>"
      ],
      "text/plain": [
       "                                             affiliation  \\\n",
       "0      [{'affiliation-city': 'Palo Alto', 'affilname'...   \n",
       "1      [{'affiliation-city': 'Seattle', 'affilname': ...   \n",
       "2      [{'affiliation-city': 'Cambridge', 'affilname'...   \n",
       "3      [{'affiliation-city': 'Madison', 'affilname': ...   \n",
       "4      [{'affiliation-city': 'Los Angeles', 'affilnam...   \n",
       "...                                                  ...   \n",
       "74297  {'affiliation-city': 'Rockville', 'affilname':...   \n",
       "74298  [{'affiliation-city': 'Glastonbury', 'affilnam...   \n",
       "74299  {'affiliation-city': 'Newark', 'affilname': 'U...   \n",
       "74300  [{'affiliation-city': 'Istanbul', 'affilname':...   \n",
       "74301                                               None   \n",
       "\n",
       "                                                coredata  \n",
       "0      {'srctype': 'j', 'eid': '2-s2.0-85083266658', ...  \n",
       "1      {'srctype': 'j', 'prism:issueIdentifier': '7',...  \n",
       "2      {'srctype': 'j', 'prism:issueIdentifier': '8',...  \n",
       "3      {'srctype': 'j', 'prism:issueIdentifier': '9',...  \n",
       "4      {'srctype': 'j', 'prism:issueIdentifier': '11'...  \n",
       "...                                                  ...  \n",
       "74297  {'srctype': 'j', 'eid': '2-s2.0-85092678139', ...  \n",
       "74298  {'srctype': 'j', 'eid': '2-s2.0-85087468210', ...  \n",
       "74299  {'srctype': 'j', 'eid': '2-s2.0-85092677974', ...  \n",
       "74300  {'srctype': 'j', 'prism:issueIdentifier': '4',...  \n",
       "74301                                               None  \n",
       "\n",
       "[74302 rows x 2 columns]"
      ]
     },
     "execution_count": 20,
     "metadata": {},
     "output_type": "execute_result"
    }
   ],
   "source": [
    "df_combined_extra_info = append_fetched_data_to_df(df_current_extra_info, dict_new_extra_info)\n",
    "df_combined_extra_info"
   ]
  },
  {
   "cell_type": "code",
   "execution_count": 21,
   "metadata": {},
   "outputs": [],
   "source": [
    "#to big for GitHub\n",
    "#df_combined_extra_info.to_csv('extra_info_CS5099.csv', sep='\\t')"
   ]
  },
  {
   "cell_type": "markdown",
   "metadata": {},
   "source": [
    "Both Dataframes columns are stored each to an object. The series objects are stored to each to a pkl-file which is not exceeding the size of 100MB allowing GitHub uploads."
   ]
  },
  {
   "cell_type": "code",
   "execution_count": 22,
   "metadata": {},
   "outputs": [
    {
     "data": {
      "text/plain": [
       "0        [{'affiliation-city': 'Palo Alto', 'affilname'...\n",
       "1        [{'affiliation-city': 'Seattle', 'affilname': ...\n",
       "2        [{'affiliation-city': 'Cambridge', 'affilname'...\n",
       "3        [{'affiliation-city': 'Madison', 'affilname': ...\n",
       "4        [{'affiliation-city': 'Los Angeles', 'affilnam...\n",
       "                               ...                        \n",
       "74297    {'affiliation-city': 'Rockville', 'affilname':...\n",
       "74298    [{'affiliation-city': 'Glastonbury', 'affilnam...\n",
       "74299    {'affiliation-city': 'Newark', 'affilname': 'U...\n",
       "74300    [{'affiliation-city': 'Istanbul', 'affilname':...\n",
       "74301                                                 None\n",
       "Name: affiliation, Length: 74302, dtype: object"
      ]
     },
     "execution_count": 22,
     "metadata": {},
     "output_type": "execute_result"
    }
   ],
   "source": [
    "stored_series = store_df_columns(df_combined_extra_info)\n",
    "stored_series[0]"
   ]
  },
  {
   "cell_type": "code",
   "execution_count": 23,
   "metadata": {},
   "outputs": [
    {
     "data": {
      "text/plain": [
       "0        {'srctype': 'j', 'eid': '2-s2.0-85083266658', ...\n",
       "1        {'srctype': 'j', 'prism:issueIdentifier': '7',...\n",
       "2        {'srctype': 'j', 'prism:issueIdentifier': '8',...\n",
       "3        {'srctype': 'j', 'prism:issueIdentifier': '9',...\n",
       "4        {'srctype': 'j', 'prism:issueIdentifier': '11'...\n",
       "                               ...                        \n",
       "74297    {'srctype': 'j', 'eid': '2-s2.0-85092678139', ...\n",
       "74298    {'srctype': 'j', 'eid': '2-s2.0-85087468210', ...\n",
       "74299    {'srctype': 'j', 'eid': '2-s2.0-85092677974', ...\n",
       "74300    {'srctype': 'j', 'prism:issueIdentifier': '4',...\n",
       "74301                                                 None\n",
       "Name: coredata, Length: 74302, dtype: object"
      ]
     },
     "execution_count": 23,
     "metadata": {},
     "output_type": "execute_result"
    }
   ],
   "source": [
    "stored_series[1]"
   ]
  },
  {
   "cell_type": "markdown",
   "metadata": {},
   "source": [
    "Verifying that the returned None values are due to non existent data and not to an invalid API-Key"
   ]
  },
  {
   "cell_type": "code",
   "execution_count": 24,
   "metadata": {},
   "outputs": [],
   "source": [
    "def enrich_data():\n",
    "    \"\"\"\n",
    "    This function fetches again the scopus API and solely asks for information which previously returned None. \n",
    "    \"\"\"\n",
    "    #Add a new column to the DataFrame containg the DOI's which are used to fetch the API\n",
    "    ser_doi = pd.Series(doi_counted.index[:len_data])\n",
    "    df_current_extra_info_checker = df_combined_extra_info\n",
    "    df_current_extra_info_checker['doi'] = ser_doi\n",
    "    \n",
    "    #fetching solely none entries \n",
    "    len_df_current_extra_info_checker = len(df_current_extra_info_checker)\n",
    "    dict_new_extra_info_checker = dict()\n",
    "    len_df_current_extra_info_checker = 70000\n",
    "    i = 60000 \n",
    "    while i < len_df_current_extra_info_checker: \n",
    "        if df_current_extra_info_checker['affiliation'][i] == None:\n",
    "            dict_new_extra_info_checker[i] = fetch_scopus_api(client, ser_doi[i])\n",
    "            print(\"Position fetched again: \" + str(i) + \" -> \" +  ser_doi[i])\n",
    "        i = i + 1\n",
    "    #check if at least one value is not None, otherwise the process is finished\n",
    "    if contains_only_None(dict_new_extra_info_checker):\n",
    "        print(\"The scopus API did not returned new information for existing None values.\")\n",
    "    else:\n",
    "        #There is new information to insert to the existing DataFrame\n",
    "        df_combined_extra_info_fetched_again  = append_fetched_data_to_df(df_current_extra_info, dict_new_extra_info_checker)\n",
    "        store_df_columns(df_combined_extra_info_fetched_again)\n",
    "        # Show an extract of the newly fetched and inserted data\n",
    "#         df_combined_extra_info_fetched_again['check_doi'] = ser_doi\n",
    "#         df_combined_extra_info_fetched_again.head(30)"
   ]
  },
  {
   "cell_type": "code",
   "execution_count": 25,
   "metadata": {},
   "outputs": [
    {
     "data": {
      "text/plain": [
       "74302"
      ]
     },
     "execution_count": 25,
     "metadata": {},
     "output_type": "execute_result"
    }
   ],
   "source": [
    "len_dois = len(doi_counted)\n",
    "len_dois"
   ]
  },
  {
   "cell_type": "code",
   "execution_count": 26,
   "metadata": {},
   "outputs": [
    {
     "data": {
      "text/plain": [
       "74302"
      ]
     },
     "execution_count": 26,
     "metadata": {},
     "output_type": "execute_result"
    }
   ],
   "source": [
    "len_data = len(stored_series[0])\n",
    "len_data "
   ]
  },
  {
   "cell_type": "code",
   "execution_count": null,
   "metadata": {},
   "outputs": [
    {
     "name": "stdout",
     "output_type": "stream",
     "text": [
      "Position fetched again: 60040 -> 10.12965/jer.150267\n",
      "Position fetched again: 60042 -> 10.12998/wjcc.v5.i6.212\n",
      "Position fetched again: 60056 -> 10.12998/wjcc.v8.i21.5188\n",
      "Position fetched again: 60057 -> 10.12998/wjcc.v8.i21.5250\n",
      "Position fetched again: 60070 -> 10.1302/2046-3758.16.bjo-2020-0040.r1\n",
      "Position fetched again: 60071 -> 10.1302/2046-3758.16.bjo-2020-0041.r1\n",
      "Position fetched again: 60072 -> 10.1302/2046-3758.16.bjo-2020-0059.r1\n",
      "Position fetched again: 60073 -> 10.1302/2046-3758.16.bjo-2020-0063.r1\n",
      "Position fetched again: 60076 -> 10.1302/2633-1462.110.bjo-2020-0120.r1\n",
      "Position fetched again: 60077 -> 10.1302/2633-1462.110.bjo-2020-0126.r1\n",
      "Position fetched again: 60078 -> 10.1302/2633-1462.110.bjo-2020-0149.r1\n",
      "Position fetched again: 60079 -> 10.1302/2633-1462.111.bjo-2020-0095.r1\n",
      "Position fetched again: 60080 -> 10.1302/2633-1462.112.bjo-2020-0144.r1\n",
      "Position fetched again: 60081 -> 10.1302/2633-1462.15.bjo-2020-0019\n",
      "Position fetched again: 60082 -> 10.1302/2633-1462.15.bjo-2020-0027.r1\n",
      "Position fetched again: 60083 -> 10.1302/2633-1462.15.bjo-2020-0028.r1\n",
      "Position fetched again: 60084 -> 10.1302/2633-1462.16.bjo-2020-0035.r1\n",
      "Position fetched again: 60085 -> 10.1302/2633-1462.16.bjo-2020-0042.r1\n",
      "Position fetched again: 60086 -> 10.1302/2633-1462.16.bjo-2020-0043.r1\n",
      "Position fetched again: 60087 -> 10.1302/2633-1462.16.bjo-2020-0045\n",
      "Position fetched again: 60088 -> 10.1302/2633-1462.16.bjo-2020-0057\n",
      "Position fetched again: 60089 -> 10.1302/2633-1462.17.bjo-2020-0075.r1\n",
      "Position fetched again: 60090 -> 10.1302/2633-1462.17.bjo-2020-0077.r1\n",
      "Position fetched again: 60091 -> 10.1302/2633-1462.18.bjo-2020-0074.r1\n",
      "Position fetched again: 60092 -> 10.1302/2633-1462.18.bjo-2020-0082.r1\n",
      "Position fetched again: 60093 -> 10.1302/2633-1462.18.bjo-2020-0112.r1\n",
      "Position fetched again: 60094 -> 10.1302/2633-1462.18.bjo-2020-0119.r1\n",
      "Position fetched again: 60095 -> 10.1302/2633-1462.19.bjo-2020-0101.r1\n",
      "Position fetched again: 60096 -> 10.1302/2633-1462.19.bjo-2020-0108.r1\n",
      "Position fetched again: 60097 -> 10.1302/2633-1462.19.bjo-2020-0114.r1\n",
      "Position fetched again: 60098 -> 10.1302/2633-1462.19.bjo-2020-0130.r1\n",
      "Position fetched again: 60102 -> 10.13097/archive-ouverte/unige:145933\n",
      "Position fetched again: 60103 -> 10.13140/rg.2.2.11784.24324/5\n",
      "Position fetched again: 60104 -> 10.13140/rg.2.2.12730.82887/2\n",
      "Position fetched again: 60105 -> 10.13140/rg.2.2.14162.38083\n",
      "Position fetched again: 60106 -> 10.13140/rg.2.2.14893.72165\n",
      "Position fetched again: 60107 -> 10.13140/rg.2.2.18271.69282\n",
      "Position fetched again: 60108 -> 10.13140/rg.2.2.18592.20487\n",
      "Position fetched again: 60109 -> 10.13140/rg.2.2.28950.16960\n",
      "Position fetched again: 60110 -> 10.13140/rg.2.2.32817.12642\n",
      "Position fetched again: 60111 -> 10.13140/rg.2.2.33735.73122\n",
      "Position fetched again: 60122 -> 10.1365/s40702-020-00631-w\n",
      "Position fetched again: 60123 -> 10.1365/s40702-020-00646-3\n",
      "Position fetched again: 60124 -> 10.1365/s40702-020-00662-3\n",
      "Position fetched again: 60125 -> 10.1365/s40702-020-00663-2\n",
      "Position fetched again: 60126 -> 10.1365/s40702-020-00669-w\n",
      "Position fetched again: 60127 -> 10.1365/s40702-020-00672-1\n",
      "Position fetched again: 60128 -> 10.1365/s40702-020-00682-z\n",
      "Position fetched again: 60129 -> 10.1365/s40702-020-00684-x\n",
      "Position fetched again: 60130 -> 10.1365/s40702-020-00686-9\n",
      "Position fetched again: 60131 -> 10.1365/s43439-020-00014-3\n",
      "Position fetched again: 60289 -> 10.1371/journal.pmed.0030023\n",
      "Position fetched again: 60609 -> 10.1371/journal.pone.0009812\n",
      "Position fetched again: 62450 -> 10.1371/journal.pone.0242269\n",
      "Position fetched again: 63203 -> 10.1385/0-89603-479-8:213\n",
      "Position fetched again: 63204 -> 10.1385/1-59259-043-8:91\n",
      "Position fetched again: 63205 -> 10.1385/1-59259-764-5:361\n",
      "Position fetched again: 63206 -> 10.1385/1-59259-857-9:197\n",
      "Position fetched again: 63246 -> 10.14218/erhm.2020.00023\n",
      "Position fetched again: 63247 -> 10.14218/erhm.2020.00045\n",
      "Position fetched again: 63253 -> 10.14219/jada.archive.2006.0369\n",
      "Position fetched again: 63299 -> 10.14338/ijpt-20-00027\n",
      "Position fetched again: 63308 -> 10.14740/cr1159\n",
      "Position fetched again: 63309 -> 10.14740/cr1175\n",
      "Position fetched again: 63310 -> 10.14740/cr1181\n",
      "Position fetched again: 63311 -> 10.14740/cr428w\n",
      "Position fetched again: 63312 -> 10.14740/jocmr4142\n",
      "Position fetched again: 63313 -> 10.14740/jocmr4160\n",
      "Position fetched again: 63314 -> 10.14740/jocmr4200\n",
      "Position fetched again: 63315 -> 10.14740/jocmr4227\n",
      "Position fetched again: 63316 -> 10.14740/jocmr4233\n",
      "Position fetched again: 63317 -> 10.14740/jocmr4240\n",
      "Position fetched again: 63318 -> 10.14740/jocmr4241\n",
      "Position fetched again: 63319 -> 10.14740/jocmr4288\n",
      "Position fetched again: 63320 -> 10.14740/jocmr4293\n",
      "Position fetched again: 63321 -> 10.14740/jocmr4323\n",
      "Position fetched again: 63322 -> 10.14740/jocmr4328\n",
      "Position fetched again: 63323 -> 10.14740/jocmr4382\n",
      "Position fetched again: 63328 -> 10.14744/nci.2020.30075\n",
      "Position fetched again: 63329 -> 10.14744/nci.2020.42027\n",
      "Position fetched again: 63330 -> 10.14744/nci.2020.45722\n",
      "Position fetched again: 63331 -> 10.14744/nci.2020.87846\n",
      "Position fetched again: 63332 -> 10.14744/nci.2020.90277\n",
      "Position fetched again: 63333 -> 10.14744/nci.2020.90532\n",
      "Position fetched again: 63334 -> 10.14744/semb.2020.02800\n",
      "Position fetched again: 63335 -> 10.14744/semb.2020.15689\n",
      "Position fetched again: 63336 -> 10.14744/semb.2020.65902\n",
      "Position fetched again: 63337 -> 10.14744/semb.2020.93709\n",
      "Position fetched again: 63341 -> 10.14778/3415478.3415521\n",
      "Position fetched again: 63378 -> 10.15190/d.2013.5\n",
      "Position fetched again: 63379 -> 10.15190/d.2020.17\n",
      "Position fetched again: 63380 -> 10.15190/d.2020.18\n",
      "Position fetched again: 63381 -> 10.15190/d.2020.2\n",
      "Position fetched again: 63382 -> 10.15190/d.2020.5\n",
      "Position fetched again: 63440 -> 10.15294/sji.v7i2.26056\n",
      "Position fetched again: 63470 -> 10.15344/2456-8007/2020/148\n",
      "Position fetched again: 63471 -> 10.15346/hc.v1i2.11\n",
      "Position fetched again: 63474 -> 10.15420/cfr.2020.09\n",
      "Position fetched again: 63475 -> 10.15430/jcp.2020.25.3.181\n",
      "Position fetched again: 63486 -> 10.1556/1886.2020.00017\n",
      "Position fetched again: 63487 -> 10.1556/1886.2020.00029\n",
      "Position fetched again: 63497 -> 10.1557/mre.2020.33\n",
      "Position fetched again: 63498 -> 10.1557/mrs.2020.317\n",
      "Position fetched again: 63613 -> 10.1561/2300000059\n",
      "Position fetched again: 63615 -> 10.15766/mep_2374-8265.10433\n",
      "Position fetched again: 63626 -> 10.1577/1548-8659(1990)119<0511:cotrir>2.3.co;2\n",
      "Position fetched again: 63644 -> 10.1589/jpts.32.545\n",
      "Position fetched again: 63645 -> 10.1589/jpts.32.653\n",
      "Position fetched again: 63646 -> 10.1589/jpts.32.784\n",
      "Position fetched again: 63679 -> 10.1590/0074-02760200328\n",
      "Position fetched again: 63681 -> 10.1590/0074-0276108052013010\n",
      "Position fetched again: 63718 -> 10.1590/s1517-838220120001000011\n",
      "Position fetched again: 63729 -> 10.1590/s1677-5538.ibju.2020.s120\n",
      "Position fetched again: 63774 -> 10.1644/891.1\n",
      "Position fetched again: 63779 -> 10.16966/2473-1846.132\n",
      "Position fetched again: 63780 -> 10.17161/kjm.vol13.14675\n",
      "Position fetched again: 63808 -> 10.17863/cam.51142\n",
      "Position fetched again: 63809 -> 10.17863/cam.58372\n",
      "Position fetched again: 63824 -> 10.18502/ijph.v49i10.4706\n",
      "Position fetched again: 63827 -> 10.18502/ijph.v49i8.3863\n",
      "Position fetched again: 63828 -> 10.18502/ijph.v49i8.3903\n",
      "Position fetched again: 63829 -> 10.18502/ijph.v49i8.3910\n",
      "Position fetched again: 63830 -> 10.18502/ijps.v15i3.3810\n",
      "Position fetched again: 63831 -> 10.18502/ijps.v15i3.3811\n",
      "Position fetched again: 63832 -> 10.18502/ijps.v15i3.3814\n",
      "Position fetched again: 63833 -> 10.18502/ijps.v15i3.3816\n",
      "Position fetched again: 63835 -> 10.18502/ijps.v15i3.3818\n",
      "Position fetched again: 63836 -> 10.18502/ijps.v15i3.3819\n",
      "Position fetched again: 63837 -> 10.18502/ijps.v15i3.3820\n",
      "Position fetched again: 63838 -> 10.18502/ijps.v15i4.4293\n",
      "Position fetched again: 63878 -> 10.18632/aging.103716\n",
      "Position fetched again: 63950 -> 10.18632/oncotarget.26108\n",
      "Position fetched again: 63963 -> 10.18653/v1/2020.wnut-1.36\n",
      "Position fetched again: 63964 -> 10.18653/v1/2020.wnut-1.72\n",
      "Position fetched again: 63965 -> 10.18653/v1/2020.wnut-1.79\n",
      "Position fetched again: 63967 -> 10.18772/26180197.2020.v2nsia1\n",
      "Position fetched again: 63968 -> 10.18772/26180197.2020.v2nsia2\n"
     ]
    },
    {
     "name": "stdout",
     "output_type": "stream",
     "text": [
      "Position fetched again: 63969 -> 10.18772/26180197.2020.v2nsia6\n",
      "Position fetched again: 63974 -> 10.1890/1051-0761(2000)010[0115:snzfdw]2.0.co;2\n",
      "Position fetched again: 63977 -> 10.19104/jepm.2016.116\n",
      "Position fetched again: 63986 -> 10.20524/aog.2020.0527\n",
      "Position fetched again: 63987 -> 10.20524/aog.2020.0546\n",
      "Position fetched again: 63988 -> 10.20524/aog.2020.0547\n",
      "Position fetched again: 63989 -> 10.20900/jpbs.20200024\n",
      "Position fetched again: 63990 -> 10.20944/preprints202003.0309.v1\n",
      "Position fetched again: 63991 -> 10.20944/preprints202005.0318.v1\n",
      "Position fetched again: 63992 -> 10.20944/preprints202010.0279.v1\n",
      "Position fetched again: 63996 -> 10.21053/ceo.2020.00570\n",
      "Position fetched again: 63997 -> 10.21053/ceo.2020.00612\n",
      "Position fetched again: 64009 -> 10.2106/jbjs.oa.19.00050\n",
      "Position fetched again: 64010 -> 10.21106/ijma.378\n",
      "Position fetched again: 64011 -> 10.21106/ijma.389\n",
      "Position fetched again: 64012 -> 10.21106/ijma.394\n",
      "Position fetched again: 64013 -> 10.21106/ijma.401\n",
      "Position fetched again: 64014 -> 10.21106/ijma.410\n",
      "Position fetched again: 64015 -> 10.21106/ijma.423\n",
      "Position fetched again: 64017 -> 10.21203/rs.2.23829/v2\n",
      "Position fetched again: 64018 -> 10.21203/rs.3.rs-100817/v1\n",
      "Position fetched again: 64019 -> 10.21203/rs.3.rs-100914/v1\n",
      "Position fetched again: 64020 -> 10.21203/rs.3.rs-103997/v1\n",
      "Position fetched again: 64021 -> 10.21203/rs.3.rs-105768/v1\n",
      "Position fetched again: 64022 -> 10.21203/rs.3.rs-106579/v1\n",
      "Position fetched again: 64023 -> 10.21203/rs.3.rs-109131/v1\n",
      "Position fetched again: 64024 -> 10.21203/rs.3.rs-112882/v1\n",
      "Position fetched again: 64025 -> 10.21203/rs.3.rs-114758/v1\n",
      "Position fetched again: 64026 -> 10.21203/rs.3.rs-119695/v1\n",
      "Position fetched again: 64027 -> 10.21203/rs.3.rs-121890/v1\n",
      "Position fetched again: 64028 -> 10.21203/rs.3.rs-126892/v1\n",
      "Position fetched again: 64029 -> 10.21203/rs.3.rs-128348/v1\n",
      "Position fetched again: 64030 -> 10.21203/rs.3.rs-134794/v1\n",
      "Position fetched again: 64031 -> 10.21203/rs.3.rs-136225/v1\n",
      "Position fetched again: 64032 -> 10.21203/rs.3.rs-137857/v1\n",
      "Position fetched again: 64033 -> 10.21203/rs.3.rs-138025/v1\n",
      "Position fetched again: 64034 -> 10.21203/rs.3.rs-141245/v1\n",
      "Position fetched again: 64035 -> 10.21203/rs.3.rs-141578/v1\n",
      "Position fetched again: 64036 -> 10.21203/rs.3.rs-144684/v1\n",
      "Position fetched again: 64037 -> 10.21203/rs.3.rs-145987/v1\n",
      "Position fetched again: 64038 -> 10.21203/rs.3.rs-22332/v2\n",
      "Position fetched again: 64039 -> 10.21203/rs.3.rs-25639/v1\n",
      "Position fetched again: 64040 -> 10.21203/rs.3.rs-25643/v1\n",
      "Position fetched again: 64041 -> 10.21203/rs.3.rs-27220/v1\n",
      "Position fetched again: 64042 -> 10.21203/rs.3.rs-28258/v2\n",
      "Position fetched again: 64043 -> 10.21203/rs.3.rs-28367/v1\n",
      "Position fetched again: 64044 -> 10.21203/rs.3.rs-28582/v1\n",
      "Position fetched again: 64045 -> 10.21203/rs.3.rs-28592/v1\n",
      "Position fetched again: 64046 -> 10.21203/rs.3.rs-30363/v1\n",
      "Position fetched again: 64047 -> 10.21203/rs.3.rs-30374/v1\n",
      "Position fetched again: 64048 -> 10.21203/rs.3.rs-30934/v2\n",
      "Position fetched again: 64049 -> 10.21203/rs.3.rs-31853/v1\n",
      "Position fetched again: 64050 -> 10.21203/rs.3.rs-32949/v1\n",
      "Position fetched again: 64051 -> 10.21203/rs.3.rs-33390/v1\n",
      "Position fetched again: 64052 -> 10.21203/rs.3.rs-33870/v1\n",
      "Position fetched again: 64053 -> 10.21203/rs.3.rs-34729/v1\n",
      "Position fetched again: 64054 -> 10.21203/rs.3.rs-35347/v1\n",
      "Position fetched again: 64055 -> 10.21203/rs.3.rs-39128/v1\n",
      "Position fetched again: 64056 -> 10.21203/rs.3.rs-39404/v1\n",
      "Position fetched again: 64057 -> 10.21203/rs.3.rs-39447/v1\n",
      "Position fetched again: 64058 -> 10.21203/rs.3.rs-40159/v1\n",
      "Position fetched again: 64059 -> 10.21203/rs.3.rs-40198/v1\n",
      "Position fetched again: 64060 -> 10.21203/rs.3.rs-40364/v1\n",
      "Position fetched again: 64061 -> 10.21203/rs.3.rs-42030/v1\n",
      "Position fetched again: 64062 -> 10.21203/rs.3.rs-42336/v1\n",
      "Position fetched again: 64063 -> 10.21203/rs.3.rs-42927/v1\n",
      "Position fetched again: 64064 -> 10.21203/rs.3.rs-43374/v1\n",
      "Position fetched again: 64065 -> 10.21203/rs.3.rs-48165/v1\n",
      "Position fetched again: 64066 -> 10.21203/rs.3.rs-48659/v1\n",
      "Position fetched again: 64067 -> 10.21203/rs.3.rs-48767/v1\n",
      "Position fetched again: 64068 -> 10.21203/rs.3.rs-49671/v1\n",
      "Position fetched again: 64069 -> 10.21203/rs.3.rs-50023/v2\n",
      "Position fetched again: 64070 -> 10.21203/rs.3.rs-51545/v1\n",
      "Position fetched again: 64071 -> 10.21203/rs.3.rs-51959/v1\n",
      "Position fetched again: 64072 -> 10.21203/rs.3.rs-51964/v1\n",
      "Position fetched again: 64073 -> 10.21203/rs.3.rs-54167/v1\n",
      "Position fetched again: 64074 -> 10.21203/rs.3.rs-55764/v1\n",
      "Position fetched again: 64075 -> 10.21203/rs.3.rs-56028/v1\n",
      "Position fetched again: 64076 -> 10.21203/rs.3.rs-56102/v1\n",
      "Position fetched again: 64077 -> 10.21203/rs.3.rs-56102/v2\n",
      "Position fetched again: 64078 -> 10.21203/rs.3.rs-56210/v1\n",
      "Position fetched again: 64079 -> 10.21203/rs.3.rs-56281/v1\n",
      "Position fetched again: 64080 -> 10.21203/rs.3.rs-57507/v1\n",
      "Position fetched again: 64081 -> 10.21203/rs.3.rs-59420/v1\n",
      "Position fetched again: 64082 -> 10.21203/rs.3.rs-61235/v1\n",
      "Position fetched again: 64083 -> 10.21203/rs.3.rs-61444/v1\n",
      "Position fetched again: 64084 -> 10.21203/rs.3.rs-62758/v1\n",
      "Position fetched again: 64085 -> 10.21203/rs.3.rs-64782/v1\n",
      "Position fetched again: 64086 -> 10.21203/rs.3.rs-66218/v1\n",
      "Position fetched again: 64087 -> 10.21203/rs.3.rs-66730/v2\n",
      "Position fetched again: 64088 -> 10.21203/rs.3.rs-67888/v1\n",
      "Position fetched again: 64089 -> 10.21203/rs.3.rs-68403/v1\n",
      "Position fetched again: 64090 -> 10.21203/rs.3.rs-69657/v1\n",
      "Position fetched again: 64091 -> 10.21203/rs.3.rs-69948/v1\n",
      "Position fetched again: 64092 -> 10.21203/rs.3.rs-70482/v1\n",
      "Position fetched again: 64093 -> 10.21203/rs.3.rs-70959/v1\n",
      "Position fetched again: 64094 -> 10.21203/rs.3.rs-71086/v1\n",
      "Position fetched again: 64095 -> 10.21203/rs.3.rs-71833/v1\n",
      "Position fetched again: 64096 -> 10.21203/rs.3.rs-72427/v1\n",
      "Position fetched again: 64097 -> 10.21203/rs.3.rs-73657/v1\n",
      "Position fetched again: 64098 -> 10.21203/rs.3.rs-77124/v1\n",
      "Position fetched again: 64099 -> 10.21203/rs.3.rs-80345/v1\n",
      "Position fetched again: 64100 -> 10.21203/rs.3.rs-80404/v1\n",
      "Position fetched again: 64101 -> 10.21203/rs.3.rs-80476/v1\n",
      "Position fetched again: 64102 -> 10.21203/rs.3.rs-86169/v1\n",
      "Position fetched again: 64103 -> 10.21203/rs.3.rs-86873/v1\n",
      "Position fetched again: 64104 -> 10.21203/rs.3.rs-94509/v1\n",
      "Position fetched again: 64105 -> 10.21203/rs.3.rs-94634/v1\n",
      "Position fetched again: 64106 -> 10.21203/rs.3.rs-95030/v1\n",
      "Position fetched again: 64107 -> 10.21203/rs.3.rs-97042/v1\n",
      "Position fetched again: 64108 -> 10.21203/rs.3.rs-97697/v1\n",
      "Position fetched again: 64112 -> 10.21315/mjms2020.27.6.1\n",
      "Position fetched again: 64113 -> 10.21315/mjms2020.27.6.15\n",
      "Position fetched again: 64132 -> 10.2147/ahmt.s281662\n",
      "Position fetched again: 64142 -> 10.2147/amep.s286552\n",
      "Position fetched again: 64247 -> 10.2147/idr.s265829\n",
      "Position fetched again: 64320 -> 10.2147/ijwh.s286088\n",
      "Position fetched again: 64325 -> 10.2147/iprp.s261275\n",
      "Position fetched again: 64326 -> 10.2147/itt.s241064\n",
      "Position fetched again: 64327 -> 10.2147/itt.s262566\n",
      "Position fetched again: 64328 -> 10.2147/itt.s274746\n",
      "Position fetched again: 64329 -> 10.2147/itt.s279228\n",
      "Position fetched again: 64334 -> 10.2147/jbm.s46255\n",
      "Position fetched again: 64519 -> 10.2147/rmhp.s4810\n",
      "Position fetched again: 64520 -> 10.2147/rrtm.s144075\n",
      "Position fetched again: 64521 -> 10.2147/rrtm.s190300\n",
      "Position fetched again: 64522 -> 10.2147/rrtm.s237461\n",
      "Position fetched again: 64523 -> 10.2147/rrtm.s269936\n",
      "Position fetched again: 64524 -> 10.2147/rrtm.s283043\n",
      "Position fetched again: 64538 -> 10.2147/vmrr.s227616\n",
      "Position fetched again: 64539 -> 10.2147/vmrr.s230862\n",
      "Position fetched again: 64553 -> 10.2165/11316990-000000000-00000\n",
      "Position fetched again: 64569 -> 10.2174/1874091x00903010001\n",
      "Position fetched again: 64571 -> 10.2174/1874357900903010007\n",
      "Position fetched again: 64572 -> 10.2174/1874357901004010076\n",
      "Position fetched again: 64573 -> 10.2174/1874357901105010052\n",
      "Position fetched again: 64574 -> 10.2174/1874357901206010012\n",
      "Position fetched again: 64575 -> 10.2174/1874357901206010059\n",
      "Position fetched again: 64576 -> 10.2174/1874357901206010064\n",
      "Position fetched again: 64577 -> 10.2174/1874357901206010104\n",
      "Position fetched again: 64578 -> 10.2174/1874357901206010151\n"
     ]
    },
    {
     "name": "stdout",
     "output_type": "stream",
     "text": [
      "Position fetched again: 64595 -> 10.2196/19371\n",
      "Position fetched again: 64607 -> 10.2196/20596\n",
      "Position fetched again: 64610 -> 10.2196/20735\n",
      "Position fetched again: 64635 -> 10.2196/24388\n",
      "Position fetched again: 64647 -> 10.2196/25995\n",
      "Position fetched again: 64660 -> 10.22133/ijwr.2020.250275.1070\n",
      "Position fetched again: 64662 -> 10.2217/3dp-2020-0013\n",
      "Position fetched again: 64663 -> 10.2217/3dp-2020-0014\n",
      "Position fetched again: 64666 -> 10.2217/crc-2020-0018\n",
      "Position fetched again: 64723 -> 10.22540/jfsf-05-086\n",
      "Position fetched again: 64725 -> 10.2307/1936838\n",
      "Position fetched again: 64727 -> 10.2307/1942165\n",
      "Position fetched again: 64728 -> 10.2307/1942442\n",
      "Position fetched again: 64793 -> 10.23937/2469-5858/1510092\n",
      "Position fetched again: 64826 -> 10.2478/jtim-2020-0010\n",
      "Position fetched again: 64827 -> 10.2478/jtim-2020-0018\n",
      "Position fetched again: 64848 -> 10.2490/prm.20200018\n",
      "Position fetched again: 64853 -> 10.25100/cm.v51i3.4534\n",
      "Position fetched again: 64857 -> 10.25147/ijcsr.2017.001.1.51\n",
      "Position fetched again: 64858 -> 10.25147/ijcsr.2017.001.1.54\n",
      "Position fetched again: 64859 -> 10.25259/ijms_109_2020\n",
      "Position fetched again: 64860 -> 10.25259/ijms_113_2020\n",
      "Position fetched again: 64861 -> 10.25259/ijms_128_2020\n",
      "Position fetched again: 64862 -> 10.25259/ijms_150_2020\n",
      "Position fetched again: 64863 -> 10.25259/ijms_152_2020\n",
      "Position fetched again: 64864 -> 10.25259/ijms_26_2020\n",
      "Position fetched again: 64865 -> 10.25259/ijms_68_2020\n",
      "Position fetched again: 64893 -> 10.2527/jas.2016.0961\n",
      "Position fetched again: 64894 -> 10.2527/jas.2016.1000\n",
      "Position fetched again: 64895 -> 10.2527/jas.2017.1377\n",
      "Position fetched again: 64896 -> 10.2527/jas.2017.1486\n",
      "Position fetched again: 64897 -> 10.2527/jas.2017.1524\n",
      "Position fetched again: 64899 -> 10.26434/chemrxiv.11860137.v1\n",
      "Position fetched again: 64900 -> 10.26434/chemrxiv.11875446\n",
      "Position fetched again: 64901 -> 10.26434/chemrxiv.12009582\n",
      "Position fetched again: 64902 -> 10.26434/chemrxiv.12045318\n",
      "Position fetched again: 64903 -> 10.26434/chemrxiv.12084822\n",
      "Position fetched again: 64904 -> 10.26434/chemrxiv.12153594\n",
      "Position fetched again: 64905 -> 10.26434/chemrxiv.12153615\n",
      "Position fetched again: 64906 -> 10.26434/chemrxiv.12275705\n",
      "Position fetched again: 64907 -> 10.26434/chemrxiv.12579137\n",
      "Position fetched again: 64908 -> 10.26434/chemrxiv.12673436\n",
      "Position fetched again: 64909 -> 10.26434/chemrxiv.12682316\n",
      "Position fetched again: 64910 -> 10.26434/chemrxiv.12725465\n",
      "Position fetched again: 64911 -> 10.26434/chemrxiv.12770225\n",
      "Position fetched again: 64912 -> 10.26434/chemrxiv.12791954\n",
      "Position fetched again: 64913 -> 10.26434/chemrxiv.12915779\n",
      "Position fetched again: 64914 -> 10.26434/chemrxiv.13289222\n",
      "Position fetched again: 64936 -> 10.26633/rpsp.2020.141\n",
      "Position fetched again: 64943 -> 10.26633/rpsp.2020.161\n",
      "Position fetched again: 64950 -> 10.26633/rpsp.2020.69\n",
      "Position fetched again: 64957 -> 10.26650/eor.20200049\n",
      "Position fetched again: 64958 -> 10.26650/eor.20200050\n",
      "Position fetched again: 65005 -> 10.2807/1560-7917.es.2020.25.34.2001591\n",
      "Position fetched again: 65060 -> 10.2903/sp.efsa.2011.en-136\n",
      "Position fetched again: 65061 -> 10.2903/sp.efsa.2013.en-402\n",
      "Position fetched again: 65062 -> 10.2903/sp.efsa.2014.en-588\n",
      "Position fetched again: 65063 -> 10.2903/sp.efsa.2017.en-1246\n",
      "Position fetched again: 65064 -> 10.2903/sp.efsa.2017.en-1274\n",
      "Position fetched again: 65065 -> 10.2903/sp.efsa.2019.en-1688\n",
      "Position fetched again: 65066 -> 10.2903/sp.efsa.2020.en-1853\n",
      "Position fetched again: 65069 -> 10.29390/cjrt-2020-022\n",
      "Position fetched again: 65070 -> 10.29390/cjrt-2020-024\n",
      "Position fetched again: 65071 -> 10.29392/001c.17607\n",
      "Position fetched again: 65088 -> 10.30476/beat.2020.46445\n",
      "Position fetched again: 65089 -> 10.30476/dentjods.2020.87278.1249\n",
      "Position fetched again: 65095 -> 10.30476/jamp.2020.85990.1208\n",
      "Position fetched again: 65096 -> 10.30476/jamp.2020.86070.1213\n",
      "Position fetched again: 65108 -> 10.30953/bhty.v3.140\n",
      "Position fetched again: 65120 -> 10.3103/s1063455x2006003x\n",
      "Position fetched again: 65125 -> 10.31138/mjr.31.3.243\n",
      "Position fetched again: 65126 -> 10.31138/mjr.31.3.247\n",
      "Position fetched again: 65127 -> 10.31138/mjr.31.3.259\n",
      "Position fetched again: 65128 -> 10.31138/mjr.31.3.288\n",
      "Position fetched again: 65129 -> 10.31138/mjr.31.3.299\n",
      "Position fetched again: 65130 -> 10.31234/osf.io/8me7q\n",
      "Position fetched again: 65131 -> 10.3126/nje.v10i2.28960\n",
      "Position fetched again: 65132 -> 10.3126/nje.v10i2.29769\n",
      "Position fetched again: 65133 -> 10.3126/nje.v10i3.31622\n",
      "Position fetched again: 65134 -> 10.3126/nje.v10i3.31649\n",
      "Position fetched again: 65135 -> 10.3126/nje.v10i4.33334\n",
      "Position fetched again: 65136 -> 10.3134/ehtj.09.010\n",
      "Position fetched again: 65137 -> 10.3134/ehtj.10.002\n",
      "Position fetched again: 65138 -> 10.3134/ehtj.10.163\n",
      "Position fetched again: 65139 -> 10.31372/20200503.1099\n",
      "Position fetched again: 65236 -> 10.3201/1501.080758\n",
      "Position fetched again: 65238 -> 10.3201/eid/1811.120453\n",
      "Position fetched again: 65281 -> 10.3201/eid1103.040631\n",
      "Position fetched again: 65282 -> 10.3201/eid1103.040675\n",
      "Position fetched again: 65325 -> 10.3201/eid1309.000000\n",
      "Position fetched again: 65329 -> 10.3201/eid1310.070383\n",
      "Position fetched again: 65548 -> 10.3201/eid2601.191500\n",
      "Position fetched again: 65604 -> 10.3201/eid2612.191094\n",
      "Position fetched again: 65608 -> 10.3201/eid2612.203386\n",
      "Position fetched again: 65620 -> 10.3205/cto000125\n",
      "Position fetched again: 65621 -> 10.3205/dgkh000326\n",
      "Position fetched again: 65622 -> 10.3205/dgkh000343\n",
      "Position fetched again: 65623 -> 10.3205/dgkh000351\n",
      "Position fetched again: 65624 -> 10.3205/dgkh000357\n",
      "Position fetched again: 65625 -> 10.3205/dgkh000359\n",
      "Position fetched again: 65626 -> 10.3205/dgkh000362\n",
      "Position fetched again: 65627 -> 10.3205/dgkh000364\n",
      "Position fetched again: 65628 -> 10.3205/dgkh000374\n",
      "Position fetched again: 65655 -> 10.3233/adr-170017\n",
      "Position fetched again: 65656 -> 10.3233/adr-200231\n",
      "Position fetched again: 65657 -> 10.3233/adr-200235\n",
      "Position fetched again: 65658 -> 10.3233/adr-200241\n",
      "Position fetched again: 65685 -> 10.32598/bcn.11.covid19.809.2\n",
      "Position fetched again: 65716 -> 10.3332/ecancer.2020.1076\n",
      "Position fetched again: 65722 -> 10.3332/ecancer.2020.1108\n",
      "Position fetched again: 65907 -> 10.3389/fbioe.2018.00102\n",
      "Position fetched again: 65908 -> 10.3389/fbioe.2019.00106\n",
      "Position fetched again: 65926 -> 10.3389/fbioe.2020.592621\n",
      "Position fetched again: 66046 -> 10.3389/fcomp.2019.00012\n",
      "Position fetched again: 66047 -> 10.3389/fcvm.2020.00071\n",
      "Position fetched again: 66050 -> 10.3389/fcvm.2020.00128\n",
      "Position fetched again: 66051 -> 10.3389/fcvm.2020.00138\n",
      "Position fetched again: 66052 -> 10.3389/fcvm.2020.00145\n",
      "Position fetched again: 66053 -> 10.3389/fcvm.2020.00147\n",
      "Position fetched again: 66054 -> 10.3389/fcvm.2020.00150\n",
      "Position fetched again: 66055 -> 10.3389/fcvm.2020.00151\n",
      "Position fetched again: 66056 -> 10.3389/fcvm.2020.576058\n",
      "Position fetched again: 66057 -> 10.3389/fcvm.2020.582399\n",
      "Position fetched again: 66058 -> 10.3389/fcvm.2020.582949\n",
      "Position fetched again: 66059 -> 10.3389/fcvm.2020.584987\n",
      "Position fetched again: 66060 -> 10.3389/fcvm.2020.585220\n",
      "Position fetched again: 66062 -> 10.3389/fcvm.2020.590688\n",
      "Position fetched again: 66063 -> 10.3389/fcvm.2020.596583\n",
      "Position fetched again: 66065 -> 10.3389/fcvm.2020.616527\n",
      "Position fetched again: 66066 -> 10.3389/fcvm.2020.618651\n",
      "Position fetched again: 66067 -> 10.3389/fcvm.2020.623012\n",
      "Position fetched again: 66444 -> 10.3389/fmed.2020.00250\n",
      "Position fetched again: 66451 -> 10.3389/fmed.2020.00295\n",
      "Position fetched again: 66482 -> 10.3389/fmed.2020.00465\n",
      "Position fetched again: 66533 -> 10.3389/fmed.2020.572989\n",
      "Position fetched again: 66710 -> 10.3389/fmicb.2018.03126\n",
      "Position fetched again: 66879 -> 10.3389/fmolb.2020.00174\n",
      "Position fetched again: 66892 -> 10.3389/fmolb.2020.569414\n",
      "Position fetched again: 67054 -> 10.3389/fonc.2020.01336\n",
      "Position fetched again: 67116 -> 10.3389/fped.2020.580584\n",
      "Position fetched again: 67134 -> 10.3389/fphar.2019.00747\n",
      "Position fetched again: 67238 -> 10.3389/fphys.2020.00984\n",
      "Position fetched again: 67310 -> 10.3389/fpsyg.2020.01830\n",
      "Position fetched again: 67312 -> 10.3389/fpsyg.2020.01841\n",
      "Position fetched again: 67772 -> 10.3389/fpubh.2015.00215\n"
     ]
    },
    {
     "name": "stdout",
     "output_type": "stream",
     "text": [
      "Position fetched again: 67773 -> 10.3389/fpubh.2015.00264\n",
      "Position fetched again: 67776 -> 10.3389/fpubh.2017.00121\n",
      "Position fetched again: 67779 -> 10.3389/fpubh.2018.00174\n",
      "Position fetched again: 67826 -> 10.3389/fpubh.2020.00360\n",
      "Position fetched again: 67842 -> 10.3389/fpubh.2020.00426\n",
      "Position fetched again: 68018 -> 10.3389/frcmn.2020.583376\n",
      "Position fetched again: 68031 -> 10.3389/fspor.2020.00098\n",
      "Position fetched again: 68032 -> 10.3389/fspor.2020.00112\n",
      "Position fetched again: 68033 -> 10.3389/fspor.2020.579421\n",
      "Position fetched again: 68034 -> 10.3389/fspor.2020.579830\n",
      "Position fetched again: 68035 -> 10.3389/fspor.2020.586141\n",
      "Position fetched again: 68036 -> 10.3389/fspor.2020.589214\n",
      "Position fetched again: 68037 -> 10.3389/fspor.2020.589483\n",
      "Position fetched again: 68038 -> 10.3389/fspor.2020.589702\n",
      "Position fetched again: 68039 -> 10.3389/fspor.2020.589813\n",
      "Position fetched again: 68040 -> 10.3389/fspor.2020.590151\n",
      "Position fetched again: 68041 -> 10.3389/fspor.2020.593499\n",
      "Position fetched again: 68042 -> 10.3389/fspor.2020.610421\n",
      "Position fetched again: 68043 -> 10.3389/fspor.2020.622858\n",
      "Position fetched again: 68044 -> 10.3389/fspor.2020.623068\n",
      "Position fetched again: 68064 -> 10.3389/fvets.2019.00115\n",
      "Position fetched again: 68085 -> 10.3389/fvets.2020.00153\n",
      "Position fetched again: 68123 -> 10.3389/fvets.2020.589971\n",
      "Position fetched again: 68206 -> 10.3390/antib10010003\n",
      "Position fetched again: 68207 -> 10.3390/antib8030042\n",
      "Position fetched again: 68208 -> 10.3390/antib8040053\n",
      "Position fetched again: 68209 -> 10.3390/antib9030033\n",
      "Position fetched again: 68210 -> 10.3390/antib9030038\n",
      "Position fetched again: 68211 -> 10.3390/antib9030042\n",
      "Position fetched again: 68433 -> 10.3390/bs10110164\n",
      "Position fetched again: 68434 -> 10.3390/bs10110168\n",
      "Position fetched again: 68437 -> 10.3390/bs11010005\n",
      "Position fetched again: 68517 -> 10.3390/cells1030409\n",
      "Position fetched again: 68518 -> 10.3390/cells1041168\n",
      "Position fetched again: 68519 -> 10.3390/cells4040569\n"
     ]
    }
   ],
   "source": [
    "if len_dois == len_data:\n",
    "    enrich_data()\n",
    "else:\n",
    "    print(\"There are entries which are not yet fetched from the scopus API.\")"
   ]
  },
  {
   "cell_type": "code",
   "execution_count": null,
   "metadata": {},
   "outputs": [],
   "source": [
    "# ser_doi = pd.Series(doi_counted.index[:len_data])\n",
    "# ser_doi"
   ]
  },
  {
   "cell_type": "code",
   "execution_count": null,
   "metadata": {
    "scrolled": true
   },
   "outputs": [],
   "source": [
    "# df_current_extra_info_checker = df_combined_extra_info\n",
    "# df_current_extra_info_checker['doi'] = ser_doi"
   ]
  },
  {
   "cell_type": "code",
   "execution_count": null,
   "metadata": {},
   "outputs": [],
   "source": [
    "# %%time\n",
    "# len_df_current_extra_info_checker = len(df_current_extra_info_checker)\n",
    "# dict_new_extra_info_checker = dict()\n",
    "# i = 0 \n",
    "# while i < len_df_current_extra_info_checker: \n",
    "#     if df_current_extra_info_checker['affiliation'][i] == None:\n",
    "#         dict_new_extra_info_checker[i] = fetch_scopus_api(client, ser_doi[i])\n",
    "#         print(\"Position fetched again: \" + str(i) + \" -> \" +  ser_doi[i])\n",
    "#     i = i + 1    "
   ]
  },
  {
   "cell_type": "code",
   "execution_count": null,
   "metadata": {},
   "outputs": [],
   "source": [
    "# dict_new_extra_info_checker\n",
    "# -> check if at least one value is not None -> otherwise the process is finished here"
   ]
  },
  {
   "cell_type": "code",
   "execution_count": null,
   "metadata": {},
   "outputs": [],
   "source": [
    "# len(dict_new_extra_info_checker)"
   ]
  },
  {
   "cell_type": "code",
   "execution_count": null,
   "metadata": {},
   "outputs": [],
   "source": [
    "# df_combined_extra_info_fetched_again  = append_fetched_data_to_df(df_current_extra_info, dict_new_extra_info_checker)\n",
    "# df_combined_extra_info_fetched_again"
   ]
  },
  {
   "cell_type": "code",
   "execution_count": null,
   "metadata": {},
   "outputs": [],
   "source": [
    "# store_df_columns(df_combined_extra_info_fetched_again)"
   ]
  },
  {
   "cell_type": "code",
   "execution_count": null,
   "metadata": {},
   "outputs": [],
   "source": [
    "# df_combined_extra_info_fetched_again['check_doi'] = ser_doi\n",
    "# df_combined_extra_info_fetched_again.head(30)"
   ]
  }
 ],
 "metadata": {
  "kernelspec": {
   "display_name": "Python 3",
   "language": "python",
   "name": "python3"
  },
  "language_info": {
   "codemirror_mode": {
    "name": "ipython",
    "version": 3
   },
   "file_extension": ".py",
   "mimetype": "text/x-python",
   "name": "python",
   "nbconvert_exporter": "python",
   "pygments_lexer": "ipython3",
   "version": "3.8.5"
  }
 },
 "nbformat": 4,
 "nbformat_minor": 4
}
